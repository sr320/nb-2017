{
 "cells": [
  {
   "cell_type": "code",
   "execution_count": 2,
   "metadata": {},
   "outputs": [
    {
     "name": "stdout",
     "output_type": "stream",
     "text": [
      ">TRINITY_DN48802_c0_g1_i1 len=229 path=[207:0-228] [-1, 207, -2]\r\n",
      "AAGAATCTATCAAACTTTAAGATAACAGACTAAACCTCCTAAAAAAAAAATATGAGTGAC\r\n",
      "GAAGAAAACTTTGAAAAAGGATCATCTGAGGGTTCCCACACCGAACCTAAAGAAGCCGGA\r\n",
      "AAAATTAAAATCGGTGCTTATTGTATGTTAAAAGAATAACCTTGTAAAGTAACTCACTAT\r\n",
      "TCTACCTCCAAAGCTGGTAAACACGGTCACGCTAAAGCCTCTATTGCTG\r\n",
      ">TRINITY_DN48858_c0_g1_i1 len=223 path=[1:0-222] [-1, 1, -2]\r\n",
      "GGGAAATCCTGACTAAAAGCTGAGGTCAATGTGTGCTCGGGATATATGACTATTAGCCAA\r\n",
      "GCAAAGTACCTCAAAACAAAAGCCCCCACTCATGACTTTTTGCTCTTTGACCTCAGCTAC\r\n",
      "ACCACCTGATTCCAACTTACCTTTCTCACCTCCTCAAACTCCAACAATGATTCATTCACT\r\n",
      "GAATAAAAACACAATTGTTTTCTGTCTCCCTCTTCAATCTGTG\r\n"
     ]
    }
   ],
   "source": [
    "!head /Volumes/web/scaphapoda/marco/Trinity.fasta"
   ]
  },
  {
   "cell_type": "code",
   "execution_count": 12,
   "metadata": {},
   "outputs": [
    {
     "name": "stdout",
     "output_type": "stream",
     "text": [
      "/Users/sr320/git-repos/nb-2017/P_adsperus/data\n"
     ]
    }
   ],
   "source": [
    "cd data"
   ]
  },
  {
   "cell_type": "code",
   "execution_count": 13,
   "metadata": {},
   "outputs": [
    {
     "name": "stdout",
     "output_type": "stream",
     "text": [
      "  % Total    % Received % Xferd  Average Speed   Time    Time     Time  Current\n",
      "                                 Dload  Upload   Total   Spent    Left  Speed\n",
      "100  376M  100  376M    0     0  1977k      0  0:03:15  0:03:15 --:--:-- 1968k      0  0:03:44  0:00:13  0:03:31 2164k 116M    0     0  1987k      0  0:03:14  0:01:00  0:02:14 1490k:03:13  0:01:18  0:01:55 1978k1984k      0  0:03:14  0:01:19  0:01:55 1891k0:03:14  0:01:23  0:01:51 1844k03:08  0:02:23  0:00:45 1777k    0     0  2065k      0  0:03:06  0:02:36  0:00:30 2132k      0  0:03:07  0:02:44  0:00:23 1716k 0     0  2054k      0  0:03:07  0:02:46  0:00:21 1765k  2024k      0  0:03:10  0:03:00  0:00:10 1387k\n"
     ]
    }
   ],
   "source": [
    "!curl -O http://owl.fish.washington.edu/scaphapoda/marco/Trinity.fasta \\\n"
   ]
  },
  {
   "cell_type": "code",
   "execution_count": 14,
   "metadata": {},
   "outputs": [
    {
     "name": "stdout",
     "output_type": "stream",
     "text": [
      "Trinity.fasta\r\n"
     ]
    }
   ],
   "source": [
    "!ls"
   ]
  },
  {
   "cell_type": "code",
   "execution_count": 15,
   "metadata": {
    "collapsed": true
   },
   "outputs": [],
   "source": [
    "mv Trinity.fasta P_adsperus-trans_01.fa"
   ]
  },
  {
   "cell_type": "code",
   "execution_count": 16,
   "metadata": {},
   "outputs": [
    {
     "name": "stdout",
     "output_type": "stream",
     "text": [
      ">TRINITY_DN48802_c0_g1_i1 len=229 path=[207:0-228] [-1, 207, -2]\r\n",
      "AAGAATCTATCAAACTTTAAGATAACAGACTAAACCTCCTAAAAAAAAAATATGAGTGAC\r\n",
      "GAAGAAAACTTTGAAAAAGGATCATCTGAGGGTTCCCACACCGAACCTAAAGAAGCCGGA\r\n",
      "AAAATTAAAATCGGTGCTTATTGTATGTTAAAAGAATAACCTTGTAAAGTAACTCACTAT\r\n",
      "TCTACCTCCAAAGCTGGTAAACACGGTCACGCTAAAGCCTCTATTGCTG\r\n",
      ">TRINITY_DN48858_c0_g1_i1 len=223 path=[1:0-222] [-1, 1, -2]\r\n",
      "GGGAAATCCTGACTAAAAGCTGAGGTCAATGTGTGCTCGGGATATATGACTATTAGCCAA\r\n",
      "GCAAAGTACCTCAAAACAAAAGCCCCCACTCATGACTTTTTGCTCTTTGACCTCAGCTAC\r\n",
      "ACCACCTGATTCCAACTTACCTTTCTCACCTCCTCAAACTCCAACAATGATTCATTCACT\r\n",
      "GAATAAAAACACAATTGTTTTCTGTCTCCCTCTTCAATCTGTG\r\n"
     ]
    }
   ],
   "source": [
    "!head P_adsperus-trans_01.fa"
   ]
  },
  {
   "cell_type": "code",
   "execution_count": 17,
   "metadata": {},
   "outputs": [
    {
     "name": "stdout",
     "output_type": "stream",
     "text": [
      "201668\r\n"
     ]
    }
   ],
   "source": [
    "!fgrep -c \">\" P_adsperus-trans_01.fa"
   ]
  },
  {
   "cell_type": "code",
   "execution_count": 20,
   "metadata": {},
   "outputs": [
    {
     "name": "stdout",
     "output_type": "stream",
     "text": [
      "\r\n",
      "0:9999 \t201410\r\n",
      "10000:19999 \t245\r\n",
      "20000:29999 \t0\r\n",
      "30000:39999 \t0\r\n",
      "40000:49999 \t1\r\n",
      "50000:59999 \t12\r\n",
      "\r\n",
      "Total length of sequence:\t295789732 bp\r\n",
      "Total number of sequences:\t201668\r\n",
      "N25 stats:\t\t\t25% of total sequence length is contained in the 12871 sequences >= 4279 bp\r\n",
      "N50 stats:\t\t\t50% of total sequence length is contained in the 34413 sequences >= 2792 bp\r\n",
      "N75 stats:\t\t\t75% of total sequence length is contained in the 69110 sequences >= 1571 bp\r\n",
      "Total GC count:\t\t\t135902598 bp\r\n",
      "GC %:\t\t\t\t45.95 %\r\n",
      "\r\n"
     ]
    }
   ],
   "source": [
    "!perl ../../scripts/count_fasta.pl \\\n",
    "-i 10000 \\\n",
    "P_adsperus-trans_01.fa"
   ]
  },
  {
   "cell_type": "code",
   "execution_count": 21,
   "metadata": {},
   "outputs": [
    {
     "name": "stdout",
     "output_type": "stream",
     "text": [
      "\r\n",
      "200:299 \t46296\r\n",
      "300:399 \t21844\r\n",
      "400:499 \t12533\r\n",
      "500:599 \t8616\r\n",
      "600:699 \t6528\r\n",
      "700:799 \t5546\r\n",
      "800:899 \t4437\r\n",
      "900:999 \t4089\r\n",
      "1000:1099 \t4369\r\n"
     ]
    }
   ],
   "source": [
    "!perl ../../scripts/count_fasta.pl \\\n",
    "-i 100 \\\n",
    "P_adsperus-trans_01.fa | head"
   ]
  },
  {
   "cell_type": "code",
   "execution_count": 22,
   "metadata": {},
   "outputs": [
    {
     "name": "stdout",
     "output_type": "stream",
     "text": [
      "/Users/sr320/git-repos/nb-2017/P_adsperus\n"
     ]
    }
   ],
   "source": [
    "cd .."
   ]
  },
  {
   "cell_type": "code",
   "execution_count": 23,
   "metadata": {
    "collapsed": true
   },
   "outputs": [],
   "source": [
    "mkdir analyses"
   ]
  },
  {
   "cell_type": "code",
   "execution_count": 24,
   "metadata": {},
   "outputs": [
    {
     "name": "stdout",
     "output_type": "stream",
     "text": [
      "\r\n",
      "Converted 201668 FASTA records in 5229594 lines to tabular format\r\n",
      "Total sequence length: 295789732\r\n",
      "\r\n"
     ]
    }
   ],
   "source": [
    "!perl -e '$count=0; $len=0; while(<>) {s/\\r?\\n//; s/\\t/ /g; if (s/^>//) { if ($. != 1) {print \"\\n\"} s/ |$/\\t/; $count++; $_ .= \"\\t\";} else {s/ //g; $len += length($_)} print $_;} print \"\\n\"; warn \"\\nConverted $count FASTA records in $. lines to tabular format\\nTotal sequence length: $len\\n\\n\";' \\\n",
    "data/P_adsperus-trans_01.fa > analyses/P_adsperus-trans_01.tab"
   ]
  },
  {
   "cell_type": "code",
   "execution_count": 27,
   "metadata": {},
   "outputs": [
    {
     "name": "stdout",
     "output_type": "stream",
     "text": [
      "TRINITY_DN48802_c0_g1_i1\tlen=229 path=[207:0-228] [-1, 207, -2]\tAAGAATCTATCAAACTTTAAGATAACAGACTAAACCTCCTAAAAAAAAAATATGAGTGACGAAGAAAACTTTGAAAAAGGATCATCTGAGGGTTCCCACACCGAACCTAAAGAAGCCGGAAAAATTAAAATCGGTGCTTATTGTATGTTAAAAGAATAACCTTGTAAAGTAACTCACTATTCTACCTCCAAAGCTGGTAAACACGGTCACGCTAAAGCCTCTATTGCTG\r\n"
     ]
    }
   ],
   "source": [
    "!head -1 analyses/P_adsperus-trans_01.tab"
   ]
  },
  {
   "cell_type": "code",
   "execution_count": null,
   "metadata": {
    "collapsed": true
   },
   "outputs": [],
   "source": [
    "SELECT *\n",
    "FROM sr320.\"P_adsperus-trans_01.tab\"tb\n",
    "left join\n",
    "sr320.\"table_P_adsperus-12-abundance.tsv\"k12\n",
    "on tb.column1 = k12.target_ID\n",
    "left join\n",
    "sr320.\"table_P_adsperus-18-abundance.tsv\"k18\n",
    "on tb.column1 = k18.target_ID\n",
    "left join\n",
    "sr320.\"table_P_adsperus-19-abundance.tsv\"k19\n",
    "on tb.column1 = k19.target_ID\n",
    "left join\n",
    "sr320.\"P_adsperus_SPhits\"sp\n",
    "on tb.column1 = sp.contigid\n",
    "left join\n",
    "sr320.\"table_uniprot-reviewed-annotations_041017\"uni\n",
    "on sp.spid = uni.\"Entry name\"\n",
    "\n"
   ]
  },
  {
   "cell_type": "code",
   "execution_count": 31,
   "metadata": {},
   "outputs": [
    {
     "name": "stdout",
     "output_type": "stream",
     "text": [
      "﻿\"column1\",\"column2\",\"column3\",\"clean\",\"target_id\",\"length\",\"eff_length\",\"est_counts\",\"tpm\",\"target_id\",\"length\",\"eff_length\",\"est_counts\",\"tpm\",\"target_id\",\"length\",\"eff_length\",\"est_counts\",\"tpm\",\"contigid\",\"spid\",\"evalue\",\"Entry\",\"Entry name\",\"Status\",\"Protein names\",\"Gene names\",\"Organism\",\"Length\",\"Gene ontology (biological process)\",\"Gene ontology IDs\",\"Pathway\",\"Cross-reference (UniPathway)\",\"Cross-reference (CDD)\",\"Cross-reference (Pfam)\",\"Gene ontology (GO)\"\r\n",
      "\"TRINITY_DN10003_c0_g1_i1\",\"len=304 path=[1:0-88 587:89-112 91:113-303] [-1, 1, 587, 91, -2]\",\"TTCAGCAAAATGGTTGATACCAGATTTTTAACGGTGCAGCCACATGGGAGAAATGTTGGGAAATGCTTTTAATCAAAGCAATGGCCTACGATGTGTTTATGAGGTTTTTTTGCTCTGACCGTTCATTCGTTGATGTATTTATAGAAGTCATGGAGCCCGATGACTTCAGTCAAAGAGATGCAAACTTGCACTTAATATTGAAGCACGTTGAAATCAGACAGATTAATTCAAATAACTATTTTCTTTTTCTCCTTCACCCAAATCTCAGGATTTGTTAGTAGTTGTTCTGATTGTTCAAAAACTG\",\"1\",\"TRINITY_DN10003_c0_g1_i1\",\"304\",\"149.935\",\"2\",\"0.128112\",\"None\",\"None\",\"None\",\"None\",\"None\",\"TRINITY_DN10003_c0_g1_i1\",\"304\",\"152.946\",\"4\",\"0.199512\",\"TRINITY_DN10003_c0_g1_i1\",\"SYV_CHLTA\",\"8.6\",\"Q3KM60\",\"SYV_CHLTA\",\"reviewed\",\"Valine--tRNA ligase (EC 6.1.1.9) (Valyl-tRNA synthetase) (ValRS)\",\"valS CTA_0324\",\"Chlamydia trachomatis serovar A (strain ATCC VR-571B / DSM 19440 / HAR-13)\",\"939\",\"valyl-tRNA aminoacylation [GO:0006438]\",\"GO:0002161; GO:0004832; GO:0005524; GO:0005737; GO:0006438\",\"\",\"\",\"cd07962;\",\"PF08264;PF00133;PF10458;\",\"cytoplasm [GO:0005737]; aminoacyl-tRNA editing activity [GO:0002161]; ATP binding [GO:0005524]; valine-tRNA ligase activity [GO:0004832]; valyl-tRNA aminoacylation [GO:0006438]\"\r\n",
      "\"TRINITY_DN10004_c0_g1_i1\",\"len=251 path=[229:0-250] [-1, 229, -2]\",\"GTGCTTAATGGCTAAATTGGGAAGACTGTTACTAATCGCTTATTGAATAATGAAAGTGACACAGCTGATAAAAGATTTCAATACGGTGGATTATTATAATATTTCACTTAAACCTCTCCGGCTGAGTAATGGGCGGCGACGGGAAGGAGTCAGAGAGCAAAGAGAGGAGGAGAGAAGAAGAGGATGGAGAGAACACTTTAAATGAATAAACGAGAGGAGGGAGGATCCAGGAAGAAAGAAGATGATGAGAG\",\"1\",\"TRINITY_DN10004_c0_g1_i1\",\"251\",\"103.005\",\"1\",\"0.0932403\",\"None\",\"None\",\"None\",\"None\",\"None\",\"TRINITY_DN10004_c0_g1_i1\",\"251\",\"105.848\",\"2\",\"0.144143\",\"None\",\"None\",\"None\",\"None\",\"None\",\"None\",\"None\",\"None\",\"None\",\"None\",\"None\",\"None\",\"None\",\"None\",\"None\",\"None\",\"None\"\r\n",
      "\"TRINITY_DN10005_c0_g1_i1\",\"len=365 path=[1:0-364] [-1, 1, -2]\",\"TATGTGTGTGTGCATGTTTAACATCACACTGATTGATCAACCCTCAGGATAATCAGTGTGCGAGCCCAATAGCTTGACTGAGATTAAAAACCACAGCTCTGCCATAGGTCTGTCGTTTCATTTGTAAAGTTTGATGTGGAGCAGTGTTTTGTGTTCAAACACACTGGAAACCAGACTTTAGAGCCTTATTCCCAACTGACAGACCAGTAAGTAAAACTCACCTGCTAATCCTGATGCGGATTAAAGCGGCAAACCTCATGGAATTCTTGGAATCTCAAAGTTTAGTAAGAGCTGGGAACACCACTGAATACCAGGCACAAGTGAGCAGTTCAACTCTTAAATGTGTGCCAGTGTGTGTGTGTGTG\",\"1\",\"TRINITY_DN10005_c0_g1_i1\",\"365\",\"207.123\",\"0\",\"0\",\"None\",\"None\",\"None\",\"None\",\"None\",\"TRINITY_DN10005_c0_g1_i1\",\"365\",\"210.188\",\"3\",\"0.108883\",\"TRINITY_DN10005_c0_g1_i1\",\"FTHS_RENSM\",\"4.6\",\"A9WMW3\",\"FTHS_RENSM\",\"reviewed\",\"Formate--tetrahydrofolate ligase (EC 6.3.4.3) (Formyltetrahydrofolate synthetase) (FHS) (FTHFS)\",\"fhs RSal33209_1710\",\"Renibacterium salmoninarum (strain ATCC 33209 / DSM 20767 / JCM 11484 / NBRC 15589 / NCIMB 2235)\",\"564\",\"folic acid-containing compound biosynthetic process [GO:0009396]; tetrahydrofolate interconversion [GO:0035999]\",\"GO:0004329; GO:0005524; GO:0009396; GO:0035999\",\"PATHWAY: One-carbon metabolism; tetrahydrofolate interconversion. {ECO:0000255|HAMAP-Rule:MF_01543}.\",\"\",\"cd00477;\",\"PF01268;\",\"ATP binding [GO:0005524]; formate-tetrahydrofolate ligase activity [GO:0004329]; folic acid-containing compound biosynthetic process [GO:0009396]; tetrahydrofolate interconversion [GO:0035999]\"\r\n",
      "\"TRINITY_DN1000_c0_g1_i1\",\"len=260 path=[238:0-179 499:180-203 419:204-259] [-1, 238, 499, 419, -2]\",\"TGCTGCAGCACAACGCTTTTTAGAGACCGAGTCATTCGCCTTGCGCTCCGCTCTGAGACACAAAACACATGGCACCAAAATATTTAAAAAACTGTCAAAGATCTGTTCACATATTCACTGAAACCTCAAAGCTGAAAGAAATACAGCAATTGGACTTTGTCATCTCTAGAAACATTGCACAAGTTATTTTCTTTAGCTTAAGATTTAATGGGTTGCCATTCACAATTTCTTTGCACTTTACAATCAAGAGCTGAACTCAG\",\"1\",\"TRINITY_DN1000_c0_g1_i1\",\"260\",\"110.753\",\"2\",\"0.173435\",\"None\",\"None\",\"None\",\"None\",\"None\",\"TRINITY_DN1000_c0_g1_i1\",\"260\",\"113.618\",\"2\",\"0.134285\",\"TRINITY_DN1000_c0_g1_i1\",\"ALAE_DICZE\",\"0.086\",\"C6CJW3\",\"ALAE_DICZE\",\"reviewed\",\"L-alanine exporter AlaE\",\"alaE Dd1591_0599\",\"Dickeya zeae (strain Ech1591)\",\"153\",\"\",\"GO:0005886; GO:0016021; GO:0034639\",\"\",\"\",\"\",\"PF06610;\",\"integral component of membrane [GO:0016021]; plasma membrane [GO:0005886]; L-amino acid efflux transmembrane transporter activity [GO:0034639]\"\r\n",
      "\"TRINITY_DN10010_c0_g1_i1\",\"len=962 path=[1:0-664 643:665-731 710:732-961] [-1, 1, 643, 710, -2]\",\"ACTGTGGTGTCGCAGTGCGGGAGGGGAATGAGGTTGCCGTCTTTGACATGTGCAATGGGCAGCCGCAGGAGACCAGACCGCAACTAAAACTTAAGAACCTTGGTGATGAAGAGGGCAGTCGGGTCAGGGTGCTGGAGTCCCACCAGGGGAAGAAGGTCACCTTTATCTTTCCCTCCGGGGCCTTTGTTAGGGCCGATGTTGGCGATTGGGGGATGAGCCTGTCTCTCCGGGCGCCCAGCGTCGACTACGGCAACACTAAAGGCCTCTGTGGCACCTTTGACCGTAATGGCAACAACGATTTCCACAGCTCTGATGGTGTCTTCTATGGGCCTAATGACCTGCATCGCTTCATAGAGGACTGGAGGATTGCTCCAGGTGAGAGTTTATTTGACAAGACACCTCCTGGGATGACACAGGAGGTCAGGAGGCCTTTCTGTCACTGCCAGAACGAATACAGCACTTCTCATCATGCCAGCAGTGGGATGAGGAACCTGTACAATCCCCCCGCTCATTCCGACTGCATATCTTATGATAGTGTGGATTACACATCTGTCTTCCCCTCCATGGACACGACAGTGGAATACATCAAGAGTCCAGGAAGAGAGGAGAGCATACTGGATATGACTGCCTTTAATAGTCATCCTCTGGAGCGGAGGCACCTTCAGTTTCACAGTGAAAACGATGACAGTGATGTTGAACTAGACAGCGCGTTCAGGGAGGATCATCTGCTTTCCGTTGACAGGGAGCGGAGACAGGCATCATTTGAATTCCAGCCTGTGTTTGCTGCTCAAAGCCTCAGTCAGGCTGATCTGGAGAATTACGCTTACTTTTTCCCTGAAGATCACCTGGCAGAGGCCCGACCACAGGTTCAACCCCAGTGGCCCACCCCGAGTGGCCTCACCTCGGCCAAAGCTCTGGAGGTGTGTCAGATGGCTTTGGCCAACTCCACTGTTGGCACAGTG\",\"1\",\"TRINITY_DN10010_c0_g1_i1\",\"962\",\"801.31\",\"12\",\"0.143828\",\"None\",\"None\",\"None\",\"None\",\"None\",\"TRINITY_DN10010_c0_g1_i1\",\"962\",\"799.716\",\"5\",\"0.0476958\",\"TRINITY_DN10010_c0_g1_i1\",\"VWDE_MOUSE\",\"4E-66\",\"Q6DFV8\",\"VWDE_MOUSE\",\"reviewed\",\"von Willebrand factor D and EGF domain-containing protein\",\"Vwde Gm467\",\"Mus musculus (Mouse)\",\"926\",\"\",\"GO:0005576\",\"\",\"\",\"\",\"PF00094;\",\"extracellular region [GO:0005576]\"\r\n",
      "\"TRINITY_DN10011_c0_g1_i1\",\"len=420 path=[398:0-355 731:356-382 758:383-419] [-1, 398, 731, 758, -2]\",\"TTTAAACTTGAACGTGGGACACAGCCTTTTGGATTCAAAGTGCTTTGAGACTTTTTCAGACTCCTCTTTGAAGAACTGAACTGTTTTGAAAATCAGTGCTCAGTCCAGAAGAAAGAACAATTCAGGGGTTACTGTTTTGATTTGGTCAGTGCCGTTGTTTTTGAGGGAAACACATTTAGTTGTCATCTGGTTGGGGAAAAAAACTGCTCTGTTAGTAATTTCAAAAAATAAAAGAATGTATCGCTGGGTTTTTGGCCATGTTTCACAAAAGGACAAGAAACTCACTTTTCATTATAAATCAGATTTTTAAAGAATCTGCATTGTGTTGTTGAATATATCTCAAAGTGCCACCTCAGTTGGGATCTCGTTCTCAAATGAACCGGATACACCAGATGTGTGAGCCTCTTTAGCACTGTCAGA\",\"1\",\"TRINITY_DN10011_c0_g1_i1\",\"420\",\"260.651\",\"1\",\"0.0368471\",\"None\",\"None\",\"None\",\"None\",\"None\",\"TRINITY_DN10011_c0_g1_i1\",\"420\",\"263.444\",\"5\",\"0.144786\",\"TRINITY_DN10011_c0_g1_i1\",\"SNF8_HUMAN\",\"2.5\",\"Q96H20\",\"SNF8_HUMAN\",\"reviewed\",\"Vacuolar-sorting protein SNF8 (ELL-associated protein of 30 kDa) (ESCRT-II complex subunit VPS22) (hVps22)\",\"SNF8 EAP30\",\"Homo sapiens (Human)\",\"258\",\"early endosome to late endosome transport [GO:0045022]; endocytic recycling [GO:0032456]; endosomal transport [GO:0016197]; macroautophagy [GO:0016236]; multivesicular body assembly [GO:0036258]; multivesicular body sorting pathway [GO:0071985]; positive regulation of exosomal secretion [GO:1903543]; positive regulation of gene expression [GO:0010628]; positive regulation of protein catabolic process [GO:0045732]; protein targeting to vacuole involved in ubiquitin-dependent protein catabolic process via the multivesicular body sorting pathway [GO:0043328]; regulation of multivesicular body size involved in endosome transport [GO:0010797]; regulation of protein catabolic process [GO:0042176]; regulation of protein complex stability [GO:0061635]; regulation of transcription from RNA polymerase II promoter [GO:0006357]; regulation of viral budding via host ESCRT complex [GO:1903772]; transcription, DNA-templated [GO:0006351]\",\"GO:0000814; GO:0005634; GO:0005654; GO:0005667; GO:0005737; GO:0005829; GO:0005886; GO:0006351; GO:0006357; GO:0008022; GO:0008134; GO:0010008; GO:0010628; GO:0010797; GO:0016020; GO:0016197; GO:0016236; GO:0016247; GO:0031902; GO:0032456; GO:0036258; GO:0042176; GO:0042803; GO:0043328; GO:0045022; GO:0045732; GO:0047485; GO:0048471; GO:0055037; GO:0061635; GO:0070062; GO:0071985; GO:1903543; GO:1903772\",\"\",\"\",\"\",\"PF04157;\",\"cytoplasm [GO:0005737]; cytosol [GO:0005829]; endosome membrane [GO:0010008]; ESCRT II complex [GO:0000814]; extracellular exosome [GO:0070062]; late endosome membrane [GO:0031902]; membrane [GO:0016020]; nucleoplasm [GO:0005654]; nucleus [GO:0005634]; perinuclear region of cytoplasm [GO:0048471]; plasma membrane [GO:0005886]; recycling endosome [GO:0055037]; transcription factor complex [GO:0005667]; channel regulator activity [GO:0016247]; protein C-terminus binding [GO:0008022]; protein homodimerization activity [GO:0042803]; protein N-terminus binding [GO:0047485]; transcription factor binding [GO:0008134]; early endosome to late endosome transport [GO:0045022]; endocytic recycling [GO:0032456]; endosomal transport [GO:0016197]; macroautophagy [GO:0016236]; multivesicular body assembly [GO:0036258]; multivesicular body sorting pathway [GO:0071985]; positive regulation of exosomal secretion [GO:1903543]; positive regulation of gene expression [GO:0010628]; positive regulation of protein catabolic process [GO:0045732]; protein targeting to vacuole involved in ubiquitin-dependent protein catabolic process via the multivesicular body sorting pathway [GO:0043328]; regulation of multivesicular body size involved in endosome transport [GO:0010797]; regulation of protein catabolic process [GO:0042176]; regulation of protein complex stability [GO:0061635]; regulation of transcription from RNA polymerase II promoter [GO:0006357]; regulation of viral budding via host ESCRT complex [GO:1903772]; transcription, DNA-templated [GO:0006351]\"\r\n",
      "\"TRINITY_DN10013_c0_g1_i1\",\"len=541 path=[519:0-82 1061:83-106 603:107-540] [-1, 519, 1061, 603, -2]\",\"ATTATCAATACCACTTTTAGTGTCATGATTTGAACATGATAATGACCATGAACTTTCTATTGGAAGACCATTACAAAACACTTAACTTCAGCACTTTTTCTGTGCAAAAATCTTAATCAGCCTGTTCCAGAAAAGGCTGATAGGGGACAGTTCAATTCAAGCAATGTTATTAATCTCTCATTTTATAACCAAGCAATGGTTAATTATTATTATCATATGTTCAAGTGTTAGTAGTAGGGCTGTTCAACGTCATCGATTACGTAAATACATTGATTTGCGTAACGTCCATTGACGCGTCGTAAGGAAGTTGACCGTGCCTGGTCAAAGCATGGATACAAAATCACCCACGATCGACCACGGCCCGGACCCAGACGCCGTTCTGTACGGACCCAGACCTTTATTAGATTTTGACAGAGCGTTTTATTTTAATCTGGCACTTTATTTTAAGATGCCATTTTCATAAGCTGTTTATTTTGTTTTTAAACCTTACTTTACTTAAAACGAGAAAAGAACATTTATTTTATTGTTATTTTATTATTAG\",\"1\",\"TRINITY_DN10013_c0_g1_i1\",\"541\",\"380.354\",\"3\",\"0.0757524\",\"None\",\"None\",\"None\",\"None\",\"None\",\"TRINITY_DN10013_c0_g1_i1\",\"541\",\"379.636\",\"8\",\"0.160756\",\"TRINITY_DN10013_c0_g1_i1\",\"CC157_HUMAN\",\"4.9\",\"Q569K6\",\"CC157_HUMAN\",\"reviewed\",\"Coiled-coil domain-containing protein 157\",\"CCDC157 KIAA1656\",\"Homo sapiens (Human)\",\"752\",\"\",\"\",\"\",\"\",\"\",\"\",\"\"\r\n",
      "\"TRINITY_DN10014_c0_g1_i1\",\"len=213 path=[191:0-212] [-1, 191, -2]\",\"CCAGGAGTTCCAAAGAATGGGGTGTATTTCTTATTTTTACAAATTTGTTCCTCCTTTCAATTATCAATTTTAAAAAGTTGACAGCAAAATGAGTTTAGTACTGGAGATTTGAGGAAGATTCAAAAGATTGTACATTTTAGCTTTTTGTTCCCGATGCAGATTCCACGTAATTTCAGAAGAAACAGAATCTCAGATTTGGACCAGTTTATGTGG\",\"1\",\"TRINITY_DN10014_c0_g1_i1\",\"213\",\"73.2336\",\"2\",\"0.262291\",\"None\",\"None\",\"None\",\"None\",\"None\",\"TRINITY_DN10014_c0_g1_i1\",\"213\",\"74.9142\",\"1\",\"0.101831\",\"TRINITY_DN10014_c0_g1_i1\",\"HEM1_CHLMU\",\"0.49\",\"Q9PLR2\",\"HEM1_CHLMU\",\"reviewed\",\"Glutamyl-tRNA reductase (GluTR) (EC 1.2.1.70)\",\"hemA TC_0033\",\"Chlamydia muridarum (strain MoPn / Nigg)\",\"333\",\"protoporphyrinogen IX biosynthetic process [GO:0006782]\",\"GO:0006782; GO:0008883; GO:0050661\",\"PATHWAY: Porphyrin-containing compound metabolism; protoporphyrin-IX biosynthesis; 5-aminolevulinate from L-glutamyl-tRNA(Glu): step 1/2. {ECO:0000255|HAMAP-Rule:MF_00087}.\",\"\",\"\",\"PF05201;\",\"glutamyl-tRNA reductase activity [GO:0008883]; NADP binding [GO:0050661]; protoporphyrinogen IX biosynthetic process [GO:0006782]\"\r\n",
      "\"TRINITY_DN10019_c0_g1_i1\",\"len=262 path=[240:0-261] [-1, 240, -2]\",\"GTAAACATTACATGCACGCTGCAAATAAGAACAAGTAGGAACCACGTGCCTAAAGTAAAACTTCTGCCAGACAGCTCGCATTGTGTTTGCTCTGCGCACATCACTCCCCACATGGAAATGCTGAACTCAACACAGCAGAGAGCAGGAGTAACAATAAAACCTCACCATGTAGGGGGGAGAACGTGGACGTAAAGTCTTGAGGTAACAGCAGCAAGTGTCAGCAACGAAGTGAACAGAGGGGTGCTTTGGATATATATCCCTG\",\"1\",\"TRINITY_DN10019_c0_g1_i1\",\"262\",\"112.491\",\"0\",\"0\",\"None\",\"None\",\"None\",\"None\",\"None\",\"TRINITY_DN10019_c0_g1_i1\",\"262\",\"115.408\",\"3\",\"0.198303\",\"TRINITY_DN10019_c0_g1_i1\",\"CI084_HUMAN\",\"3.1\",\"Q5VXU9\",\"CI084_HUMAN\",\"reviewed\",\"Uncharacterized protein C9orf84\",\"C9orf84\",\"Homo sapiens (Human)\",\"1444\",\"\",\"\",\"\",\"\",\"\",\"\",\"\"\r\n"
     ]
    }
   ],
   "source": [
    "!head /Users/sr320/Desktop/query_results-join.csv"
   ]
  },
  {
   "cell_type": "code",
   "execution_count": null,
   "metadata": {
    "collapsed": true
   },
   "outputs": [],
   "source": []
  }
 ],
 "metadata": {
  "kernelspec": {
   "display_name": "Python 2",
   "language": "python",
   "name": "python2"
  },
  "language_info": {
   "codemirror_mode": {
    "name": "ipython",
    "version": 2
   },
   "file_extension": ".py",
   "mimetype": "text/x-python",
   "name": "python",
   "nbconvert_exporter": "python",
   "pygments_lexer": "ipython2",
   "version": "2.7.12"
  }
 },
 "nbformat": 4,
 "nbformat_minor": 1
}
