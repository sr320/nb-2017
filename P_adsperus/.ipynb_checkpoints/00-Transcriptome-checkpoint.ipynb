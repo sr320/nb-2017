{
 "cells": [
  {
   "cell_type": "code",
   "execution_count": 2,
   "metadata": {},
   "outputs": [
    {
     "name": "stdout",
     "output_type": "stream",
     "text": [
      ">TRINITY_DN48802_c0_g1_i1 len=229 path=[207:0-228] [-1, 207, -2]\r\n",
      "AAGAATCTATCAAACTTTAAGATAACAGACTAAACCTCCTAAAAAAAAAATATGAGTGAC\r\n",
      "GAAGAAAACTTTGAAAAAGGATCATCTGAGGGTTCCCACACCGAACCTAAAGAAGCCGGA\r\n",
      "AAAATTAAAATCGGTGCTTATTGTATGTTAAAAGAATAACCTTGTAAAGTAACTCACTAT\r\n",
      "TCTACCTCCAAAGCTGGTAAACACGGTCACGCTAAAGCCTCTATTGCTG\r\n",
      ">TRINITY_DN48858_c0_g1_i1 len=223 path=[1:0-222] [-1, 1, -2]\r\n",
      "GGGAAATCCTGACTAAAAGCTGAGGTCAATGTGTGCTCGGGATATATGACTATTAGCCAA\r\n",
      "GCAAAGTACCTCAAAACAAAAGCCCCCACTCATGACTTTTTGCTCTTTGACCTCAGCTAC\r\n",
      "ACCACCTGATTCCAACTTACCTTTCTCACCTCCTCAAACTCCAACAATGATTCATTCACT\r\n",
      "GAATAAAAACACAATTGTTTTCTGTCTCCCTCTTCAATCTGTG\r\n"
     ]
    }
   ],
   "source": [
    "!head /Volumes/web/scaphapoda/marco/Trinity.fasta"
   ]
  },
  {
   "cell_type": "code",
   "execution_count": 12,
   "metadata": {},
   "outputs": [
    {
     "name": "stdout",
     "output_type": "stream",
     "text": [
      "/Users/sr320/git-repos/nb-2017/P_adsperus/data\n"
     ]
    }
   ],
   "source": [
    "cd data"
   ]
  },
  {
   "cell_type": "code",
   "execution_count": 13,
   "metadata": {},
   "outputs": [
    {
     "name": "stdout",
     "output_type": "stream",
     "text": [
      "  % Total    % Received % Xferd  Average Speed   Time    Time     Time  Current\n",
      "                                 Dload  Upload   Total   Spent    Left  Speed\n",
      "100  376M  100  376M    0     0  1977k      0  0:03:15  0:03:15 --:--:-- 1968k      0  0:03:44  0:00:13  0:03:31 2164k 116M    0     0  1987k      0  0:03:14  0:01:00  0:02:14 1490k:03:13  0:01:18  0:01:55 1978k1984k      0  0:03:14  0:01:19  0:01:55 1891k0:03:14  0:01:23  0:01:51 1844k03:08  0:02:23  0:00:45 1777k    0     0  2065k      0  0:03:06  0:02:36  0:00:30 2132k      0  0:03:07  0:02:44  0:00:23 1716k 0     0  2054k      0  0:03:07  0:02:46  0:00:21 1765k  2024k      0  0:03:10  0:03:00  0:00:10 1387k\n"
     ]
    }
   ],
   "source": [
    "!curl -O http://owl.fish.washington.edu/scaphapoda/marco/Trinity.fasta \\\n"
   ]
  },
  {
   "cell_type": "code",
   "execution_count": 14,
   "metadata": {},
   "outputs": [
    {
     "name": "stdout",
     "output_type": "stream",
     "text": [
      "Trinity.fasta\r\n"
     ]
    }
   ],
   "source": [
    "!ls"
   ]
  },
  {
   "cell_type": "code",
   "execution_count": 15,
   "metadata": {
    "collapsed": true
   },
   "outputs": [],
   "source": [
    "mv Trinity.fasta P_adsperus-trans_01.fa"
   ]
  },
  {
   "cell_type": "code",
   "execution_count": 16,
   "metadata": {},
   "outputs": [
    {
     "name": "stdout",
     "output_type": "stream",
     "text": [
      ">TRINITY_DN48802_c0_g1_i1 len=229 path=[207:0-228] [-1, 207, -2]\r\n",
      "AAGAATCTATCAAACTTTAAGATAACAGACTAAACCTCCTAAAAAAAAAATATGAGTGAC\r\n",
      "GAAGAAAACTTTGAAAAAGGATCATCTGAGGGTTCCCACACCGAACCTAAAGAAGCCGGA\r\n",
      "AAAATTAAAATCGGTGCTTATTGTATGTTAAAAGAATAACCTTGTAAAGTAACTCACTAT\r\n",
      "TCTACCTCCAAAGCTGGTAAACACGGTCACGCTAAAGCCTCTATTGCTG\r\n",
      ">TRINITY_DN48858_c0_g1_i1 len=223 path=[1:0-222] [-1, 1, -2]\r\n",
      "GGGAAATCCTGACTAAAAGCTGAGGTCAATGTGTGCTCGGGATATATGACTATTAGCCAA\r\n",
      "GCAAAGTACCTCAAAACAAAAGCCCCCACTCATGACTTTTTGCTCTTTGACCTCAGCTAC\r\n",
      "ACCACCTGATTCCAACTTACCTTTCTCACCTCCTCAAACTCCAACAATGATTCATTCACT\r\n",
      "GAATAAAAACACAATTGTTTTCTGTCTCCCTCTTCAATCTGTG\r\n"
     ]
    }
   ],
   "source": [
    "!head P_adsperus-trans_01.fa"
   ]
  },
  {
   "cell_type": "code",
   "execution_count": 17,
   "metadata": {},
   "outputs": [
    {
     "name": "stdout",
     "output_type": "stream",
     "text": [
      "201668\r\n"
     ]
    }
   ],
   "source": [
    "!fgrep -c \">\" P_adsperus-trans_01.fa"
   ]
  },
  {
   "cell_type": "code",
   "execution_count": 20,
   "metadata": {},
   "outputs": [
    {
     "name": "stdout",
     "output_type": "stream",
     "text": [
      "\r\n",
      "0:9999 \t201410\r\n",
      "10000:19999 \t245\r\n",
      "20000:29999 \t0\r\n",
      "30000:39999 \t0\r\n",
      "40000:49999 \t1\r\n",
      "50000:59999 \t12\r\n",
      "\r\n",
      "Total length of sequence:\t295789732 bp\r\n",
      "Total number of sequences:\t201668\r\n",
      "N25 stats:\t\t\t25% of total sequence length is contained in the 12871 sequences >= 4279 bp\r\n",
      "N50 stats:\t\t\t50% of total sequence length is contained in the 34413 sequences >= 2792 bp\r\n",
      "N75 stats:\t\t\t75% of total sequence length is contained in the 69110 sequences >= 1571 bp\r\n",
      "Total GC count:\t\t\t135902598 bp\r\n",
      "GC %:\t\t\t\t45.95 %\r\n",
      "\r\n"
     ]
    }
   ],
   "source": [
    "!perl ../../scripts/count_fasta.pl \\\n",
    "-i 10000 \\\n",
    "P_adsperus-trans_01.fa"
   ]
  },
  {
   "cell_type": "code",
   "execution_count": 21,
   "metadata": {},
   "outputs": [
    {
     "name": "stdout",
     "output_type": "stream",
     "text": [
      "\r\n",
      "200:299 \t46296\r\n",
      "300:399 \t21844\r\n",
      "400:499 \t12533\r\n",
      "500:599 \t8616\r\n",
      "600:699 \t6528\r\n",
      "700:799 \t5546\r\n",
      "800:899 \t4437\r\n",
      "900:999 \t4089\r\n",
      "1000:1099 \t4369\r\n"
     ]
    }
   ],
   "source": [
    "!perl ../../scripts/count_fasta.pl \\\n",
    "-i 100 \\\n",
    "P_adsperus-trans_01.fa | head"
   ]
  },
  {
   "cell_type": "code",
   "execution_count": 22,
   "metadata": {},
   "outputs": [
    {
     "name": "stdout",
     "output_type": "stream",
     "text": [
      "/Users/sr320/git-repos/nb-2017/P_adsperus\n"
     ]
    }
   ],
   "source": [
    "cd .."
   ]
  },
  {
   "cell_type": "code",
   "execution_count": 23,
   "metadata": {
    "collapsed": true
   },
   "outputs": [],
   "source": [
    "mkdir analyses"
   ]
  },
  {
   "cell_type": "code",
   "execution_count": 24,
   "metadata": {},
   "outputs": [
    {
     "name": "stdout",
     "output_type": "stream",
     "text": [
      "\r\n",
      "Converted 201668 FASTA records in 5229594 lines to tabular format\r\n",
      "Total sequence length: 295789732\r\n",
      "\r\n"
     ]
    }
   ],
   "source": [
    "!perl -e '$count=0; $len=0; while(<>) {s/\\r?\\n//; s/\\t/ /g; if (s/^>//) { if ($. != 1) {print \"\\n\"} s/ |$/\\t/; $count++; $_ .= \"\\t\";} else {s/ //g; $len += length($_)} print $_;} print \"\\n\"; warn \"\\nConverted $count FASTA records in $. lines to tabular format\\nTotal sequence length: $len\\n\\n\";' \\\n",
    "data/P_adsperus-trans_01.fa > analyses/P_adsperus-trans_01.tab"
   ]
  },
  {
   "cell_type": "code",
   "execution_count": 27,
   "metadata": {},
   "outputs": [
    {
     "name": "stdout",
     "output_type": "stream",
     "text": [
      "TRINITY_DN48802_c0_g1_i1\tlen=229 path=[207:0-228] [-1, 207, -2]\tAAGAATCTATCAAACTTTAAGATAACAGACTAAACCTCCTAAAAAAAAAATATGAGTGACGAAGAAAACTTTGAAAAAGGATCATCTGAGGGTTCCCACACCGAACCTAAAGAAGCCGGAAAAATTAAAATCGGTGCTTATTGTATGTTAAAAGAATAACCTTGTAAAGTAACTCACTATTCTACCTCCAAAGCTGGTAAACACGGTCACGCTAAAGCCTCTATTGCTG\r\n"
     ]
    }
   ],
   "source": [
    "!head -1 analyses/P_adsperus-trans_01.tab"
   ]
  },
  {
   "cell_type": "markdown",
   "metadata": {},
   "source": [
    "```\n",
    "SELECT column1 as contigID\n",
    "FROM sr320.\"P_adsperus-trans_01.tab\"\n",
    "left join\n",
    "sr320.\"table_P_adsperus-12-abundance.tsv\"\n",
    "on sr320.\"P_adsperus-trans_01.tab\".contigID = sr320.\"table_P_adsperus-12-abundance.tsv\".target_ID\n",
    "```"
   ]
  },
  {
   "cell_type": "code",
   "execution_count": null,
   "metadata": {
    "collapsed": true
   },
   "outputs": [],
   "source": [
    "SELECT column1 as contigID\n",
    "FROM sr320.\"P_adsperus-trans_01.tab\"tb\n",
    "left join\n",
    "sr320.\"table_P_adsperus-12-abundance.tsv\"k12\n",
    "on tb.column1 = k12.target_ID\n",
    "left join\n",
    "sr320.\"table_P_adsperus-18-abundance.tsv\"k18\n",
    "on tb.column1 = k18.target_ID\n",
    "left join\n",
    "sr320.\"table_P_adsperus-19-abundance.tsv\"k19\n",
    "on tb.column1 = k19.target_ID\n",
    "left join\n",
    "sr320.\"table_P_adsperus-blastx.outfmt6\"\n",
    "on tb.column1 = sr320.\"table_P_adsperus-blastx.outfmt6\".column1\n"
   ]
  }
 ],
 "metadata": {
  "kernelspec": {
   "display_name": "Python 2",
   "language": "python",
   "name": "python2"
  },
  "language_info": {
   "codemirror_mode": {
    "name": "ipython",
    "version": 2
   },
   "file_extension": ".py",
   "mimetype": "text/x-python",
   "name": "python",
   "nbconvert_exporter": "python",
   "pygments_lexer": "ipython2",
   "version": "2.7.12"
  }
 },
 "nbformat": 4,
 "nbformat_minor": 1
}
