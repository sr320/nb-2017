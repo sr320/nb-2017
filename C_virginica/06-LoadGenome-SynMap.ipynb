{
 "cells": [
  {
   "cell_type": "markdown",
   "metadata": {},
   "source": [
    "<img src=\"http://eagle.fish.washington.edu/cnidarian/skitch/CoGe__SynMap_1E86F319.png\" alt=\"CoGe__SynMap_1E86F319.png\"/>"
   ]
  },
  {
   "cell_type": "markdown",
   "metadata": {},
   "source": [
    "<img src=\"http://eagle.fish.washington.edu/cnidarian/skitch/CoGe__GEvo_1E86F395.png\" alt=\"CoGe__GEvo_1E86F395.png\"/>"
   ]
  },
  {
   "cell_type": "markdown",
   "metadata": {},
   "source": [
    "<img src=\"http://eagle.fish.washington.edu/cnidarian/skitch/CoGe__SynMap_1E86F69D.png\" alt=\"CoGe__SynMap_1E86F69D.png\"/>"
   ]
  },
  {
   "cell_type": "markdown",
   "metadata": {},
   "source": [
    "<img src=\"http://eagle.fish.washington.edu/cnidarian/skitch/CoGe__SynMap_and_06-LoadGenome-SynMap_1E86F6DC.png\" alt=\"CoGe__SynMap_and_06-LoadGenome-SynMap_1E86F6DC.png\"/>"
   ]
  },
  {
   "cell_type": "code",
   "execution_count": null,
   "metadata": {
    "collapsed": true
   },
   "outputs": [],
   "source": []
  }
 ],
 "metadata": {
  "kernelspec": {
   "display_name": "Python 2",
   "language": "python",
   "name": "python2"
  },
  "language_info": {
   "codemirror_mode": {
    "name": "ipython",
    "version": 2
   },
   "file_extension": ".py",
   "mimetype": "text/x-python",
   "name": "python",
   "nbconvert_exporter": "python",
   "pygments_lexer": "ipython2",
   "version": "2.7.12"
  }
 },
 "nbformat": 4,
 "nbformat_minor": 0
}
