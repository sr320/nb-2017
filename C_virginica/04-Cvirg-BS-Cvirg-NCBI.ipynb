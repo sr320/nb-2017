{
 "cells": [
  {
   "cell_type": "code",
   "execution_count": 1,
   "metadata": {
    "collapsed": false
   },
   "outputs": [
    {
     "name": "stdout",
     "output_type": "stream",
     "text": [
      "-rwx------  1 sr320  staff   2.4G Mar 16 08:14 \u001b[31m/Volumes/Alanine/wd/17-03-16b/20150414_trimmed_2112_lane1_NB11_NoOil_CAGATC.fastq.gz\u001b[m\u001b[m*\r\n",
      "-rwx------  1 sr320  staff   961M Mar 16 08:14 \u001b[31m/Volumes/Alanine/wd/17-03-16b/20150414_trimmed_2112_lane1_NB3_NoOil_ACAGTG.fastq.gz\u001b[m\u001b[m*\r\n",
      "-rwx------  1 sr320  staff   1.6G Mar 16 08:15 \u001b[31m/Volumes/Alanine/wd/17-03-16b/20150414_trimmed_2112_lane1_NB6_NoOil_GCCAAT.fastq.gz\u001b[m\u001b[m*\r\n"
     ]
    }
   ],
   "source": [
    "ls -lh /Volumes/Alanine/wd/17-03-16b/20150414_trimmed_2112_lane1_NB*"
   ]
  },
  {
   "cell_type": "code",
   "execution_count": 2,
   "metadata": {
    "collapsed": false
   },
   "outputs": [
    {
     "name": "stdout",
     "output_type": "stream",
     "text": [
      "-rwx------  1 sr320  staff   1.6G Mar 16 08:11 \u001b[31m/Volumes/Alanine/wd/17-03-16b/20150414_trimmed_2112_lane1_HB16_Oil_25000ppm_TTAGGC.fastq.gz\u001b[m\u001b[m*\r\n",
      "-rwx------  1 sr320  staff   2.2G Mar 16 08:12 \u001b[31m/Volumes/Alanine/wd/17-03-16b/20150414_trimmed_2112_lane1_HB2_Oil_25000ppm_ATCACG.fastq.gz\u001b[m\u001b[m*\r\n",
      "-rwx------  1 sr320  staff   217M Mar 16 08:12 \u001b[31m/Volumes/Alanine/wd/17-03-16b/20150414_trimmed_2112_lane1_HB30_Oil_25000ppm_TGACCA.fastq.gz\u001b[m\u001b[m*\r\n"
     ]
    }
   ],
   "source": [
    "ls -lh /Volumes/Alanine/wd/17-03-16b/20150414_trimmed_2112_lane1_HB*"
   ]
  },
  {
   "cell_type": "code",
   "execution_count": 1,
   "metadata": {
    "collapsed": true
   },
   "outputs": [],
   "source": [
    "bsmaploc=\"/Applications/bioinfo/BSMAP/bsmap-2.74/\"\n"
   ]
  },
  {
   "cell_type": "code",
   "execution_count": 2,
   "metadata": {
    "collapsed": true
   },
   "outputs": [],
   "source": [
    "mkdir /Volumes/Alanine/wd/17-03-16c"
   ]
  },
  {
   "cell_type": "code",
   "execution_count": 3,
   "metadata": {
    "collapsed": true
   },
   "outputs": [],
   "source": [
    "for i in (\"HB16_Oil_25000ppm_TTAGGC\",\"HB2_Oil_25000ppm_ATCACG\",\"HB30_Oil_25000ppm_TGACCA\", \"NB11_NoOil_CAGATC\", \"NB3_NoOil_ACAGTG\", \"NB6_NoOil_GCCAAT\"):\n",
    "    !{bsmaploc}bsmap \\\n",
    "-a /Volumes/Alanine/wd/17-03-16b/20150414_trimmed_2112_lane1_{i}.fastq.gz \\\n",
    "-d /Users/sr320/git-repos/nb-2017/C_virginica/data/GCA_002022765.1_C_virginica_1.0_genomic.fna \\\n",
    "-o /Volumes/Alanine/wd/17-03-16c/bsmap_out_{i}.sam \\\n",
    "-p 2 \\\n",
    "2> /Volumes/Alanine/wd/17-03-16c/stderr_bsmap_{i}.txt"
   ]
  },
  {
   "cell_type": "code",
   "execution_count": 5,
   "metadata": {
    "collapsed": false
   },
   "outputs": [
    {
     "name": "stdout",
     "output_type": "stream",
     "text": [
      "Library_HB16_Oil_25000ppm_TTAGGC\n",
      "Total number of aligned reads: 2914017 (14%)\n",
      "Library_HB2_Oil_25000ppm_ATCACG\n",
      "Total number of aligned reads: 5618890 (20%)\n",
      "Library_HB30_Oil_25000ppm_TGACCA\n",
      "Total number of aligned reads: 924264 (33%)\n",
      "Library_NB11_NoOil_CAGATC\n",
      "Total number of aligned reads: 5694592 (18%)\n",
      "Library_NB3_NoOil_ACAGTG\n",
      "Total number of aligned reads: 3079292 (25%)\n",
      "Library_NB6_NoOil_GCCAAT\n",
      "Total number of aligned reads: 1813943 (8.7%)\n"
     ]
    }
   ],
   "source": [
    "for i in (\"HB16_Oil_25000ppm_TTAGGC\",\"HB2_Oil_25000ppm_ATCACG\",\"HB30_Oil_25000ppm_TGACCA\", \"NB11_NoOil_CAGATC\", \"NB3_NoOil_ACAGTG\", \"NB6_NoOil_GCCAAT\"):\n",
    "    !echo Library_{i}\n",
    "    !grep \"Total number of aligned reads\" /Volumes/Alanine/wd/17-03-16c/stderr_bsmap_{i}.txt"
   ]
  },
  {
   "cell_type": "code",
   "execution_count": 4,
   "metadata": {
    "collapsed": false
   },
   "outputs": [
    {
     "name": "stdout",
     "output_type": "stream",
     "text": [
      "total 1824637 valid mappings, 15841837 covered cytosines, average coverage: 2.34 fold.\n",
      "total 3755468 valid mappings, 33339384 covered cytosines, average coverage: 2.16 fold.\n",
      "total 566435 valid mappings, 3474198 covered cytosines, average coverage: 3.48 fold.\n",
      "total 3529799 valid mappings, 28691709 covered cytosines, average coverage: 2.49 fold.\n",
      "total 1660176 valid mappings, 13200855 covered cytosines, average coverage: 2.71 fold.\n",
      "total 1116464 valid mappings, 15217417 covered cytosines, average coverage: 1.43 fold.\n"
     ]
    }
   ],
   "source": [
    "for i in  (\"HB16_Oil_25000ppm_TTAGGC\",\"HB2_Oil_25000ppm_ATCACG\",\"HB30_Oil_25000ppm_TGACCA\", \"NB11_NoOil_CAGATC\", \"NB3_NoOil_ACAGTG\", \"NB6_NoOil_GCCAAT\"):\n",
    "    !python {bsmaploc}methratio.py \\\n",
    "-d /Users/sr320/git-repos/nb-2017/C_virginica/data/GCA_002022765.1_C_virginica_1.0_genomic.fna \\\n",
    "-u -z -g \\\n",
    "-o /Volumes/Alanine/wd/17-03-16c/methratio_out_{i}.txt \\\n",
    "-s {bsmaploc}samtools \\\n",
    "/Volumes/Alanine/wd/17-03-16c/bsmap_out_{i}.sam \\\n",
    "2> /Volumes/Alanine/wd/17-03-16c/stderr_methratio_{i}.txt"
   ]
  },
  {
   "cell_type": "code",
   "execution_count": null,
   "metadata": {
    "collapsed": true
   },
   "outputs": [],
   "source": []
  }
 ],
 "metadata": {
  "kernelspec": {
   "display_name": "Python 2",
   "language": "python",
   "name": "python2"
  },
  "language_info": {
   "codemirror_mode": {
    "name": "ipython",
    "version": 2
   },
   "file_extension": ".py",
   "mimetype": "text/x-python",
   "name": "python",
   "nbconvert_exporter": "python",
   "pygments_lexer": "ipython2",
   "version": "2.7.12"
  }
 },
 "nbformat": 4,
 "nbformat_minor": 0
}
