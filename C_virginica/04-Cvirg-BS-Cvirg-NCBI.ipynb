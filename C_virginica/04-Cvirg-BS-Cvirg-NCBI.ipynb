{
 "cells": [
  {
   "cell_type": "code",
   "execution_count": 1,
   "metadata": {
    "collapsed": false
   },
   "outputs": [
    {
     "name": "stdout",
     "output_type": "stream",
     "text": [
      "-rwx------  1 sr320  staff   2.4G Mar 16 08:14 \u001b[31m/Volumes/Alanine/wd/17-03-16b/20150414_trimmed_2112_lane1_NB11_NoOil_CAGATC.fastq.gz\u001b[m\u001b[m*\r\n",
      "-rwx------  1 sr320  staff   961M Mar 16 08:14 \u001b[31m/Volumes/Alanine/wd/17-03-16b/20150414_trimmed_2112_lane1_NB3_NoOil_ACAGTG.fastq.gz\u001b[m\u001b[m*\r\n",
      "-rwx------  1 sr320  staff   1.6G Mar 16 08:15 \u001b[31m/Volumes/Alanine/wd/17-03-16b/20150414_trimmed_2112_lane1_NB6_NoOil_GCCAAT.fastq.gz\u001b[m\u001b[m*\r\n"
     ]
    }
   ],
   "source": [
    "ls -lh /Volumes/Alanine/wd/17-03-16b/20150414_trimmed_2112_lane1_NB*"
   ]
  },
  {
   "cell_type": "code",
   "execution_count": 2,
   "metadata": {
    "collapsed": false
   },
   "outputs": [
    {
     "name": "stdout",
     "output_type": "stream",
     "text": [
      "-rwx------  1 sr320  staff   1.6G Mar 16 08:11 \u001b[31m/Volumes/Alanine/wd/17-03-16b/20150414_trimmed_2112_lane1_HB16_Oil_25000ppm_TTAGGC.fastq.gz\u001b[m\u001b[m*\r\n",
      "-rwx------  1 sr320  staff   2.2G Mar 16 08:12 \u001b[31m/Volumes/Alanine/wd/17-03-16b/20150414_trimmed_2112_lane1_HB2_Oil_25000ppm_ATCACG.fastq.gz\u001b[m\u001b[m*\r\n",
      "-rwx------  1 sr320  staff   217M Mar 16 08:12 \u001b[31m/Volumes/Alanine/wd/17-03-16b/20150414_trimmed_2112_lane1_HB30_Oil_25000ppm_TGACCA.fastq.gz\u001b[m\u001b[m*\r\n"
     ]
    }
   ],
   "source": [
    "ls -lh /Volumes/Alanine/wd/17-03-16b/20150414_trimmed_2112_lane1_HB*"
   ]
  },
  {
   "cell_type": "code",
   "execution_count": 1,
   "metadata": {
    "collapsed": true
   },
   "outputs": [],
   "source": [
    "bsmaploc=\"/Applications/bioinfo/BSMAP/bsmap-2.74/\"\n"
   ]
  },
  {
   "cell_type": "code",
   "execution_count": 2,
   "metadata": {
    "collapsed": true
   },
   "outputs": [],
   "source": [
    "mkdir /Volumes/Alanine/wd/17-03-16c"
   ]
  },
  {
   "cell_type": "code",
   "execution_count": 3,
   "metadata": {
    "collapsed": true
   },
   "outputs": [],
   "source": [
    "for i in (\"HB16_Oil_25000ppm_TTAGGC\",\"HB2_Oil_25000ppm_ATCACG\",\"HB30_Oil_25000ppm_TGACCA\", \"NB11_NoOil_CAGATC\", \"NB3_NoOil_ACAGTG\", \"NB6_NoOil_GCCAAT\"):\n",
    "    !{bsmaploc}bsmap \\\n",
    "-a /Volumes/Alanine/wd/17-03-16b/20150414_trimmed_2112_lane1_{i}.fastq.gz \\\n",
    "-d /Users/sr320/git-repos/nb-2017/C_virginica/data/GCA_002022765.1_C_virginica_1.0_genomic.fna \\\n",
    "-o /Volumes/Alanine/wd/17-03-16c/bsmap_out_{i}.sam \\\n",
    "-p 2 \\\n",
    "2> /Volumes/Alanine/wd/17-03-16c/stderr_bsmap_{i}.txt"
   ]
  },
  {
   "cell_type": "code",
   "execution_count": 5,
   "metadata": {
    "collapsed": false
   },
   "outputs": [
    {
     "name": "stdout",
     "output_type": "stream",
     "text": [
      "Library_HB16_Oil_25000ppm_TTAGGC\n",
      "Total number of aligned reads: 2914017 (14%)\n",
      "Library_HB2_Oil_25000ppm_ATCACG\n",
      "Total number of aligned reads: 5618890 (20%)\n",
      "Library_HB30_Oil_25000ppm_TGACCA\n",
      "Total number of aligned reads: 924264 (33%)\n",
      "Library_NB11_NoOil_CAGATC\n",
      "Total number of aligned reads: 5694592 (18%)\n",
      "Library_NB3_NoOil_ACAGTG\n",
      "Total number of aligned reads: 3079292 (25%)\n",
      "Library_NB6_NoOil_GCCAAT\n",
      "Total number of aligned reads: 1813943 (8.7%)\n"
     ]
    }
   ],
   "source": [
    "for i in (\"HB16_Oil_25000ppm_TTAGGC\",\"HB2_Oil_25000ppm_ATCACG\",\"HB30_Oil_25000ppm_TGACCA\", \"NB11_NoOil_CAGATC\", \"NB3_NoOil_ACAGTG\", \"NB6_NoOil_GCCAAT\"):\n",
    "    !echo Library_{i}\n",
    "    !grep \"Total number of aligned reads\" /Volumes/Alanine/wd/17-03-16c/stderr_bsmap_{i}.txt"
   ]
  },
  {
   "cell_type": "code",
   "execution_count": 4,
   "metadata": {
    "collapsed": false
   },
   "outputs": [
    {
     "name": "stdout",
     "output_type": "stream",
     "text": [
      "total 1824637 valid mappings, 15841837 covered cytosines, average coverage: 2.34 fold.\n",
      "total 3755468 valid mappings, 33339384 covered cytosines, average coverage: 2.16 fold.\n",
      "total 566435 valid mappings, 3474198 covered cytosines, average coverage: 3.48 fold.\n",
      "total 3529799 valid mappings, 28691709 covered cytosines, average coverage: 2.49 fold.\n",
      "total 1660176 valid mappings, 13200855 covered cytosines, average coverage: 2.71 fold.\n",
      "total 1116464 valid mappings, 15217417 covered cytosines, average coverage: 1.43 fold.\n"
     ]
    }
   ],
   "source": [
    "for i in  (\"HB16_Oil_25000ppm_TTAGGC\",\"HB2_Oil_25000ppm_ATCACG\",\"HB30_Oil_25000ppm_TGACCA\", \"NB11_NoOil_CAGATC\", \"NB3_NoOil_ACAGTG\", \"NB6_NoOil_GCCAAT\"):\n",
    "    !python {bsmaploc}methratio.py \\\n",
    "-d /Users/sr320/git-repos/nb-2017/C_virginica/data/GCA_002022765.1_C_virginica_1.0_genomic.fna \\\n",
    "-u -z -g \\\n",
    "-o /Volumes/Alanine/wd/17-03-16c/methratio_out_{i}.txt \\\n",
    "-s {bsmaploc}samtools \\\n",
    "/Volumes/Alanine/wd/17-03-16c/bsmap_out_{i}.sam \\\n",
    "2> /Volumes/Alanine/wd/17-03-16c/stderr_methratio_{i}.txt"
   ]
  },
  {
   "cell_type": "code",
   "execution_count": 5,
   "metadata": {
    "collapsed": false,
    "scrolled": true
   },
   "outputs": [
    {
     "name": "stdout",
     "output_type": "stream",
     "text": [
      "==> /Volumes/Alanine/wd/17-03-16c/methratio_out_HB16_Oil_25000ppm_TTAGGC.txt <==\n",
      "chr\tpos\tstrand\tcontext\tratio\teff_CT_count\tC_count\tCT_count\trev_G_count\trev_GA_count\tCI_lower\tCI_upper\n",
      "KV918244.1\t983\t-\tCAGAA\t1.000\t1.00\t1\t1\t0\t0\t0.207\t1.000\n",
      "KV918244.1\t994\t+\tCACGG\t1.000\t1.00\t1\t1\t1\t1\t0.207\t1.000\n",
      "KV918244.1\t996\t-\tCGGAT\t1.000\t1.00\t1\t1\t0\t0\t0.207\t1.000\n",
      "KV918244.1\t1003\t-\tCAGTC\t1.000\t1.00\t1\t1\t0\t0\t0.207\t1.000\n",
      "KV918244.1\t1037\t-\tATGTA\t1.000\t1.00\t1\t1\t0\t0\t0.207\t1.000\n",
      "KV918244.1\t1055\t-\tAAGCA\t1.000\t1.00\t1\t1\t0\t0\t0.207\t1.000\n",
      "KV918244.1\t1074\t-\tAAGCA\t1.000\t1.00\t1\t1\t0\t0\t0.207\t1.000\n",
      "KV918244.1\t10280\t-\tCAGAA\t1.000\t1.00\t1\t1\t0\t0\t0.207\t1.000\n",
      "KV918244.1\t10286\t-\tTTGAG\t1.000\t1.00\t1\t1\t0\t0\t0.207\t1.000\n",
      "\n",
      "==> /Volumes/Alanine/wd/17-03-16c/methratio_out_HB2_Oil_25000ppm_ATCACG.txt <==\n",
      "chr\tpos\tstrand\tcontext\tratio\teff_CT_count\tC_count\tCT_count\trev_G_count\trev_GA_count\tCI_lower\tCI_upper\n",
      "KV918244.1\t608\t+\tTGCTT\t1.000\t1.00\t1\t1\t0\t0\t0.207\t1.000\n",
      "KV918244.1\t628\t+\tTTCAT\t1.000\t1.00\t1\t1\t0\t0\t0.207\t1.000\n",
      "KV918244.1\t649\t+\tTACTC\t1.000\t1.00\t1\t1\t0\t0\t0.207\t1.000\n",
      "KV918244.1\t651\t+\tCTCTA\t1.000\t1.00\t1\t1\t0\t0\t0.207\t1.000\n",
      "KV918244.1\t654\t+\tTACAT\t1.000\t1.00\t1\t1\t0\t0\t0.207\t1.000\n",
      "KV918244.1\t670\t+\tAACTT\t1.000\t1.00\t1\t1\t0\t0\t0.207\t1.000\n",
      "KV918244.1\t683\t+\tATCCG\t1.000\t1.00\t1\t1\t0\t0\t0.207\t1.000\n",
      "KV918244.1\t684\t+\tTCCGT\t1.000\t1.00\t1\t1\t1\t1\t0.207\t1.000\n",
      "KV918244.1\t5315\t-\tCAGGG\t0.000\t1.00\t0\t1\t0\t0\t0.000\t0.793\n",
      "\n",
      "==> /Volumes/Alanine/wd/17-03-16c/methratio_out_HB30_Oil_25000ppm_TGACCA.txt <==\n",
      "chr\tpos\tstrand\tcontext\tratio\teff_CT_count\tC_count\tCT_count\trev_G_count\trev_GA_count\tCI_lower\tCI_upper\n",
      "KV918244.1\t8564\t+\tGTCTT\t1.000\t1.00\t1\t1\t0\t0\t0.207\t1.000\n",
      "KV918244.1\t8567\t+\tTTCTC\t1.000\t1.00\t1\t1\t0\t0\t0.207\t1.000\n",
      "KV918244.1\t8569\t+\tCTCAA\t1.000\t1.00\t1\t1\t0\t0\t0.207\t1.000\n",
      "KV918244.1\t8575\t+\tTTCGA\t1.000\t1.00\t1\t1\t1\t1\t0.207\t1.000\n",
      "KV918244.1\t8586\t+\tTTCGA\t1.000\t1.00\t1\t1\t1\t1\t0.207\t1.000\n",
      "KV918244.1\t8591\t+\tGTCAG\t1.000\t1.00\t1\t1\t0\t0\t0.207\t1.000\n",
      "KV918244.1\t8605\t+\tGACAC\t1.000\t1.00\t1\t1\t0\t0\t0.207\t1.000\n",
      "KV918244.1\t8607\t+\tCACTG\t1.000\t1.00\t1\t1\t0\t0\t0.207\t1.000\n",
      "KV918244.1\t8611\t+\tGACAC\t1.000\t1.00\t1\t1\t0\t0\t0.207\t1.000\n",
      "\n",
      "==> /Volumes/Alanine/wd/17-03-16c/methratio_out_NB11_NoOil_CAGATC.txt <==\n",
      "chr\tpos\tstrand\tcontext\tratio\teff_CT_count\tC_count\tCT_count\trev_G_count\trev_GA_count\tCI_lower\tCI_upper\n",
      "KV918244.1\t111\t+\tAGCGG\t1.000\t1.00\t1\t1\t0\t0\t0.207\t1.000\n",
      "KV918244.1\t113\t-\tCGGCT\t1.000\t1.00\t1\t1\t0\t0\t0.207\t1.000\n",
      "KV918244.1\t119\t+\tCACGA\t1.000\t1.00\t1\t1\t1\t1\t0.207\t1.000\n",
      "KV918244.1\t125\t+\tTTCGT\t1.000\t1.00\t1\t1\t1\t1\t0.207\t1.000\n",
      "KV918244.1\t129\t+\tTACGG\tNA\t0.00\t1\t1\t0\t1\tNA\tNA\n",
      "KV918244.1\t131\t-\tCGGAG\t1.000\t1.00\t1\t1\t0\t0\t0.207\t1.000\n",
      "KV918244.1\t133\t-\tGAGGT\t1.000\t1.00\t1\t1\t0\t0\t0.207\t1.000\n",
      "KV918244.1\t134\t-\tAGGTC\t1.000\t1.00\t1\t1\t0\t0\t0.207\t1.000\n",
      "KV918244.1\t139\t-\tTTGTG\t1.000\t1.00\t1\t1\t0\t0\t0.207\t1.000\n",
      "\n",
      "==> /Volumes/Alanine/wd/17-03-16c/methratio_out_NB3_NoOil_ACAGTG.txt <==\n",
      "chr\tpos\tstrand\tcontext\tratio\teff_CT_count\tC_count\tCT_count\trev_G_count\trev_GA_count\tCI_lower\tCI_upper\n",
      "KV918244.1\t3804\t-\tCAGAG\t1.000\t1.00\t1\t1\t0\t0\t0.207\t1.000\n",
      "KV918244.1\t3806\t-\tGAGAC\t1.000\t1.00\t1\t1\t0\t0\t0.207\t1.000\n",
      "KV918244.1\t3810\t-\tCTGGA\t1.000\t1.00\t1\t1\t0\t0\t0.207\t1.000\n",
      "KV918244.1\t3811\t-\tTGGAC\t1.000\t1.00\t1\t1\t0\t0\t0.207\t1.000\n",
      "KV918244.1\t3815\t-\tCTGTA\t1.000\t1.00\t1\t1\t0\t0\t0.207\t1.000\n",
      "KV918244.1\t3820\t-\tATGTG\t1.000\t1.00\t1\t1\t0\t0\t0.207\t1.000\n",
      "KV918244.1\t3822\t-\tGTGTA\t1.000\t1.00\t1\t1\t0\t0\t0.207\t1.000\n",
      "KV918244.1\t3833\t-\tAAGGG\t1.000\t1.00\t1\t1\t0\t0\t0.207\t1.000\n",
      "KV918244.1\t3834\t-\tAGGGG\t1.000\t1.00\t1\t1\t0\t0\t0.207\t1.000\n",
      "\n",
      "==> /Volumes/Alanine/wd/17-03-16c/methratio_out_NB6_NoOil_GCCAAT.txt <==\n",
      "chr\tpos\tstrand\tcontext\tratio\teff_CT_count\tC_count\tCT_count\trev_G_count\trev_GA_count\tCI_lower\tCI_upper\n",
      "KV918244.1\t915\t-\tCAGTA\t1.000\t1.00\t1\t1\t0\t0\t0.207\t1.000\n",
      "KV918244.1\t919\t-\tAAGTT\t1.000\t1.00\t1\t1\t0\t0\t0.207\t1.000\n",
      "KV918244.1\t924\t-\tTTGCA\t1.000\t1.00\t1\t1\t0\t0\t0.207\t1.000\n",
      "KV918244.1\t927\t+\tCACGA\t1.000\t1.00\t1\t1\t1\t1\t0.207\t1.000\n",
      "KV918244.1\t947\t-\tCTGCT\t1.000\t1.00\t1\t1\t0\t0\t0.207\t1.000\n",
      "KV918244.1\t951\t-\tTTGTG\t1.000\t1.00\t1\t1\t0\t0\t0.207\t1.000\n",
      "KV918244.1\t953\t-\tGTGGC\t1.000\t1.00\t1\t1\t0\t0\t0.207\t1.000\n",
      "KV918244.1\t954\t-\tTGGCG\t1.000\t1.00\t1\t1\t0\t0\t0.207\t1.000\n",
      "KV918244.1\t955\t+\tGGCGG\t1.000\t1.00\t1\t1\t1\t1\t0.207\t1.000\n"
     ]
    }
   ],
   "source": [
    "!head /Volumes/Alanine/wd/17-03-16c/methratio_out*"
   ]
  },
  {
   "cell_type": "code",
   "execution_count": 9,
   "metadata": {
    "collapsed": false,
    "scrolled": true
   },
   "outputs": [
    {
     "name": "stdout",
     "output_type": "stream",
     "text": [
      "HB16_Oil_25000ppm_TTAGGC\n",
      "KV918244.1\t994\t+\tCACGG\t1.000\t1.00\t1\t1\t1\t1\t0.207\t1.000\n",
      "KV918244.1\t10293\t+\tCCCGT\t1.000\t1.00\t1\t1\t1\t1\t0.207\t1.000\n",
      "KV918244.1\t10342\t+\tGCCGA\t1.000\t1.00\t1\t1\t1\t1\t0.207\t1.000\n",
      "KV918244.1\t41633\t+\tGTCGC\t1.000\t1.00\t1\t1\t1\t1\t0.207\t1.000\n",
      "KV918244.1\t41635\t+\tCGCGA\t1.000\t1.00\t1\t1\t1\t1\t0.207\t1.000\n",
      "KV918244.1\t64533\t+\tTACGT\t1.000\t1.00\t1\t1\t1\t1\t0.207\t1.000\n",
      "KV918244.1\t64626\t+\tTTCGA\t1.000\t1.00\t1\t1\t1\t1\t0.207\t1.000\n",
      "KV918244.1\t67853\t+\tAACGG\t1.000\t1.00\t1\t1\t1\t1\t0.207\t1.000\n",
      "KV918244.1\t67870\t+\tTCCGG\t1.000\t1.00\t1\t1\t1\t1\t0.207\t1.000\n",
      "KV918244.1\t67886\t+\tTTCGT\t1.000\t1.00\t1\t1\t1\t1\t0.207\t1.000\n",
      "HB2_Oil_25000ppm_ATCACG\n",
      "KV918244.1\t684\t+\tTCCGT\t1.000\t1.00\t1\t1\t1\t1\t0.207\t1.000\n",
      "KV918244.1\t5334\t+\tGTCGA\t1.000\t1.00\t1\t1\t1\t1\t0.207\t1.000\n",
      "KV918244.1\t5366\t+\tCTCGG\t1.000\t1.00\t1\t1\t1\t1\t0.207\t1.000\n",
      "KV918244.1\t5378\t+\tAACGT\t1.000\t1.00\t1\t1\t1\t1\t0.207\t1.000\n",
      "KV918244.1\t6128\t+\tAGCGC\tNA\t0.00\t1\t1\t0\t1\tNA\tNA\n",
      "KV918244.1\t6131\t+\tGCCGG\t1.000\t1.00\t1\t1\t1\t1\t0.207\t1.000\n",
      "KV918244.1\t6161\t+\tAGCGA\t1.000\t1.00\t1\t1\t1\t1\t0.207\t1.000\n",
      "KV918244.1\t6785\t+\tATCGG\t1.000\t1.00\t1\t1\t1\t1\t0.207\t1.000\n",
      "KV918244.1\t6796\t+\tTACGT\tNA\t0.00\t1\t1\t0\t1\tNA\tNA\n",
      "KV918244.1\t8575\t+\tTTCGA\t1.000\t2.00\t2\t2\t2\t2\t0.342\t1.000\n",
      "HB30_Oil_25000ppm_TGACCA\n",
      "KV918244.1\t8575\t+\tTTCGA\t1.000\t1.00\t1\t1\t1\t1\t0.207\t1.000\n",
      "KV918244.1\t8586\t+\tTTCGA\t1.000\t1.00\t1\t1\t1\t1\t0.207\t1.000\n",
      "KV918244.1\t133561\t+\tGCCGC\t1.000\t1.00\t1\t1\t1\t1\t0.207\t1.000\n",
      "KV918244.1\t133576\t+\tCACGA\t1.000\t1.00\t1\t1\t1\t1\t0.207\t1.000\n",
      "KV918244.1\t133579\t+\tGACGA\t1.000\t1.00\t1\t1\t1\t1\t0.207\t1.000\n",
      "KV918244.1\t133634\t+\tTGCGA\t1.000\t1.00\t1\t1\t1\t1\t0.207\t1.000\n",
      "KV918244.1\t133638\t+\tAGCGT\t1.000\t1.00\t1\t1\t1\t1\t0.207\t1.000\n",
      "KV918244.1\t133641\t+\tGTCGT\t1.000\t1.00\t1\t1\t1\t1\t0.207\t1.000\n",
      "KV918244.1\t156674\t+\tGTCGC\t1.000\t4.00\t4\t4\t4\t4\t0.510\t1.000\n",
      "KV918244.1\t156677\t+\tGCCGT\t0.000\t4.00\t0\t4\t4\t4\t0.000\t0.490\n",
      "NB11_NoOil_CAGATC\n",
      "KV918244.1\t111\t+\tAGCGG\t1.000\t1.00\t1\t1\t0\t0\t0.207\t1.000\n",
      "KV918244.1\t119\t+\tCACGA\t1.000\t1.00\t1\t1\t1\t1\t0.207\t1.000\n",
      "KV918244.1\t125\t+\tTTCGT\t1.000\t1.00\t1\t1\t1\t1\t0.207\t1.000\n",
      "KV918244.1\t129\t+\tTACGG\tNA\t0.00\t1\t1\t0\t1\tNA\tNA\n",
      "KV918244.1\t2834\t+\tAACGG\t1.000\t1.00\t1\t1\t1\t1\t0.207\t1.000\n",
      "KV918244.1\t2853\t+\tCCCGG\t1.000\t1.00\t1\t1\t1\t1\t0.207\t1.000\n",
      "KV918244.1\t2876\t+\tCTCGT\t0.000\t1.00\t0\t1\t1\t1\t0.000\t0.793\n",
      "KV918244.1\t2895\t+\tCCCGA\t1.000\t1.00\t1\t1\t1\t1\t0.207\t1.000\n",
      "KV918244.1\t6455\t+\tATCGG\t1.000\t1.00\t1\t1\t1\t1\t0.207\t1.000\n",
      "KV918244.1\t6465\t+\tATCGC\t1.000\t1.00\t1\t1\t1\t1\t0.207\t1.000\n",
      "NB3_NoOil_ACAGTG\n",
      "KV918244.1\t10262\t+\tGTCGT\t1.000\t1.00\t1\t1\t1\t1\t0.207\t1.000\n",
      "KV918244.1\t10293\t+\tCCCGT\t1.000\t1.00\t2\t2\t1\t2\t0.207\t1.000\n",
      "KV918244.1\t10342\t+\tGCCGA\t1.000\t4.00\t4\t4\t3\t3\t0.510\t1.000\n",
      "KV918244.1\t10385\t+\tGACGT\t1.000\t2.00\t2\t2\t2\t2\t0.342\t1.000\n",
      "KV918244.1\t10419\t+\tGACGT\t1.000\t2.00\t2\t2\t2\t2\t0.342\t1.000\n",
      "KV918244.1\t10430\t+\tATCGA\t1.000\t2.00\t2\t2\t2\t2\t0.342\t1.000\n",
      "KV918244.1\t17370\t+\tCCCGC\t1.000\t2.00\t2\t2\t2\t2\t0.342\t1.000\n",
      "KV918244.1\t41633\t+\tGTCGC\t1.000\t2.00\t2\t2\t2\t2\t0.342\t1.000\n",
      "KV918244.1\t41635\t+\tCGCGA\t1.000\t2.00\t2\t2\t2\t2\t0.342\t1.000\n",
      "KV918244.1\t59769\t+\tGACGC\t1.000\t1.00\t1\t1\t1\t1\t0.207\t1.000\n",
      "NB6_NoOil_GCCAAT\n",
      "KV918244.1\t927\t+\tCACGA\t1.000\t1.00\t1\t1\t1\t1\t0.207\t1.000\n",
      "KV918244.1\t955\t+\tGGCGG\t1.000\t1.00\t1\t1\t1\t1\t0.207\t1.000\n",
      "KV918244.1\t994\t+\tCACGG\t1.000\t1.00\t2\t2\t1\t2\t0.207\t1.000\n",
      "KV918244.1\t1491\t+\tCTCGC\tNA\t0.00\t1\t1\t0\t1\tNA\tNA\n",
      "KV918244.1\t1496\t+\tTCCGA\tNA\t0.00\t1\t1\t0\t1\tNA\tNA\n",
      "KV918244.1\t6128\t+\tAGCGC\t1.000\t1.00\t1\t1\t1\t1\t0.207\t1.000\n",
      "KV918244.1\t6131\t+\tGCCGG\t1.000\t1.00\t1\t1\t1\t1\t0.207\t1.000\n",
      "KV918244.1\t6161\t+\tAGCGA\t1.000\t1.00\t1\t1\t1\t1\t0.207\t1.000\n",
      "KV918244.1\t11566\t+\tATCGA\t1.000\t1.00\t1\t1\t1\t1\t0.207\t1.000\n",
      "KV918244.1\t11572\t+\tTGCGC\t1.000\t1.00\t1\t1\t1\t1\t0.207\t1.000\n"
     ]
    }
   ],
   "source": [
    "#first methratio files are converted to filter for CG context, 3x coverage (mr3x.awk), and reformatting (mr_gg.awk.sh).\n",
    "#due to issue passing variable to awk, simple scripts were used (included in repository)\n",
    "for i in (\"HB16_Oil_25000ppm_TTAGGC\",\"HB2_Oil_25000ppm_ATCACG\",\"HB30_Oil_25000ppm_TGACCA\", \"NB11_NoOil_CAGATC\", \"NB3_NoOil_ACAGTG\", \"NB6_NoOil_GCCAAT\"):\n",
    "    !echo {i}\n",
    "    !grep \"[A-Z][A-Z]CG[A-Z]\" </Volumes/Alanine/wd/17-03-16c/methratio_out_{i}.txt> /Volumes/Alanine/wd/17-03-16c/methratio_out_{i}CG.txt\n",
    "    !head /Volumes/Alanine/wd/17-03-16c/methratio_out_{i}CG.txt"
   ]
  },
  {
   "cell_type": "code",
   "execution_count": null,
   "metadata": {
    "collapsed": false
   },
   "outputs": [
    {
     "name": "stdout",
     "output_type": "stream",
     "text": [
      "KV918244.1\t173302\t173304\tCpG\t1.000\r\n",
      "KV918244.1\t173304\t173306\tCpG\t1.000\r\n",
      "KV918244.1\t173329\t173331\tCpG\t1.000\r\n",
      "KV918244.1\t179466\t179468\tCpG\t1.000\r\n",
      "KV918244.1\t179470\t179472\tCpG\t0.958\r\n",
      "KV918244.1\t179472\t179474\tCpG\t1.000\r\n",
      "KV918244.1\t179480\t179482\tCpG\t0.839\r\n",
      "KV918244.1\t179505\t179507\tCpG\t0.875\r\n",
      "KV918244.1\t179514\t179516\tCpG\t1.000\r\n",
      "KV918244.1\t179518\t179520\tCpG\t0.906\r\n"
     ]
    }
   ],
   "source": [
    "for i in (\"HB16_Oil_25000ppm_TTAGGC\",\"HB2_Oil_25000ppm_ATCACG\",\"HB30_Oil_25000ppm_TGACCA\", \"NB11_NoOil_CAGATC\", \"NB3_NoOil_ACAGTG\", \"NB6_NoOil_GCCAAT\"):\n",
    "    !awk -f ../scripts/methyl-igv.awk \\\n",
    "    /Volumes/Alanine/wd/17-03-16c/methratio_out_{i}CG.txt | tr ' ' \"\\t\" \\\n",
    "    > /Volumes/Alanine/wd/17-03-16c/{i}.igv\n",
    "    !head /Volumes/Alanine/wd/17-03-16c/{i}.igv\n",
    "    \n"
   ]
  },
  {
   "cell_type": "code",
   "execution_count": 7,
   "metadata": {
    "collapsed": false
   },
   "outputs": [
    {
     "name": "stdout",
     "output_type": "stream",
     "text": [
      "KV918244.1\t173302\t173304\tCpG\t1.000\r\n",
      "KV918244.1\t173304\t173306\tCpG\t1.000\r\n",
      "KV918244.1\t173329\t173331\tCpG\t1.000\r\n",
      "KV918244.1\t179466\t179468\tCpG\t1.000\r\n",
      "KV918244.1\t179470\t179472\tCpG\t0.958\r\n",
      "KV918244.1\t179472\t179474\tCpG\t1.000\r\n",
      "KV918244.1\t179480\t179482\tCpG\t0.839\r\n",
      "KV918244.1\t179505\t179507\tCpG\t0.875\r\n",
      "KV918244.1\t179514\t179516\tCpG\t1.000\r\n",
      "KV918244.1\t179518\t179520\tCpG\t0.906\r\n"
     ]
    }
   ],
   "source": [
    "!head /Volumes/Alanine/wd/17-03-16c/HB16_Oil_25000ppm_TTAGGC.igv"
   ]
  },
  {
   "cell_type": "code",
   "execution_count": 17,
   "metadata": {
    "collapsed": false
   },
   "outputs": [
    {
     "name": "stdout",
     "output_type": "stream",
     "text": [
      "HB16_Oil_25000ppm_TTAGGC\n",
      "chr.Base\tchr\tbase\tstrand\tcoverage\tfreqC\tfreqT\n",
      "KV918244.1.173303\tKV918244.1\t173303\tF\t3\t100.00\t0.00\n",
      "KV918244.1.173305\tKV918244.1\t173305\tF\t3\t100.00\t0.00\n",
      "KV918244.1.173330\tKV918244.1\t173330\tF\t3\t100.00\t0.00\n",
      "KV918244.1.179467\tKV918244.1\t179467\tF\t8\t100.00\t0.00\n",
      "KV918244.1.179471\tKV918244.1\t179471\tF\t24\t95.83\t4.17\n",
      "KV918244.1.179473\tKV918244.1\t179473\tF\t24\t100.00\t0.00\n",
      "KV918244.1.179481\tKV918244.1\t179481\tF\t31\t83.87\t16.13\n",
      "KV918244.1.179506\tKV918244.1\t179506\tF\t32\t87.50\t12.50\n",
      "KV918244.1.179515\tKV918244.1\t179515\tF\t32\t100.00\t0.00\n",
      "HB2_Oil_25000ppm_ATCACG\n",
      "chr.Base\tchr\tbase\tstrand\tcoverage\tfreqC\tfreqT\n",
      "KV918244.1.41633\tKV918244.1\t41633\tF\t3\t100.00\t0.00\n",
      "KV918244.1.41635\tKV918244.1\t41635\tF\t3\t100.00\t0.00\n",
      "KV918244.1.66347\tKV918244.1\t66347\tF\t3\t100.00\t0.00\n",
      "KV918244.1.66354\tKV918244.1\t66354\tF\t3\t100.00\t0.00\n",
      "KV918244.1.71192\tKV918244.1\t71192\tF\t4\t0.00\t100.00\n",
      "KV918244.1.71211\tKV918244.1\t71211\tF\t5\t0.00\t100.00\n",
      "KV918244.1.71225\tKV918244.1\t71225\tF\t5\t0.00\t100.00\n",
      "KV918244.1.71235\tKV918244.1\t71235\tF\t5\t0.00\t100.00\n",
      "KV918244.1.71244\tKV918244.1\t71244\tF\t4\t0.00\t100.00\n",
      "HB30_Oil_25000ppm_TGACCA\n",
      "chr.Base\tchr\tbase\tstrand\tcoverage\tfreqC\tfreqT\n",
      "KV918244.1.156674\tKV918244.1\t156674\tF\t4\t100.00\t0.00\n",
      "KV918244.1.156677\tKV918244.1\t156677\tF\t4\t0.00\t100.00\n",
      "KV918244.1.156707\tKV918244.1\t156707\tF\t4\t100.00\t0.00\n",
      "KV918244.1.179666\tKV918244.1\t179666\tF\t3\t100.00\t0.00\n",
      "KV918244.1.179678\tKV918244.1\t179678\tF\t3\t100.00\t0.00\n",
      "KV918244.1.179687\tKV918244.1\t179687\tF\t3\t100.00\t0.00\n",
      "KV918244.1.179712\tKV918244.1\t179712\tF\t3\t100.00\t0.00\n",
      "KV918244.1.179721\tKV918244.1\t179721\tF\t3\t100.00\t0.00\n",
      "KV918244.1.180001\tKV918244.1\t180001\tF\t3\t0.00\t100.00\n",
      "NB11_NoOil_CAGATC\n",
      "chr.Base\tchr\tbase\tstrand\tcoverage\tfreqC\tfreqT\n",
      "KV918244.1.48478\tKV918244.1\t48478\tF\t3\t100.00\t0.00\n",
      "KV918244.1.48501\tKV918244.1\t48501\tF\t4\t100.00\t0.00\n",
      "KV918244.1.48511\tKV918244.1\t48511\tF\t4\t100.00\t0.00\n",
      "KV918244.1.51633\tKV918244.1\t51633\tF\t3\t66.67\t33.33\n",
      "KV918244.1.148948\tKV918244.1\t148948\tF\t6\t100.00\t0.00\n",
      "KV918244.1.149002\tKV918244.1\t149002\tF\t4\t100.00\t0.00\n",
      "KV918244.1.149012\tKV918244.1\t149012\tF\t4\t100.00\t0.00\n",
      "KV918244.1.149016\tKV918244.1\t149016\tF\t4\t100.00\t0.00\n",
      "KV918244.1.149039\tKV918244.1\t149039\tF\t4\t100.00\t0.00\n",
      "NB3_NoOil_ACAGTG\n",
      "chr.Base\tchr\tbase\tstrand\tcoverage\tfreqC\tfreqT\n",
      "KV918244.1.10342\tKV918244.1\t10342\tF\t4\t100.00\t0.00\n",
      "KV918244.1.69613\tKV918244.1\t69613\tF\t3\t100.00\t0.00\n",
      "KV918244.1.69623\tKV918244.1\t69623\tF\t3\t100.00\t0.00\n",
      "KV918244.1.69682\tKV918244.1\t69682\tF\t3\t66.67\t33.33\n",
      "KV918244.1.142220\tKV918244.1\t142220\tF\t3\t100.00\t0.00\n",
      "KV918244.1.142234\tKV918244.1\t142234\tF\t3\t100.00\t0.00\n",
      "KV918244.1.142244\tKV918244.1\t142244\tF\t3\t100.00\t0.00\n",
      "KV918244.1.142253\tKV918244.1\t142253\tF\t3\t100.00\t0.00\n",
      "KV918244.1.142267\tKV918244.1\t142267\tF\t3\t100.00\t0.00\n",
      "NB6_NoOil_GCCAAT\n",
      "chr.Base\tchr\tbase\tstrand\tcoverage\tfreqC\tfreqT\n",
      "KV918244.1.123137\tKV918244.1\t123137\tF\t3\t100.00\t0.00\n",
      "KV918244.1.123147\tKV918244.1\t123147\tF\t3\t100.00\t0.00\n",
      "KV918244.1.179506\tKV918244.1\t179506\tF\t3\t66.67\t33.33\n",
      "KV918244.1.179515\tKV918244.1\t179515\tF\t3\t66.67\t33.33\n",
      "KV918244.1.179519\tKV918244.1\t179519\tF\t3\t66.67\t33.33\n",
      "KV918244.1.179548\tKV918244.1\t179548\tF\t3\t66.67\t33.33\n",
      "KV918244.1.179557\tKV918244.1\t179557\tF\t3\t66.67\t33.33\n",
      "KV918244.1.179560\tKV918244.1\t179560\tF\t3\t66.67\t33.33\n",
      "KV918244.1.179564\tKV918244.1\t179564\tF\t3\t66.67\t33.33\n"
     ]
    }
   ],
   "source": [
    "for i in (\"HB16_Oil_25000ppm_TTAGGC\",\"HB2_Oil_25000ppm_ATCACG\",\"HB30_Oil_25000ppm_TGACCA\", \"NB11_NoOil_CAGATC\", \"NB3_NoOil_ACAGTG\", \"NB6_NoOil_GCCAAT\"):\n",
    "    !echo {i}\n",
    "    !awk -f ../scripts/mr3x.awk \\\n",
    "    </Volumes/Alanine/wd/17-03-16c/methratio_out_{i}CG.txt> /Volumes/Alanine/wd/17-03-16c/mr3x.{i}.txt\n",
    "    !awk -f ../scripts/mr_gg.awk.sh \\\n",
    "    /Volumes/Alanine/wd/17-03-16c/mr3x.{i}.txt > /Volumes/Alanine/wd/17-03-16c/mkfmt_{i}.txt\n",
    "    !head /Volumes/Alanine/wd/17-03-16c/mkfmt_{i}.txt\n"
   ]
  },
  {
   "cell_type": "code",
   "execution_count": 1,
   "metadata": {
    "collapsed": true
   },
   "outputs": [],
   "source": [
    "setwd(\"/Volumes/Alanine/wd/17-03-16c\")"
   ]
  },
  {
   "cell_type": "code",
   "execution_count": 7,
   "metadata": {
    "collapsed": false
   },
   "outputs": [
    {
     "ename": "ERROR",
     "evalue": "Error in library(methylKit): there is no package called ‘methylKit’\n",
     "output_type": "error",
     "traceback": [
      "Error in library(methylKit): there is no package called ‘methylKit’\n"
     ]
    }
   ],
   "source": [
    "library(methylKit)"
   ]
  },
  {
   "cell_type": "code",
   "execution_count": 6,
   "metadata": {
    "collapsed": false
   },
   "outputs": [
    {
     "name": "stderr",
     "output_type": "stream",
     "text": [
      "https:// URLs are not supported\n",
      "Warning message:\n",
      ": unable to access index for repository https://bioconductor.org/packages/3.2/bioc/src/contribWarning message:\n",
      ": package ‘BiocInstaller’ is not available (for R version 3.2.2)'biocLite.R' failed to install 'BiocInstaller', use\n",
      "  'install.packages(\"BiocInstaller\",\n",
      "  repos=\"https://bioconductor.org/packages/3.1/bioc\")' or\n",
      "  'install.packages(\"BiocInstaller\",\n",
      "  repos=\"http://bioconductor.org/packages/3.1/bioc\")'\n"
     ]
    },
    {
     "ename": "ERROR",
     "evalue": "Error in eval(expr, envir, enclos): could not find function \"biocLite\"\n",
     "output_type": "error",
     "traceback": [
      "Error in eval(expr, envir, enclos): could not find function \"biocLite\"\n"
     ]
    }
   ],
   "source": [
    "source(\"http://bioconductor.org/biocLite.R\")\n",
    "biocLite(\"methylKit\")"
   ]
  },
  {
   "cell_type": "code",
   "execution_count": 10,
   "metadata": {
    "collapsed": false
   },
   "outputs": [
    {
     "name": "stderr",
     "output_type": "stream",
     "text": [
      "Warning message:\n",
      ": unable to access index for repository https://bioconductor.org/packages/3.1/bioc/src/contribWarning message:\n",
      ": package ‘BiocInstaller’ is not available (for R version 3.2.2)"
     ]
    }
   ],
   "source": [
    "install.packages(\"BiocInstaller\",\n",
    "repos=\"https://bioconductor.org/packages/3.1/bioc\")"
   ]
  },
  {
   "cell_type": "code",
   "execution_count": 11,
   "metadata": {
    "collapsed": false
   },
   "outputs": [
    {
     "ename": "ERROR",
     "evalue": "Error in library(methylKit): there is no package called ‘methylKit’\n",
     "output_type": "error",
     "traceback": [
      "Error in library(methylKit): there is no package called ‘methylKit’\n"
     ]
    },
    {
     "ename": "ERROR",
     "evalue": "Error in eval(expr, envir, enclos): could not find function \"read\"\n",
     "output_type": "error",
     "traceback": [
      "Error in eval(expr, envir, enclos): could not find function \"read\"\n"
     ]
    },
    {
     "ename": "ERROR",
     "evalue": "Error in eval(expr, envir, enclos): could not find function \"unite\"\n",
     "output_type": "error",
     "traceback": [
      "Error in eval(expr, envir, enclos): could not find function \"unite\"\n"
     ]
    },
    {
     "ename": "ERROR",
     "evalue": "Error in head(meth): object 'meth' not found\n",
     "output_type": "error",
     "traceback": [
      "Error in head(meth): object 'meth' not found\n"
     ]
    },
    {
     "ename": "ERROR",
     "evalue": "Error in nrow(meth): object 'meth' not found\n",
     "output_type": "error",
     "traceback": [
      "Error in nrow(meth): object 'meth' not found\n"
     ]
    },
    {
     "ename": "ERROR",
     "evalue": "Error in eval(expr, envir, enclos): could not find function \"getCorrelation\"\n",
     "output_type": "error",
     "traceback": [
      "Error in eval(expr, envir, enclos): could not find function \"getCorrelation\"\n"
     ]
    },
    {
     "ename": "ERROR",
     "evalue": "Error in eval(expr, envir, enclos): could not find function \"clusterSamples\"\n",
     "output_type": "error",
     "traceback": [
      "Error in eval(expr, envir, enclos): could not find function \"clusterSamples\"\n"
     ]
    },
    {
     "ename": "ERROR",
     "evalue": "Error in eval(expr, envir, enclos): could not find function \"PCASamples\"\n",
     "output_type": "error",
     "traceback": [
      "Error in eval(expr, envir, enclos): could not find function \"PCASamples\"\n"
     ]
    },
    {
     "ename": "ERROR",
     "evalue": "Error in eval(expr, envir, enclos): could not find function \"PCASamples\"\n",
     "output_type": "error",
     "traceback": [
      "Error in eval(expr, envir, enclos): could not find function \"PCASamples\"\n"
     ]
    },
    {
     "ename": "ERROR",
     "evalue": "Error in eval(expr, envir, enclos): could not find function \"PCASamples\"\n",
     "output_type": "error",
     "traceback": [
      "Error in eval(expr, envir, enclos): could not find function \"PCASamples\"\n"
     ]
    }
   ],
   "source": [
    "setwd(\"/Volumes/Alanine/wd/17-03-16c\")\n",
    "\n",
    "library(methylKit)\n",
    "\n",
    "file.list <- list ('mkfmt_HB16_Oil_25000ppm_TTAGGC.txt',\n",
    "                   'mkfmt_HB2_Oil_25000ppm_ATCACG.txt',\n",
    "                   'mkfmt_HB30_Oil_25000ppm_TGACCA.txt',\n",
    "                   'mkfmt_NB11_NoOil_CAGATC.txt',\n",
    "                   'mkfmt_NB3_NoOil_ACAGTG.txt',\n",
    "                   'mkfmt_NB6_NoOil_GCCAAT.txt'\n",
    ")\n",
    "\n",
    "myobj=read(file.list,sample.id=list(\"1\",\"2\",\"3\",\"4\",\"5\",\"6\"),assembly=\"Cvirg\",treatment=c(0,0,0,1,1,1))\n",
    "\n",
    "\n",
    "meth<-unite(myobj)\n",
    "head(meth)\n",
    "nrow(meth)\n",
    "getCorrelation(meth,plot=F)\n",
    "hc<- clusterSamples(meth, dist=\"correlation\", method=\"ward\", plot=T)\n",
    "PCA<-PCASamples(meth)\n",
    "\n",
    "\n",
    "PCASamples(meth, screeplot=TRUE)\n",
    "PCASamples(meth)"
   ]
  },
  {
   "cell_type": "markdown",
   "metadata": {},
   "source": [
    "<img src=\"http://eagle.fish.washington.edu/cnidarian/skitch/RStudio_1E7C7809.png\" alt=\"RStudio_1E7C7809.png\"/>"
   ]
  },
  {
   "cell_type": "code",
   "execution_count": 12,
   "metadata": {
    "collapsed": false
   },
   "outputs": [
    {
     "ename": "ERROR",
     "evalue": "Error in parse(text = x, srcfile = src): attempt to use zero-length variable name\n",
     "output_type": "error",
     "traceback": [
      "Error in parse(text = x, srcfile = src): attempt to use zero-length variable name\n"
     ]
    }
   ],
   "source": [
    "\n",
    "```\n",
    "DMLobj=read(file.list,sample.id=list(\"HB16_Oil\",\"HB2_Oil\",\"HB30_Oil\",\"NB11_NoOil\",\"NB3_NoOil\",\"NB6_NoOil\"),assembly=\"virg\",treatment=c(1,1,1,0,0,0), context=\"CpG\")\n",
    "lin<-unite(DMLobj)\n",
    "lin.pooled <- pool(lin, sample.ids <- c(\"lin_1\", \"lin_3\"))\n",
    "lin_DML.fisher <- calculateDiffMeth(lin.pooled)\n",
    "select(lin_DML.fisher, 1)\n",
    "lin_DML_p <- getData(lin_DML.fisher)\n",
    "lin_DML_filt <- lin_DML_p[lin_DML_p$pvalue < 0.01 & lin_DML_p$meth.diff > 25,]\n",
    "write.csv(lin_DML_filt,file=\"lin_DML_filt\")\n",
    "\n",
    "```"
   ]
  },
  {
   "cell_type": "code",
   "execution_count": null,
   "metadata": {
    "collapsed": true
   },
   "outputs": [],
   "source": []
  }
 ],
 "metadata": {
  "kernelspec": {
   "display_name": "Python 2",
   "language": "python",
   "name": "python2"
  },
  "language_info": {
   "codemirror_mode": {
    "name": "ipython",
    "version": 2
   },
   "file_extension": ".py",
   "mimetype": "text/x-python",
   "name": "python",
   "nbconvert_exporter": "python",
   "pygments_lexer": "ipython2",
   "version": "2.7.12"
  }
 },
 "nbformat": 4,
 "nbformat_minor": 0
}
