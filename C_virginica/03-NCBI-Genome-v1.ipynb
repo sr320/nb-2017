{
 "cells": [
  {
   "cell_type": "markdown",
   "metadata": {},
   "source": [
    "<img src=\"http://eagle.fish.washington.edu/cnidarian/skitch/C_virginica_1_0_-_Assembly_-_NCBI_1E7B31EB.png\" alt=\"C_virginica_1_0_-_Assembly_-_NCBI_1E7B31EB.png\"/>"
   ]
  },
  {
   "cell_type": "code",
   "execution_count": 1,
   "metadata": {
    "collapsed": false
   },
   "outputs": [
    {
     "name": "stdout",
     "output_type": "stream",
     "text": [
      "00-Cvirg_data.ipynb      02-Cvirg-BS-gigas.ipynb\r\n",
      "01-Cvirg_COGE.ipynb      03-NCBI-Genome-v1.ipynb\r\n"
     ]
    }
   ],
   "source": [
    "ls"
   ]
  },
  {
   "cell_type": "code",
   "execution_count": 2,
   "metadata": {
    "collapsed": true
   },
   "outputs": [],
   "source": [
    "mkdir data"
   ]
  },
  {
   "cell_type": "code",
   "execution_count": 3,
   "metadata": {
    "collapsed": false
   },
   "outputs": [
    {
     "name": "stdout",
     "output_type": "stream",
     "text": [
      "00-Cvirg_data.ipynb      02-Cvirg-BS-gigas.ipynb  \u001b[34mdata\u001b[m\u001b[m/\r\n",
      "01-Cvirg_COGE.ipynb      03-NCBI-Genome-v1.ipynb\r\n"
     ]
    }
   ],
   "source": [
    "ls"
   ]
  },
  {
   "cell_type": "code",
   "execution_count": 4,
   "metadata": {
    "collapsed": false
   },
   "outputs": [
    {
     "name": "stdout",
     "output_type": "stream",
     "text": [
      "/Users/sr320/git-repos/nb-2017/C_virginica/data\n"
     ]
    }
   ],
   "source": [
    "cd data\n"
   ]
  },
  {
   "cell_type": "code",
   "execution_count": 5,
   "metadata": {
    "collapsed": false
   },
   "outputs": [
    {
     "name": "stdout",
     "output_type": "stream",
     "text": [
      "  % Total    % Received % Xferd  Average Speed   Time    Time     Time  Current\n",
      "                                 Dload  Upload   Total   Spent    Left  Speed\n",
      "100  202M  100  202M    0     0  12.2M      0  0:00:16  0:00:16 --:--:-- 14.1M\n"
     ]
    }
   ],
   "source": [
    "!curl -O ftp://ftp.ncbi.nlm.nih.gov/genomes/all/GCA/002/022/765/GCA_002022765.1_C_virginica_1.0/GCA_002022765.1_C_virginica_1.0_genomic.fna.gz"
   ]
  },
  {
   "cell_type": "code",
   "execution_count": 6,
   "metadata": {
    "collapsed": false
   },
   "outputs": [
    {
     "name": "stdout",
     "output_type": "stream",
     "text": [
      ">KV918244.1 Crassostrea virginica isolate RU13XGHG1-28 chromosome 1 unlocalized genomic scaffold LG1_scaffold10_1, whole genome shotgun sequence\r\n",
      "TAAATTGACAGGTCCTCCAGGATGTCAACACGAGAAAAAAGTTGTGGGTCTGCCTTGCGGCTGTTAGTAGACCTGTCAAA\r\n",
      "ATACTGGTCTATGGCGATATAGCTGCCGAGCGGCTTCACGATTTCGTACGGAGGTCTTGTGGCAACCTTACGAAGCCGAG\r\n",
      "ccattttctattcaaaataatgttcatCCGACAGCCATACAGCAGCCCCAATAGTGATGTGAAATAGGCTTAAAGGATTT\r\n",
      "TCTGACGACGTGCAATCGAAGCGAGCTGATTCCAGACGAAATCGCAAACATAATAGAAGGCCCAAAACAGCTGTGGAATG\r\n",
      "ATAGACATAGTACGTTAACCGTACACGCCGCGTGTTGTCCGTCcgaaatatttttctaaaaagacGCTTGCTTGAAACCT\r\n",
      "CTGCGACAATTTTACGAATTGCGGTTGAAAGCCATTTCACAAGGTTGCCATAGAAAAACCATATGCTGGTTGTACATTTA\r\n",
      "TCCTTTCCACAACGAAATATAAATGACTGTGTAAATCCCAGGAGATGACTATTTAGTAATCTTTCACCATTTTCCTCAGC\r\n",
      "CAACCCTACCATAATCAGCAAGTGCATACATAAAAGGAAGGGGGTTGCTTTTTGAAAataggaaattcataattttagat\r\n",
      "ttagtttactctacatgtatatattttaacttgGAGATAAATCcgtataaaattgaaattttgaaaattcctactgcaaa\r\n"
     ]
    }
   ],
   "source": [
    "!head GCA_002022765.1_C_virginica_1.0_genomic.fna"
   ]
  },
  {
   "cell_type": "code",
   "execution_count": null,
   "metadata": {
    "collapsed": true
   },
   "outputs": [],
   "source": []
  }
 ],
 "metadata": {
  "kernelspec": {
   "display_name": "Python 2",
   "language": "python",
   "name": "python2"
  },
  "language_info": {
   "codemirror_mode": {
    "name": "ipython",
    "version": 2
   },
   "file_extension": ".py",
   "mimetype": "text/x-python",
   "name": "python",
   "nbconvert_exporter": "python",
   "pygments_lexer": "ipython2",
   "version": "2.7.12"
  }
 },
 "nbformat": 4,
 "nbformat_minor": 0
}
