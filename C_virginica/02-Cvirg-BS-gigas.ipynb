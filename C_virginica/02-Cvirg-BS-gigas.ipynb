{
 "cells": [
  {
   "cell_type": "code",
   "execution_count": 1,
   "metadata": {
    "collapsed": false
   },
   "outputs": [
    {
     "name": "stdout",
     "output_type": "stream",
     "text": [
      "-rwx------  1 sr320  staff   2.4G Mar 16 08:14 \u001b[31m/Volumes/Alanine/wd/17-03-16b/20150414_trimmed_2112_lane1_NB11_NoOil_CAGATC.fastq.gz\u001b[m\u001b[m*\r\n",
      "-rwx------  1 sr320  staff   961M Mar 16 08:14 \u001b[31m/Volumes/Alanine/wd/17-03-16b/20150414_trimmed_2112_lane1_NB3_NoOil_ACAGTG.fastq.gz\u001b[m\u001b[m*\r\n",
      "-rwx------  1 sr320  staff   1.6G Mar 16 08:15 \u001b[31m/Volumes/Alanine/wd/17-03-16b/20150414_trimmed_2112_lane1_NB6_NoOil_GCCAAT.fastq.gz\u001b[m\u001b[m*\r\n"
     ]
    }
   ],
   "source": [
    "ls -lh /Volumes/Alanine/wd/17-03-16b/20150414_trimmed_2112_lane1_NB*"
   ]
  },
  {
   "cell_type": "code",
   "execution_count": 2,
   "metadata": {
    "collapsed": false
   },
   "outputs": [
    {
     "name": "stdout",
     "output_type": "stream",
     "text": [
      "-rwx------  1 sr320  staff   1.6G Mar 16 08:11 \u001b[31m/Volumes/Alanine/wd/17-03-16b/20150414_trimmed_2112_lane1_HB16_Oil_25000ppm_TTAGGC.fastq.gz\u001b[m\u001b[m*\r\n",
      "-rwx------  1 sr320  staff   2.2G Mar 16 08:12 \u001b[31m/Volumes/Alanine/wd/17-03-16b/20150414_trimmed_2112_lane1_HB2_Oil_25000ppm_ATCACG.fastq.gz\u001b[m\u001b[m*\r\n",
      "-rwx------  1 sr320  staff   217M Mar 16 08:12 \u001b[31m/Volumes/Alanine/wd/17-03-16b/20150414_trimmed_2112_lane1_HB30_Oil_25000ppm_TGACCA.fastq.gz\u001b[m\u001b[m*\r\n"
     ]
    }
   ],
   "source": [
    "ls -lh /Volumes/Alanine/wd/17-03-16b/20150414_trimmed_2112_lane1_HB*"
   ]
  },
  {
   "cell_type": "code",
   "execution_count": 3,
   "metadata": {
    "collapsed": true
   },
   "outputs": [],
   "source": [
    "bsmaploc=\"/Applications/bioinfo/BSMAP/bsmap-2.74/\"\n"
   ]
  },
  {
   "cell_type": "code",
   "execution_count": 4,
   "metadata": {
    "collapsed": false
   },
   "outputs": [
    {
     "name": "stdout",
     "output_type": "stream",
     "text": [
      "  % Total    % Received % Xferd  Average Speed   Time    Time     Time  Current\n",
      "                                 Dload  Upload   Total   Spent    Left  Speed\n",
      "100  148M  100  148M    0     0  4824k      0  0:00:31  0:00:31 --:--:-- 4993k\n",
      "curl: (3) <url> malformed\n"
     ]
    }
   ],
   "source": [
    "!curl -O ftp://ftp.ensemblgenomes.org/pub/metazoa/release-34/fasta/crassostrea_gigas/dna/Crassostrea_gigas.GCA_000297895.1.dna_sm.toplevel.fa.gz \\\n"
   ]
  },
  {
   "cell_type": "code",
   "execution_count": 6,
   "metadata": {
    "collapsed": false
   },
   "outputs": [],
   "source": [
    "mv Crassostrea_gigas.GCA_000297895.1.dna_sm.toplevel.fa.gz /Volumes/Alanine/wd/17-03-16b/Crassostrea_gigas.GCA_000297895.1.dna_sm.toplevel.fa.gz"
   ]
  },
  {
   "cell_type": "code",
   "execution_count": null,
   "metadata": {
    "collapsed": true
   },
   "outputs": [],
   "source": [
    "for i in (\"HB16_Oil_25000ppm_TTAGGC\",\"HB2_Oil_25000ppm_ATCACG\",\"HB30_Oil_25000ppm_TGACCA\", \"NB11_NoOil_CAGATC\", \"NB3_NoOil_ACAGTG\", \"NB6_NoOil_GCCAAT\"):\n",
    "    !{bsmaploc}bsmap \\\n",
    "-a /Volumes/Alanine/wd/17-03-16b/20150414_trimmed_2112_lane1_{i}.fastq.gz \\\n",
    "-d /Volumes/Alanine/wd/17-03-16b/Crassostrea_gigas.GCA_000297895.1.dna_sm.toplevel.fa \\\n",
    "-o /Volumes/Alanine/wd/17-03-16b/bsmap_out_{i}.sam \\\n",
    "-p 2 \\\n",
    "2> /Volumes/Alanine/wd/17-03-16b/stderr_bsmap_{i}.txt"
   ]
  },
  {
   "cell_type": "code",
   "execution_count": null,
   "metadata": {
    "collapsed": true
   },
   "outputs": [],
   "source": []
  }
 ],
 "metadata": {
  "kernelspec": {
   "display_name": "Python 2",
   "language": "python",
   "name": "python2"
  },
  "language_info": {
   "codemirror_mode": {
    "name": "ipython",
    "version": 2
   },
   "file_extension": ".py",
   "mimetype": "text/x-python",
   "name": "python",
   "nbconvert_exporter": "python",
   "pygments_lexer": "ipython2",
   "version": "2.7.12"
  }
 },
 "nbformat": 4,
 "nbformat_minor": 0
}
