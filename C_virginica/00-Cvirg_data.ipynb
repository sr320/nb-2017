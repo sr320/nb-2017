{
 "cells": [
  {
   "cell_type": "code",
   "execution_count": 1,
   "metadata": {
    "collapsed": false
   },
   "outputs": [
    {
     "name": "stdout",
     "output_type": "stream",
     "text": [
      "SeqID\tLibrary_ID\tLibrary_name\tSample-prep_person\tSample-prep_url\tSeqSubmissionDate\tSeqReceiptDate\tPrimary_taxa\tTissue\tMolecule\tPlatform\tLength\tBriefDesc\tSRA_ID\tSRA_Submission_Date\tSRA_Release_Date\tExperiment\tProduct_url\tFileLocation\tURL\tFileLocation2\tURL2\r",
      "\r\n",
      "1_ATCACG_L001\t108\t1NF11\tSJW\thttp://onsnetwork.org/kubu4/category/olympia-oyster-reciprocal-transplant/bs-seq-libraries-for-genewiz/\t12/22/2015\t1/8/16\tO_lurida\ttissue\tDNA\tIllumina\tSE50\tBS-seq\t\t\t\tOly reciprocal transplant BSseq\t\t/Volumes/web/nightingales/O_lurida/1_ATCACG_L001_R1_001.fastq.gz\thttp://owl.fish.washington.edu/nightingales/O_lurida/1_ATCACG_L001_R1_001.fastq.gz\t\t\r",
      "\r\n",
      "10_TAGCTT_L001\t119\tM3\tSJW\thttp://onsnetwork.org/kubu4/category/olympia-oyster-reciprocal-transplant/bs-seq-libraries-for-genewiz/\t12/22/2015\t1/8/16\tC_gigas\ttissue\tDNA\tIllumina\tSE50\tBS-seq\t\t\t\tLotterhos BSseq\t\t/Volumes/web/nightingales/C_gigas/10_TAGCTT_L001_R1_001.fastq.gz\thttp://owl.fish.washington.edu/nightingales/C_gigas/10_TAGCTT_L001_R1_001.fastq.gz\t\t\r",
      "\r\n",
      "11_GGCTAC_L001\t116\tNF2_6\tSJW\thttp://onsnetwork.org/kubu4/category/olympia-oyster-reciprocal-transplant/bs-seq-libraries-for-genewiz/\t12/22/2015\t1/8/16\tO_lurida\ttissue\tDNA\tIllumina\tSE50\tBS-seq\t\t\t\tLotterhos BSseq\t\t/Volumes/web/nightingales/O_lurida/11_GGCTAC_L001_R1_001.fastq.gz\thttp://owl.fish.washington.edu/nightingales/O_lurida/11_GGCTAC_L001_R1_001.fastq.gz\t\t\r",
      "\r\n",
      "12_CTTGTA_L001\t117\tNF_18\tSJW\thttp://onsnetwork.org/kubu4/category/olympia-oyster-reciprocal-transplant/bs-seq-libraries-for-genewiz/\t12/22/2015\t1/8/16\tO_lurida\ttissue\tDNA\tIllumina\tSE50\tBS-seq\t\t\t\tLotterhos BSseq\t\t/Volumes/web/nightingales/O_lurida/12_CTTGTA_L001_R1_001.fastq.gz\thttp://owl.fish.washington.edu/nightingales/O_lurida/12_CTTGTA_L001_R1_001.fastq.gz\t\t\r",
      "\r\n",
      "136All\t\t\t\t\t6/29/11\t\tS_namaycush\tmuscle\tDNA\t454\t\t\t\t\t\t\t\t/Volumes/web/nightingales/S_maycush/136All.tar.gz\thttp://owl.fish.washington.edu/nightingales/S_maycush/136All.tar.gz\t\t\r",
      "\r\n",
      "137All\t\t\t\t\t6/29/11\t\tS_namaycush\tmuscle\tDNA\t454\t\t\t\t\t\t\t\t/Volumes/web/nightingales/S_maycush/137All.tar.gz\thttp://owl.fish.washington.edu/nightingales/S_maycush/137All.tar.gz\t\t\r",
      "\r\n",
      "151114_I191_FCH3Y35BCXX_L1_wHAIPI023992-37\t127\twHAIPI023992_37\t\t\t1/26/16\t\tO_lurida\tmantle\tDNA\tIllumina\tPE150\tgenome sequencing\tSRP072461\t/Volumes/web/nightingales/O_lurida/151114_I191_FCH3Y35BCXX_L1_wHAIPI023992-37\t\tgenome sequencing\t\t/Volumes/web/nightingales/O_lurida/151114_I191_FCH3Y35BCXX_L1_wHAIPI023992-37_1.fq.gz\thttp://owl.fish.washington.edu/nightingales/O_lurida/151114_I191_FCH3Y35BCXX_L1_wHAIPI023992-37_1.fq.gz\t/Volumes/web/nightingales/O_lurida/151114_I191_FCH3Y35BCXX_L1_wHAIPI023992-37_2.fq.gz\thttp://owl.fish.washington.edu/nightingales/O_lurida/151114_I191_FCH3Y35BCXX_L1_wHAIPI023992-37_2.fq.gz\r",
      "\r\n",
      "151114_I191_FCH3Y35BCXX_L2_wHAMPI023988-81\t122\twHAMPI023988_81\t\t\t1/26/16\t\tP_generosa\tctenidia, foot\tDNA\tIllumina\tPE150\tgenome sequencing\tSRP072453\t/Volumes/web/nightingales/P_generosa/2bRAD_Dec2015/151114_I191_FCH3Y35BCXX_L2_wHAMPI023988-81\t\tgenome sequencing\t\t/Volumes/web/nightingales/P_generosa/151114_I191_FCH3Y35BCXX_L2_wHAMPI023988-81_1.fq.gz\thttp://owl.fish.washington.edu/nightingales/P_generosa/151114_I191_FCH3Y35BCXX_L2_wHAMPI023988-81_1.fq.gz\t/Volumes/web/nightingales/P_generosa/151114_I191_FCH3Y35BCXX_L2_wHAMPI023988-81_2.fq.gz\thttp://owl.fish.washington.edu/nightingales/P_generosa/151114_I191_FCH3Y35BCXX_L2_wHAMPI023988-81_2.fq.gz\r",
      "\r\n",
      "151114_I191_FCH3Y35BCXX_L2_wHAMPI023991-66\t128\twHAMPI023991_66\t\t\t1/26/16\t\tO_lurida\tmantle\tDNA\tIllumina\tPE150\tgenome sequencing\tSRP072461\t/Volumes/web/nightingales/O_lurida/151114_I191_FCH3Y35BCXX_L2_wHAMPI023991-66\t\tgenome sequencing\t\t/Volumes/web/nightingales/O_lurida/151114_I191_FCH3Y35BCXX_L2_wHAMPI023991-66_1.fq.gz\thttp://owl.fish.washington.edu/nightingales/O_lurida/151114_I191_FCH3Y35BCXX_L2_wHAMPI023991-66_1.fq.gz\t/Volumes/web/nightingales/O_lurida/151114_I191_FCH3Y35BCXX_L2_wHAMPI023991-66_2.fq.gz\thttp://owl.fish.washington.edu/nightingales/O_lurida/151114_I191_FCH3Y35BCXX_L2_wHAMPI023991-66_2.fq.gz\r",
      "\r\n"
     ]
    }
   ],
   "source": [
    "!head /Users/sr320/git-repos/LabDocs/Nightingales\\ -\\ master.tsv"
   ]
  },
  {
   "cell_type": "code",
   "execution_count": 2,
   "metadata": {
    "collapsed": false
   },
   "outputs": [
    {
     "name": "stdout",
     "output_type": "stream",
     "text": [
      "2112_lane1_ACAGTG_L001\t92\tNB3\tSJW\thttp://onsnetwork.org/kubu4/category/lsu-c-virginica-oil-spill-mbd-bs-sequencing/\t12/22/2014\t2/10/2015\tC_virginica\tgill\tDNA\tIllumina\tSE100\tBS-seq\t\t\t\tNB3 No oil\t\t/Volumes/web/nightingales/C_virginica/2112_lane1_ACAGTG_L001_R1_001.fastq.gz\thttp://owl.fish.washington.edu/nightingales/C_virginica/2112_lane1_ACAGTG_L001_R1_001.fastq.gz\t\t\r",
      "\r\n",
      "2112_lane1_ATCACG_L001\t95\tHB2\tSJW\thttp://onsnetwork.org/kubu4/category/lsu-c-virginica-oil-spill-mbd-bs-sequencing/\t12/22/2014\t2/10/2015\tC_virginica\tgill\tDNA\tIllumina\tSE100\tBS-seq\t\t\t\tHB2 25,000ppm oil\t\t/Volumes/web/nightingales/C_virginica/2112_lane1_ATCACG_L001_R1_001.fastq.gz\thttp://owl.fish.washington.edu/nightingales/C_virginica/2112_lane1_ATCACG_L001_R1_001.fastq.gz\t\t\r",
      "\r\n",
      "2112_lane1_CAGATC_L001\t94\tNB11\tSJW\thttp://onsnetwork.org/kubu4/category/lsu-c-virginica-oil-spill-mbd-bs-sequencing/\t12/22/2014\t2/10/2015\tC_virginica\tgill\tDNA\tIllumina\tSE100\tBS-seq\t\t\t\tNB11 No oil\t\t/Volumes/web/nightingales/C_virginica/2112_lane1_CAGATC_L001_R1_001.fastq.gz\thttp://owl.fish.washington.edu/nightingales/C_virginica/2112_lane1_CAGATC_L001_R1_001.fastq.gz\t\t\r",
      "\r\n",
      "2112_lane1_GCCAAT_L001\t93\tNB6\tSJW\thttp://onsnetwork.org/kubu4/category/lsu-c-virginica-oil-spill-mbd-bs-sequencing/\t12/22/2014\t2/10/2015\tC_virginica\tgill\tDNA\tIllumina\tSE100\tBS-seq\t\t\t\tNB6 No oil\t\t/Volumes/web/nightingales/C_virginica/2112_lane1_GCCAAT_L001_R1_001.fastq.gz\thttp://owl.fish.washington.edu/nightingales/C_virginica/2112_lane1_GCCAAT_L001_R1_001.fastq.gz\t\t\r",
      "\r\n",
      "2112_lane1_TGACCA_L001\t97\tHB30\tSJW\thttp://onsnetwork.org/kubu4/category/lsu-c-virginica-oil-spill-mbd-bs-sequencing/\t12/22/2014\t2/10/2015\tC_virginica\tgill\tDNA\tIllumina\tSE100\tBS-seq\t\t\t\tHB30 25,000ppm oil\t\t/Volumes/web/nightingales/C_virginica/2112_lane1_TGACCA_L001_R1_001.fastq.gz\thttp://owl.fish.washington.edu/nightingales/C_virginica/2112_lane1_TGACCA_L001_R1_001.fastq.gz\t\t\r",
      "\r\n",
      "2112_lane1_TTAGGC_L001\t96\tHB16\tSJW\thttp://onsnetwork.org/kubu4/category/lsu-c-virginica-oil-spill-mbd-bs-sequencing/\t12/22/2014\t2/10/2015\tC_virginica\tgill\tDNA\tIllumina\tSE100\tBS-seq\t\t\t\tHB16 25,000ppm oil\t\t/Volumes/web/nightingales/C_virginica/2112_lane1_TTAGGC_L001_R1_001.fastq.gz\thttp://owl.fish.washington.edu/nightingales/C_virginica/2112_lane1_TTAGGC_L001_R1_001.fastq.gz\t\t\r",
      "\r\n"
     ]
    }
   ],
   "source": [
    "!fgrep \"C_virginica\" /Users/sr320/git-repos/LabDocs/Nightingales\\ -\\ master.tsv"
   ]
  },
  {
   "cell_type": "code",
   "execution_count": 3,
   "metadata": {
    "collapsed": false
   },
   "outputs": [
    {
     "name": "stdout",
     "output_type": "stream",
     "text": [
      "       6\r\n"
     ]
    }
   ],
   "source": [
    "!fgrep \"C_virginica\" /Users/sr320/git-repos/LabDocs/Nightingales\\ -\\ master.tsv | wc -l"
   ]
  },
  {
   "cell_type": "code",
   "execution_count": 4,
   "metadata": {
    "collapsed": false
   },
   "outputs": [
    {
     "name": "stdout",
     "output_type": "stream",
     "text": [
      "\u001b[31m2112_lane1_ACAGTG_L001_R1_001.fastq.gz\u001b[m\u001b[m  \u001b[31m2112_lane1_NoIndex_L001_R1_006.fastq.gz\u001b[m\u001b[m\r\n",
      "\u001b[31m2112_lane1_ACAGTG_L001_R1_002.fastq.gz\u001b[m\u001b[m  \u001b[31m2112_lane1_NoIndex_L001_R1_007.fastq.gz\u001b[m\u001b[m\r\n",
      "\u001b[31m2112_lane1_ATCACG_L001_R1_001.fastq.gz\u001b[m\u001b[m  \u001b[31m2112_lane1_NoIndex_L001_R1_008.fastq.gz\u001b[m\u001b[m\r\n",
      "\u001b[31m2112_lane1_ATCACG_L001_R1_002.fastq.gz\u001b[m\u001b[m  \u001b[31m2112_lane1_NoIndex_L001_R1_009.fastq.gz\u001b[m\u001b[m\r\n",
      "\u001b[31m2112_lane1_ATCACG_L001_R1_003.fastq.gz\u001b[m\u001b[m  \u001b[31m2112_lane1_NoIndex_L001_R1_010.fastq.gz\u001b[m\u001b[m\r\n",
      "\u001b[31m2112_lane1_CAGATC_L001_R1_001.fastq.gz\u001b[m\u001b[m  \u001b[31m2112_lane1_NoIndex_L001_R1_011.fastq.gz\u001b[m\u001b[m\r\n",
      "\u001b[31m2112_lane1_CAGATC_L001_R1_002.fastq.gz\u001b[m\u001b[m  \u001b[31m2112_lane1_NoIndex_L001_R1_012.fastq.gz\u001b[m\u001b[m\r\n",
      "\u001b[31m2112_lane1_CAGATC_L001_R1_003.fastq.gz\u001b[m\u001b[m  \u001b[31m2112_lane1_NoIndex_L001_R1_013.fastq.gz\u001b[m\u001b[m\r\n",
      "\u001b[31m2112_lane1_GCCAAT_L001_R1_001.fastq.gz\u001b[m\u001b[m  \u001b[31m2112_lane1_NoIndex_L001_R1_014.fastq.gz\u001b[m\u001b[m\r\n",
      "\u001b[31m2112_lane1_GCCAAT_L001_R1_002.fastq.gz\u001b[m\u001b[m  \u001b[31m2112_lane1_NoIndex_L001_R1_015.fastq.gz\u001b[m\u001b[m\r\n",
      "\u001b[31m2112_lane1_NoIndex_L001_R1_001.fastq.gz\u001b[m\u001b[m \u001b[31m2112_lane1_TGACCA_L001_R1_001.fastq.gz\u001b[m\u001b[m\r\n",
      "\u001b[31m2112_lane1_NoIndex_L001_R1_002.fastq.gz\u001b[m\u001b[m \u001b[31m2112_lane1_TTAGGC_L001_R1_001.fastq.gz\u001b[m\u001b[m\r\n",
      "\u001b[31m2112_lane1_NoIndex_L001_R1_003.fastq.gz\u001b[m\u001b[m \u001b[31m2112_lane1_TTAGGC_L001_R1_002.fastq.gz\u001b[m\u001b[m\r\n",
      "\u001b[31m2112_lane1_NoIndex_L001_R1_004.fastq.gz\u001b[m\u001b[m \u001b[31mchecksums.md5\u001b[m\u001b[m\r\n",
      "\u001b[31m2112_lane1_NoIndex_L001_R1_005.fastq.gz\u001b[m\u001b[m \u001b[31mreadme.md\u001b[m\u001b[m\r\n"
     ]
    }
   ],
   "source": [
    "!ls /Volumes/web/nightingales/C_virginica"
   ]
  },
  {
   "cell_type": "code",
   "execution_count": 5,
   "metadata": {
    "collapsed": true
   },
   "outputs": [],
   "source": [
    "!cp /Volumes/web/nightingales/C_virginica/2112_lane1_A* \\\n",
    "/Volumes/Alanine/wd/17-03-16b/"
   ]
  },
  {
   "cell_type": "code",
   "execution_count": 6,
   "metadata": {
    "collapsed": true
   },
   "outputs": [],
   "source": [
    "!cp /Volumes/web/nightingales/C_virginica/2112_lane1_C* \\\n",
    "/Volumes/Alanine/wd/17-03-16b/"
   ]
  },
  {
   "cell_type": "code",
   "execution_count": 7,
   "metadata": {
    "collapsed": true
   },
   "outputs": [],
   "source": [
    "!cp /Volumes/web/nightingales/C_virginica/2112_lane1_G* \\\n",
    "/Volumes/Alanine/wd/17-03-16b/"
   ]
  },
  {
   "cell_type": "code",
   "execution_count": 8,
   "metadata": {
    "collapsed": true
   },
   "outputs": [],
   "source": [
    "!cp /Volumes/web/nightingales/C_virginica/2112_lane1_T* \\\n",
    "/Volumes/Alanine/wd/17-03-16b/"
   ]
  },
  {
   "cell_type": "code",
   "execution_count": 10,
   "metadata": {
    "collapsed": false
   },
   "outputs": [
    {
     "name": "stdout",
     "output_type": "stream",
     "text": [
      "cp: /Volumes/web-1/Arabidopsis/20150414_trimmed_2112_lane1_ACAGTG_L001_R1_001_fastqc is a directory (not copied).\n",
      "cp: /Volumes/web-1/Arabidopsis/20150414_trimmed_2112_lane1_ACAGTG_L001_R1_002_fastqc is a directory (not copied).\n",
      "cp: /Volumes/web-1/Arabidopsis/20150414_trimmed_2112_lane1_ATCACG_L001_R1_001_fastqc is a directory (not copied).\n",
      "cp: /Volumes/web-1/Arabidopsis/20150414_trimmed_2112_lane1_ATCACG_L001_R1_002_fastqc is a directory (not copied).\n",
      "cp: /Volumes/web-1/Arabidopsis/20150414_trimmed_2112_lane1_ATCACG_L001_R1_003_fastqc is a directory (not copied).\n",
      "cp: /Volumes/web-1/Arabidopsis/20150414_trimmed_2112_lane1_ATCACG_L001_R1_003_fastqc 2 is a directory (not copied).\n",
      "cp: /Volumes/web-1/Arabidopsis/20150414_trimmed_2112_lane1_CAGATC_L001_R1_001_fastqc is a directory (not copied).\n",
      "cp: /Volumes/web-1/Arabidopsis/20150414_trimmed_2112_lane1_CAGATC_L001_R1_002_fastqc is a directory (not copied).\n",
      "cp: /Volumes/web-1/Arabidopsis/20150414_trimmed_2112_lane1_CAGATC_L001_R1_003_fastqc is a directory (not copied).\n",
      "cp: /Volumes/web-1/Arabidopsis/20150414_trimmed_2112_lane1_GCCAAT_L001_R1_001_fastqc is a directory (not copied).\n",
      "cp: /Volumes/web-1/Arabidopsis/20150414_trimmed_2112_lane1_GCCAAT_L001_R1_002_fastqc is a directory (not copied).\n",
      "cp: /Volumes/web-1/Arabidopsis/20150414_trimmed_2112_lane1_TGACCA_L001_R1_001_fastqc is a directory (not copied).\n",
      "cp: /Volumes/web-1/Arabidopsis/20150414_trimmed_2112_lane1_TTAGGC_L001_R1_001_fastqc is a directory (not copied).\n",
      "cp: /Volumes/web-1/Arabidopsis/20150414_trimmed_2112_lane1_TTAGGC_L001_R1_002_fastqc is a directory (not copied).\n",
      "cp: /Volumes/web-1/Arabidopsis/20150414_trimmed_2212_lane2_CTTGTA_L002_R1_001_fastqc is a directory (not copied).\n",
      "cp: /Volumes/web-1/Arabidopsis/20150414_trimmed_2212_lane2_CTTGTA_L002_R1_002_fastqc is a directory (not copied).\n",
      "cp: /Volumes/web-1/Arabidopsis/20150414_trimmed_2212_lane2_CTTGTA_L002_R1_003_fastqc is a directory (not copied).\n",
      "cp: /Volumes/web-1/Arabidopsis/20150414_trimmed_2212_lane2_CTTGTA_L002_R1_004_fastqc is a directory (not copied).\n",
      "cp: /Volumes/web-1/Arabidopsis/20150414_trimmed_2212_lane2_GCCAAT_L002_R1_001_fastqc is a directory (not copied).\n",
      "cp: /Volumes/web-1/Arabidopsis/20150414_trimmed_2212_lane2_GCCAAT_L002_R1_002_fastqc is a directory (not copied).\n",
      "cp: /Volumes/web-1/Arabidopsis/20150414_trimmed_2212_lane2_GCCAAT_L002_R1_003_fastqc is a directory (not copied).\n",
      "cp: /Volumes/web-1/Arabidopsis/20150414_trimmed_2212_lane2_GCCAAT_L002_R1_004_fastqc is a directory (not copied).\n",
      "cp: /Volumes/web-1/Arabidopsis/20150414_trimmed_2212_lane2_GCCAAT_L002_R1_005_fastqc is a directory (not copied).\n",
      "cp: /Volumes/web-1/Arabidopsis/20150414_trimmed_2212_lane2_GCCAAT_L002_R1_006_fastqc is a directory (not copied).\n"
     ]
    }
   ],
   "source": [
    "!cp /Volumes/web-1/Arabidopsis/20150414* \\\n",
    "/Volumes/Alanine/wd/17-03-16b/"
   ]
  },
  {
   "cell_type": "code",
   "execution_count": 16,
   "metadata": {
    "collapsed": false
   },
   "outputs": [
    {
     "name": "stdout",
     "output_type": "stream",
     "text": [
      "-rwx------  1 sr320  staff   2.4G Mar 16 08:14 \u001b[31m/Volumes/Alanine/wd/17-03-16b/20150414_trimmed_2112_lane1_NB11_NoOil_CAGATC.fastq.gz\u001b[m\u001b[m*\r\n",
      "-rwx------  1 sr320  staff   961M Mar 16 08:14 \u001b[31m/Volumes/Alanine/wd/17-03-16b/20150414_trimmed_2112_lane1_NB3_NoOil_ACAGTG.fastq.gz\u001b[m\u001b[m*\r\n",
      "-rwx------  1 sr320  staff   1.6G Mar 16 08:15 \u001b[31m/Volumes/Alanine/wd/17-03-16b/20150414_trimmed_2112_lane1_NB6_NoOil_GCCAAT.fastq.gz\u001b[m\u001b[m*\r\n"
     ]
    }
   ],
   "source": [
    "ls -lh /Volumes/Alanine/wd/17-03-16b/20150414_trimmed_2112_lane1_NB*"
   ]
  },
  {
   "cell_type": "code",
   "execution_count": 17,
   "metadata": {
    "collapsed": false
   },
   "outputs": [
    {
     "name": "stdout",
     "output_type": "stream",
     "text": [
      "-rwx------  1 sr320  staff   1.6G Mar 16 08:11 \u001b[31m/Volumes/Alanine/wd/17-03-16b/20150414_trimmed_2112_lane1_HB16_Oil_25000ppm_TTAGGC.fastq.gz\u001b[m\u001b[m*\r\n",
      "-rwx------  1 sr320  staff   2.2G Mar 16 08:12 \u001b[31m/Volumes/Alanine/wd/17-03-16b/20150414_trimmed_2112_lane1_HB2_Oil_25000ppm_ATCACG.fastq.gz\u001b[m\u001b[m*\r\n",
      "-rwx------  1 sr320  staff   217M Mar 16 08:12 \u001b[31m/Volumes/Alanine/wd/17-03-16b/20150414_trimmed_2112_lane1_HB30_Oil_25000ppm_TGACCA.fastq.gz\u001b[m\u001b[m*\r\n"
     ]
    }
   ],
   "source": [
    "ls -lh /Volumes/Alanine/wd/17-03-16b/20150414_trimmed_2112_lane1_HB*"
   ]
  },
  {
   "cell_type": "code",
   "execution_count": null,
   "metadata": {
    "collapsed": true
   },
   "outputs": [],
   "source": []
  }
 ],
 "metadata": {
  "kernelspec": {
   "display_name": "Python 2",
   "language": "python",
   "name": "python2"
  },
  "language_info": {
   "codemirror_mode": {
    "name": "ipython",
    "version": 2
   },
   "file_extension": ".py",
   "mimetype": "text/x-python",
   "name": "python",
   "nbconvert_exporter": "python",
   "pygments_lexer": "ipython2",
   "version": "2.7.12"
  }
 },
 "nbformat": 4,
 "nbformat_minor": 0
}
