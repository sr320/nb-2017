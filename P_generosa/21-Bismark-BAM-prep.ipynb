{
 "cells": [
  {
   "cell_type": "code",
   "execution_count": 5,
   "metadata": {
    "collapsed": false
   },
   "outputs": [
    {
     "name": "stdout",
     "output_type": "stream",
     "text": [
      "\u001b[31m/Volumes/Alanine/wd/17-06-16/EPI-103_S27_L005_R1_001_val_1_bismark_bt2_pe.bam\u001b[m\u001b[m\r\n",
      "/Volumes/Alanine/wd/17-06-16/EPI-103_S27_L005_R1_001_val_1_bismark_bt2_pe.sorted.bam\r\n",
      "\u001b[31m/Volumes/Alanine/wd/17-06-16/EPI-104_S28_L005_R1_001_val_1_bismark_bt2_pe.bam\u001b[m\u001b[m\r\n",
      "\u001b[31m/Volumes/Alanine/wd/17-06-16/EPI-111_S29_L005_R1_001_val_1_bismark_bt2_pe.bam\u001b[m\u001b[m\r\n",
      "\u001b[31m/Volumes/Alanine/wd/17-06-16/EPI-113_S30_L005_R1_001_val_1_bismark_bt2_pe.bam\u001b[m\u001b[m\r\n",
      "\u001b[31m/Volumes/Alanine/wd/17-06-16/EPI-119_S31_L005_R1_001_val_1_bismark_bt2_pe.bam\u001b[m\u001b[m\r\n",
      "\u001b[31m/Volumes/Alanine/wd/17-06-16/EPI-120_S32_L005_R1_001_val_1_bismark_bt2_pe.bam\u001b[m\u001b[m\r\n",
      "\u001b[31m/Volumes/Alanine/wd/17-06-16/EPI-127_S33_L005_R1_001_val_1_bismark_bt2_pe.bam\u001b[m\u001b[m\r\n",
      "\u001b[31m/Volumes/Alanine/wd/17-06-16/EPI-128_S34_L005_R1_001_val_1_bismark_bt2_pe.bam\u001b[m\u001b[m\r\n",
      "\u001b[31m/Volumes/Alanine/wd/17-06-16/EPI-135WG_S42_L005_R1_001_val_1_bismark_bt2_pe.bam\u001b[m\u001b[m\r\n",
      "\u001b[31m/Volumes/Alanine/wd/17-06-16/EPI-135_S35_L005_R1_001_val_1_bismark_bt2_pe.bam\u001b[m\u001b[m\r\n",
      "\u001b[31m/Volumes/Alanine/wd/17-06-16/EPI-136_S36_L005_R1_001_val_1_bismark_bt2_pe.bam\u001b[m\u001b[m\r\n",
      "\u001b[31m/Volumes/Alanine/wd/17-06-16/EPI-143_S37_L005_R1_001_val_1_bismark_bt2_pe.bam\u001b[m\u001b[m\r\n",
      "\u001b[31m/Volumes/Alanine/wd/17-06-16/EPI-145_S38_L005_R1_001_val_1_bismark_bt2_pe.bam\u001b[m\u001b[m\r\n"
     ]
    }
   ],
   "source": [
    "!ls /Volumes/Alanine/wd/17-06-16/*.bam"
   ]
  },
  {
   "cell_type": "code",
   "execution_count": 3,
   "metadata": {
    "collapsed": false
   },
   "outputs": [
    {
     "name": "stdout",
     "output_type": "stream",
     "text": [
      "[bam_sort_core] merging from 3 files...\r\n"
     ]
    }
   ],
   "source": [
    "!samtools sort /Volumes/Alanine/wd/17-06-16/EPI-103_S27_L005_R1_001_val_1_bismark_bt2_pe.bam \\\n",
    "> /Volumes/Alanine/wd/17-06-16/EPI-103_S27_L005_R1_001_val_1_bismark_bt2_pe.sorted.bam"
   ]
  },
  {
   "cell_type": "code",
   "execution_count": 4,
   "metadata": {
    "collapsed": true
   },
   "outputs": [],
   "source": [
    "!samtools index /Volumes/Alanine/wd/17-06-16/EPI-103_S27_L005_R1_001_val_1_bismark_bt2_pe.sorted.bam"
   ]
  },
  {
   "cell_type": "code",
   "execution_count": 6,
   "metadata": {
    "collapsed": false
   },
   "outputs": [
    {
     "name": "stdout",
     "output_type": "stream",
     "text": [
      "[bam_sort_core] merging from 5 files...\r\n"
     ]
    }
   ],
   "source": [
    "!samtools sort /Volumes/Alanine/wd/17-06-16/EPI-104_S28_L005_R1_001_val_1_bismark_bt2_pe.bam \\\n",
    "> /Volumes/Alanine/wd/17-06-16/EPI-104_S28_L005_R1_001_val_1_bismark_bt2_pe.sorted.bam\n",
    "!samtools index /Volumes/Alanine/wd/17-06-16/EPI-104_S28_L005_R1_001_val_1_bismark_bt2_pe.sorted.bam"
   ]
  },
  {
   "cell_type": "code",
   "execution_count": 7,
   "metadata": {
    "collapsed": false
   },
   "outputs": [
    {
     "name": "stdout",
     "output_type": "stream",
     "text": [
      "[bam_sort_core] merging from 5 files...\r\n"
     ]
    }
   ],
   "source": [
    "!samtools sort /Volumes/Alanine/wd/17-06-16/EPI-111_S29_L005_R1_001_val_1_bismark_bt2_pe.bam \\\n",
    "> /Volumes/Alanine/wd/17-06-16/EPI-111_S29_L005_R1_001_val_1_bismark_bt2_pe.sorted.bam\n",
    "!samtools index /Volumes/Alanine/wd/17-06-16/EPI-111_S29_L005_R1_001_val_1_bismark_bt2_pe.sorted.bam"
   ]
  },
  {
   "cell_type": "code",
   "execution_count": 8,
   "metadata": {
    "collapsed": false
   },
   "outputs": [
    {
     "name": "stdout",
     "output_type": "stream",
     "text": [
      "[bam_sort_core] merging from 4 files...\r\n"
     ]
    }
   ],
   "source": [
    "!samtools sort /Volumes/Alanine/wd/17-06-16/EPI-113_S30_L005_R1_001_val_1_bismark_bt2_pe.bam \\\n",
    "> /Volumes/Alanine/wd/17-06-16/EPI-113_S30_L005_R1_001_val_1_bismark_bt2_pe.sorted.bam\n",
    "!samtools index /Volumes/Alanine/wd/17-06-16/EPI-113_S30_L005_R1_001_val_1_bismark_bt2_pe.sorted.bam"
   ]
  },
  {
   "cell_type": "code",
   "execution_count": 9,
   "metadata": {
    "collapsed": false
   },
   "outputs": [
    {
     "name": "stdout",
     "output_type": "stream",
     "text": [
      "[bam_sort_core] merging from 4 files...\r\n"
     ]
    }
   ],
   "source": [
    "!samtools sort /Volumes/Alanine/wd/17-06-16/EPI-119_S31_L005_R1_001_val_1_bismark_bt2_pe.bam \\\n",
    "> /Volumes/Alanine/wd/17-06-16/EPI-119_S31_L005_R1_001_val_1_bismark_bt2_pe.sorted.bam\n",
    "!samtools index /Volumes/Alanine/wd/17-06-16/EPI-119_S31_L005_R1_001_val_1_bismark_bt2_pe.sorted.bam"
   ]
  },
  {
   "cell_type": "code",
   "execution_count": 10,
   "metadata": {
    "collapsed": false
   },
   "outputs": [
    {
     "name": "stdout",
     "output_type": "stream",
     "text": [
      "[bam_sort_core] merging from 4 files...\r\n"
     ]
    }
   ],
   "source": [
    "!samtools sort /Volumes/Alanine/wd/17-06-16/EPI-120_S32_L005_R1_001_val_1_bismark_bt2_pe.bam \\\n",
    "> /Volumes/Alanine/wd/17-06-16/EPI-120_S32_L005_R1_001_val_1_bismark_bt2_pe.sorted.bam\n",
    "!samtools index /Volumes/Alanine/wd/17-06-16/EPI-120_S32_L005_R1_001_val_1_bismark_bt2_pe.sorted.bam"
   ]
  },
  {
   "cell_type": "code",
   "execution_count": 11,
   "metadata": {
    "collapsed": false
   },
   "outputs": [
    {
     "name": "stdout",
     "output_type": "stream",
     "text": [
      "[bam_sort_core] merging from 4 files...\r\n"
     ]
    }
   ],
   "source": [
    "!samtools sort /Volumes/Alanine/wd/17-06-16/EPI-127_S33_L005_R1_001_val_1_bismark_bt2_pe.bam \\\n",
    "> /Volumes/Alanine/wd/17-06-16/EPI-127_S33_L005_R1_001_val_1_bismark_bt2_pe.sorted.bam\n",
    "!samtools index /Volumes/Alanine/wd/17-06-16/EPI-127_S33_L005_R1_001_val_1_bismark_bt2_pe.sorted.bam"
   ]
  },
  {
   "cell_type": "code",
   "execution_count": 12,
   "metadata": {
    "collapsed": false
   },
   "outputs": [
    {
     "name": "stdout",
     "output_type": "stream",
     "text": [
      "[bam_sort_core] merging from 4 files...\r\n"
     ]
    }
   ],
   "source": [
    "!samtools sort /Volumes/Alanine/wd/17-06-16/EPI-128_S34_L005_R1_001_val_1_bismark_bt2_pe.bam \\\n",
    "> /Volumes/Alanine/wd/17-06-16/EPI-128_S34_L005_R1_001_val_1_bismark_bt2_pe.sorted.bam\n",
    "!samtools index /Volumes/Alanine/wd/17-06-16/EPI-128_S34_L005_R1_001_val_1_bismark_bt2_pe.sorted.bam"
   ]
  },
  {
   "cell_type": "code",
   "execution_count": 13,
   "metadata": {
    "collapsed": false
   },
   "outputs": [
    {
     "name": "stdout",
     "output_type": "stream",
     "text": [
      "[bam_sort_core] merging from 24 files...\r\n"
     ]
    }
   ],
   "source": [
    "!samtools sort /Volumes/Alanine/wd/17-06-16/EPI-135WG_S42_L005_R1_001_val_1_bismark_bt2_pe.bam \\\n",
    "> /Volumes/Alanine/wd/17-06-16/EPI-135WG_S42_L005_R1_001_val_1_bismark_bt2_pe.sorted.bam\n",
    "!samtools index /Volumes/Alanine/wd/17-06-16/EPI-135WG_S42_L005_R1_001_val_1_bismark_bt2_pe.sorted.bam"
   ]
  },
  {
   "cell_type": "code",
   "execution_count": 14,
   "metadata": {
    "collapsed": false
   },
   "outputs": [
    {
     "name": "stdout",
     "output_type": "stream",
     "text": [
      "[bam_sort_core] merging from 5 files...\r\n"
     ]
    }
   ],
   "source": [
    "!samtools sort /Volumes/Alanine/wd/17-06-16/EPI-135_S35_L005_R1_001_val_1_bismark_bt2_pe.bam \\\n",
    "> /Volumes/Alanine/wd/17-06-16/EPI-135_S35_L005_R1_001_val_1_bismark_bt2_pe.sorted.bam\n",
    "!samtools index /Volumes/Alanine/wd/17-06-16/EPI-135_S35_L005_R1_001_val_1_bismark_bt2_pe.sorted.bam"
   ]
  },
  {
   "cell_type": "code",
   "execution_count": 15,
   "metadata": {
    "collapsed": false
   },
   "outputs": [
    {
     "name": "stdout",
     "output_type": "stream",
     "text": [
      "[bam_sort_core] merging from 4 files...\r\n"
     ]
    }
   ],
   "source": [
    "!samtools sort /Volumes/Alanine/wd/17-06-16/EPI-136_S36_L005_R1_001_val_1_bismark_bt2_pe.bam \\\n",
    "> /Volumes/Alanine/wd/17-06-16/EPI-136_S36_L005_R1_001_val_1_bismark_bt2_pe.sorted.bam\n",
    "!samtools index /Volumes/Alanine/wd/17-06-16/EPI-136_S36_L005_R1_001_val_1_bismark_bt2_pe.sorted.bam"
   ]
  },
  {
   "cell_type": "code",
   "execution_count": 16,
   "metadata": {
    "collapsed": false
   },
   "outputs": [
    {
     "name": "stdout",
     "output_type": "stream",
     "text": [
      "[bam_sort_core] merging from 3 files...\r\n"
     ]
    }
   ],
   "source": [
    "!samtools sort /Volumes/Alanine/wd/17-06-16/EPI-143_S37_L005_R1_001_val_1_bismark_bt2_pe.bam \\\n",
    "> /Volumes/Alanine/wd/17-06-16/EPI-143_S37_L005_R1_001_val_1_bismark_bt2_pe.sorted.bam\n",
    "!samtools index /Volumes/Alanine/wd/17-06-16/EPI-143_S37_L005_R1_001_val_1_bismark_bt2_pe.sorted.bam"
   ]
  },
  {
   "cell_type": "code",
   "execution_count": 17,
   "metadata": {
    "collapsed": false
   },
   "outputs": [
    {
     "name": "stdout",
     "output_type": "stream",
     "text": [
      "[bam_sort_core] merging from 4 files...\r\n"
     ]
    }
   ],
   "source": [
    "!samtools sort /Volumes/Alanine/wd/17-06-16/EPI-145_S38_L005_R1_001_val_1_bismark_bt2_pe.bam \\\n",
    "> /Volumes/Alanine/wd/17-06-16/EPI-145_S38_L005_R1_001_val_1_bismark_bt2_pe.sorted.bam\n",
    "!samtools index /Volumes/Alanine/wd/17-06-16/EPI-145_S38_L005_R1_001_val_1_bismark_bt2_pe.sorted.bam"
   ]
  },
  {
   "cell_type": "code",
   "execution_count": 22,
   "metadata": {
    "collapsed": false
   },
   "outputs": [],
   "source": [
    "!bedtools genomecov \\\n",
    "-ibam /Volumes/Alanine/wd/17-06-16/EPI-111_S29_L005_R1_001_val_1_bismark_bt2_pe.sorted.bam \\\n",
    "-bg | awk '$4 > 9' > /Volumes/Alanine/wd/17-06-16/EPI-111_S29_L005_R1_001_val_1_bismark_bt2_pe.sorted.bedgraph"
   ]
  },
  {
   "cell_type": "code",
   "execution_count": null,
   "metadata": {
    "collapsed": true
   },
   "outputs": [],
   "source": []
  }
 ],
 "metadata": {
  "kernelspec": {
   "display_name": "Python 2",
   "language": "python",
   "name": "python2"
  },
  "language_info": {
   "codemirror_mode": {
    "name": "ipython",
    "version": 2
   },
   "file_extension": ".py",
   "mimetype": "text/x-python",
   "name": "python",
   "nbconvert_exporter": "python",
   "pygments_lexer": "ipython2",
   "version": "2.7.12"
  }
 },
 "nbformat": 4,
 "nbformat_minor": 0
}
