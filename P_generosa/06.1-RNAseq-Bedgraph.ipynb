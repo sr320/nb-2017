{
 "cells": [
  {
   "cell_type": "code",
   "execution_count": 1,
   "metadata": {
    "collapsed": false
   },
   "outputs": [
    {
     "name": "stdout",
     "output_type": "stream",
     "text": [
      "/Users/sr320/data-genomic/wd/2017-02-11/bw-Geo_Pool_M_CTTGTA.bam\r\n"
     ]
    }
   ],
   "source": [
    "!ls /Users/sr320/data-genomic/wd/2017-02-11/*.bam"
   ]
  },
  {
   "cell_type": "code",
   "execution_count": null,
   "metadata": {
    "collapsed": true
   },
   "outputs": [],
   "source": [
    "!bedtools genomecov \\\n",
    "-ibam /Users/sr320/data-genomic/wd/2017-02-11/bw-Geo_Pool_M_CTTGTA.bam \\\n",
    "-bg | awk '$4 > 9' > /Volumes/Alanine/wd/17-06-16/Panopea_generosa-Scaff-10k.fa\n"
   ]
  }
 ],
 "metadata": {
  "kernelspec": {
   "display_name": "Python 2",
   "language": "python",
   "name": "python2"
  },
  "language_info": {
   "codemirror_mode": {
    "name": "ipython",
    "version": 2
   },
   "file_extension": ".py",
   "mimetype": "text/x-python",
   "name": "python",
   "nbconvert_exporter": "python",
   "pygments_lexer": "ipython2",
   "version": "2.7.12"
  }
 },
 "nbformat": 4,
 "nbformat_minor": 0
}
