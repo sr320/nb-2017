{
 "cells": [
  {
   "cell_type": "markdown",
   "metadata": {},
   "source": [
    "An attempt to get a bed track from RNA-seq alignment so that DMR locations can be better prediected.\n"
   ]
  },
  {
   "cell_type": "code",
   "execution_count": 4,
   "metadata": {
    "collapsed": false
   },
   "outputs": [
    {
     "name": "stdout",
     "output_type": "stream",
     "text": [
      "\r\n",
      "Tool:    bedtools bamtobed (aka bamToBed)\r\n",
      "Version: v2.25.0\r\n",
      "Summary: Converts BAM alignments to BED6 or BEDPE format.\r\n",
      "\r\n",
      "Usage:   bedtools bamtobed [OPTIONS] -i <bam> \r\n",
      "\r\n",
      "Options: \r\n",
      "\t-bedpe\tWrite BEDPE format.\r\n",
      "\t\t- Requires BAM to be grouped or sorted by query.\r\n",
      "\r\n",
      "\t-mate1\tWhen writing BEDPE (-bedpe) format, \r\n",
      "\t\talways report mate one as the first BEDPE \"block\".\r\n",
      "\r\n",
      "\t-bed12\tWrite \"blocked\" BED format (aka \"BED12\"). Forces -split.\r\n",
      "\r\n",
      "\t\thttp://genome-test.cse.ucsc.edu/FAQ/FAQformat#format1\r\n",
      "\r\n",
      "\t-split\tReport \"split\" BAM alignments as separate BED entries.\r\n",
      "\t\tSplits only on N CIGAR operations.\r\n",
      "\r\n",
      "\t-splitD\tSplit alignments based on N and D CIGAR operators.\r\n",
      "\t\tForces -split.\r\n",
      "\r\n",
      "\t-ed\tUse BAM edit distance (NM tag) for BED score.\r\n",
      "\t\t- Default for BED is to use mapping quality.\r\n",
      "\t\t- Default for BEDPE is to use the minimum of\r\n",
      "\t\t  the two mapping qualities for the pair.\r\n",
      "\t\t- When -ed is used with -bedpe, the total edit\r\n",
      "\t\t  distance from the two mates is reported.\r\n",
      "\r\n",
      "\t-tag\tUse other NUMERIC BAM alignment tag for BED score.\r\n",
      "\t\t- Default for BED is to use mapping quality.\r\n",
      "\t\t  Disallowed with BEDPE output.\r\n",
      "\r\n",
      "\t-color\tAn R,G,B string for the color used with BED12 format.\r\n",
      "\t\tDefault is (255,0,0).\r\n",
      "\r\n",
      "\t-cigar\tAdd the CIGAR string to the BED entry as a 7th column.\r\n",
      "\r\n"
     ]
    }
   ],
   "source": [
    "!/Applications/bedtools2/bin/bamToBed -h\n"
   ]
  },
  {
   "cell_type": "code",
   "execution_count": 6,
   "metadata": {
    "collapsed": false
   },
   "outputs": [
    {
     "name": "stdout",
     "output_type": "stream",
     "text": [
      "/Volumes/web/halfshell/working-directory/17-01-30/bw-Geo_Pool_F_GGCTAC.sam\r\n",
      "/Volumes/web/halfshell/working-directory/17-01-30/bw-Geo_Pool_F_GGCTAC.sorted.sam\r\n",
      "/Volumes/web/halfshell/working-directory/17-01-30/bw-Geo_Pool_M_CTTGTA.sam\r\n",
      "/Volumes/web/halfshell/working-directory/17-01-30/bw-Geo_Pool_M_CTTGTA.sorted.sam\r\n"
     ]
    }
   ],
   "source": [
    "!ls /Volumes/web/halfshell/working-directory/17-01-30/*sam"
   ]
  },
  {
   "cell_type": "code",
   "execution_count": 8,
   "metadata": {
    "collapsed": false
   },
   "outputs": [
    {
     "name": "stdout",
     "output_type": "stream",
     "text": [
      "^C\r\n"
     ]
    }
   ],
   "source": [
    "!samtools view -b -S \\\n",
    "/Volumes/web/halfshell/working-directory/17-01-30/bw-Geo_Pool_F_GGCTAC.sorted.sam \\\n",
    "> /Volumes/web/halfshell/working-directory/17-01-30/bw-Geo_Pool_F_GGCTAC.sorted.bam"
   ]
  },
  {
   "cell_type": "code",
   "execution_count": null,
   "metadata": {
    "collapsed": true
   },
   "outputs": [],
   "source": []
  }
 ],
 "metadata": {
  "kernelspec": {
   "display_name": "Python 2",
   "language": "python",
   "name": "python2"
  },
  "language_info": {
   "codemirror_mode": {
    "name": "ipython",
    "version": 2
   },
   "file_extension": ".py",
   "mimetype": "text/x-python",
   "name": "python",
   "nbconvert_exporter": "python",
   "pygments_lexer": "ipython2",
   "version": "2.7.12"
  }
 },
 "nbformat": 4,
 "nbformat_minor": 0
}
