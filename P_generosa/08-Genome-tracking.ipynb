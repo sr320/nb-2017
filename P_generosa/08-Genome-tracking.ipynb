{
 "cells": [
  {
   "cell_type": "markdown",
   "metadata": {},
   "source": [
    "# Reinvesting in tracks"
   ]
  },
  {
   "cell_type": "markdown",
   "metadata": {},
   "source": [
    "## Genome"
   ]
  },
  {
   "cell_type": "markdown",
   "metadata": {},
   "source": [
    "Genome: `http://owl.fish.washington.edu/halfshell/Panopea_generosa-Scaff-10k.fa`"
   ]
  },
  {
   "cell_type": "markdown",
   "metadata": {},
   "source": [
    "and `/Volumes/Alanine/wd/17-06-16/Panopea_generosa-Scaff-10k.fa`"
   ]
  },
  {
   "cell_type": "code",
   "execution_count": 2,
   "metadata": {
    "collapsed": false
   },
   "outputs": [
    {
     "name": "stdout",
     "output_type": "stream",
     "text": [
      "MD5 (/Volumes/Alanine/wd/17-06-16/Panopea_generosa-Scaff-10k.fa) = 50bd55f7c259498bfcc1c38a3460ebe4\r\n"
     ]
    }
   ],
   "source": [
    "!md5 /Volumes/Alanine/wd/17-06-16/Panopea_generosa-Scaff-10k.fa"
   ]
  },
  {
   "cell_type": "code",
   "execution_count": 3,
   "metadata": {
    "collapsed": false
   },
   "outputs": [
    {
     "name": "stdout",
     "output_type": "stream",
     "text": [
      "MD5 (/Volumes/web-1/halfshell/Panopea_generosa-Scaff-10k.fa) = 50bd55f7c259498bfcc1c38a3460ebe4\r\n"
     ]
    }
   ],
   "source": [
    "!md5 /Volumes/web-1/halfshell/Panopea_generosa-Scaff-10k.fa"
   ]
  },
  {
   "cell_type": "markdown",
   "metadata": {},
   "source": [
    "## Genes Based on Blastn"
   ]
  },
  {
   "cell_type": "markdown",
   "metadata": {},
   "source": [
    "`http://owl.fish.washington.edu/halfshell/working-directory/17-01-30/Pg-trans-blastn-Scaff-10k-02.gff`"
   ]
  },
  {
   "cell_type": "markdown",
   "metadata": {},
   "source": [
    "`/Volumes/Alanine/wd/17-06-16/Pg-trans-blastn-Scaff-10k-02.gff`"
   ]
  },
  {
   "cell_type": "code",
   "execution_count": 6,
   "metadata": {
    "collapsed": false
   },
   "outputs": [
    {
     "name": "stdout",
     "output_type": "stream",
     "text": [
      "scaffold71325\tblastn:Pgenerosa-scaff-10k\tblastn\t1715\t1263\t0.0\t-\t.\tcomp100000_c0_seq1\t\r\n",
      "scaffold46866\tblastn:Pgenerosa-scaff-10k\tblastn\t8764\t9039\t1e-135\t+\t.\tcomp100004_c1_seq1\t\r\n",
      "scaffold3965\tblastn:Pgenerosa-scaff-10k\tblastn\t11944\t12302\t8e-35\t+\t.\tcomp100007_c0_seq1\t\r\n",
      "scaffold9981\tblastn:Pgenerosa-scaff-10k\tblastn\t2361\t2543\t4e-21\t+\t.\tcomp100011_c0_seq1\t\r\n",
      "scaffold47253\tblastn:Pgenerosa-scaff-10k\tblastn\t3082\t3299\t5e-107\t+\t.\tcomp100012_c0_seq1\t\r\n"
     ]
    }
   ],
   "source": [
    "!head -5 /Volumes/Alanine/wd/17-06-16/Pg-trans-blastn-Scaff-10k-02.gff"
   ]
  },
  {
   "cell_type": "markdown",
   "metadata": {},
   "source": [
    "`backstory`: https://github.com/sr320/nb-2017/blob/master/P_generosa/02-Transcriptome-blastn.ipynb"
   ]
  },
  {
   "cell_type": "markdown",
   "metadata": {},
   "source": [
    "<img src=\"http://eagle.fish.washington.edu/cnidarian/skitch/IGV_and_08-Genome-tracking_1EF442C8.png\" alt=\"IGV_and_08-Genome-tracking_1EF442C8.png\"/>"
   ]
  },
  {
   "cell_type": "code",
   "execution_count": 15,
   "metadata": {
    "collapsed": false,
    "scrolled": true
   },
   "outputs": [
    {
     "name": "stdout",
     "output_type": "stream",
     "text": [
      "scaffold101392\tblastn:Pgenerosa-scaff-10k\tblastn\t14604\t14754\t6e-70\t+\t.\tcomp117753_c0_seq1\t\n",
      "scaffold101392\tblastn:Pgenerosa-scaff-10k\tblastn\t16794\t16887\t1e-40\t+\t.\tcomp117753_c0_seq1\t\n",
      "scaffold101392\tblastn:Pgenerosa-scaff-10k\tblastn\t17572\t17636\t3e-23\t+\t.\tcomp117753_c0_seq1\t\n",
      "scaffold101336\tblastn:Pgenerosa-scaff-10k\tblastn\t6100\t6215\t2e-24\t+\t.\tcomp120368_c0_seq1\t\n",
      "scaffold10132\tblastn:Pgenerosa-scaff-10k\tblastn\t16862\t15740\t0.0\t-\t.\tcomp125862_c0_seq1\t\n",
      "scaffold10132\tblastn:Pgenerosa-scaff-10k\tblastn\t1269\t914\t7e-180\t-\t.\tcomp125862_c0_seq1\t\n",
      "scaffold10132\tblastn:Pgenerosa-scaff-10k\tblastn\t3424\t3297\t8e-59\t-\t.\tcomp125862_c0_seq1\t\n",
      "scaffold10132\tblastn:Pgenerosa-scaff-10k\tblastn\t8061\t7995\t8e-21\t-\t.\tcomp129805_c0_seq1\t\n",
      "scaffold101392\tblastn:Pgenerosa-scaff-10k\tblastn\t6830\t6736\t6e-34\t-\t.\tcomp130577_c3_seq3\t\n",
      "scaffold101392\tblastn:Pgenerosa-scaff-10k\tblastn\t9820\t11238\t0.0\t+\t.\tcomp131845_c0_seq1\t\n",
      "scaffold101392\tblastn:Pgenerosa-scaff-10k\tblastn\t9820\t11238\t0.0\t+\t.\tcomp131845_c0_seq2\t\n",
      "scaffold101392\tblastn:Pgenerosa-scaff-10k\tblastn\t2043\t2155\t2e-28\t+\t.\tcomp135202_c0_seq2\t\n",
      "scaffold101392\tblastn:Pgenerosa-scaff-10k\tblastn\t2043\t2155\t2e-28\t+\t.\tcomp135202_c0_seq3\t\n",
      "scaffold101392\tblastn:Pgenerosa-scaff-10k\tblastn\t2047\t2140\t3e-26\t+\t.\tcomp136591_c0_seq4\t\n",
      "scaffold101303\tblastn:Pgenerosa-scaff-10k\tblastn\t13310\t13470\t8e-45\t+\t.\tcomp138277_c1_seq1\t\n",
      "scaffold101303\tblastn:Pgenerosa-scaff-10k\tblastn\t13310\t13470\t1e-44\t+\t.\tcomp138277_c1_seq2\t\n",
      "scaffold101303\tblastn:Pgenerosa-scaff-10k\tblastn\t13310\t13470\t1e-44\t+\t.\tcomp138277_c1_seq4\t\n",
      "scaffold101336\tblastn:Pgenerosa-scaff-10k\tblastn\t8101\t7927\t2e-61\t-\t.\tcomp138296_c0_seq1\t\n",
      "scaffold101336\tblastn:Pgenerosa-scaff-10k\tblastn\t1338\t1716\t1e-129\t+\t.\tcomp140524_c0_seq3\t\n",
      "scaffold1013\tblastn:Pgenerosa-scaff-10k\tblastn\t17301\t17453\t7e-71\t+\t.\tcomp141361_c1_seq1\t\n",
      "scaffold1013\tblastn:Pgenerosa-scaff-10k\tblastn\t16258\t16406\t3e-70\t+\t.\tcomp141361_c1_seq1\t\n",
      "scaffold1013\tblastn:Pgenerosa-scaff-10k\tblastn\t1277\t1399\t3e-56\t+\t.\tcomp141361_c1_seq1\t\n",
      "scaffold1013\tblastn:Pgenerosa-scaff-10k\tblastn\t17301\t17453\t6e-71\t+\t.\tcomp141361_c1_seq2\t\n",
      "scaffold1013\tblastn:Pgenerosa-scaff-10k\tblastn\t16258\t16406\t2e-70\t+\t.\tcomp141361_c1_seq2\t\n",
      "scaffold1013\tblastn:Pgenerosa-scaff-10k\tblastn\t1277\t1399\t3e-56\t+\t.\tcomp141361_c1_seq2\t\n",
      "scaffold101392\tblastn:Pgenerosa-scaff-10k\tblastn\t2295\t2046\t6e-38\t-\t.\tcomp141946_c1_seq2\t\n",
      "scaffold10132\tblastn:Pgenerosa-scaff-10k\tblastn\t2676\t2847\t2e-45\t+\t.\tcomp142721_c1_seq1\t\n",
      "scaffold10132\tblastn:Pgenerosa-scaff-10k\tblastn\t2676\t2847\t3e-45\t+\t.\tcomp142721_c1_seq2\t\n",
      "scaffold10132\tblastn:Pgenerosa-scaff-10k\tblastn\t11559\t11662\t2e-21\t+\t.\tcomp142721_c1_seq2\t\n",
      "scaffold10132\tblastn:Pgenerosa-scaff-10k\tblastn\t2676\t2847\t4e-44\t+\t.\tcomp142721_c1_seq3\t\n",
      "scaffold101336\tblastn:Pgenerosa-scaff-10k\tblastn\t6251\t6051\t3e-36\t-\t.\tcomp145204_c0_seq1\t\n",
      "scaffold101336\tblastn:Pgenerosa-scaff-10k\tblastn\t6267\t6043\t1e-23\t-\t.\tcomp149242_c0_seq1\t\n",
      "scaffold101324\tblastn:Pgenerosa-scaff-10k\tblastn\t2091\t1898\t3e-65\t-\t.\tcomp158490_c0_seq1\t\n",
      "scaffold101324\tblastn:Pgenerosa-scaff-10k\tblastn\t2030\t1835\t9e-65\t-\t.\tcomp158490_c0_seq1\t\n",
      "scaffold101324\tblastn:Pgenerosa-scaff-10k\tblastn\t1714\t1521\t1e-62\t-\t.\tcomp158490_c0_seq1\t\n",
      "scaffold101324\tblastn:Pgenerosa-scaff-10k\tblastn\t2871\t2675\t5e-62\t-\t.\tcomp158490_c0_seq1\t\n",
      "scaffold101324\tblastn:Pgenerosa-scaff-10k\tblastn\t2933\t2747\t6e-61\t-\t.\tcomp158490_c0_seq1\t\n",
      "scaffold101324\tblastn:Pgenerosa-scaff-10k\tblastn\t1588\t1400\t3e-59\t-\t.\tcomp158490_c0_seq1\t\n",
      "scaffold101324\tblastn:Pgenerosa-scaff-10k\tblastn\t1086\t900\t3e-58\t-\t.\tcomp158490_c0_seq1\t\n",
      "scaffold101324\tblastn:Pgenerosa-scaff-10k\tblastn\t1148\t955\t4e-57\t-\t.\tcomp158490_c0_seq1\t\n",
      "scaffold101324\tblastn:Pgenerosa-scaff-10k\tblastn\t2152\t1961\t4e-57\t-\t.\tcomp158490_c0_seq1\t\n",
      "scaffold101324\tblastn:Pgenerosa-scaff-10k\tblastn\t2996\t2803\t1e-56\t-\t.\tcomp158490_c0_seq1\t\n",
      "scaffold101324\tblastn:Pgenerosa-scaff-10k\tblastn\t580\t381\t5e-56\t-\t.\tcomp158490_c0_seq1\t\n",
      "scaffold101324\tblastn:Pgenerosa-scaff-10k\tblastn\t1651\t1459\t5e-56\t-\t.\tcomp158490_c0_seq1\t\n",
      "scaffold101324\tblastn:Pgenerosa-scaff-10k\tblastn\t1779\t1584\t2e-55\t-\t.\tcomp158490_c0_seq1\t\n",
      "scaffold101324\tblastn:Pgenerosa-scaff-10k\tblastn\t1020\t830\t6e-55\t-\t.\tcomp158490_c0_seq1\t\n",
      "scaffold101324\tblastn:Pgenerosa-scaff-10k\tblastn\t1275\t1081\t6e-55\t-\t.\tcomp158490_c0_seq1\t\n",
      "scaffold101324\tblastn:Pgenerosa-scaff-10k\tblastn\t1209\t1018\t2e-54\t-\t.\tcomp158490_c0_seq1\t\n",
      "scaffold101324\tblastn:Pgenerosa-scaff-10k\tblastn\t2423\t2225\t7e-54\t-\t.\tcomp158490_c0_seq1\t\n",
      "scaffold101324\tblastn:Pgenerosa-scaff-10k\tblastn\t2808\t2619\t2e-53\t-\t.\tcomp158490_c0_seq1\t\n",
      "scaffold101324\tblastn:Pgenerosa-scaff-10k\tblastn\t1337\t1144\t8e-53\t-\t.\tcomp158490_c0_seq1\t\n",
      "scaffold101324\tblastn:Pgenerosa-scaff-10k\tblastn\t2618\t2421\t8e-53\t-\t.\tcomp158490_c0_seq1\t\n",
      "scaffold101324\tblastn:Pgenerosa-scaff-10k\tblastn\t3056\t2866\t3e-52\t-\t.\tcomp158490_c0_seq1\t\n",
      "scaffold101324\tblastn:Pgenerosa-scaff-10k\tblastn\t708\t509\t1e-51\t-\t.\tcomp158490_c0_seq1\t\n",
      "scaffold101324\tblastn:Pgenerosa-scaff-10k\tblastn\t1902\t1710\t1e-51\t-\t.\tcomp158490_c0_seq1\t\n",
      "scaffold101324\tblastn:Pgenerosa-scaff-10k\tblastn\t1965\t1773\t1e-51\t-\t.\tcomp158490_c0_seq1\t\n",
      "scaffold101324\tblastn:Pgenerosa-scaff-10k\tblastn\t645\t451\t4e-51\t-\t.\tcomp158490_c0_seq1\t\n",
      "scaffold101324\tblastn:Pgenerosa-scaff-10k\tblastn\t960\t765\t4e-51\t-\t.\tcomp158490_c0_seq1\t\n",
      "scaffold101324\tblastn:Pgenerosa-scaff-10k\tblastn\t1526\t1333\t4e-51\t-\t.\tcomp158490_c0_seq1\t\n",
      "scaffold101324\tblastn:Pgenerosa-scaff-10k\tblastn\t769\t586\t1e-50\t-\t.\tcomp158490_c0_seq1\t\n",
      "scaffold101324\tblastn:Pgenerosa-scaff-10k\tblastn\t515\t318\t2e-49\t-\t.\tcomp158490_c0_seq1\t\n",
      "scaffold101324\tblastn:Pgenerosa-scaff-10k\tblastn\t1840\t1647\t2e-49\t-\t.\tcomp158490_c0_seq1\t\n",
      "scaffold101324\tblastn:Pgenerosa-scaff-10k\tblastn\t2746\t2547\t5e-49\t-\t.\tcomp158490_c0_seq1\t\n",
      "scaffold101324\tblastn:Pgenerosa-scaff-10k\tblastn\t835\t646\t2e-47\t-\t.\tcomp158490_c0_seq1\t\n",
      "scaffold101324\tblastn:Pgenerosa-scaff-10k\tblastn\t1400\t1207\t2e-47\t-\t.\tcomp158490_c0_seq1\t\n",
      "scaffold101324\tblastn:Pgenerosa-scaff-10k\tblastn\t3122\t2929\t3e-46\t-\t.\tcomp158490_c0_seq1\t\n",
      "scaffold101324\tblastn:Pgenerosa-scaff-10k\tblastn\t1465\t1270\t1e-45\t-\t.\tcomp158490_c0_seq1\t\n",
      "scaffold101324\tblastn:Pgenerosa-scaff-10k\tblastn\t2490\t2308\t1e-45\t-\t.\tcomp158490_c0_seq1\t\n",
      "scaffold101324\tblastn:Pgenerosa-scaff-10k\tblastn\t450\t271\t1e-44\t-\t.\tcomp158490_c0_seq1\t\n",
      "scaffold101324\tblastn:Pgenerosa-scaff-10k\tblastn\t2677\t2491\t1e-44\t-\t.\tcomp158490_c0_seq1\t\n",
      "scaffold101324\tblastn:Pgenerosa-scaff-10k\tblastn\t899\t709\t4e-44\t-\t.\tcomp158490_c0_seq1\t\n",
      "scaffold101324\tblastn:Pgenerosa-scaff-10k\tblastn\t2549\t2359\t6e-42\t-\t.\tcomp158490_c0_seq1\t\n",
      "scaffold101324\tblastn:Pgenerosa-scaff-10k\tblastn\t2172\t2024\t2e-36\t-\t.\tcomp158490_c0_seq1\t\n",
      "scaffold101324\tblastn:Pgenerosa-scaff-10k\tblastn\t2363\t2233\t3e-26\t-\t.\tcomp158490_c0_seq1\t\n",
      "scaffold101324\tblastn:Pgenerosa-scaff-10k\tblastn\t3131\t2991\t1e-25\t-\t.\tcomp158490_c0_seq1\t\n",
      "scaffold101324\tblastn:Pgenerosa-scaff-10k\tblastn\t387\t273\t1e-24\t-\t.\tcomp158490_c0_seq1\t\n",
      "scaffold101392\tblastn:Pgenerosa-scaff-10k\tblastn\t13632\t13388\t1e-121\t-\t.\tcomp48806_c0_seq1\t\n",
      "scaffold101337\tblastn:Pgenerosa-scaff-10k\tblastn\t3491\t3587\t3e-41\t+\t.\tcomp75275_c0_seq1\t\n",
      "scaffold101303\tblastn:Pgenerosa-scaff-10k\tblastn\t6570\t6332\t2e-69\t-\t.\tcomp85904_c0_seq1\t\n",
      "scaffold10132\tblastn:Pgenerosa-scaff-10k\tblastn\t8265\t8494\t5e-107\t+\t.\tcomp87117_c0_seq1\t\n",
      "scaffold101392\tblastn:Pgenerosa-scaff-10k\tblastn\t2617\t2787\t2e-81\t+\t.\tcomp93696_c0_seq1\t\n",
      "scaffold101392\tblastn:Pgenerosa-scaff-10k\tblastn\t3866\t3985\t1e-52\t+\t.\tcomp93696_c0_seq1\t\n",
      "scaffold101392\tblastn:Pgenerosa-scaff-10k\tblastn\t9168\t9534\t9e-180\t+\t.\tcomp94714_c0_seq1\t\n",
      "scaffold101392\tblastn:Pgenerosa-scaff-10k\tblastn\t9537\t9855\t6e-138\t+\t.\tcomp94714_c0_seq1\t\n",
      "scaffold101392\tblastn:Pgenerosa-scaff-10k\tblastn\t8543\t8638\t7e-42\t+\t.\tcomp94714_c0_seq1\t\n",
      "scaffold101392\tblastn:Pgenerosa-scaff-10k\tblastn\t4801\t4887\t6e-37\t+\t.\tcomp94714_c0_seq1\t\n",
      "scaffold1013\tblastn:Pgenerosa-scaff-10k\tblastn\t4594\t4487\t5e-31\t-\t.\tcomp98614_c0_seq1\t\n",
      "scaffold101336\tblastn:Pgenerosa-scaff-10k\tblastn\t6080\t6260\t4e-26\t+\t.\tcomp99511_c0_seq1\t\n"
     ]
    }
   ],
   "source": [
    "!fgrep \"scaffold1013\" /Volumes/Alanine/wd/17-06-16/Pg-trans-blastn-Scaff-10k-02.gff"
   ]
  },
  {
   "cell_type": "markdown",
   "metadata": {},
   "source": [
    "```\n",
    "scaffold1013\tblastn:Pgenerosa-scaff-10k\tblastn\t17301\t17453\t7e-71\t+\t.\tcomp141361_c1_seq1\t\n",
    "scaffold1013\tblastn:Pgenerosa-scaff-10k\tblastn\t16258\t16406\t3e-70\t+\t.\tcomp141361_c1_seq1\t\n",
    "scaffold1013\tblastn:Pgenerosa-scaff-10k\tblastn\t1277\t1399\t3e-56\t+\t.\tcomp141361_c1_seq1\t\n",
    "scaffold1013\tblastn:Pgenerosa-scaff-10k\tblastn\t17301\t17453\t6e-71\t+\t.\tcomp141361_c1_seq2\t\n",
    "scaffold1013\tblastn:Pgenerosa-scaff-10k\tblastn\t16258\t16406\t2e-70\t+\t.\tcomp141361_c1_seq2\t\n",
    "scaffold1013\tblastn:Pgenerosa-scaff-10k\tblastn\t1277\t1399\t3e-56\t+\t.\tcomp141361_c1_seq2\t\n",
    "```"
   ]
  },
  {
   "cell_type": "markdown",
   "metadata": {},
   "source": [
    "## Transposable Elements"
   ]
  },
  {
   "cell_type": "markdown",
   "metadata": {},
   "source": [
    "`http://owl.fish.washington.edu/scaphapoda/Sean/Geoduck_Analysis/Geoduck_Transposons/Panopea_generosa-Scaff-10k.fa.out.gff`"
   ]
  },
  {
   "cell_type": "markdown",
   "metadata": {},
   "source": [
    "```\n",
    "==================================================\n",
    "file name: Panopea_generosa-Scaff-10k.fa\n",
    "sequences:         19539\n",
    "total length:  314618376 bp  (285199906 bp excl N/X-runs)\n",
    "GC level:         33.48 %\n",
    "bases masked:    9779241 bp ( 3.11 %)\n",
    "==================================================\n",
    "               number of      length   percentage\n",
    "               elements*    occupied  of sequence\n",
    "--------------------------------------------------\n",
    "Retroelements         6980      2036509 bp    0.65 %\n",
    "   SINEs:              296        15743 bp    0.01 %\n",
    "   Penelope             40        14822 bp    0.00 %\n",
    "   LINEs:             5382      1421071 bp    0.45 %\n",
    "    CRE/SLACS            0            0 bp    0.00 %\n",
    "     L2/CR1/Rex        383       146602 bp    0.05 %\n",
    "     R1/LOA/Jockey       0            0 bp    0.00 %\n",
    "     R2/R4/NeSL          0            0 bp    0.00 %\n",
    "     RTE/Bov-B        2363       515478 bp    0.16 %\n",
    "     L1/CIN4             0            0 bp    0.00 %\n",
    "   LTR elements:      1302       599695 bp    0.19 %\n",
    "     BEL/Pao            70        39245 bp    0.01 %\n",
    "     Ty1/Copia           2         3081 bp    0.00 %\n",
    "     Gypsy/DIRS1      1167       542593 bp    0.17 %\n",
    "       Retroviral        0            0 bp    0.00 %\n",
    "\n",
    "DNA transposons       8479      1096657 bp    0.35 %\n",
    "   hobo-Activator      254        34464 bp    0.01 %\n",
    "   Tc1-IS630-Pogo     2759       419439 bp    0.13 %\n",
    "   En-Spm                0            0 bp    0.00 %\n",
    "   MuDR-IS905            0            0 bp    0.00 %\n",
    "   PiggyBac             46         3024 bp    0.00 %\n",
    "   Tourist/Harbinger   148        32068 bp    0.01 %\n",
    "   Other (Mirage,        0            0 bp    0.00 %\n",
    "    P-element, Transib)\n",
    "\n",
    "Rolling-circles          0            0 bp    0.00 %\n",
    "\n",
    "Unclassified:         9094      1019046 bp    0.32 %\n",
    "\n",
    "Total interspersed repeats:     4152212 bp    1.32 %\n",
    "\n",
    "\n",
    "Small RNA:              33         2839 bp    0.00 %\n",
    "\n",
    "Satellites:            187        28832 bp    0.01 %\n",
    "Simple repeats:      84590      5079301 bp    1.61 %\n",
    "Low complexity:      10918       540927 bp    0.17 %\n",
    "==================================================\n",
    "\n",
    "* most repeats fragmented by insertions or deletions\n",
    "  have been counted as one element\n",
    "                                                      \n",
    "\n",
    "The query species was assumed to be crassostrea gigas\n",
    "RepeatMasker version open-4.0.6 , sensitive mode\n",
    "                                 \n",
    "run with rmblastn version 2.2.27+\n",
    "RepBase Update 20160829, RM database version 20160829\n",
    "```"
   ]
  },
  {
   "cell_type": "code",
   "execution_count": 9,
   "metadata": {
    "collapsed": false
   },
   "outputs": [
    {
     "name": "stdout",
     "output_type": "stream",
     "text": [
      "##gff-version 2\r\n",
      "##date 2017-02-08\r\n",
      "##sequence-region Panopea_generosa-Scaff-10k.fa\r\n",
      "scaffold100\tRepeatMasker\tsimilarity\t1014\t1217\t28.9\t+\t.\tTarget \"Motif:CR1-9_CGi\" 1195 1412\r\n",
      "scaffold100\tRepeatMasker\tsimilarity\t6102\t6303\t24.2\t+\t.\tTarget \"Motif:(CATA)n\" 1 202\r\n",
      "scaffold100\tRepeatMasker\tsimilarity\t8933\t8962\t11.5\t+\t.\tTarget \"Motif:(GTT)n\" 1 30\r\n",
      "scaffold10000\tRepeatMasker\tsimilarity\t5541\t5591\t20.1\t+\t.\tTarget \"Motif:(AATA)n\" 1 49\r\n",
      "scaffold10000\tRepeatMasker\tsimilarity\t9940\t9975\t18.9\t+\t.\tTarget \"Motif:(AATA)n\" 1 37\r\n",
      "scaffold10000\tRepeatMasker\tsimilarity\t11101\t11130\t11.5\t+\t.\tTarget \"Motif:(ATTT)n\" 1 29\r\n",
      "scaffold10000\tRepeatMasker\tsimilarity\t12193\t12225\t18.1\t+\t.\tTarget \"Motif:(TTTTAA)n\" 1 32\r\n"
     ]
    }
   ],
   "source": [
    "!head /Volumes/Alanine/wd/17-06-16/Panopea_generosa-Scaff-10k.fa.out.gff"
   ]
  },
  {
   "cell_type": "code",
   "execution_count": 10,
   "metadata": {
    "collapsed": false
   },
   "outputs": [
    {
     "name": "stdout",
     "output_type": "stream",
     "text": [
      "##gff-version 2\r\n",
      "##date 2017-02-08\r\n",
      "##sequence-region Panopea_generosa-Scaff-10k.fa\r\n",
      "scaffold100\tRepeatMasker\tsimilarity\t1014\t1217\t28.9\t+\t.\tTarget \"Motif:CR1-9_CGi\" 1195 1412\r\n",
      "scaffold100\tRepeatMasker\tsimilarity\t6102\t6303\t24.2\t+\t.\tTarget \"Motif:(CATA)n\" 1 202\r\n",
      "scaffold100\tRepeatMasker\tsimilarity\t8933\t8962\t11.5\t+\t.\tTarget \"Motif:(GTT)n\" 1 30\r\n",
      "scaffold10000\tRepeatMasker\tsimilarity\t5541\t5591\t20.1\t+\t.\tTarget \"Motif:(AATA)n\" 1 49\r\n",
      "scaffold10000\tRepeatMasker\tsimilarity\t9940\t9975\t18.9\t+\t.\tTarget \"Motif:(AATA)n\" 1 37\r\n",
      "scaffold10000\tRepeatMasker\tsimilarity\t11101\t11130\t11.5\t+\t.\tTarget \"Motif:(ATTT)n\" 1 29\r\n",
      "scaffold10000\tRepeatMasker\tsimilarity\t12193\t12225\t18.1\t+\t.\tTarget \"Motif:(TTTTAA)n\" 1 32\r\n"
     ]
    }
   ],
   "source": [
    "!head /Volumes/Alanine/wd/17-06-16/Pg-Rep-TE-Scaff-10k.gff"
   ]
  },
  {
   "cell_type": "markdown",
   "metadata": {},
   "source": [
    "## CG Track"
   ]
  },
  {
   "cell_type": "markdown",
   "metadata": {},
   "source": [
    "![GalaxySS](https://www.evernote.com/l/AAqOza03qrhLhYFWqbZ_GixcSUqsIte8lcQB/image.png)"
   ]
  },
  {
   "cell_type": "markdown",
   "metadata": {},
   "source": [
    "`/Volumes/Alanine/wd/17-06-16/CG-fuzznuc-Pgenerosa-scaff-10k.gff`"
   ]
  },
  {
   "cell_type": "markdown",
   "metadata": {},
   "source": [
    "## CCGG Track"
   ]
  },
  {
   "cell_type": "markdown",
   "metadata": {},
   "source": [
    "`/Volumes/Alanine/wd/17-06-16/CCGG_fuzz-Pg-trans-blastn-Scaff-10k.gff`"
   ]
  },
  {
   "cell_type": "code",
   "execution_count": null,
   "metadata": {
    "collapsed": true
   },
   "outputs": [],
   "source": []
  }
 ],
 "metadata": {
  "kernelspec": {
   "display_name": "Python 2",
   "language": "python",
   "name": "python2"
  },
  "language_info": {
   "codemirror_mode": {
    "name": "ipython",
    "version": 2
   },
   "file_extension": ".py",
   "mimetype": "text/x-python",
   "name": "python",
   "nbconvert_exporter": "python",
   "pygments_lexer": "ipython2",
   "version": "2.7.12"
  }
 },
 "nbformat": 4,
 "nbformat_minor": 0
}
