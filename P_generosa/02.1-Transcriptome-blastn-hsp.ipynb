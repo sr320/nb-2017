{
 "cells": [
  {
   "cell_type": "code",
   "execution_count": 1,
   "metadata": {
    "collapsed": false,
    "deletable": true,
    "editable": true,
    "scrolled": true
   },
   "outputs": [
    {
     "name": "stdout",
     "output_type": "stream",
     "text": [
      "\n",
      "\n",
      "Building a new DB, current time: 12/16/2016 15:58:21\n",
      "New DB name:   /Users/sr320/git-repos/student-fish546-2016/data/Panopea_generosa-Scaff-10k\n",
      "New DB title:  /Users/sr320/git-repos/student-fish546-2016/data/Panopea_generosa-Scaff-10k.fa\n",
      "Sequence type: Nucleotide\n",
      "Keep Linkouts: T\n",
      "Keep MBits: T\n",
      "Maximum file size: 1000000000B\n",
      "Adding sequences from FASTA; added 19539 sequences in 12.4629 seconds.\n"
     ]
    }
   ],
   "source": [
    "!makeblastdb \\\n",
    "-dbtype nucl \\\n",
    "-in /Users/sr320/git-repos/student-fish546-2016/data/Panopea_generosa-Scaff-10k.fa \\\n",
    "-out /Users/sr320/git-repos/student-fish546-2016/data/Panopea_generosa-Scaff-10k"
   ]
  },
  {
   "cell_type": "code",
   "execution_count": 1,
   "metadata": {
    "collapsed": false,
    "deletable": true,
    "editable": true
   },
   "outputs": [],
   "source": [
    "!blastn \\\n",
    "-query /Users/sr320/git-repos/paper-pano-go/data-results/Geoduck-transcriptome-v3.fa \\\n",
    "-db /Users/sr320/git-repos/student-fish546-2016/data/Panopea_generosa-Scaff-10k \\\n",
    "-task blastn \\\n",
    "-evalue 1e-20 \\\n",
    "-outfmt 6 \\\n",
    "-out /Volumes/Alanine/wd/17-06-16/Pg-trans-blastn-Scaff-10k-03.tab \\\n",
    "-max_target_seqs 1 \\\n",
    "-max_hsps 1 \\\n",
    "-num_threads 6\n"
   ]
  },
  {
   "cell_type": "code",
   "execution_count": 3,
   "metadata": {
    "collapsed": false,
    "deletable": true,
    "editable": true
   },
   "outputs": [],
   "source": [
    "!perl ../scripts/2_Blast2Gff.pl \\\n",
    "-i /Volumes/Alanine/wd/17-06-16/Pg-trans-blastn-Scaff-10k-03.tab \\\n",
    "-s \"something\" \\\n",
    "-o /Volumes/Alanine/wd/17-06-16/Pg-trans-blastn-Scaff-10k-03.gff \\\n",
    "-p \"gene-blast\" -d \"Pgenerosa-scaff-10k\""
   ]
  },
  {
   "cell_type": "code",
   "execution_count": 4,
   "metadata": {
    "collapsed": false,
    "deletable": true,
    "editable": true
   },
   "outputs": [
    {
     "name": "stdout",
     "output_type": "stream",
     "text": [
      "scaffold71325\tblastn:Pgenerosa-scaff-10k\tblastn\t1715\t1263\t0.0\t-\t.\tcomp100000_c0_seq1\t\r\n",
      "scaffold46866\tblastn:Pgenerosa-scaff-10k\tblastn\t8764\t9039\t1e-135\t+\t.\tcomp100004_c1_seq1\t\r\n",
      "scaffold3965\tblastn:Pgenerosa-scaff-10k\tblastn\t11944\t12302\t8e-35\t+\t.\tcomp100007_c0_seq1\t\r\n",
      "scaffold9981\tblastn:Pgenerosa-scaff-10k\tblastn\t2361\t2543\t4e-21\t+\t.\tcomp100011_c0_seq1\t\r\n",
      "scaffold47253\tblastn:Pgenerosa-scaff-10k\tblastn\t3082\t3299\t5e-107\t+\t.\tcomp100012_c0_seq1\t\r\n",
      "scaffold171330\tblastn:Pgenerosa-scaff-10k\tblastn\t4430\t4042\t0.0\t-\t.\tcomp100014_c0_seq1\t\r\n",
      "scaffold5871\tblastn:Pgenerosa-scaff-10k\tblastn\t4128\t3895\t2e-117\t-\t.\tcomp100027_c1_seq1\t\r\n",
      "scaffold175437\tblastn:Pgenerosa-scaff-10k\tblastn\t1166\t1456\t8e-62\t+\t.\tcomp100031_c0_seq1\t\r\n",
      "scaffold43796\tblastn:Pgenerosa-scaff-10k\tblastn\t8331\t7923\t0.0\t-\t.\tcomp100035_c0_seq1\t\r\n",
      "scaffold44982\tblastn:Pgenerosa-scaff-10k\tblastn\t1501\t1591\t1e-21\t+\t.\tcomp100041_c1_seq1\t\r\n"
     ]
    }
   ],
   "source": [
    "!head /Volumes/Alanine/wd/17-06-16/Pg-trans-blastn-Scaff-10k-03.gff"
   ]
  },
  {
   "cell_type": "code",
   "execution_count": null,
   "metadata": {
    "collapsed": true
   },
   "outputs": [],
   "source": []
  }
 ],
 "metadata": {
  "kernelspec": {
   "display_name": "Python 2",
   "language": "python",
   "name": "python2"
  },
  "language_info": {
   "codemirror_mode": {
    "name": "ipython",
    "version": 2
   },
   "file_extension": ".py",
   "mimetype": "text/x-python",
   "name": "python",
   "nbconvert_exporter": "python",
   "pygments_lexer": "ipython2",
   "version": "2.7.12"
  }
 },
 "nbformat": 4,
 "nbformat_minor": 0
}
