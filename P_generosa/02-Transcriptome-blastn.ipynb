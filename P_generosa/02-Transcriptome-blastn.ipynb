{
 "cells": [
  {
   "cell_type": "code",
   "execution_count": 1,
   "metadata": {
    "collapsed": false
   },
   "outputs": [
    {
     "name": "stdout",
     "output_type": "stream",
     "text": [
      "\n",
      "\n",
      "Building a new DB, current time: 12/16/2016 15:58:21\n",
      "New DB name:   /Users/sr320/git-repos/student-fish546-2016/data/Panopea_generosa-Scaff-10k\n",
      "New DB title:  /Users/sr320/git-repos/student-fish546-2016/data/Panopea_generosa-Scaff-10k.fa\n",
      "Sequence type: Nucleotide\n",
      "Keep Linkouts: T\n",
      "Keep MBits: T\n",
      "Maximum file size: 1000000000B\n",
      "Adding sequences from FASTA; added 19539 sequences in 12.4629 seconds.\n"
     ]
    }
   ],
   "source": [
    "!makeblastdb \\\n",
    "-dbtype nucl \\\n",
    "-in /Users/sr320/git-repos/student-fish546-2016/data/Panopea_generosa-Scaff-10k.fa \\\n",
    "-out /Users/sr320/git-repos/student-fish546-2016/data/Panopea_generosa-Scaff-10k"
   ]
  },
  {
   "cell_type": "code",
   "execution_count": 5,
   "metadata": {
    "collapsed": false
   },
   "outputs": [],
   "source": [
    "!blastn \\\n",
    "-query /Users/sr320/git-repos/paper-pano-go/data-results/Geoduck-transcriptome-v3.fa \\\n",
    "-db /Users/sr320/git-repos/student-fish546-2016/data/Panopea_generosa-Scaff-10k \\\n",
    "-task blastn \\\n",
    "-evalue 1e-20 \\\n",
    "-outfmt 6 \\\n",
    "-out /Volumes/caviar/wd/2016-12-16/Pg-trans-blastn-Scaff-10k-02.tab \\\n",
    "-max_target_seqs 1 \\\n",
    "-num_threads 4\n"
   ]
  },
  {
   "cell_type": "code",
   "execution_count": null,
   "metadata": {
    "collapsed": true
   },
   "outputs": [],
   "source": [
    "!perl ../scripts/2_Blast2Gff.pl \\\n",
    "-i ../analyses/trans-v6-blastn-Scaff-30k-02.tab \\\n",
    "-s \"something\" \\\n",
    "-o ../analyses/Olyv6_blastn-Scaff-30k.gff \\\n",
    "-p \"gene-blast\" -d \"Ostrea-scaff-30k\""
   ]
  }
 ],
 "metadata": {
  "kernelspec": {
   "display_name": "Python 2",
   "language": "python",
   "name": "python2"
  },
  "language_info": {
   "codemirror_mode": {
    "name": "ipython",
    "version": 2
   },
   "file_extension": ".py",
   "mimetype": "text/x-python",
   "name": "python",
   "nbconvert_exporter": "python",
   "pygments_lexer": "ipython2",
   "version": "2.7.12"
  }
 },
 "nbformat": 4,
 "nbformat_minor": 0
}
