{
 "cells": [
  {
   "cell_type": "code",
   "execution_count": 1,
   "metadata": {
    "collapsed": false
   },
   "outputs": [
    {
     "name": "stdout",
     "output_type": "stream",
     "text": [
      "Row Labels\t\tCase Inlet\tFidalgo Bay\tPort Gamble\tSkokomish River Delta\tCase Inlet\tFidalgo Bay\tPort Gamble\tSkokomish River Delta\t\tcode\r\n",
      "cds.comp138254\t\t360574\t97777\t95180\t287620\t85588101\t1192059\t1204675\t109766\t\t0.00954827\r\n",
      "cds.comp142216\t\t31657\t132886\t3243329\t1383451\t129571536\t12874602\t8775161\t2705863\t\t0.031127209\r\n",
      "cds.comp125530\t\t5274051\t8475356\t8697845\t4477619\t243830992\t30877673\t100874987\t123168185\t\t0.053984505\r\n",
      "cds.comp48421\t\t1076286\t2576964\t66099872\t607896\t47442290\t766774270\t19719421\t5836906\t\t0.08378577\r\n",
      "cds.comp144401\t\t467900\t6106045\t14797145\t2769552\t54097213\t95107974\t31923454\t3666418\t\t0.130634672\r\n",
      "cds.comp135856\t\t1387355\t13404775\t34376818\t5208571\t23389665\t362875937\t10671900\t12001832\t\t0.132972093\r\n",
      "comp135856\t\t1387355\t13404775\t34376818\t5208571\t23389665\t362875937\t10671900\t12001832\t\t0.132972093\r\n",
      "cds.comp143411\t\t1328008\t1399948\t9871146\t1141102\t27929375\t45294045\t21030068\t4463636\t\t0.139187645\r\n",
      "cds.comp122035\t\t27122917\t36444407\t33539732\t27436497\t156974907\t156864985\t246099163\t215985463\t\t0.160509882\r\n"
     ]
    }
   ],
   "source": [
    "!head /Volumes/Alanine/wd/17-03-17/Geoduck-Sum-Area-Bare-Eel.txt"
   ]
  },
  {
   "cell_type": "code",
   "execution_count": 26,
   "metadata": {
    "collapsed": false
   },
   "outputs": [
    {
     "name": "stdout",
     "output_type": "stream",
     "text": [
      "comp138254\r\n",
      "comp142216\r\n",
      "comp125530\r\n",
      "comp48421\r\n",
      "comp144401\r\n",
      "comp135856\r\n",
      "comp143411\r\n",
      "comp122035\r\n",
      "comp134625\r\n",
      "comp144270\r\n",
      "comp142142\r\n",
      "comp143197\r\n",
      "comp143411\r\n",
      "comp142396\r\n",
      "comp88705\r\n",
      "comp144180\r\n",
      "comp131660\r\n",
      "comp128586\r\n",
      "comp28288\r\n",
      "comp144604\r\n",
      "comp141473\r\n",
      "comp139766\r\n",
      "comp116351\r\n",
      "comp129221\r\n",
      "comp22527\r\n",
      "comp134200\r\n",
      "comp136492\r\n",
      "comp133552\r\n",
      "comp144504\r\n",
      "comp141096\r\n",
      "comp99434\r\n",
      "comp142358\r\n",
      "comp143236\r\n",
      "comp124813\r\n",
      "comp144421\r\n",
      "comp131211\r\n",
      "comp143770\r\n",
      "comp144132\r\n",
      "comp127542\r\n",
      "comp133562\r\n",
      "comp142424\r\n",
      "comp142890\r\n",
      "comp135129\r\n",
      "comp134692\r\n",
      "comp144262\r\n",
      "comp143418\r\n",
      "comp133063\r\n",
      "comp144191\r\n",
      "comp90334\r\n",
      "comp139531\r\n",
      "comp142589\r\n",
      "comp137055\r\n",
      "comp143502\r\n",
      "comp131651\r\n",
      "comp141946\r\n",
      "comp139881\r\n",
      "comp143082\r\n",
      "comp130569\r\n",
      "comp143835\r\n",
      "comp153529\r\n",
      "comp128923\r\n",
      "comp114823\r\n",
      "comp143766\r\n",
      "comp142589\r\n",
      "comp135181\r\n",
      "comp137628\r\n",
      "comp140039\r\n",
      "comp144637\r\n",
      "comp137991\r\n",
      "comp123956\r\n",
      "comp128513\r\n",
      "comp144581\r\n",
      "comp135366\r\n",
      "comp141512\r\n"
     ]
    }
   ],
   "source": [
    "\n",
    "#more in eel grass\n",
    "!awk ' {if ($10 <= 0.5 && $10 > 0) print $1}' /Volumes/Alanine/wd/17-03-17/Geoduck-Sum-Area-Bare-Eel2.txt"
   ]
  },
  {
   "cell_type": "code",
   "execution_count": 27,
   "metadata": {
    "collapsed": false
   },
   "outputs": [
    {
     "name": "stdout",
     "output_type": "stream",
     "text": [
      "Row Delta\r\n",
      "comp144477 1.526441736\r\n",
      "comp143612 1.547146321\r\n",
      "comp108850 1.633388843\r\n",
      "comp143868 1.65037439\r\n",
      "comp107905 1.851915872\r\n",
      "comp109341 2.181776172\r\n",
      "comp142930 2.292540781\r\n",
      "comp136843 2.393908993\r\n",
      "comp143755 2.40943375\r\n",
      "comp91529 2.428917339\r\n",
      "comp136462 3.283684206\r\n",
      "comp123534 3.373533971\r\n",
      "comp132950 4.473225529\r\n",
      "comp134318 13.73681929\r\n"
     ]
    }
   ],
   "source": [
    "!awk ' {if ($10 > 1.5) print $1, $10}' /Volumes/Alanine/wd/17-03-17/Geoduck-Sum-Area-Bare-Eel2.txt"
   ]
  },
  {
   "cell_type": "code",
   "execution_count": 10,
   "metadata": {
    "collapsed": false
   },
   "outputs": [
    {
     "name": "stdout",
     "output_type": "stream",
     "text": [
      "ContigID\tlength\tGC_content\tCpG_o/e\tmale_unique_count\tfemale_unique_count\tsex-based_expresssion\tBlastx_UniProt_Acc\tEntryName\tProteinName\tOrganism\tEvalue\tGene_Ontology_ID\tGene_Ontology\tPFAM\tBlastn_Gigaton-ID\tevalue-Gigaton\tBlastn_Ruphibase-ID\tevalue-Ruphibase\tBlastn_Sigenae-ID\tevalue-Sigenae\tDheilly_Cluster\tDheilly_Tissue-enriched-expression\r\n",
      "comp137246_c1_seq26\t1458\t45.4047\t0.71921162\t0\t0\t\tP12716\tACTC_PISOC\t\"Actin, cytoplasmic\"\tPisaster ochraceus (Ochre sea star) (Asterias ochracea)\t0\tGO:0005524; GO:0005737; GO:0005856\tATP binding; cytoplasm; cytoskeleton\tPF00022;\tCHOYP_LOC101072885.1.1\t0\truditapes_lrc32388\t0\tCU684679.p.cg.6\t3.00E-64\t1\t\r\n",
      "comp142515_c0_seq2\t5369\t38.8527\t0.52465914\t3714\t10670\t\tP18091\tACTN_DROME\t\"Alpha-actinin, sarcomeric (F-actin cross-linking protein)\"\tDrosophila melanogaster (Fruit fly)\t0\tGO:0030018; GO:0003779; GO:0031532; GO:0005509; GO:0007016; GO:0007629; GO:0005925; GO:0045214\tZ disc; actin binding; actin cytoskeleton reorganization; calcium ion binding; cytoskeletal anchoring at plasma membrane; flight behavior; focal adhesion; sarcomere organization\tPF00307;PF13405;PF08726;PF00435;\tCHOYP_ACTN.1.2\t0\truditapes_c13583\t0\tCU683354.p.cg.6\t0\t1\t\r\n",
      "comp116682_c1_seq2\t701\t45.6491\t0.52563654\t31\t15\t\tP0CY46\tEGFR_APIME\tEpidermal growth factor receptor (Egfr) (EC 2.7.10.1)\tApis mellifera (Honeybee)\t1.00E-97\tGO:0005524; GO:0016021; GO:0007275; GO:0018108; GO:0004714; GO:0007169\tATP binding; integral to membrane; multicellular organismal development; peptidyl-tyrosine phosphorylation; transmembrane receptor protein tyrosine kinase activity; transmembrane receptor protein tyrosine kinase signaling pathway\tPF00757;PF14843;PF07714;PF01030;\tCHOYP_EGFR.1.3\t1.00E-88\t\t\tEW778003.p.cg.6\t1.00E-71\t1\t\r\n",
      "comp141240_c0_seq5\t4445\t41.5973\t0.51757861\t3\t0\t\tQ96PY5\tFMNL2_HUMAN\tFormin-like protein 2 (Formin homology 2 domain-containing protein 2)\tHomo sapiens (Human)\t7.00E-142\tGO:0030866; GO:0005737; GO:0022604\tcortical actin cytoskeleton organization; cytoplasm; regulation of cell morphogenesis\tPF06367;PF06371;PF02181;\tCHOYP_ISCW_ISCW017809.2.2\t0\t\t\tFP010851.p.cg.6\t5.00E-71\t1\t\r\n",
      "comp127090_c0_seq1\t3402\t39.3592\t0.97990365\t1435\t6899\t\tQ13887\tKLF5_HUMAN\tKrueppel-like factor 5 (Basic transcription element-binding protein 2) (BTE-binding protein 2) (Colon krueppel-like factor) (GC-box-binding protein 2) (Intestinal-enriched krueppel-like factor) (Transcription factor BTEB2)\tHomo sapiens (Human)\t5.00E-49\tGO:0003677; GO:0005794; GO:0001525; GO:0046872; GO:0030033; GO:0005634; GO:0045893; GO:0003700; GO:0035914; GO:0006366\t\"DNA binding; Golgi apparatus; angiogenesis; metal ion binding; microvillus assembly; nucleus; positive regulation of transcription, DNA-dependent; sequence-specific DNA binding transcription factor activity; skeletal muscle cell differentiation; transcription from RNA polymerase II promoter\"\tPF00096;\tCHOYP_EF1A.4.4\t8.00E-81\t\t\tDW713853.p.cg.6\t4.00E-80\t1\t\r\n",
      "comp124055_c0_seq3\t6718\t46.0107\t0.72510342\t41\t1029\t\tP24733\tMYS_AEQIR\t\"Myosin heavy chain, striated muscle\"\tArgopecten irradians (Bay scallop) (Aequipecten irradians)\t0\tGO:0005524; GO:0003774; GO:0030016; GO:0032982\tATP binding; motor activity; myofibril; myosin filament\tPF00063;PF02736;PF01576;\tCHOYP_MYS.2.7\t0\truditapes_c29187\t3.00E-125\tCU686207.p.cg.6\t6.00E-151\t1\tadductor muscle\r\n",
      "comp142437_c1_seq3\t2126\t39.6049\t0.40816819\t118\t112\t\tQ6GYQ0\tRGPA1_HUMAN\tRal GTPase-activating protein subunit alpha-1 (GAP-related-interacting partner to E12) (GRIPE) (GTPase-activating Rap/Ran-GAP domain-like 1) (Tuberin-like protein 1) (p240)\tHomo sapiens (Human)\t3.00E-128\tGO:0017123; GO:0032859; GO:0005829; GO:0005739; GO:0005634; GO:0006355\t\"Ral GTPase activator activity; activation of Ral GTPase activity; cytosol; mitochondrion; nucleus; regulation of transcription, DNA-dependent\"\tPF02145;\tCHOYP_RGPA1.1.1\t7.00E-136\t\t\tAM864624.p.cg.6\t1.00E-70\t1\t\r\n",
      "comp143196_c0_seq1\t2564\t41.5757\t0.54180038\t1180\t6203\t\tP00432\tCATA_BOVIN\tCatalase (EC 1.11.1.6)\tBos taurus (Bovine)\t0\tGO:0050661; GO:0009650; GO:0009060; GO:0004046; GO:0004096; GO:0008203; GO:0020037; GO:0020027; GO:0042744; GO:0046872; GO:0005739; GO:0032088; GO:0043066; GO:0005778; GO:0051092; GO:0051781; GO:0014068; GO:0051289; GO:0006641\tNADP binding; UV protection; aerobic respiration; aminoacylase activity; catalase activity; cholesterol metabolic process; heme binding; hemoglobin metabolic process; hydrogen peroxide catabolic process; metal ion binding; mitochondrion; negative regulation of NF-kappaB transcription factor activity; negative regulation of apoptotic process; peroxisomal membrane; positive regulation of NF-kappaB transcription factor activity; positive regulation of cell division; positive regulation of phosphatidylinositol 3-kinase cascade; protein homotetramerization; triglyceride metabolic process\tPF00199;PF06628;\tCHOYP_CAT.1.1\t0\truditapes2_c1441\t3.00E-25\tEF687775.p.cg.6\t0\t2\t\r\n",
      "comp143573_c0_seq1\t4514\t43.0882\t0.51721178\t794\t8891\t\tP35224\tCTNB_URECA\tCatenin beta (Beta-catenin)\tUrechis caupo (Innkeeper worm) (Spoonworm)\t0\tGO:0007155; GO:0005737; GO:0005856\tcell adhesion; cytoplasm; cytoskeleton\tPF00514;\tCHOYP_ATC1.1.1\t0\t\t\tEW778397.p.cg.6\t0\t2\tfemale gonad\r\n"
     ]
    }
   ],
   "source": [
    "!head /Users/sr320/git-repos/paper-pano-go/data-results/Geoduck-transcriptome_v3_bigtable_v08.tab"
   ]
  },
  {
   "cell_type": "code",
   "execution_count": 19,
   "metadata": {
    "collapsed": false
   },
   "outputs": [
    {
     "name": "stdout",
     "output_type": "stream",
     "text": [
      "Row\tCase Inlet\tFidalgo Bay\tPort Gamble\tSkokomish River Delta\tCase Inlet\tFidalgo Bay\tPort Gamble\tSkokomish River Delta\t\tcode\r\n",
      "comp138254\t360574\t97777\t95180\t287620\t85588101\t1192059\t1204675\t109766\t\t0.00954827\r\n",
      "comp142216\t31657\t132886\t3243329\t1383451\t129571536\t12874602\t8775161\t2705863\t\t0.031127209\r\n",
      "comp125530\t5274051\t8475356\t8697845\t4477619\t243830992\t30877673\t100874987\t123168185\t\t0.053984505\r\n",
      "comp48421\t1076286\t2576964\t66099872\t607896\t47442290\t766774270\t19719421\t5836906\t\t0.08378577\r\n",
      "comp144401\t467900\t6106045\t14797145\t2769552\t54097213\t95107974\t31923454\t3666418\t\t0.130634672\r\n",
      "comp135856\t1387355\t13404775\t34376818\t5208571\t23389665\t362875937\t10671900\t12001832\t\t0.132972093\r\n",
      "\t1387355\t13404775\t34376818\t5208571\t23389665\t362875937\t10671900\t12001832\t\t0.132972093\r\n",
      "comp143411\t1328008\t1399948\t9871146\t1141102\t27929375\t45294045\t21030068\t4463636\t\t0.139187645\r\n",
      "comp122035\t27122917\t36444407\t33539732\t27436497\t156974907\t156864985\t246099163\t215985463\t\t0.160509882\r\n"
     ]
    }
   ],
   "source": [
    "!head /Volumes/Alanine/wd/17-03-17/Geoduck-Sum-Area-Bare-Eel2.txt"
   ]
  },
  {
   "cell_type": "code",
   "execution_count": null,
   "metadata": {
    "collapsed": true
   },
   "outputs": [],
   "source": []
  }
 ],
 "metadata": {
  "kernelspec": {
   "display_name": "Python 2",
   "language": "python",
   "name": "python2"
  },
  "language_info": {
   "codemirror_mode": {
    "name": "ipython",
    "version": 2
   },
   "file_extension": ".py",
   "mimetype": "text/x-python",
   "name": "python",
   "nbconvert_exporter": "python",
   "pygments_lexer": "ipython2",
   "version": "2.7.12"
  }
 },
 "nbformat": 4,
 "nbformat_minor": 0
}
