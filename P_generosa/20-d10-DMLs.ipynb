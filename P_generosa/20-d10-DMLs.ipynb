{
 "cells": [
  {
   "cell_type": "code",
   "execution_count": 1,
   "metadata": {
    "collapsed": false
   },
   "outputs": [
    {
     "name": "stdout",
     "output_type": "stream",
     "text": [
      "\u001b[31m/Volumes/Alanine/wd/17-06-16/EPI-103_percmeth-1.bedgraph\u001b[m\u001b[m*\r\n",
      "\u001b[31m/Volumes/Alanine/wd/17-06-16/EPI-104_percmeth-1.bedgraph\u001b[m\u001b[m*\r\n",
      "\u001b[31m/Volumes/Alanine/wd/17-06-16/EPI-111_percmeth-2.bedgraph\u001b[m\u001b[m*\r\n",
      "\u001b[31m/Volumes/Alanine/wd/17-06-16/EPI-113_percmeth-2.bedgraph\u001b[m\u001b[m*\r\n",
      "\u001b[31m/Volumes/Alanine/wd/17-06-16/EPI-119_percmeth-0.bedgraph\u001b[m\u001b[m*\r\n",
      "\u001b[31m/Volumes/Alanine/wd/17-06-16/EPI-120_percmeth-0.bedgraph\u001b[m\u001b[m*\r\n",
      "\u001b[31m/Volumes/Alanine/wd/17-06-16/EPI-127_percmeth-1.bedgraph\u001b[m\u001b[m*\r\n",
      "\u001b[31m/Volumes/Alanine/wd/17-06-16/EPI-128_percmeth-1.bedgraph\u001b[m\u001b[m*\r\n",
      "\u001b[31m/Volumes/Alanine/wd/17-06-16/EPI-135_percmeth-0.bedgraph\u001b[m\u001b[m*\r\n",
      "\u001b[31m/Volumes/Alanine/wd/17-06-16/EPI-136_percmeth-0.bedgraph\u001b[m\u001b[m*\r\n",
      "\u001b[31m/Volumes/Alanine/wd/17-06-16/EPI-143_percmeth-2.bedgraph\u001b[m\u001b[m*\r\n",
      "\u001b[31m/Volumes/Alanine/wd/17-06-16/EPI-145_percmeth-2.bedgraph\u001b[m\u001b[m*\r\n"
     ]
    }
   ],
   "source": [
    "ls /Volumes/Alanine/wd/17-06-16/EPI*"
   ]
  },
  {
   "cell_type": "code",
   "execution_count": 2,
   "metadata": {
    "collapsed": false
   },
   "outputs": [
    {
     "name": "stdout",
     "output_type": "stream",
     "text": [
      "   43251 /Volumes/Alanine/wd/17-06-16/EPI-103_percmeth-1.bedgraph\n",
      "  104968 /Volumes/Alanine/wd/17-06-16/EPI-104_percmeth-1.bedgraph\n",
      "   85561 /Volumes/Alanine/wd/17-06-16/EPI-111_percmeth-2.bedgraph\n",
      "   73919 /Volumes/Alanine/wd/17-06-16/EPI-113_percmeth-2.bedgraph\n",
      "   93920 /Volumes/Alanine/wd/17-06-16/EPI-119_percmeth-0.bedgraph\n",
      "   68969 /Volumes/Alanine/wd/17-06-16/EPI-120_percmeth-0.bedgraph\n",
      "   54457 /Volumes/Alanine/wd/17-06-16/EPI-127_percmeth-1.bedgraph\n",
      "   69429 /Volumes/Alanine/wd/17-06-16/EPI-128_percmeth-1.bedgraph\n",
      "   93374 /Volumes/Alanine/wd/17-06-16/EPI-135_percmeth-0.bedgraph\n",
      "   87270 /Volumes/Alanine/wd/17-06-16/EPI-136_percmeth-0.bedgraph\n",
      "   45792 /Volumes/Alanine/wd/17-06-16/EPI-143_percmeth-2.bedgraph\n",
      "   73297 /Volumes/Alanine/wd/17-06-16/EPI-145_percmeth-2.bedgraph\n",
      "  894207 total\n"
     ]
    }
   ],
   "source": [
    "!wc -l /Volumes/Alanine/wd/17-06-16/EPI*"
   ]
  },
  {
   "cell_type": "code",
   "execution_count": null,
   "metadata": {
    "collapsed": true
   },
   "outputs": [],
   "source": []
  }
 ],
 "metadata": {
  "kernelspec": {
   "display_name": "Python 2",
   "language": "python",
   "name": "python2"
  },
  "language_info": {
   "codemirror_mode": {
    "name": "ipython",
    "version": 2
   },
   "file_extension": ".py",
   "mimetype": "text/x-python",
   "name": "python",
   "nbconvert_exporter": "python",
   "pygments_lexer": "ipython2",
   "version": "2.7.12"
  }
 },
 "nbformat": 4,
 "nbformat_minor": 0
}
