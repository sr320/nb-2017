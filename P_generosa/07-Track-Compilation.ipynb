{
 "cells": [
  {
   "cell_type": "markdown",
   "metadata": {},
   "source": [
    "# Feature tracks for Genome Browser"
   ]
  },
  {
   "cell_type": "markdown",
   "metadata": {},
   "source": [
    "Genome: `http://owl.fish.washington.edu/halfshell/Panopea_generosa-Scaff-10k.fa`"
   ]
  },
  {
   "cell_type": "markdown",
   "metadata": {},
   "source": [
    "We have a IGV xml `http://owl.fish.washington.edu/halfshell/working-directory/17-01-30/igv_session-EPI-013017.xml`"
   ]
  },
  {
   "cell_type": "markdown",
   "metadata": {},
   "source": [
    "```\n",
    "<Resource path=\"http://owl.fish.washington.edu/halfshell/EPI-135_S35_L005.igv\"/>\n",
    "<Resource path=\"http://owl.fish.washington.edu/halfshell/EPI-145_S38_L005.igv\"/>\n",
    "<Resource path=\"http://owl.fish.washington.edu/halfshell/EPI-136_S36_L005.igv\"/>\n",
    "<Resource path=\"http://owl.fish.washington.edu/halfshell/EPI-143_S37_L005.igv\"/>\n",
    "<Resource path=\"http://owl.fish.washington.edu/halfshell/working-directory/17-01-30/bw-Geo_Pool_M_CTTGTA.sorted.sam\"/>\n",
    "<Resource path=\"http://owl.fish.washington.edu/halfshell/EPI-103_S27_L005.bam\"/>\n",
    "<Resource path=\"http://owl.fish.washington.edu/halfshell/EPI-128_S34_L005.igv\"/>\n",
    "<Resource path=\"http://owl.fish.washington.edu/scaphapoda/Sean/CovCutTests/Day10/5x.DiffMethRegions.bed\"/>\n",
    "<Resource path=\"http://owl.fish.washington.edu/halfshell/EPI-104_S28_L005.bam\"/>\n",
    "<Resource path=\"http://owl.fish.washington.edu/halfshell/working-directory/17-01-30/bw-Geo_Pool_F_GGCTAC.sorted.sam\"/>\n",
    "<Resource path=\"http://owl.fish.washington.edu/halfshell/working-directory/17-01-30/Pg-trans-blastn-Scaff-10k-02.gff\"/>\n",
    "<Resource path=\"http://owl.fish.washington.edu/halfshell/EPI-127_S33_L005.igv\"/>\n",
    "<Resource path=\"http://owl.fish.washington.edu/scaphapoda/Sean/GeoduckTPE/Panopea_generosa-Scaff-10k.fa.out.gff\"/>\n",
    "<Resource path=\"http://owl.fish.washington.edu/halfshell/working-directory/17-01-30/DiffMethRegions-41.bed\"/>\n",
    "<Resource path=\"http://owl.fish.washington.edu/halfshell/EPI-113_S30_L005.igv\"/>\n",
    "<Resource path=\"http://owl.fish.washington.edu/halfshell/EPI-111_S29_L005.igv\"/>\n",
    "<Resource path=\"http://owl.fish.washington.edu/halfshell/EPI-119_S31_L005.igv\"/>\n",
    "<Resource path=\"http://owl.fish.washington.edu/halfshell/EPI-103_S27_L005.igv\"/>\n",
    "<Resource path=\"http://owl.fish.washington.edu/halfshell/EPI-104_S28_L005.igv\"/>\n",
    "<Resource path=\"http://owl.fish.washington.edu/halfshell/EPI-120_S32_L005.igv\"/>\n",
    "<Resource path=\"http://owl.fish.washington.edu/halfshell/EPI-113_S30_L005.bam\"/>\n",
    "```\n"
   ]
  },
  {
   "cell_type": "markdown",
   "metadata": {},
   "source": [
    "# Primary Tracks "
   ]
  },
  {
   "cell_type": "markdown",
   "metadata": {},
   "source": [
    "**Genes (based on blastn)** : `http://owl.fish.washington.edu/halfshell/working-directory/17-01-30/Pg-trans-blastn-Scaff-10k-02.gff`"
   ]
  },
  {
   "cell_type": "markdown",
   "metadata": {},
   "source": [
    "**Transposable Elements** : `http://owl.fish.washington.edu/scaphapoda/Sean/Geoduck_Analysis/Geoduck_Transposons/Panopea_generosa-Scaff-10k.fa.out.gff`"
   ]
  },
  {
   "cell_type": "markdown",
   "metadata": {},
   "source": [
    "```\n",
    "==================================================\n",
    "file name: Panopea_generosa-Scaff-10k.fa\n",
    "sequences:         19539\n",
    "total length:  314618376 bp  (285199906 bp excl N/X-runs)\n",
    "GC level:         33.48 %\n",
    "bases masked:    9779241 bp ( 3.11 %)\n",
    "==================================================\n",
    "               number of      length   percentage\n",
    "               elements*    occupied  of sequence\n",
    "--------------------------------------------------\n",
    "Retroelements         6980      2036509 bp    0.65 %\n",
    "   SINEs:              296        15743 bp    0.01 %\n",
    "   Penelope             40        14822 bp    0.00 %\n",
    "   LINEs:             5382      1421071 bp    0.45 %\n",
    "    CRE/SLACS            0            0 bp    0.00 %\n",
    "     L2/CR1/Rex        383       146602 bp    0.05 %\n",
    "     R1/LOA/Jockey       0            0 bp    0.00 %\n",
    "     R2/R4/NeSL          0            0 bp    0.00 %\n",
    "     RTE/Bov-B        2363       515478 bp    0.16 %\n",
    "     L1/CIN4             0            0 bp    0.00 %\n",
    "   LTR elements:      1302       599695 bp    0.19 %\n",
    "     BEL/Pao            70        39245 bp    0.01 %\n",
    "     Ty1/Copia           2         3081 bp    0.00 %\n",
    "     Gypsy/DIRS1      1167       542593 bp    0.17 %\n",
    "       Retroviral        0            0 bp    0.00 %\n",
    "\n",
    "DNA transposons       8479      1096657 bp    0.35 %\n",
    "   hobo-Activator      254        34464 bp    0.01 %\n",
    "   Tc1-IS630-Pogo     2759       419439 bp    0.13 %\n",
    "   En-Spm                0            0 bp    0.00 %\n",
    "   MuDR-IS905            0            0 bp    0.00 %\n",
    "   PiggyBac             46         3024 bp    0.00 %\n",
    "   Tourist/Harbinger   148        32068 bp    0.01 %\n",
    "   Other (Mirage,        0            0 bp    0.00 %\n",
    "    P-element, Transib)\n",
    "\n",
    "Rolling-circles          0            0 bp    0.00 %\n",
    "\n",
    "Unclassified:         9094      1019046 bp    0.32 %\n",
    "\n",
    "Total interspersed repeats:     4152212 bp    1.32 %\n",
    "\n",
    "\n",
    "Small RNA:              33         2839 bp    0.00 %\n",
    "\n",
    "Satellites:            187        28832 bp    0.01 %\n",
    "Simple repeats:      84590      5079301 bp    1.61 %\n",
    "Low complexity:      10918       540927 bp    0.17 %\n",
    "==================================================\n",
    "\n",
    "* most repeats fragmented by insertions or deletions\n",
    "  have been counted as one element\n",
    "                                                      \n",
    "\n",
    "The query species was assumed to be crassostrea gigas\n",
    "RepeatMasker version open-4.0.6 , sensitive mode\n",
    "                                 \n",
    "run with rmblastn version 2.2.27+\n",
    "RepBase Update 20160829, RM database version 20160829\n",
    "```"
   ]
  },
  {
   "cell_type": "markdown",
   "metadata": {
    "collapsed": true
   },
   "source": [
    "**CG Track** `http://owl.fish.washington.edu/halfshell/working-directory/17-03-07/CG-fuzznuc-Pgenerosa-scaff-10k.gff` "
   ]
  },
  {
   "cell_type": "markdown",
   "metadata": {},
   "source": [
    "![GalaxySS](https://www.evernote.com/l/AAqOza03qrhLhYFWqbZ_GixcSUqsIte8lcQB/image.png)"
   ]
  },
  {
   "cell_type": "code",
   "execution_count": null,
   "metadata": {
    "collapsed": true
   },
   "outputs": [],
   "source": []
  }
 ],
 "metadata": {
  "kernelspec": {
   "display_name": "Python 2",
   "language": "python",
   "name": "python2"
  },
  "language_info": {
   "codemirror_mode": {
    "name": "ipython",
    "version": 2
   },
   "file_extension": ".py",
   "mimetype": "text/x-python",
   "name": "python",
   "nbconvert_exporter": "python",
   "pygments_lexer": "ipython2",
   "version": "2.7.12"
  }
 },
 "nbformat": 4,
 "nbformat_minor": 0
}
