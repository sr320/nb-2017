{
 "cells": [
  {
   "cell_type": "code",
   "execution_count": 1,
   "metadata": {
    "collapsed": false
   },
   "outputs": [
    {
     "name": "stdout",
     "output_type": "stream",
     "text": [
      "/Volumes/web-1/nightingales/Geoduck_MiSeq/170317_M03814_0172_000000000-B2K79/Data/GeoDuckRNAMiSeq-35978947\n"
     ]
    }
   ],
   "source": [
    " cd /Volumes/web-1/nightingales/Geoduck_MiSeq/170317_M03814_0172_000000000-B2K79/Data/GeoDuckRNAMiSeq-35978947"
   ]
  },
  {
   "cell_type": "code",
   "execution_count": 2,
   "metadata": {
    "collapsed": false
   },
   "outputs": [
    {
     "name": "stdout",
     "output_type": "stream",
     "text": [
      "\u001b[30m\u001b[43m1-43865084\u001b[m\u001b[m/ \u001b[30m\u001b[43m3-43862058\u001b[m\u001b[m/ \u001b[30m\u001b[43m5-43878904\u001b[m\u001b[m/ \u001b[30m\u001b[43m7-43866069\u001b[m\u001b[m/\r\n",
      "\u001b[30m\u001b[43m2-43876910\u001b[m\u001b[m/ \u001b[30m\u001b[43m4-43871086\u001b[m\u001b[m/ \u001b[30m\u001b[43m6-43868087\u001b[m\u001b[m/ \u001b[30m\u001b[43m8-43874887\u001b[m\u001b[m/\r\n"
     ]
    }
   ],
   "source": [
    "ls"
   ]
  },
  {
   "cell_type": "code",
   "execution_count": 3,
   "metadata": {
    "collapsed": false
   },
   "outputs": [
    {
     "name": "stdout",
     "output_type": "stream",
     "text": [
      "./4-43871086/4_S4_L001_R1_001.fastq.gz\r\n",
      "./4-43871086/4_S4_L001_R2_001.fastq.gz\r\n",
      "./1-43865084/1_S1_L001_R1_001.fastq.gz\r\n",
      "./1-43865084/1_S1_L001_R2_001.fastq.gz\r\n",
      "./3-43862058/3_S3_L001_R1_001.fastq.gz\r\n",
      "./3-43862058/3_S3_L001_R2_001.fastq.gz\r\n",
      "./5-43878904/5_S5_L001_R1_001.fastq.gz\r\n",
      "./5-43878904/5_S5_L001_R2_001.fastq.gz\r\n",
      "./7-43866069/7_S7_L001_R1_001.fastq.gz\r\n",
      "./7-43866069/7_S7_L001_R2_001.fastq.gz\r\n"
     ]
    }
   ],
   "source": [
    "!find . -name \\*.gz | head"
   ]
  },
  {
   "cell_type": "code",
   "execution_count": 4,
   "metadata": {
    "collapsed": false
   },
   "outputs": [
    {
     "name": "stdout",
     "output_type": "stream",
     "text": [
      "./4-43871086/4_S4_L001_R1_001.fastq.gz\n",
      "./4-43871086/4_S4_L001_R2_001.fastq.gz\n",
      "./1-43865084/1_S1_L001_R1_001.fastq.gz\n",
      "./1-43865084/1_S1_L001_R2_001.fastq.gz\n",
      "./3-43862058/3_S3_L001_R1_001.fastq.gz\n",
      "./3-43862058/3_S3_L001_R2_001.fastq.gz\n",
      "./5-43878904/5_S5_L001_R1_001.fastq.gz\n",
      "./5-43878904/5_S5_L001_R2_001.fastq.gz\n",
      "./7-43866069/7_S7_L001_R1_001.fastq.gz\n",
      "./7-43866069/7_S7_L001_R2_001.fastq.gz\n",
      "./2-43876910/2_S2_L001_R1_001.fastq.gz\n",
      "./2-43876910/2_S2_L001_R2_001.fastq.gz\n",
      "./6-43868087/6_S6_L001_R1_001.fastq.gz\n",
      "./6-43868087/6_S6_L001_R2_001.fastq.gz\n",
      "./8-43874887/8_S8_L001_R1_001.fastq.gz\n",
      "./8-43874887/8_S8_L001_R2_001.fastq.gz\n"
     ]
    }
   ],
   "source": [
    "!find . -name \\*.gz"
   ]
  },
  {
   "cell_type": "code",
   "execution_count": 5,
   "metadata": {
    "collapsed": true
   },
   "outputs": [],
   "source": [
    "!mkdir /Volumes/web-1/halfshell/working-directory/17-09-06b"
   ]
  },
  {
   "cell_type": "code",
   "execution_count": 6,
   "metadata": {
    "collapsed": true
   },
   "outputs": [],
   "source": [
    "!find . -name \\*.gz -exec cp {} \\\n",
    "/Volumes/web-1/halfshell/working-directory/17-09-06b/ \\;"
   ]
  },
  {
   "cell_type": "code",
   "execution_count": null,
   "metadata": {
    "collapsed": true
   },
   "outputs": [],
   "source": []
  }
 ],
 "metadata": {
  "kernelspec": {
   "display_name": "Python 2",
   "language": "python",
   "name": "python2"
  },
  "language_info": {
   "codemirror_mode": {
    "name": "ipython",
    "version": 2
   },
   "file_extension": ".py",
   "mimetype": "text/x-python",
   "name": "python",
   "nbconvert_exporter": "python",
   "pygments_lexer": "ipython2",
   "version": "2.7.12"
  }
 },
 "nbformat": 4,
 "nbformat_minor": 0
}
