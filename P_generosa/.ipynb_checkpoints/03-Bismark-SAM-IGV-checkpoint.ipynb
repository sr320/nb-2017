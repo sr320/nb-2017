{
 "cells": [
  {
   "cell_type": "code",
   "execution_count": 1,
   "metadata": {
    "collapsed": false
   },
   "outputs": [
    {
     "name": "stdout",
     "output_type": "stream",
     "text": [
      "\u001b[31m/Volumes/web/halfshell/EPI-103_S27_L005.sam\u001b[m\u001b[m\r\n",
      "\u001b[31m/Volumes/web/halfshell/EPI-104_S28_L005.sam\u001b[m\u001b[m\r\n",
      "\u001b[31m/Volumes/web/halfshell/EPI-111_S29_L005.sam\u001b[m\u001b[m\r\n",
      "\u001b[31m/Volumes/web/halfshell/EPI-113_S30_L005.sam\u001b[m\u001b[m\r\n",
      "\u001b[31m/Volumes/web/halfshell/EPI-119_S31_L005.sam\u001b[m\u001b[m\r\n",
      "\u001b[31m/Volumes/web/halfshell/EPI-120_S32_L005.sam\u001b[m\u001b[m\r\n",
      "\u001b[31m/Volumes/web/halfshell/EPI-127_S33_L005.sam\u001b[m\u001b[m\r\n",
      "\u001b[31m/Volumes/web/halfshell/EPI-128_S34_L005.sam\u001b[m\u001b[m\r\n",
      "\u001b[31m/Volumes/web/halfshell/EPI-135_S35_L005.sam\u001b[m\u001b[m\r\n",
      "\u001b[31m/Volumes/web/halfshell/EPI-136_S36_L005.sam\u001b[m\u001b[m\r\n",
      "\u001b[31m/Volumes/web/halfshell/EPI-143_S37_L005.sam\u001b[m\u001b[m\r\n",
      "\u001b[31m/Volumes/web/halfshell/EPI-145_S38_L005.sam\u001b[m\u001b[m\r\n"
     ]
    }
   ],
   "source": [
    "!ls /Volumes/web/halfshell/EPI*"
   ]
  },
  {
   "cell_type": "code",
   "execution_count": 12,
   "metadata": {
    "collapsed": false
   },
   "outputs": [
    {
     "name": "stdout",
     "output_type": "stream",
     "text": [
      "[bam_sort_core] merging from 3 files...\r\n"
     ]
    }
   ],
   "source": [
    "!samtools view -bS /Volumes/web/halfshell/EPI-103_S27_L005.sam \\\n",
    "| samtools sort -o /Volumes/web/halfshell/EPI-103_S27_L005.bam\n",
    "!samtools index /Volumes/web/halfshell/EPI-103_S27_L005.bam\n"
   ]
  },
  {
   "cell_type": "code",
   "execution_count": 13,
   "metadata": {
    "collapsed": false
   },
   "outputs": [
    {
     "name": "stdout",
     "output_type": "stream",
     "text": [
      "[bam_sort_core] merging from 5 files...\r\n"
     ]
    }
   ],
   "source": [
    "!samtools view -bS /Volumes/web/halfshell/EPI-104_S28_L005.sam \\\n",
    "| samtools sort -o /Volumes/web/halfshell/EPI-104_S28_L005.bam\n",
    "!samtools index /Volumes/web/halfshell/EPI-104_S28_L005.bam"
   ]
  },
  {
   "cell_type": "code",
   "execution_count": 14,
   "metadata": {
    "collapsed": false
   },
   "outputs": [
    {
     "name": "stdout",
     "output_type": "stream",
     "text": [
      "[bam_sort_core] merging from 4 files...\n",
      "samtools index: \"/Volumes/web/halfshell/EPI-111_S29_L005.bam\" is corrupted or unsorted\n"
     ]
    }
   ],
   "source": [
    "!samtools view -bS /Volumes/web/halfshell/EPI-111_S29_L005.sam \\\n",
    "| samtools sort -o /Volumes/web/halfshell/EPI-111_S29_L005.bam\n",
    "!samtools index /Volumes/web/halfshell/EPI-111_S29_L005.bam"
   ]
  },
  {
   "cell_type": "code",
   "execution_count": 15,
   "metadata": {
    "collapsed": false
   },
   "outputs": [
    {
     "name": "stdout",
     "output_type": "stream",
     "text": [
      "[bam_sort_core] merging from 4 files...\r\n"
     ]
    }
   ],
   "source": [
    "!samtools view -bS /Volumes/web/halfshell/EPI-113_S30_L005.sam \\\n",
    "| samtools sort -o /Volumes/web/halfshell/EPI-113_S30_L005.bam\n",
    "!samtools index /Volumes/web/halfshell/EPI-113_S30_L005.bam"
   ]
  },
  {
   "cell_type": "code",
   "execution_count": 16,
   "metadata": {
    "collapsed": false
   },
   "outputs": [
    {
     "name": "stdout",
     "output_type": "stream",
     "text": [
      "[bam_sort_core] merging from 5 files...\r\n"
     ]
    }
   ],
   "source": [
    "!samtools view -bS /Volumes/web/halfshell/EPI-119_S31_L005.sam \\\n",
    "| samtools sort -o /Volumes/web/halfshell/EPI-119_S31_L005.bam\n",
    "!samtools index /Volumes/web/halfshell/EPI-119_S31_L005.bam"
   ]
  },
  {
   "cell_type": "code",
   "execution_count": 17,
   "metadata": {
    "collapsed": false
   },
   "outputs": [
    {
     "name": "stdout",
     "output_type": "stream",
     "text": [
      "[bam_sort_core] merging from 4 files...\r\n"
     ]
    }
   ],
   "source": [
    "!samtools view -bS /Volumes/web/halfshell/EPI-120_S32_L005.sam \\\n",
    "| samtools sort -o /Volumes/web/halfshell/EPI-120_S32_L005.bam\n",
    "!samtools index /Volumes/web/halfshell/EPI-120_S32_L005.bam"
   ]
  },
  {
   "cell_type": "code",
   "execution_count": 18,
   "metadata": {
    "collapsed": false
   },
   "outputs": [
    {
     "name": "stdout",
     "output_type": "stream",
     "text": [
      "[bam_sort_core] merging from 4 files...\r\n"
     ]
    }
   ],
   "source": [
    "!samtools view -bS /Volumes/web/halfshell/EPI-127_S33_L005.sam \\\n",
    "| samtools sort -o /Volumes/web/halfshell/EPI-127_S33_L005.bam\n",
    "!samtools index /Volumes/web/halfshell/EPI-127_S33_L005.bam"
   ]
  },
  {
   "cell_type": "code",
   "execution_count": 19,
   "metadata": {
    "collapsed": false
   },
   "outputs": [
    {
     "name": "stdout",
     "output_type": "stream",
     "text": [
      "[bam_sort_core] merging from 4 files...\r\n"
     ]
    }
   ],
   "source": [
    "!samtools view -bS /Volumes/web/halfshell/EPI-128_S34_L005.sam \\\n",
    "| samtools sort -o /Volumes/web/halfshell/EPI-128_S34_L005.bam\n",
    "!samtools index /Volumes/web/halfshell/EPI-128_S34_L005.bam"
   ]
  },
  {
   "cell_type": "code",
   "execution_count": 20,
   "metadata": {
    "collapsed": false
   },
   "outputs": [
    {
     "name": "stdout",
     "output_type": "stream",
     "text": [
      "[bam_sort_core] merging from 4 files...\r\n"
     ]
    }
   ],
   "source": [
    "!samtools view -bS /Volumes/web/halfshell/EPI-135_S35_L005.sam \\\n",
    "| samtools sort -o /Volumes/web/halfshell/EPI-135_S35_L005.bam\n",
    "!samtools index /Volumes/web/halfshell/EPI-135_S35_L005.bam"
   ]
  },
  {
   "cell_type": "code",
   "execution_count": 21,
   "metadata": {
    "collapsed": false
   },
   "outputs": [
    {
     "name": "stdout",
     "output_type": "stream",
     "text": [
      "[bam_sort_core] merging from 4 files...\r\n"
     ]
    }
   ],
   "source": [
    "!samtools view -bS /Volumes/web/halfshell/EPI-136_S36_L005.sam \\\n",
    "| samtools sort -o /Volumes/web/halfshell/EPI-136_S36_L005.bam\n",
    "!samtools index /Volumes/web/halfshell/EPI-136_S36_L005.bam"
   ]
  },
  {
   "cell_type": "code",
   "execution_count": 22,
   "metadata": {
    "collapsed": false
   },
   "outputs": [
    {
     "name": "stdout",
     "output_type": "stream",
     "text": [
      "[bam_sort_core] merging from 4 files...\r\n"
     ]
    }
   ],
   "source": [
    "!samtools view -bS /Volumes/web/halfshell/EPI-143_S37_L005.sam \\\n",
    "| samtools sort -o /Volumes/web/halfshell/EPI-143_S37_L005.bam\n",
    "!samtools index /Volumes/web/halfshell/EPI-143_S37_L005.bam"
   ]
  },
  {
   "cell_type": "code",
   "execution_count": 23,
   "metadata": {
    "collapsed": false
   },
   "outputs": [
    {
     "name": "stdout",
     "output_type": "stream",
     "text": [
      "[bam_sort_core] merging from 4 files...\r\n"
     ]
    }
   ],
   "source": [
    "!samtools view -bS /Volumes/web/halfshell/EPI-145_S38_L005.sam \\\n",
    "| samtools sort -o /Volumes/web/halfshell/EPI-145_S38_L005.bam\n",
    "!samtools index /Volumes/web/halfshell/EPI-145_S38_L005.bam"
   ]
  },
  {
   "cell_type": "code",
   "execution_count": 33,
   "metadata": {
    "collapsed": false
   },
   "outputs": [],
   "source": [
    "%%bash\n",
    "find /Volumes/web/halfshell/EPI-145*bam | xargs basename -s .bam \\\n",
    "| xargs -I{} bedtools genomecov \\\n",
    "-ibam /Volumes/web/halfshell/{}.bam \\\n",
    "-bg > /Volumes/web/halfshell/{}.bedgraph"
   ]
  },
  {
   "cell_type": "code",
   "execution_count": 34,
   "metadata": {
    "collapsed": true
   },
   "outputs": [],
   "source": [
    "#fail"
   ]
  },
  {
   "cell_type": "code",
   "execution_count": 35,
   "metadata": {
    "collapsed": false
   },
   "outputs": [
    {
     "name": "stdout",
     "output_type": "stream",
     "text": [
      "\"1\"\t\"scaffold100\"\t42\t\"R\"\t\"CG\"\t0.333\t6\t2\t6\t0\t0\t0.097\t0.7\r\n",
      "\"2\"\t\"scaffold100\"\t107\t\"F\"\t\"CG\"\t0.11\t345.44\t38\t427\t216\t267\t0.081\t0.147\r\n",
      "\"3\"\t\"scaffold100\"\t108\t\"R\"\t\"CG\"\t0.3\t342.96\t103\t353\t444\t457\t0.254\t0.351\r\n",
      "\"4\"\t\"scaffold100\"\t142\t\"F\"\t\"CG\"\t1\t329.77\t457\t678\t268\t551\t0.988\t1\r\n",
      "\"5\"\t\"scaffold100\"\t143\t\"R\"\t\"CG\"\t0.248\t508.49\t126\t547\t647\t696\t0.212\t0.287\r\n",
      "\"6\"\t\"scaffold100\"\t173\t\"F\"\t\"CG\"\t0.103\t260.93\t27\t659\t137\t346\t0.072\t0.146\r\n",
      "\"7\"\t\"scaffold100\"\t174\t\"R\"\t\"CG\"\t0.284\t341.52\t97\t350\t644\t660\t0.239\t0.334\r\n",
      "\"8\"\t\"scaffold100\"\t208\t\"F\"\t\"CG\"\t0.851\t296.09\t252\t307\t190\t197\t0.806\t0.887\r\n",
      "\"9\"\t\"scaffold100\"\t209\t\"R\"\t\"CG\"\t0.622\t186.41\t116\t195\t282\t295\t0.551\t0.689\r\n",
      "\"10\"\t\"scaffold100\"\t251\t\"F\"\t\"CG\"\t0\t1\t0\t1\t0\t0\t0\t0.793\r\n"
     ]
    }
   ],
   "source": [
    "!head /Volumes/web/scaphapoda/Sean/geoduck-untrimmed-data/CPG_methratio-out-EPI-103_S27_L005.sam.txt"
   ]
  },
  {
   "cell_type": "code",
   "execution_count": 44,
   "metadata": {
    "collapsed": false
   },
   "outputs": [],
   "source": [
    "%%bash\n",
    "awk '{if ($9 >= 10) print $2,$3-1,$3+1,\"CpG\",$6}' \\\n",
    "/Volumes/web/scaphapoda/Sean/geoduck-untrimmed-data/CPG_methratio-out-EPI-103_S27_L005.sam.txt \\\n",
    "| tr ' ' \"\\t\" | sed 's/\"//g' \\\n",
    "> /Volumes/web/halfshell/EPI-103_S27_L005.igv"
   ]
  },
  {
   "cell_type": "code",
   "execution_count": 45,
   "metadata": {
    "collapsed": false
   },
   "outputs": [
    {
     "name": "stdout",
     "output_type": "stream",
     "text": [
      "scaffold100\t106\t108\tCpG\t0.11\r\n",
      "scaffold100\t107\t109\tCpG\t0.3\r\n",
      "scaffold100\t141\t143\tCpG\t1\r\n",
      "scaffold100\t142\t144\tCpG\t0.248\r\n",
      "scaffold100\t172\t174\tCpG\t0.103\r\n",
      "scaffold100\t173\t175\tCpG\t0.284\r\n",
      "scaffold100\t207\t209\tCpG\t0.851\r\n",
      "scaffold100\t208\t210\tCpG\t0.622\r\n",
      "scaffold100\t1851\t1853\tCpG\t0.455\r\n",
      "scaffold100\t1898\t1900\tCpG\t0.229\r\n"
     ]
    }
   ],
   "source": [
    "!head /Volumes/web/halfshell/EPI-103_S27_L005.igv"
   ]
  },
  {
   "cell_type": "code",
   "execution_count": null,
   "metadata": {
    "collapsed": false
   },
   "outputs": [],
   "source": [
    "%%bash\n",
    "awk '{if ($9 >= 10) print $2,$3-1,$3+1,\"CpG\",$6}' \\\n",
    "/Volumes/web/scaphapoda/Sean/geoduck-untrimmed-data/CPG_methratio-out-EPI-104_S28_L005.sam.txt \\\n",
    "| tr ' ' \"\\t\" | sed 's/\"//g' \\\n",
    "> /Volumes/web/halfshell/EPI-104_S28_L005.igv\n"
   ]
  },
  {
   "cell_type": "code",
   "execution_count": null,
   "metadata": {
    "collapsed": false
   },
   "outputs": [],
   "source": [
    "%%bash\n",
    "awk '{if ($9 >= 10) print $2,$3-1,$3+1,\"CpG\",$6}' \\\n",
    "/Volumes/web/scaphapoda/Sean/geoduck-untrimmed-data/CPG_methratio-out-EPI-111_S29_L005.sam.txt \\\n",
    "| tr ' ' \"\\t\" | sed 's/\"//g' \\\n",
    "> /Volumes/web/halfshell/EPI-111_S29_L005.igv\n"
   ]
  },
  {
   "cell_type": "code",
   "execution_count": null,
   "metadata": {
    "collapsed": false
   },
   "outputs": [],
   "source": [
    "%%bash\n",
    "awk '{if ($9 >= 10) print $2,$3-1,$3+1,\"CpG\",$6}' \\\n",
    "/Volumes/web/scaphapoda/Sean/geoduck-untrimmed-data/CPG_methratio-out-EPI-113_S30_L005.sam.txt \\\n",
    "| tr ' ' \"\\t\" | sed 's/\"//g' \\\n",
    "> /Volumes/web/halfshell/EPI-113_S30_L005.igv\n"
   ]
  },
  {
   "cell_type": "code",
   "execution_count": null,
   "metadata": {
    "collapsed": false
   },
   "outputs": [],
   "source": [
    "%%bash\n",
    "awk '{if ($9 >= 10) print $2,$3-1,$3+1,\"CpG\",$6}' \\\n",
    "/Volumes/web/scaphapoda/Sean/geoduck-untrimmed-data/CPG_methratio-out-EPI-119_S31_L005.sam.txt \\\n",
    "| tr ' ' \"\\t\" | sed 's/\"//g' \\\n",
    "> /Volumes/web/halfshell/EPI-119_S31_L005.igv\n"
   ]
  },
  {
   "cell_type": "code",
   "execution_count": null,
   "metadata": {
    "collapsed": false
   },
   "outputs": [],
   "source": [
    "%%bash\n",
    "awk '{if ($9 >= 10) print $2,$3-1,$3+1,\"CpG\",$6}' \\\n",
    "/Volumes/web/scaphapoda/Sean/geoduck-untrimmed-data/CPG_methratio-out-EPI-120_S32_L005.sam.txt \\\n",
    "| tr ' ' \"\\t\" | sed 's/\"//g' \\\n",
    "> /Volumes/web/halfshell/EPI-120_S32_L005.igv\n"
   ]
  },
  {
   "cell_type": "code",
   "execution_count": null,
   "metadata": {
    "collapsed": false
   },
   "outputs": [],
   "source": [
    "%%bash\n",
    "awk '{if ($9 >= 10) print $2,$3-1,$3+1,\"CpG\",$6}' \\\n",
    "/Volumes/web/scaphapoda/Sean/geoduck-untrimmed-data/CPG_methratio-out-EPI-127_S33_L005.sam.txt \\\n",
    "| tr ' ' \"\\t\" | sed 's/\"//g' \\\n",
    "> /Volumes/web/halfshell/EPI-127_S33_L005.igv\n"
   ]
  },
  {
   "cell_type": "code",
   "execution_count": null,
   "metadata": {
    "collapsed": false
   },
   "outputs": [],
   "source": [
    "%%bash\n",
    "awk '{if ($9 >= 10) print $2,$3-1,$3+1,\"CpG\",$6}' \\\n",
    "/Volumes/web/scaphapoda/Sean/geoduck-untrimmed-data/CPG_methratio-out-EPI-128_S34_L005.sam.txt \\\n",
    "| tr ' ' \"\\t\" | sed 's/\"//g' \\\n",
    "> /Volumes/web/halfshell/EPI-128_S34_L005.igv\n"
   ]
  },
  {
   "cell_type": "code",
   "execution_count": null,
   "metadata": {
    "collapsed": false
   },
   "outputs": [],
   "source": [
    "%%bash\n",
    "awk '{if ($9 >= 10) print $2,$3-1,$3+1,\"CpG\",$6}' \\\n",
    "/Volumes/web/scaphapoda/Sean/geoduck-untrimmed-data/CPG_methratio-out-EPI-135_S35_L005.sam.txt \\\n",
    "| tr ' ' \"\\t\" | sed 's/\"//g' \\\n",
    "> /Volumes/web/halfshell/EPI-135_S35_L005.igv\n"
   ]
  },
  {
   "cell_type": "code",
   "execution_count": null,
   "metadata": {
    "collapsed": false
   },
   "outputs": [],
   "source": [
    "%%bash\n",
    "awk '{if ($9 >= 10) print $2,$3-1,$3+1,\"CpG\",$6}' \\\n",
    "/Volumes/web/scaphapoda/Sean/geoduck-untrimmed-data/CPG_methratio-out-EPI-136_S36_L005.sam.txt \\\n",
    "| tr ' ' \"\\t\" | sed 's/\"//g' \\\n",
    "> /Volumes/web/halfshell/EPI-136_S36_L005.igv\n"
   ]
  },
  {
   "cell_type": "code",
   "execution_count": null,
   "metadata": {
    "collapsed": false
   },
   "outputs": [],
   "source": [
    "%%bash\n",
    "awk '{if ($9 >= 10) print $2,$3-1,$3+1,\"CpG\",$6}' \\\n",
    "/Volumes/web/scaphapoda/Sean/geoduck-untrimmed-data/CPG_methratio-out-EPI-143_S37_L005.sam.txt \\\n",
    "| tr ' ' \"\\t\" | sed 's/\"//g' \\\n",
    "> /Volumes/web/halfshell/EPI-143_S37_L005.igv\n"
   ]
  },
  {
   "cell_type": "code",
   "execution_count": null,
   "metadata": {
    "collapsed": false
   },
   "outputs": [],
   "source": [
    "%%bash\n",
    "awk '{if ($9 >= 10) print $2,$3-1,$3+1,\"CpG\",$6}' \\\n",
    "/Volumes/web/scaphapoda/Sean/geoduck-untrimmed-data/CPG_methratio-out-EPI-145_S38_L005.sam.txt \\\n",
    "| tr ' ' \"\\t\" | sed 's/\"//g' \\\n",
    "> /Volumes/web/halfshell/EPI-145_S38_L005.igv\n"
   ]
  },
  {
   "cell_type": "code",
   "execution_count": null,
   "metadata": {
    "collapsed": true
   },
   "outputs": [],
   "source": [
    "-EPI-104_S28_L005"
   ]
  }
 ],
 "metadata": {
  "kernelspec": {
   "display_name": "Python 2",
   "language": "python",
   "name": "python2"
  },
  "language_info": {
   "codemirror_mode": {
    "name": "ipython",
    "version": 2
   },
   "file_extension": ".py",
   "mimetype": "text/x-python",
   "name": "python",
   "nbconvert_exporter": "python",
   "pygments_lexer": "ipython2",
   "version": "2.7.12"
  }
 },
 "nbformat": 4,
 "nbformat_minor": 0
}
