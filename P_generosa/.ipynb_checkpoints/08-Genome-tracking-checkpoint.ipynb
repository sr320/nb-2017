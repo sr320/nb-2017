{
 "cells": [
  {
   "cell_type": "markdown",
   "metadata": {},
   "source": [
    "# Reinvesting in tracks"
   ]
  },
  {
   "cell_type": "markdown",
   "metadata": {},
   "source": [
    "## Genome"
   ]
  },
  {
   "cell_type": "markdown",
   "metadata": {},
   "source": [
    "Genome: `http://owl.fish.washington.edu/halfshell/Panopea_generosa-Scaff-10k.fa`"
   ]
  },
  {
   "cell_type": "markdown",
   "metadata": {},
   "source": [
    "and `/Volumes/Alanine/wd/17-06-16/Panopea_generosa-Scaff-10k.fa`"
   ]
  },
  {
   "cell_type": "code",
   "execution_count": 2,
   "metadata": {
    "collapsed": false
   },
   "outputs": [
    {
     "name": "stdout",
     "output_type": "stream",
     "text": [
      "MD5 (/Volumes/Alanine/wd/17-06-16/Panopea_generosa-Scaff-10k.fa) = 50bd55f7c259498bfcc1c38a3460ebe4\r\n"
     ]
    }
   ],
   "source": [
    "!md5 /Volumes/Alanine/wd/17-06-16/Panopea_generosa-Scaff-10k.fa"
   ]
  },
  {
   "cell_type": "code",
   "execution_count": 3,
   "metadata": {
    "collapsed": false
   },
   "outputs": [
    {
     "name": "stdout",
     "output_type": "stream",
     "text": [
      "MD5 (/Volumes/web-1/halfshell/Panopea_generosa-Scaff-10k.fa) = 50bd55f7c259498bfcc1c38a3460ebe4\r\n"
     ]
    }
   ],
   "source": [
    "!md5 /Volumes/web-1/halfshell/Panopea_generosa-Scaff-10k.fa"
   ]
  },
  {
   "cell_type": "markdown",
   "metadata": {},
   "source": [
    "## Genes Based on Blastn"
   ]
  },
  {
   "cell_type": "code",
   "execution_count": null,
   "metadata": {
    "collapsed": true
   },
   "outputs": [],
   "source": []
  }
 ],
 "metadata": {
  "kernelspec": {
   "display_name": "Python 2",
   "language": "python",
   "name": "python2"
  },
  "language_info": {
   "codemirror_mode": {
    "name": "ipython",
    "version": 2
   },
   "file_extension": ".py",
   "mimetype": "text/x-python",
   "name": "python",
   "nbconvert_exporter": "python",
   "pygments_lexer": "ipython2",
   "version": "2.7.12"
  }
 },
 "nbformat": 4,
 "nbformat_minor": 0
}
