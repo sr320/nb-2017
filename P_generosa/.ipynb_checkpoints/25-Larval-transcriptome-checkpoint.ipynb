{
 "cells": [
  {
   "cell_type": "code",
   "execution_count": 1,
   "metadata": {
    "collapsed": false
   },
   "outputs": [
    {
     "name": "stdout",
     "output_type": "stream",
     "text": [
      "/Volumes/Alanine/wd\n"
     ]
    }
   ],
   "source": [
    "cd /Volumes/Alanine/wd/"
   ]
  },
  {
   "cell_type": "code",
   "execution_count": 2,
   "metadata": {
    "collapsed": false
   },
   "outputs": [
    {
     "name": "stdout",
     "output_type": "stream",
     "text": [
      "\u001b[34m17-02-13\u001b[m\u001b[m/\r\n",
      "\u001b[34m17-02-14\u001b[m\u001b[m/\r\n",
      "\u001b[34m17-02-15\u001b[m\u001b[m/\r\n",
      "\u001b[34m17-03-16\u001b[m\u001b[m/\r\n",
      "\u001b[34m17-03-16b\u001b[m\u001b[m/\r\n",
      "\u001b[34m17-03-16c\u001b[m\u001b[m/\r\n",
      "\u001b[34m17-03-17\u001b[m\u001b[m/\r\n",
      "\u001b[34m17-03-21\u001b[m\u001b[m/\r\n",
      "\u001b[34m17-04-10\u001b[m\u001b[m/\r\n",
      "\u001b[34m17-05-05\u001b[m\u001b[m/\r\n",
      "\u001b[34m17-05-26\u001b[m\u001b[m/\r\n",
      "\u001b[34m17-06-02\u001b[m\u001b[m/\r\n",
      "\u001b[34m17-06-16\u001b[m\u001b[m/\r\n",
      "\u001b[34m17-06-19\u001b[m\u001b[m/\r\n",
      "\u001b[34m17-07-20\u001b[m\u001b[m/\r\n",
      "\u001b[34m17-07-20b\u001b[m\u001b[m/\r\n",
      "\u001b[34m17-08-04\u001b[m\u001b[m/\r\n",
      "\u001b[34m17-08-04b\u001b[m\u001b[m/\r\n",
      "\u001b[34mOly Histo (OA)\u001b[m\u001b[m/\r\n",
      "Oly Histo (OA)-20170726T165943Z-001.zip\r\n",
      "\u001b[34mblast\u001b[m\u001b[m/\r\n",
      "\u001b[34muniprot\u001b[m\u001b[m/\r\n"
     ]
    }
   ],
   "source": [
    "ls\n"
   ]
  },
  {
   "cell_type": "code",
   "execution_count": 3,
   "metadata": {
    "collapsed": true
   },
   "outputs": [],
   "source": [
    "mkdir 17-08-09\n"
   ]
  },
  {
   "cell_type": "code",
   "execution_count": 4,
   "metadata": {
    "collapsed": false
   },
   "outputs": [
    {
     "name": "stdout",
     "output_type": "stream",
     "text": [
      "\u001b[34m17-02-13\u001b[m\u001b[m/\r\n",
      "\u001b[34m17-02-14\u001b[m\u001b[m/\r\n",
      "\u001b[34m17-02-15\u001b[m\u001b[m/\r\n",
      "\u001b[34m17-03-16\u001b[m\u001b[m/\r\n",
      "\u001b[34m17-03-16b\u001b[m\u001b[m/\r\n",
      "\u001b[34m17-03-16c\u001b[m\u001b[m/\r\n",
      "\u001b[34m17-03-17\u001b[m\u001b[m/\r\n",
      "\u001b[34m17-03-21\u001b[m\u001b[m/\r\n",
      "\u001b[34m17-04-10\u001b[m\u001b[m/\r\n",
      "\u001b[34m17-05-05\u001b[m\u001b[m/\r\n",
      "\u001b[34m17-05-26\u001b[m\u001b[m/\r\n",
      "\u001b[34m17-06-02\u001b[m\u001b[m/\r\n",
      "\u001b[34m17-06-16\u001b[m\u001b[m/\r\n",
      "\u001b[34m17-06-19\u001b[m\u001b[m/\r\n",
      "\u001b[34m17-07-20\u001b[m\u001b[m/\r\n",
      "\u001b[34m17-07-20b\u001b[m\u001b[m/\r\n",
      "\u001b[34m17-08-04\u001b[m\u001b[m/\r\n",
      "\u001b[34m17-08-04b\u001b[m\u001b[m/\r\n",
      "\u001b[34m17-08-09\u001b[m\u001b[m/\r\n",
      "\u001b[34mOly Histo (OA)\u001b[m\u001b[m/\r\n",
      "Oly Histo (OA)-20170726T165943Z-001.zip\r\n",
      "\u001b[34mblast\u001b[m\u001b[m/\r\n",
      "\u001b[34muniprot\u001b[m\u001b[m/\r\n"
     ]
    }
   ],
   "source": [
    "ls"
   ]
  },
  {
   "cell_type": "code",
   "execution_count": 5,
   "metadata": {
    "collapsed": false
   },
   "outputs": [
    {
     "name": "stdout",
     "output_type": "stream",
     "text": [
      "/Volumes/Alanine/wd/17-08-09\n"
     ]
    }
   ],
   "source": [
    "cd 17-08-09\n"
   ]
  },
  {
   "cell_type": "code",
   "execution_count": 6,
   "metadata": {
    "collapsed": false
   },
   "outputs": [
    {
     "name": "stdout",
     "output_type": "stream",
     "text": [
      "  % Total    % Received % Xferd  Average Speed   Time    Time     Time  Current\n",
      "                                 Dload  Upload   Total   Spent    Left  Speed\n",
      "100  179M  100  179M    0     0  2422k      0  0:01:15  0:01:15 --:--:-- 35.0M\n"
     ]
    }
   ],
   "source": [
    "!curl -O http://owl.fish.washington.edu/halfshell/bu-mox/analyses/0804_1818/trinity_out_dir/0804_Pgen_larvae.fasta"
   ]
  },
  {
   "cell_type": "code",
   "execution_count": 7,
   "metadata": {
    "collapsed": false
   },
   "outputs": [
    {
     "name": "stdout",
     "output_type": "stream",
     "text": [
      ">TRINITY_DN88414_c0_g1_i1 len=214 path=[1:0-213] [-1, 1, -2]\r\n",
      "CTTCTCAGAGTTTTTATAAACACACGTGAATTCAGTCAAAATGTCCTTCATAAATGTCAC\r\n",
      "ACCGGAGAGCCATTTTCCGATCCAAAATCTTCCTTATGGTGTTTTCTCTACCGAAAGTAA\r\n",
      "CCCCAATCCTAGAATTGGTGTTGCCATTGGTGACCAGATACTGGACCTAAGTGCTGTCAA\r\n",
      "ACACCTGTTCGATGGACCTGCATTGAGAAACCAA\r\n",
      ">TRINITY_DN88428_c0_g1_i1 len=242 path=[1:0-241] [-1, 1, -2]\r\n",
      "GCAGAAGGCATCAAAAAATGGCTGGGATCCAAAGAAGAGGAGGAAGTGTGAACTAAAAGA\r\n",
      "TGAATTTGTCCAGGCAAAATTAGAAAAGTTATTTGCAGAAATAGACACGGAGAAGACAAA\r\n",
      "CTCTGAAGCAGAATTGCTTGTAAACAAACTGAAAAAAATAGTTGAAACGGAATAGGAGCT\r\n",
      "CCACAATCTTTAAAAGATATATACTGAAATATTACTCTTTAGTGACATGATACATGTATC\r\n"
     ]
    }
   ],
   "source": [
    "!head 0804_Pgen_larvae.fasta"
   ]
  },
  {
   "cell_type": "code",
   "execution_count": 8,
   "metadata": {
    "collapsed": false
   },
   "outputs": [
    {
     "name": "stdout",
     "output_type": "stream",
     "text": [
      "/bin/sh: trinity: command not found\r\n"
     ]
    }
   ],
   "source": [
    "!trinity"
   ]
  },
  {
   "cell_type": "code",
   "execution_count": 10,
   "metadata": {
    "collapsed": false
   },
   "outputs": [
    {
     "name": "stdout",
     "output_type": "stream",
     "text": [
      "NAME\r\n",
      "    Transdecoder.LongOrfs <http://transdecoder.github.io> - Transcriptome\r\n",
      "    Protein Prediction\r\n",
      "\r\n",
      "USAGE\r\n",
      "    Required:\r\n",
      "\r\n",
      "     -t <string>                            transcripts.fasta\r\n",
      "\r\n",
      "    Optional:\r\n",
      "\r\n",
      "     --gene_trans_map <string>              gene-to-transcript identifier mapping file (tab-delimited, gene_id<tab>trans_id<return> ) \r\n",
      "\r\n",
      "     -m <int>                               minimum protein length (default: 100)\r\n",
      " \r\n",
      "     -G <string>                            genetic code (default: universal; see PerlDoc; options: Euplotes, Tetrahymena, Candida, Acetabularia)\r\n",
      "\r\n",
      "     -S                                     strand-specific (only analyzes top strand)\r\n",
      "\r\n",
      "     -p <int>                               shorten potential 5' partials if they are this percentage of the original protein or longer.\r\n",
      "\r\n",
      "Genetic Codes\r\n",
      "    See <http://golgi.harvard.edu/biolinks/gencode.html>. These are\r\n",
      "    currently supported:\r\n",
      "\r\n",
      "     universal (default)\r\n",
      "     Euplotes\r\n",
      "     Tetrahymena\r\n",
      "     Candida\r\n",
      "     Acetabularia\r\n",
      "     Mitochondrial-Canonical\r\n",
      "     Mitochondrial-Vertebrates\r\n",
      "     Mitochondrial-Arthropods\r\n",
      "     Mitochondrial-Echinoderms\r\n",
      "     Mitochondrial-Molluscs\r\n",
      "     Mitochondrial-Ascidians\r\n",
      "     Mitochondrial-Nematodes\r\n",
      "     Mitochondrial-Platyhelminths\r\n",
      "     Mitochondrial-Yeasts\r\n",
      "     Mitochondrial-Euascomycetes\r\n",
      "     Mitochondrial-Protozoans\r\n",
      "\r\n"
     ]
    }
   ],
   "source": [
    "!/Applications/bioinfo/TransDecoder-4.0.0/TransDecoder.LongOrfs -v"
   ]
  },
  {
   "cell_type": "code",
   "execution_count": 12,
   "metadata": {
    "collapsed": false
   },
   "outputs": [
    {
     "name": "stdout",
     "output_type": "stream",
     "text": [
      "\n",
      "\n",
      "-first extracting base frequencies, we'll need them later.\n",
      "CMD: /Applications/bioinfo/TransDecoder-4.0.0/util/compute_base_probs.pl 0804_Pgen_larvae.fasta 0 > 0804_Pgen_larvae.fasta.transdecoder_dir/base_freqs.dat\n",
      "CMD: touch 0804_Pgen_larvae.fasta.transdecoder_dir/base_freqs.dat.ok\n",
      "\n",
      "\n",
      "- extracting ORFs from transcripts.\n",
      "-total transcripts to examine:   219698\n",
      "[219600/  219698] = 99.96% done    CMD: touch 0804_Pgen_larvae.fasta.transdecoder_dir/__longorfs.ok\n",
      "\n",
      "\n",
      "#################################\n",
      "### Done preparing long ORFs.  ###\n",
      "##################################\n",
      "\n",
      "\tUse file: 0804_Pgen_larvae.fasta.transdecoder_dir/longest_orfs.pep  for Pfam and/or BlastP searches to enable homology-based coding region identification.\n",
      "\n",
      "\tThen, run TransDecoder.Predict for your final coding region predictions.\n",
      "\n",
      "\n"
     ]
    }
   ],
   "source": [
    "!/Applications/bioinfo/TransDecoder-4.0.0/TransDecoder.LongOrfs \\\n",
    "-t 0804_Pgen_larvae.fasta"
   ]
  },
  {
   "cell_type": "code",
   "execution_count": 13,
   "metadata": {
    "collapsed": false
   },
   "outputs": [
    {
     "name": "stdout",
     "output_type": "stream",
     "text": [
      "0804_Pgen_larvae.fasta\r\n",
      "\u001b[34m0804_Pgen_larvae.fasta.transdecoder_dir\u001b[m\u001b[m/\r\n"
     ]
    }
   ],
   "source": [
    "ls"
   ]
  },
  {
   "cell_type": "code",
   "execution_count": 14,
   "metadata": {
    "collapsed": false
   },
   "outputs": [
    {
     "name": "stdout",
     "output_type": "stream",
     "text": [
      "__longorfs.ok      base_freqs.dat.ok  longest_orfs.gff3\r\n",
      "base_freqs.dat     longest_orfs.cds   longest_orfs.pep\r\n"
     ]
    }
   ],
   "source": [
    "ls 0804_Pgen_larvae.fasta.transdecoder_dir/"
   ]
  },
  {
   "cell_type": "code",
   "execution_count": null,
   "metadata": {
    "collapsed": true
   },
   "outputs": [],
   "source": []
  }
 ],
 "metadata": {
  "kernelspec": {
   "display_name": "Python 2",
   "language": "python",
   "name": "python2"
  },
  "language_info": {
   "codemirror_mode": {
    "name": "ipython",
    "version": 2
   },
   "file_extension": ".py",
   "mimetype": "text/x-python",
   "name": "python",
   "nbconvert_exporter": "python",
   "pygments_lexer": "ipython2",
   "version": "2.7.12"
  }
 },
 "nbformat": 4,
 "nbformat_minor": 0
}
