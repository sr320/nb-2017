{
 "cells": [
  {
   "cell_type": "code",
   "execution_count": 4,
   "metadata": {
    "collapsed": false,
    "deletable": true,
    "editable": true
   },
   "outputs": [
    {
     "name": "stdout",
     "output_type": "stream",
     "text": [
      "\u001b[30m\u001b[43mL002\u001b[m\u001b[m \u001b[30m\u001b[43mL001\u001b[m\u001b[m\r\n"
     ]
    }
   ],
   "source": [
    "!ls -t /Volumes/web-1/nightingales/Geoduck_NovaSeq/170630_A00104_0125_BH2V37DMXX/Demux/FastqOutput"
   ]
  },
  {
   "cell_type": "code",
   "execution_count": 5,
   "metadata": {
    "collapsed": false,
    "deletable": true,
    "editable": true
   },
   "outputs": [
    {
     "name": "stdout",
     "output_type": "stream",
     "text": [
      "/Volumes/Alanine/wd/17-09-01\n"
     ]
    }
   ],
   "source": [
    "cd /Volumes/Alanine/wd/17-09-01"
   ]
  },
  {
   "cell_type": "code",
   "execution_count": 17,
   "metadata": {
    "collapsed": false,
    "deletable": true,
    "editable": true
   },
   "outputs": [
    {
     "name": "stdout",
     "output_type": "stream",
     "text": [
      "Started analysis of AD002_S9_L001_R1_001.fastq.gz\n",
      "Started analysis of AD002_S9_L001_R2_001.fastq.gz\n",
      "Started analysis of AD002_S9_L002_R1_001.fastq.gz\n",
      "Started analysis of AD002_S9_L002_R2_001.fastq.gz\n",
      "Approx 5% complete for AD002_S9_L001_R1_001.fastq.gz\n",
      "Approx 5% complete for AD002_S9_L001_R2_001.fastq.gz\n",
      "Approx 5% complete for AD002_S9_L002_R1_001.fastq.gz\n",
      "Approx 5% complete for AD002_S9_L002_R2_001.fastq.gz\n",
      "Approx 10% complete for AD002_S9_L001_R1_001.fastq.gz\n",
      "Approx 10% complete for AD002_S9_L001_R2_001.fastq.gz\n",
      "Approx 10% complete for AD002_S9_L002_R1_001.fastq.gz\n",
      "Approx 10% complete for AD002_S9_L002_R2_001.fastq.gz\n",
      "Approx 15% complete for AD002_S9_L001_R1_001.fastq.gz\n",
      "Approx 15% complete for AD002_S9_L001_R2_001.fastq.gz\n",
      "Approx 15% complete for AD002_S9_L002_R1_001.fastq.gz\n",
      "Approx 15% complete for AD002_S9_L002_R2_001.fastq.gz\n",
      "Approx 20% complete for AD002_S9_L001_R1_001.fastq.gz\n",
      "Approx 20% complete for AD002_S9_L001_R2_001.fastq.gz\n",
      "Approx 20% complete for AD002_S9_L002_R1_001.fastq.gz\n",
      "Approx 25% complete for AD002_S9_L001_R1_001.fastq.gz\n",
      "Approx 20% complete for AD002_S9_L002_R2_001.fastq.gz\n",
      "Approx 25% complete for AD002_S9_L001_R2_001.fastq.gz\n",
      "Approx 30% complete for AD002_S9_L001_R1_001.fastq.gz\n",
      "Approx 30% complete for AD002_S9_L001_R2_001.fastq.gz\n",
      "Approx 25% complete for AD002_S9_L002_R1_001.fastq.gz\n",
      "Approx 25% complete for AD002_S9_L002_R2_001.fastq.gz\n",
      "Approx 35% complete for AD002_S9_L001_R1_001.fastq.gz\n",
      "Approx 35% complete for AD002_S9_L001_R2_001.fastq.gz\n",
      "Approx 30% complete for AD002_S9_L002_R1_001.fastq.gz\n",
      "Approx 30% complete for AD002_S9_L002_R2_001.fastq.gz\n",
      "Approx 40% complete for AD002_S9_L001_R1_001.fastq.gz\n",
      "Approx 40% complete for AD002_S9_L001_R2_001.fastq.gz\n",
      "Approx 35% complete for AD002_S9_L002_R1_001.fastq.gz\n",
      "Approx 35% complete for AD002_S9_L002_R2_001.fastq.gz\n",
      "Approx 45% complete for AD002_S9_L001_R1_001.fastq.gz\n",
      "Approx 45% complete for AD002_S9_L001_R2_001.fastq.gz\n",
      "Approx 40% complete for AD002_S9_L002_R1_001.fastq.gz\n",
      "Approx 50% complete for AD002_S9_L001_R1_001.fastq.gz\n",
      "Approx 40% complete for AD002_S9_L002_R2_001.fastq.gz\n",
      "Approx 50% complete for AD002_S9_L001_R2_001.fastq.gz\n",
      "Approx 55% complete for AD002_S9_L001_R1_001.fastq.gz\n",
      "Approx 45% complete for AD002_S9_L002_R1_001.fastq.gz\n",
      "Approx 55% complete for AD002_S9_L001_R2_001.fastq.gz\n",
      "Approx 45% complete for AD002_S9_L002_R2_001.fastq.gz\n",
      "Approx 60% complete for AD002_S9_L001_R1_001.fastq.gz\n",
      "Approx 60% complete for AD002_S9_L001_R2_001.fastq.gz\n",
      "Approx 50% complete for AD002_S9_L002_R1_001.fastq.gz\n",
      "Approx 50% complete for AD002_S9_L002_R2_001.fastq.gz\n",
      "Approx 65% complete for AD002_S9_L001_R1_001.fastq.gz\n",
      "Approx 65% complete for AD002_S9_L001_R2_001.fastq.gz\n",
      "Approx 55% complete for AD002_S9_L002_R1_001.fastq.gz\n",
      "Approx 55% complete for AD002_S9_L002_R2_001.fastq.gz\n",
      "Approx 70% complete for AD002_S9_L001_R1_001.fastq.gz\n",
      "Approx 70% complete for AD002_S9_L001_R2_001.fastq.gz\n",
      "Too many tiles (>500) so giving up trying to do per-tile qualities since we're probably parsing the file wrongly\n",
      "Approx 60% complete for AD002_S9_L002_R1_001.fastq.gz\n",
      "Too many tiles (>500) so giving up trying to do per-tile qualities since we're probably parsing the file wrongly\n",
      "Approx 75% complete for AD002_S9_L001_R1_001.fastq.gz\n",
      "Approx 60% complete for AD002_S9_L002_R2_001.fastq.gz\n",
      "Approx 75% complete for AD002_S9_L001_R2_001.fastq.gz\n",
      "Approx 80% complete for AD002_S9_L001_R1_001.fastq.gz\n",
      "Approx 65% complete for AD002_S9_L002_R1_001.fastq.gz\n",
      "Approx 80% complete for AD002_S9_L001_R2_001.fastq.gz\n",
      "Approx 65% complete for AD002_S9_L002_R2_001.fastq.gz\n",
      "Approx 85% complete for AD002_S9_L001_R1_001.fastq.gz\n",
      "Approx 85% complete for AD002_S9_L001_R2_001.fastq.gz\n",
      "Approx 70% complete for AD002_S9_L002_R1_001.fastq.gz\n",
      "Approx 70% complete for AD002_S9_L002_R2_001.fastq.gz\n",
      "Too many tiles (>500) so giving up trying to do per-tile qualities since we're probably parsing the file wrongly\n",
      "Too many tiles (>500) so giving up trying to do per-tile qualities since we're probably parsing the file wrongly\n",
      "Approx 90% complete for AD002_S9_L001_R1_001.fastq.gz\n",
      "Approx 90% complete for AD002_S9_L001_R2_001.fastq.gz\n",
      "Approx 75% complete for AD002_S9_L002_R1_001.fastq.gz\n",
      "Approx 75% complete for AD002_S9_L002_R2_001.fastq.gz\n",
      "Approx 95% complete for AD002_S9_L001_R1_001.fastq.gz\n",
      "Approx 95% complete for AD002_S9_L001_R2_001.fastq.gz\n",
      "Approx 80% complete for AD002_S9_L002_R1_001.fastq.gz\n",
      "Analysis complete for AD002_S9_L001_R1_001.fastq.gz\n",
      "Approx 80% complete for AD002_S9_L002_R2_001.fastq.gz\n",
      "Analysis complete for AD002_S9_L001_R2_001.fastq.gz\n",
      "Approx 85% complete for AD002_S9_L002_R1_001.fastq.gz\n",
      "Approx 85% complete for AD002_S9_L002_R2_001.fastq.gz\n",
      "Approx 90% complete for AD002_S9_L002_R1_001.fastq.gz\n",
      "Approx 90% complete for AD002_S9_L002_R2_001.fastq.gz\n",
      "Approx 95% complete for AD002_S9_L002_R1_001.fastq.gz\n",
      "Approx 95% complete for AD002_S9_L002_R2_001.fastq.gz\n",
      "Analysis complete for AD002_S9_L002_R1_001.fastq.gz\n",
      "Analysis complete for AD002_S9_L002_R2_001.fastq.gz\n"
     ]
    }
   ],
   "source": [
    "!/Applications/bioinfo/FastQC/fastqc -t 6 \\\n",
    "AD002_S9_L001_R1_001.fastq.gz \\\n",
    "AD002_S9_L001_R2_001.fastq.gz \\\n",
    "AD002_S9_L002_R1_001.fastq.gz \\\n",
    "AD002_S9_L002_R2_001.fastq.gz"
   ]
  },
  {
   "cell_type": "code",
   "execution_count": null,
   "metadata": {
    "collapsed": true,
    "deletable": true,
    "editable": true
   },
   "outputs": [],
   "source": []
  },
  {
   "cell_type": "code",
   "execution_count": 18,
   "metadata": {
    "collapsed": false,
    "deletable": true,
    "editable": true
   },
   "outputs": [
    {
     "name": "stdout",
     "output_type": "stream",
     "text": [
      "[INFO   ]         multiqc : This is MultiQC v1.0.dev0\n",
      "[INFO   ]         multiqc : Template    : default\n",
      "[INFO   ]         multiqc : Searching '/Volumes/Alanine/wd/17-09-01'\n",
      "[INFO   ]          fastqc : Found 4 reports\n",
      "[INFO   ]         multiqc : Report      : multiqc_report.html\n",
      "[INFO   ]         multiqc : Data        : multiqc_data\n",
      "[INFO   ]         multiqc : MultiQC complete\n"
     ]
    }
   ],
   "source": [
    "!multiqc /Volumes/Alanine/wd/17-09-01\n"
   ]
  },
  {
   "cell_type": "code",
   "execution_count": 28,
   "metadata": {
    "collapsed": false,
    "deletable": true,
    "editable": true
   },
   "outputs": [
    {
     "name": "stdout",
     "output_type": "stream",
     "text": [
      "Specifiy -graph or -in\r\n",
      "\r\n",
      "[minia options]\r\n",
      "\r\n",
      "   [assembly options]\r\n",
      "          -graph            (1 arg) :    input graph file (hdf5)  [default '']\r\n",
      "          -in               (1 arg) :    input reads (fasta/fastq/compressed)  [default '']\r\n",
      "          -no-length-cutoff (0 arg) :    turn off length cutoff of 2*k in output sequences\r\n",
      "          -traversal        (1 arg) :    traversal type ('contig', 'unitig')  [default 'contig']\r\n",
      "          -starter          (1 arg) :    starting node ('best', 'simple')  [default 'best']\r\n",
      "          -contig-max-len   (1 arg) :    maximum length for contigs  [default '0']\r\n",
      "          -bfs-max-depth    (1 arg) :    maximum depth for BFS  [default '0']\r\n",
      "          -bfs-max-breadth  (1 arg) :    maximum breadth for BFS  [default '0']\r\n",
      "          -fasta-line       (1 arg) :    number of nucleotides per line in fasta output (0 means one line)  [default '0']\r\n",
      "\r\n",
      "   [kmer count options]\r\n",
      "          -kmer-size        (1 arg) :    size of a kmer  [default '31']\r\n",
      "          -abundance-min    (1 arg) :    min abundance threshold for solid kmers  [default '3']\r\n",
      "          -abundance-max    (1 arg) :    max abundance threshold for solid kmers  [default '4294967295']\r\n",
      "          -histo-max        (1 arg) :    max number of values in kmers histogram  [default '10000']\r\n",
      "          -solidity-kind    (1 arg) :    way to compute solids (sum, min or max)  [default 'sum']\r\n",
      "          -max-memory       (1 arg) :    max memory (in MBytes)  [default '2000']\r\n",
      "          -max-disk         (1 arg) :    max disk   (in MBytes)  [default '0']\r\n",
      "          -solid-kmers-out  (1 arg) :    output file for solid kmers  [default '']\r\n",
      "          -out              (1 arg) :    output file  [default '']\r\n",
      "          -out-dir          (1 arg) :    output directory  [default '.']\r\n",
      "          -minimizer-type   (1 arg) :    minimizer type (0=lexi, 1=freq)  [default '0']\r\n",
      "          -minimizer-size   (1 arg) :    size of a minimizer  [default '8']\r\n",
      "          -repartition-type (1 arg) :    minimizer repartition (0=unordered, 1=ordered)  [default '0']\r\n",
      "\r\n",
      "   [bloom options]\r\n",
      "          -bloom        (1 arg) :    bloom type ('basic', 'cache', 'neighbor')  [default 'neighbor']\r\n",
      "          -debloom      (1 arg) :    debloom type ('none', 'original' or 'cascading')  [default 'cascading']\r\n",
      "          -debloom-impl (1 arg) :    debloom impl ('basic', 'minimizer')  [default 'minimizer']\r\n",
      "\r\n",
      "   [branching options]\r\n",
      "          -branching-nodes (1 arg) :    branching type ('none' or 'stored')  [default 'stored']\r\n",
      "          -topology-stats  (1 arg) :    topological information level (0 for none)  [default '0']\r\n",
      "\r\n",
      "   [emphf options]\r\n",
      "          -mphf (1 arg) :    mphf type ('none' or 'emphf')  [default 'emphf']\r\n",
      "\r\n",
      "   [general options]\r\n",
      "          -nb-cores          (1 arg) :    number of cores  [default '0']\r\n",
      "          -verbose           (1 arg) :    verbosity level  [default '1']\r\n",
      "          -integer-precision (1 arg) :    integers precision (0 for optimized value)  [default '0']\r\n"
     ]
    }
   ],
   "source": [
    "!/Applications/bioinfo/minia-v2.0.7-bin-Darwin/bin/minia "
   ]
  },
  {
   "cell_type": "code",
   "execution_count": 31,
   "metadata": {
    "collapsed": false,
    "deletable": true,
    "editable": true
   },
   "outputs": [
    {
     "name": "stdout",
     "output_type": "stream",
     "text": [
      "[DSK: Collecting stats on AD002_S9_L... ]  100  %   elapsed:   0 min 13 sec    estimated remaining:   0 min 0  sec   cpu:  309.8 %   mem: [  28,   28,    0] MB 0 min 5  sec    estimated remaining:   0 min 8  sec   cpu:  307.4 %   mem: [  27,   27,    0] MB ed:   0 min 10 sec    estimated remaining:   0 min 3  sec   cpu:  309.2 %   mem: [  27,   27,    0] MB    elapsed:   0 min 12 sec    estimated remaining:   0 min 1  sec   cpu:  309.7 %   mem: [  27,   27,    0] MB \n",
      "[DSK: nb solid kmers found : 1610210477  ]  119  %   elapsed: 102 min 20 sec    estimated remaining:   0 min 0  sec   cpu:   54.6 %   mem: [ 108, 13512,    0] MB   ]  6    %   elapsed:   0 min 51 sec    estimated remaining:  13 min 14 sec   cpu:  301.8 %   mem: [  47,   47,    0] MB sed:  11 min 52 sec    estimated remaining:  22 min 3  sec   cpu:  115.5 %   mem: [  47,   47,    0] MB g    ]  50   %   elapsed:  17 min 42 sec    estimated remaining:  17 min 42 sec   cpu:  110.9 %   mem: [  47,   47,    0] MB d:  19 min 13 sec    estimated remaining:  16 min 22 sec   cpu:  110.0 %   mem: [  47,   47,    0] MB min 21 sec    estimated remaining:   3 min 46 sec   cpu:   47.4 %   mem: [12358, 13512,    0] MB   elapsed:  97 min 9  sec    estimated remaining:   0 min 0  sec   cpu:   49.9 %   mem: [12360, 13512,    0] MB 7 min 10 sec    estimated remaining:   0 min 0  sec   cpu:   50.0 %   mem: [12360, 13512,    0] MB in 10 sec    estimated remaining:   0 min 0  sec   cpu:   54.5 %   mem: [12372, 13512,    0] MB \n",
      "[MPHF: initialization                   ]  100  %   elapsed:  11 min 55 sec    estimated remaining:   0 min 0  sec   cpu:   86.5 %   mem: [27379, 27379,    0] MB \n",
      "[MPHF: build hash function              ]  100  %   elapsed:  40 min 58 sec    estimated remaining:   0 min 0  sec   cpu:   90.3 %   mem: [28913, 29118,    0] MB    estimated remaining:  15 min 32 sec   cpu:   85.0 %   mem: [28255, 29118,    0] MB 5 min 2  sec    estimated remaining:  15 min 57 sec   cpu:   89.3 %   mem: [28190, 29118,    0] MB \n",
      "[MPHF: assign values                    ]  100  %   elapsed:   2 min 54 sec    estimated remaining:   0 min 0  sec   cpu:  100.0 %   mem: [20979, 20979,    0] MB elapsed:   0 min 28 sec    estimated remaining:   2 min 27 sec   cpu:  100.0 %   mem: [20979, 20979,    0] MB apsed:   0 min 40 sec    estimated remaining:   2 min 14 sec   cpu:  100.0 %   mem: [20979, 20979,    0] MB min 51 sec    estimated remaining:   2 min 4  sec   cpu:  100.0 %   mem: [20979, 20979,    0] MB   0 min 54 sec    estimated remaining:   2 min 0  sec   cpu:  100.0 %   mem: [20979, 20979,    0] MB min 56 sec    estimated remaining:   1 min 59 sec   cpu:  100.0 %   mem: [20979, 20979,    0] MB ated remaining:   1 min 19 sec   cpu:  100.0 %   mem: [20979, 20979,    0] MB estimated remaining:   1 min 15 sec   cpu:  100.0 %   mem: [20979, 20979,    0] MB    elapsed:   2 min 11 sec    estimated remaining:   0 min 44 sec   cpu:  100.0 %   mem: [20979, 20979,    0] MB   2 min 27 sec    estimated remaining:   0 min 28 sec   cpu:  100.0 %   mem: [20979, 20979,    0] MB c    estimated remaining:   0 min 10 sec   cpu:  100.0 %   mem: [20979, 20979,    0] MB ated remaining:   0 min 2  sec   cpu:  100.0 %   mem: [20979, 20979,    0] MB \n",
      "[MPHF: populate                         ]  100  %   elapsed:  18 min 56 sec    estimated remaining:   0 min 0  sec   cpu:   61.6 %   mem: [2150, 2150,    0] MB 18 sec    estimated remaining:  17 min 15 sec   cpu:   59.7 %   mem: [2125, 2125,    0] MB apsed:   3 min 53 sec    estimated remaining:  13 min 1  sec   cpu:   66.8 %   mem: [2129, 2129,    0] MB ec    estimated remaining:  11 min 10 sec   cpu:   67.2 %   mem: [2133, 2133,    0] MB     estimated remaining:  10 min 57 sec   cpu:   67.5 %   mem: [2134, 2134,    0] MB sec    estimated remaining:   9 min 18 sec   cpu:   65.1 %   mem: [2137, 2137,    0] MB   8 min 26 sec    estimated remaining:   9 min 8  sec   cpu:   65.1 %   mem: [2138, 2138,    0] MB     estimated remaining:   8 min 20 sec   cpu:   63.2 %   mem: [2139, 2139,    0] MB \n",
      "[Bloom: read solid kmers                ]  100  %   elapsed:   9 min 8  sec    estimated remaining:   0 min 0  sec   cpu:  106.1 %   mem: [3336, 3336,    0] MB ]  4    %   elapsed:   0 min 22 sec    estimated remaining:   8 min 55 sec   cpu:  100.3 %   mem: [3321, 3321,    0] MB imated remaining:   6 min 15 sec   cpu:  119.6 %   mem: [3324, 3324,    0] MB  74   %   elapsed:   6 min 54 sec    estimated remaining:   2 min 25 sec   cpu:  104.1 %   mem: [3333, 3333,    0] MB \n",
      "[Debloom: build extension               ]  100  %   elapsed:  21 min 48 sec    estimated remaining:   0 min 0  sec   cpu:  191.5 %   mem: [3420, 3420,    0] MB    estimated remaining:  15 min 28 sec   cpu:  227.9 %   mem: [3363, 3363,    0] MB  23.4 %   elapsed:   4 min 36 sec    estimated remaining:  15 min 1  sec   cpu:  229.2 %   mem: [3363, 3363,    0] MB timated remaining:  11 min 39 sec   cpu:  210.5 %   mem: [3364, 3364,    0] MB   elapsed:  14 min 14 sec    estimated remaining:   7 min 27 sec   cpu:  198.4 %   mem: [3364, 3364,    0] MB 7 %   elapsed:  17 min 38 sec    estimated remaining:   4 min 30 sec   cpu:  194.5 %   mem: [3365, 3365,    0] MB  %   elapsed:  19 min 23 sec    estimated remaining:   2 min 46 sec   cpu:  193.6 %   mem: [3365, 3365,    0] MB stimated remaining:   2 min 5  sec   cpu:  192.4 %   mem: [3365, 3365,    0] MB \n",
      "[Debloom: finalization                  ]  100  %   elapsed:   5 min 25 sec    estimated remaining:   0 min 0  sec   cpu:   40.8 %   mem: [3095, 3095,    0] MB \n",
      "[Debloom: cascading                     ]  100  %   elapsed:  16 min 29 sec    estimated remaining:   0 min 0  sec   cpu:   64.7 %   mem: [3530, 3530,    0] MB \n",
      "[Graph: nb branching found : 106028310  ]  100  %   elapsed:  21 min 40 sec    estimated remaining:   0 min 0  sec   cpu:  253.5 %   mem: [6341, 6341,    0] MB   15 min 37 sec   cpu:  263.9 %   mem: [5318, 5318,    0] MB mated remaining:  11 min 56 sec   cpu:  261.6 %   mem: [5562, 5562,    0] MB          ]  44   %   elapsed:   9 min 13 sec    estimated remaining:  11 min 44 sec   cpu:  261.6 %   mem: [5576, 5576,    0] MB    ]  53   %   elapsed:  11 min 3  sec    estimated remaining:   9 min 48 sec   cpu:  262.5 %   mem: [5704, 5704,    0] MB  ]  88   %   elapsed:  18 min 19 sec    estimated remaining:   2 min 30 sec   cpu:  262.9 %   mem: [6187, 6187,    0] MB \n",
      "[Assembly                               ]  100  %   elapsed: 911 min 10 sec    estimated remaining:   0 min 0  sec   cpu:   99.9 %   mem: [9502, 9503,    0] MB    estimated remaining: 4094 min 26 sec   cpu:   99.8 %   mem: [9502, 9502,    0] MB timated remaining: 1223 min 48 sec   cpu:   99.9 %   mem: [9501, 9503,    0] MB in 3  sec    estimated remaining: 1147 min 42 sec   cpu:   99.9 %   mem: [9501, 9503,    0] MB     estimated remaining: 729 min 54 sec   cpu:   99.9 %   mem: [9502, 9503,    0] MB    estimated remaining: 279 min 14 sec   cpu:   99.9 %   mem: [9501, 9503,    0] MB     estimated remaining: 226 min 18 sec   cpu:   99.9 %   mem: [9501, 9503,    0] MB estimated remaining: 213 min 36 sec   cpu:   99.9 %   mem: [9501, 9503,    0] MB  estimated remaining: 188 min 43 sec   cpu:   99.9 %   mem: [9501, 9503,    0] MB   estimated remaining: 130 min 35 sec   cpu:   99.9 %   mem: [9501, 9503,    0] MB   estimated remaining:  27 min 54 sec   cpu:   99.9 %   mem: [9501, 9503,    0] MB \n",
      "minia                                   \n",
      "    -nb-cores                                : 8\n",
      "    -max-memory                              : 32000\n",
      "    -in                                      : /Volumes/Alanine/wd/17-09-01/AD002_S9_L002_R1_001.fastq.gz\n",
      "    -out-dir                                 : /Volumes/Alanine/wd/17-09-01/\n",
      "    -traversal                               : contig\n",
      "    -starter                                 : best\n",
      "    -contig-max-len                          : 10000000\n",
      "    -bfs-max-depth                           : 500\n",
      "    -bfs-max-breadth                         : 20\n",
      "    -fasta-line                              : 0\n",
      "    -kmer-size                               : 31\n",
      "    -abundance-min                           : 3\n",
      "    -abundance-max                           : 4294967295\n",
      "    -histo-max                               : 10000\n",
      "    -solidity-kind                           : sum\n",
      "    -max-disk                                : 0\n",
      "    -minimizer-type                          : 0\n",
      "    -minimizer-size                          : 8\n",
      "    -repartition-type                        : 0\n",
      "    -bloom                                   : neighbor\n",
      "    -debloom                                 : cascading\n",
      "    -debloom-impl                            : minimizer\n",
      "    -branching-nodes                         : stored\n",
      "    -topology-stats                          : 0\n",
      "    -mphf                                    : emphf\n",
      "    -verbose                                 : 1\n",
      "    -integer-precision                       : 0\n",
      "    -verbose                                 : 1\n",
      "    stats                                   \n",
      "        traversal                                : contig\n",
      "        start_selector                           : best\n",
      "        nb_contigs                               : 8882402\n",
      "        nb_small_contigs_discarded               : 11985158\n",
      "        nt_assembled                             : 1214662356\n",
      "        max_length                               : 3335\n",
      "        max_length_left                          : 3303\n",
      "        max_length_right                         : 2841\n",
      "        debugging traversal stats               \n",
      "        large breadth                            : 1649\n",
      "        large depth                              : 68\n",
      "        marked kmer inside traversal             : 6713309\n",
      "        traversal ends with dead-ends            : 952403\n",
      "        in-branching large depth                 : 2706333\n",
      "        in-branching large breadth               : 3118083\n",
      "        in-branching other                       : 4046446\n",
      "        couldn't validate consensuses            : 91591\n",
      "    time                                     : 54718.750\n",
      "        assembly                                 : 54718.750\n"
     ]
    }
   ],
   "source": [
    "!/Applications/bioinfo/minia-v2.0.7-bin-Darwin/bin/minia \\\n",
    "-nb-cores 8 \\\n",
    "-max-memory 32000 \\\n",
    "-in /Volumes/Alanine/wd/17-09-01/AD002_S9_L002_R1_001.fastq.gz \\\n",
    "-out-dir /Volumes/Alanine/wd/17-09-01/"
   ]
  },
  {
   "cell_type": "markdown",
   "metadata": {
    "deletable": true,
    "editable": true
   },
   "source": [
    "# FASTQC \n"
   ]
  },
  {
   "cell_type": "code",
   "execution_count": 2,
   "metadata": {
    "collapsed": false,
    "deletable": true,
    "editable": true
   },
   "outputs": [
    {
     "name": "stdout",
     "output_type": "stream",
     "text": [
      "\u001b[31mAD002_S9_L001_R1_001.fastq.gz\u001b[m\u001b[m*       NR014_AD014_S5_L001_R1_001.fastq.gz\r\n",
      "AD002_S9_L001_R2_001.fastq.gz        NR014_AD014_S5_L001_R2_001.fastq.gz\r\n",
      "\u001b[31mAD002_S9_L002_R1_001.fastq.gz\u001b[m\u001b[m*       \u001b[31mNR014_AD014_S5_L002_R1_001.fastq.gz\u001b[m\u001b[m*\r\n",
      "\u001b[31mAD002_S9_L002_R2_001.fastq.gz\u001b[m\u001b[m*       \u001b[31mNR014_AD014_S5_L002_R2_001.fastq.gz\u001b[m\u001b[m*\r\n",
      "NR013_AD013_S2_L001_R1_001.fastq.gz  NR015_AD015_S6_L001_R1_001.fastq.gz\r\n",
      "NR013_AD013_S2_L001_R2_001.fastq.gz  NR015_AD015_S6_L001_R2_001.fastq.gz\r\n",
      "\u001b[31mNR013_AD013_S2_L002_R1_001.fastq.gz\u001b[m\u001b[m* \u001b[31mNR015_AD015_S6_L002_R1_001.fastq.gz\u001b[m\u001b[m*\r\n",
      "\u001b[31mNR013_AD013_S2_L002_R2_001.fastq.gz\u001b[m\u001b[m* \u001b[31mNR015_AD015_S6_L002_R2_001.fastq.gz\u001b[m\u001b[m*\r\n"
     ]
    }
   ],
   "source": [
    "ls /Volumes/web/halfshell/working-directory/17-09-01"
   ]
  },
  {
   "cell_type": "code",
   "execution_count": 3,
   "metadata": {
    "collapsed": false,
    "deletable": true,
    "editable": true
   },
   "outputs": [
    {
     "name": "stdout",
     "output_type": "stream",
     "text": [
      "Started analysis of AD002_S9_L001_R1_001.fastq.gz\n",
      "Started analysis of AD002_S9_L001_R2_001.fastq.gz\n",
      "Started analysis of AD002_S9_L002_R1_001.fastq.gz\n",
      "Started analysis of AD002_S9_L002_R2_001.fastq.gz\n",
      "Started analysis of NR013_AD013_S2_L001_R1_001.fastq.gz\n",
      "Started analysis of NR013_AD013_S2_L001_R2_001.fastq.gz\n",
      "Approx 5% complete for AD002_S9_L001_R1_001.fastq.gz\n",
      "Approx 5% complete for AD002_S9_L001_R2_001.fastq.gz\n",
      "^C\n"
     ]
    }
   ],
   "source": [
    "!/Applications/bioinfo/FastQC/fastqc -t 6 \\\n",
    "/Volumes/web/halfshell/working-directory/17-09-01/*"
   ]
  },
  {
   "cell_type": "code",
   "execution_count": 5,
   "metadata": {
    "collapsed": true
   },
   "outputs": [],
   "source": [
    "!mkdir /Volumes/Alanine/wd/17-09-15b"
   ]
  },
  {
   "cell_type": "code",
   "execution_count": 6,
   "metadata": {
    "collapsed": false
   },
   "outputs": [
    {
     "name": "stdout",
     "output_type": "stream",
     "text": [
      "Started analysis of AD002_S9_L001_R1_001.fastq.gz\n",
      "Started analysis of AD002_S9_L001_R2_001.fastq.gz\n",
      "Started analysis of AD002_S9_L002_R1_001.fastq.gz\n",
      "Started analysis of AD002_S9_L002_R2_001.fastq.gz\n",
      "Started analysis of NR013_AD013_S2_L001_R1_001.fastq.gz\n",
      "Started analysis of NR013_AD013_S2_L001_R2_001.fastq.gz\n",
      "Approx 5% complete for AD002_S9_L001_R1_001.fastq.gz\n",
      "Approx 5% complete for AD002_S9_L001_R2_001.fastq.gz\n",
      "Approx 5% complete for AD002_S9_L002_R1_001.fastq.gz\n",
      "Approx 5% complete for AD002_S9_L002_R2_001.fastq.gz\n",
      "Approx 5% complete for NR013_AD013_S2_L001_R1_001.fastq.gz\n",
      "Approx 5% complete for NR013_AD013_S2_L001_R2_001.fastq.gz\n",
      "Approx 10% complete for AD002_S9_L001_R1_001.fastq.gz\n",
      "Approx 10% complete for AD002_S9_L001_R2_001.fastq.gz\n",
      "Approx 10% complete for AD002_S9_L002_R1_001.fastq.gz\n",
      "Approx 10% complete for AD002_S9_L002_R2_001.fastq.gz\n",
      "Approx 15% complete for AD002_S9_L001_R1_001.fastq.gz\n",
      "Approx 15% complete for AD002_S9_L001_R2_001.fastq.gz\n",
      "Approx 10% complete for NR013_AD013_S2_L001_R1_001.fastq.gz\n",
      "Approx 10% complete for NR013_AD013_S2_L001_R2_001.fastq.gz\n",
      "Approx 15% complete for AD002_S9_L002_R1_001.fastq.gz\n",
      "Approx 15% complete for AD002_S9_L002_R2_001.fastq.gz\n",
      "Approx 20% complete for AD002_S9_L001_R1_001.fastq.gz\n",
      "Approx 20% complete for AD002_S9_L001_R2_001.fastq.gz\n",
      "Approx 25% complete for AD002_S9_L001_R1_001.fastq.gz\n",
      "Approx 25% complete for AD002_S9_L001_R2_001.fastq.gz\n",
      "Approx 20% complete for AD002_S9_L002_R1_001.fastq.gz\n",
      "Approx 20% complete for AD002_S9_L002_R2_001.fastq.gz\n",
      "Approx 15% complete for NR013_AD013_S2_L001_R2_001.fastq.gz\n",
      "Approx 15% complete for NR013_AD013_S2_L001_R1_001.fastq.gz\n",
      "Approx 30% complete for AD002_S9_L001_R1_001.fastq.gz\n",
      "Approx 30% complete for AD002_S9_L001_R2_001.fastq.gz\n",
      "Approx 25% complete for AD002_S9_L002_R1_001.fastq.gz\n",
      "Approx 25% complete for AD002_S9_L002_R2_001.fastq.gz\n",
      "Approx 35% complete for AD002_S9_L001_R1_001.fastq.gz\n",
      "Approx 35% complete for AD002_S9_L001_R2_001.fastq.gz\n",
      "Approx 20% complete for NR013_AD013_S2_L001_R2_001.fastq.gz\n",
      "Approx 20% complete for NR013_AD013_S2_L001_R1_001.fastq.gz\n",
      "Approx 30% complete for AD002_S9_L002_R1_001.fastq.gz\n",
      "Approx 30% complete for AD002_S9_L002_R2_001.fastq.gz\n",
      "Approx 40% complete for AD002_S9_L001_R1_001.fastq.gz\n",
      "Approx 40% complete for AD002_S9_L001_R2_001.fastq.gz\n",
      "Approx 35% complete for AD002_S9_L002_R2_001.fastq.gz\n",
      "Approx 35% complete for AD002_S9_L002_R1_001.fastq.gz\n",
      "Approx 45% complete for AD002_S9_L001_R1_001.fastq.gz\n",
      "Approx 45% complete for AD002_S9_L001_R2_001.fastq.gz\n",
      "Approx 25% complete for NR013_AD013_S2_L001_R2_001.fastq.gz\n",
      "Approx 25% complete for NR013_AD013_S2_L001_R1_001.fastq.gz\n",
      "Approx 50% complete for AD002_S9_L001_R1_001.fastq.gz\n",
      "Approx 40% complete for AD002_S9_L002_R1_001.fastq.gz\n",
      "Approx 40% complete for AD002_S9_L002_R2_001.fastq.gz\n",
      "Approx 50% complete for AD002_S9_L001_R2_001.fastq.gz\n",
      "Approx 55% complete for AD002_S9_L001_R1_001.fastq.gz\n",
      "Approx 30% complete for NR013_AD013_S2_L001_R2_001.fastq.gz\n",
      "Approx 30% complete for NR013_AD013_S2_L001_R1_001.fastq.gz\n",
      "Approx 55% complete for AD002_S9_L001_R2_001.fastq.gz\n",
      "Approx 45% complete for AD002_S9_L002_R1_001.fastq.gz\n",
      "Approx 45% complete for AD002_S9_L002_R2_001.fastq.gz\n",
      "Approx 60% complete for AD002_S9_L001_R1_001.fastq.gz\n",
      "Approx 60% complete for AD002_S9_L001_R2_001.fastq.gz\n",
      "Approx 50% complete for AD002_S9_L002_R1_001.fastq.gz\n",
      "Approx 50% complete for AD002_S9_L002_R2_001.fastq.gz\n",
      "Approx 35% complete for NR013_AD013_S2_L001_R2_001.fastq.gz\n",
      "Approx 35% complete for NR013_AD013_S2_L001_R1_001.fastq.gz\n",
      "Approx 65% complete for AD002_S9_L001_R1_001.fastq.gz\n",
      "Approx 65% complete for AD002_S9_L001_R2_001.fastq.gz\n",
      "Approx 55% complete for AD002_S9_L002_R1_001.fastq.gz\n",
      "Approx 55% complete for AD002_S9_L002_R2_001.fastq.gz\n",
      "Approx 70% complete for AD002_S9_L001_R1_001.fastq.gz\n",
      "Approx 70% complete for AD002_S9_L001_R2_001.fastq.gz\n",
      "Too many tiles (>500) so giving up trying to do per-tile qualities since we're probably parsing the file wrongly\n",
      "Approx 40% complete for NR013_AD013_S2_L001_R2_001.fastq.gz\n",
      "Approx 40% complete for NR013_AD013_S2_L001_R1_001.fastq.gz\n",
      "Too many tiles (>500) so giving up trying to do per-tile qualities since we're probably parsing the file wrongly\n",
      "Approx 75% complete for AD002_S9_L001_R1_001.fastq.gz\n",
      "Approx 60% complete for AD002_S9_L002_R1_001.fastq.gz\n",
      "Approx 60% complete for AD002_S9_L002_R2_001.fastq.gz\n",
      "Approx 75% complete for AD002_S9_L001_R2_001.fastq.gz\n",
      "Approx 80% complete for AD002_S9_L001_R1_001.fastq.gz\n",
      "Approx 80% complete for AD002_S9_L001_R2_001.fastq.gz\n",
      "Approx 65% complete for AD002_S9_L002_R1_001.fastq.gz\n",
      "Approx 65% complete for AD002_S9_L002_R2_001.fastq.gz\n",
      "Approx 45% complete for NR013_AD013_S2_L001_R1_001.fastq.gz\n",
      "Approx 45% complete for NR013_AD013_S2_L001_R2_001.fastq.gz\n",
      "Approx 85% complete for AD002_S9_L001_R1_001.fastq.gz\n",
      "Approx 85% complete for AD002_S9_L001_R2_001.fastq.gz\n",
      "Approx 70% complete for AD002_S9_L002_R1_001.fastq.gz\n",
      "Approx 70% complete for AD002_S9_L002_R2_001.fastq.gz\n",
      "Too many tiles (>500) so giving up trying to do per-tile qualities since we're probably parsing the file wrongly\n",
      "Approx 90% complete for AD002_S9_L001_R1_001.fastq.gz\n",
      "Too many tiles (>500) so giving up trying to do per-tile qualities since we're probably parsing the file wrongly\n",
      "Approx 90% complete for AD002_S9_L001_R2_001.fastq.gz\n",
      "Approx 50% complete for NR013_AD013_S2_L001_R2_001.fastq.gz\n",
      "Approx 50% complete for NR013_AD013_S2_L001_R1_001.fastq.gz\n",
      "Approx 95% complete for AD002_S9_L001_R1_001.fastq.gz\n",
      "Approx 75% complete for AD002_S9_L002_R1_001.fastq.gz\n",
      "Approx 75% complete for AD002_S9_L002_R2_001.fastq.gz\n",
      "Approx 95% complete for AD002_S9_L001_R2_001.fastq.gz\n",
      "Analysis complete for AD002_S9_L001_R1_001.fastq.gz\n",
      "Started analysis of NR013_AD013_S2_L002_R1_001.fastq.gz\n",
      "Analysis complete for AD002_S9_L001_R2_001.fastq.gz\n",
      "Started analysis of NR013_AD013_S2_L002_R2_001.fastq.gz\n",
      "Approx 80% complete for AD002_S9_L002_R1_001.fastq.gz\n",
      "Approx 80% complete for AD002_S9_L002_R2_001.fastq.gz\n",
      "Approx 55% complete for NR013_AD013_S2_L001_R2_001.fastq.gz\n",
      "Approx 55% complete for NR013_AD013_S2_L001_R1_001.fastq.gz\n",
      "Approx 85% complete for AD002_S9_L002_R1_001.fastq.gz\n",
      "Approx 85% complete for AD002_S9_L002_R2_001.fastq.gz\n",
      "Approx 5% complete for NR013_AD013_S2_L002_R1_001.fastq.gz\n",
      "Approx 60% complete for NR013_AD013_S2_L001_R2_001.fastq.gz\n",
      "Approx 60% complete for NR013_AD013_S2_L001_R1_001.fastq.gz\n",
      "Approx 5% complete for NR013_AD013_S2_L002_R2_001.fastq.gz\n",
      "Approx 90% complete for AD002_S9_L002_R1_001.fastq.gz\n",
      "Approx 90% complete for AD002_S9_L002_R2_001.fastq.gz\n",
      "Approx 95% complete for AD002_S9_L002_R1_001.fastq.gz\n",
      "Approx 95% complete for AD002_S9_L002_R2_001.fastq.gz\n",
      "Approx 65% complete for NR013_AD013_S2_L001_R2_001.fastq.gz\n",
      "Approx 65% complete for NR013_AD013_S2_L001_R1_001.fastq.gz\n",
      "Approx 10% complete for NR013_AD013_S2_L002_R1_001.fastq.gz\n",
      "Approx 10% complete for NR013_AD013_S2_L002_R2_001.fastq.gz\n",
      "Analysis complete for AD002_S9_L002_R1_001.fastq.gz\n",
      "Started analysis of NR014_AD014_S5_L001_R1_001.fastq.gz\n",
      "Analysis complete for AD002_S9_L002_R2_001.fastq.gz\n",
      "Started analysis of NR014_AD014_S5_L001_R2_001.fastq.gz\n",
      "Approx 70% complete for NR013_AD013_S2_L001_R2_001.fastq.gz\n",
      "Approx 70% complete for NR013_AD013_S2_L001_R1_001.fastq.gz\n",
      "Approx 15% complete for NR013_AD013_S2_L002_R1_001.fastq.gz\n",
      "Approx 15% complete for NR013_AD013_S2_L002_R2_001.fastq.gz\n",
      "Too many tiles (>500) so giving up trying to do per-tile qualities since we're probably parsing the file wrongly\n",
      "Too many tiles (>500) so giving up trying to do per-tile qualities since we're probably parsing the file wrongly\n",
      "Approx 75% complete for NR013_AD013_S2_L001_R2_001.fastq.gz\n",
      "Approx 75% complete for NR013_AD013_S2_L001_R1_001.fastq.gz\n",
      "Approx 20% complete for NR013_AD013_S2_L002_R1_001.fastq.gz\n",
      "Approx 20% complete for NR013_AD013_S2_L002_R2_001.fastq.gz\n",
      "Approx 80% complete for NR013_AD013_S2_L001_R2_001.fastq.gz\n",
      "Approx 80% complete for NR013_AD013_S2_L001_R1_001.fastq.gz\n",
      "Approx 5% complete for NR014_AD014_S5_L001_R1_001.fastq.gz\n",
      "Approx 5% complete for NR014_AD014_S5_L001_R2_001.fastq.gz\n",
      "Approx 25% complete for NR013_AD013_S2_L002_R1_001.fastq.gz\n",
      "Approx 25% complete for NR013_AD013_S2_L002_R2_001.fastq.gz\n",
      "Approx 85% complete for NR013_AD013_S2_L001_R1_001.fastq.gz\n",
      "Approx 85% complete for NR013_AD013_S2_L001_R2_001.fastq.gz\n",
      "Approx 90% complete for NR013_AD013_S2_L001_R1_001.fastq.gz\n",
      "Approx 90% complete for NR013_AD013_S2_L001_R2_001.fastq.gz\n",
      "Approx 30% complete for NR013_AD013_S2_L002_R1_001.fastq.gz\n",
      "Approx 30% complete for NR013_AD013_S2_L002_R2_001.fastq.gz\n",
      "Approx 10% complete for NR014_AD014_S5_L001_R1_001.fastq.gz\n",
      "Approx 10% complete for NR014_AD014_S5_L001_R2_001.fastq.gz\n",
      "Approx 95% complete for NR013_AD013_S2_L001_R1_001.fastq.gz\n",
      "Approx 95% complete for NR013_AD013_S2_L001_R2_001.fastq.gz\n",
      "Approx 35% complete for NR013_AD013_S2_L002_R1_001.fastq.gz\n",
      "Approx 35% complete for NR013_AD013_S2_L002_R2_001.fastq.gz\n",
      "Analysis complete for NR013_AD013_S2_L001_R1_001.fastq.gz\n",
      "Started analysis of NR014_AD014_S5_L002_R1_001.fastq.gz\n",
      "Analysis complete for NR013_AD013_S2_L001_R2_001.fastq.gz\n",
      "Started analysis of NR014_AD014_S5_L002_R2_001.fastq.gz\n",
      "Approx 40% complete for NR013_AD013_S2_L002_R1_001.fastq.gz\n",
      "Approx 40% complete for NR013_AD013_S2_L002_R2_001.fastq.gz\n",
      "Approx 15% complete for NR014_AD014_S5_L001_R1_001.fastq.gz\n",
      "Approx 15% complete for NR014_AD014_S5_L001_R2_001.fastq.gz\n",
      "Approx 45% complete for NR013_AD013_S2_L002_R1_001.fastq.gz\n",
      "Approx 45% complete for NR013_AD013_S2_L002_R2_001.fastq.gz\n",
      "Approx 5% complete for NR014_AD014_S5_L002_R1_001.fastq.gz\n",
      "Approx 5% complete for NR014_AD014_S5_L002_R2_001.fastq.gz\n",
      "Approx 50% complete for NR013_AD013_S2_L002_R1_001.fastq.gz\n",
      "Approx 50% complete for NR013_AD013_S2_L002_R2_001.fastq.gz\n",
      "Approx 20% complete for NR014_AD014_S5_L001_R1_001.fastq.gz\n",
      "Approx 20% complete for NR014_AD014_S5_L001_R2_001.fastq.gz\n",
      "Approx 55% complete for NR013_AD013_S2_L002_R1_001.fastq.gz\n",
      "Approx 55% complete for NR013_AD013_S2_L002_R2_001.fastq.gz\n",
      "Approx 60% complete for NR013_AD013_S2_L002_R1_001.fastq.gz\n",
      "Approx 60% complete for NR013_AD013_S2_L002_R2_001.fastq.gz\n",
      "Approx 10% complete for NR014_AD014_S5_L002_R1_001.fastq.gz\n",
      "Approx 10% complete for NR014_AD014_S5_L002_R2_001.fastq.gz\n",
      "Approx 25% complete for NR014_AD014_S5_L001_R1_001.fastq.gz\n",
      "Approx 25% complete for NR014_AD014_S5_L001_R2_001.fastq.gz\n",
      "Approx 65% complete for NR013_AD013_S2_L002_R1_001.fastq.gz\n",
      "Approx 65% complete for NR013_AD013_S2_L002_R2_001.fastq.gz\n",
      "Approx 70% complete for NR013_AD013_S2_L002_R1_001.fastq.gz\n",
      "Approx 70% complete for NR013_AD013_S2_L002_R2_001.fastq.gz\n",
      "Too many tiles (>500) so giving up trying to do per-tile qualities since we're probably parsing the file wrongly\n",
      "Too many tiles (>500) so giving up trying to do per-tile qualities since we're probably parsing the file wrongly\n",
      "Approx 15% complete for NR014_AD014_S5_L002_R1_001.fastq.gz\n",
      "Approx 15% complete for NR014_AD014_S5_L002_R2_001.fastq.gz\n",
      "Approx 30% complete for NR014_AD014_S5_L001_R1_001.fastq.gz\n",
      "Approx 30% complete for NR014_AD014_S5_L001_R2_001.fastq.gz\n",
      "Approx 75% complete for NR013_AD013_S2_L002_R1_001.fastq.gz\n",
      "Approx 75% complete for NR013_AD013_S2_L002_R2_001.fastq.gz\n",
      "Approx 80% complete for NR013_AD013_S2_L002_R1_001.fastq.gz\n",
      "Approx 80% complete for NR013_AD013_S2_L002_R2_001.fastq.gz\n",
      "Approx 85% complete for NR013_AD013_S2_L002_R1_001.fastq.gz\n",
      "Approx 35% complete for NR014_AD014_S5_L001_R1_001.fastq.gz\n",
      "Approx 35% complete for NR014_AD014_S5_L001_R2_001.fastq.gz\n",
      "Approx 20% complete for NR014_AD014_S5_L002_R1_001.fastq.gz\n",
      "Approx 85% complete for NR013_AD013_S2_L002_R2_001.fastq.gz\n",
      "Approx 20% complete for NR014_AD014_S5_L002_R2_001.fastq.gz\n",
      "Approx 90% complete for NR013_AD013_S2_L002_R1_001.fastq.gz\n",
      "Approx 90% complete for NR013_AD013_S2_L002_R2_001.fastq.gz\n",
      "Approx 95% complete for NR013_AD013_S2_L002_R1_001.fastq.gz\n",
      "Approx 40% complete for NR014_AD014_S5_L001_R1_001.fastq.gz\n",
      "Approx 95% complete for NR013_AD013_S2_L002_R2_001.fastq.gz\n",
      "Approx 40% complete for NR014_AD014_S5_L001_R2_001.fastq.gz\n",
      "Approx 25% complete for NR014_AD014_S5_L002_R1_001.fastq.gz\n",
      "Approx 25% complete for NR014_AD014_S5_L002_R2_001.fastq.gz\n",
      "Analysis complete for NR013_AD013_S2_L002_R1_001.fastq.gz\n",
      "Started analysis of NR015_AD015_S6_L001_R1_001.fastq.gz\n",
      "Analysis complete for NR013_AD013_S2_L002_R2_001.fastq.gz\n",
      "Started analysis of NR015_AD015_S6_L001_R2_001.fastq.gz\n",
      "Approx 5% complete for NR015_AD015_S6_L001_R1_001.fastq.gz\n",
      "Approx 5% complete for NR015_AD015_S6_L001_R2_001.fastq.gz\n",
      "Approx 45% complete for NR014_AD014_S5_L001_R1_001.fastq.gz\n",
      "Approx 10% complete for NR015_AD015_S6_L001_R1_001.fastq.gz\n",
      "Approx 45% complete for NR014_AD014_S5_L001_R2_001.fastq.gz\n",
      "Approx 10% complete for NR015_AD015_S6_L001_R2_001.fastq.gz\n",
      "Approx 30% complete for NR014_AD014_S5_L002_R1_001.fastq.gz\n",
      "Approx 15% complete for NR015_AD015_S6_L001_R1_001.fastq.gz\n",
      "Approx 30% complete for NR014_AD014_S5_L002_R2_001.fastq.gz\n",
      "Approx 15% complete for NR015_AD015_S6_L001_R2_001.fastq.gz\n",
      "Approx 20% complete for NR015_AD015_S6_L001_R1_001.fastq.gz\n",
      "Approx 20% complete for NR015_AD015_S6_L001_R2_001.fastq.gz\n",
      "Approx 50% complete for NR014_AD014_S5_L001_R1_001.fastq.gz\n",
      "Approx 25% complete for NR015_AD015_S6_L001_R1_001.fastq.gz\n",
      "Approx 50% complete for NR014_AD014_S5_L001_R2_001.fastq.gz\n",
      "Approx 25% complete for NR015_AD015_S6_L001_R2_001.fastq.gz\n",
      "Approx 30% complete for NR015_AD015_S6_L001_R1_001.fastq.gz\n",
      "Approx 35% complete for NR014_AD014_S5_L002_R1_001.fastq.gz\n",
      "Approx 30% complete for NR015_AD015_S6_L001_R2_001.fastq.gz\n",
      "Approx 35% complete for NR014_AD014_S5_L002_R2_001.fastq.gz\n",
      "Approx 35% complete for NR015_AD015_S6_L001_R1_001.fastq.gz\n",
      "Approx 35% complete for NR015_AD015_S6_L001_R2_001.fastq.gz\n",
      "Approx 55% complete for NR014_AD014_S5_L001_R1_001.fastq.gz\n",
      "Approx 40% complete for NR015_AD015_S6_L001_R1_001.fastq.gz\n",
      "Approx 55% complete for NR014_AD014_S5_L001_R2_001.fastq.gz\n",
      "Approx 40% complete for NR015_AD015_S6_L001_R2_001.fastq.gz\n",
      "Approx 45% complete for NR015_AD015_S6_L001_R1_001.fastq.gz\n",
      "Approx 45% complete for NR015_AD015_S6_L001_R2_001.fastq.gz\n",
      "Approx 40% complete for NR014_AD014_S5_L002_R1_001.fastq.gz\n",
      "Approx 50% complete for NR015_AD015_S6_L001_R1_001.fastq.gz\n",
      "Approx 40% complete for NR014_AD014_S5_L002_R2_001.fastq.gz\n",
      "Approx 50% complete for NR015_AD015_S6_L001_R2_001.fastq.gz\n",
      "Approx 60% complete for NR014_AD014_S5_L001_R1_001.fastq.gz\n",
      "Approx 55% complete for NR015_AD015_S6_L001_R1_001.fastq.gz\n",
      "Approx 60% complete for NR014_AD014_S5_L001_R2_001.fastq.gz\n",
      "Approx 55% complete for NR015_AD015_S6_L001_R2_001.fastq.gz\n",
      "Approx 60% complete for NR015_AD015_S6_L001_R1_001.fastq.gz\n",
      "Approx 60% complete for NR015_AD015_S6_L001_R2_001.fastq.gz\n",
      "Approx 65% complete for NR015_AD015_S6_L001_R1_001.fastq.gz\n",
      "Approx 45% complete for NR014_AD014_S5_L002_R1_001.fastq.gz\n",
      "Approx 65% complete for NR015_AD015_S6_L001_R2_001.fastq.gz\n",
      "Approx 45% complete for NR014_AD014_S5_L002_R2_001.fastq.gz\n",
      "Approx 65% complete for NR014_AD014_S5_L001_R1_001.fastq.gz\n",
      "Approx 70% complete for NR015_AD015_S6_L001_R1_001.fastq.gz\n",
      "Approx 65% complete for NR014_AD014_S5_L001_R2_001.fastq.gz\n",
      "Too many tiles (>500) so giving up trying to do per-tile qualities since we're probably parsing the file wrongly\n",
      "Approx 70% complete for NR015_AD015_S6_L001_R2_001.fastq.gz\n",
      "Approx 75% complete for NR015_AD015_S6_L001_R1_001.fastq.gz\n",
      "Too many tiles (>500) so giving up trying to do per-tile qualities since we're probably parsing the file wrongly\n",
      "Approx 75% complete for NR015_AD015_S6_L001_R2_001.fastq.gz\n",
      "Approx 80% complete for NR015_AD015_S6_L001_R1_001.fastq.gz\n",
      "Approx 80% complete for NR015_AD015_S6_L001_R2_001.fastq.gz\n",
      "Approx 50% complete for NR014_AD014_S5_L002_R1_001.fastq.gz\n",
      "Approx 85% complete for NR015_AD015_S6_L001_R1_001.fastq.gz\n",
      "Approx 70% complete for NR014_AD014_S5_L001_R1_001.fastq.gz\n",
      "Approx 50% complete for NR014_AD014_S5_L002_R2_001.fastq.gz\n",
      "Approx 70% complete for NR014_AD014_S5_L001_R2_001.fastq.gz\n",
      "Approx 85% complete for NR015_AD015_S6_L001_R2_001.fastq.gz\n",
      "Approx 90% complete for NR015_AD015_S6_L001_R1_001.fastq.gz\n",
      "Approx 90% complete for NR015_AD015_S6_L001_R2_001.fastq.gz\n",
      "Approx 95% complete for NR015_AD015_S6_L001_R1_001.fastq.gz\n",
      "Too many tiles (>500) so giving up trying to do per-tile qualities since we're probably parsing the file wrongly\n",
      "Too many tiles (>500) so giving up trying to do per-tile qualities since we're probably parsing the file wrongly\n",
      "Approx 95% complete for NR015_AD015_S6_L001_R2_001.fastq.gz\n",
      "Analysis complete for NR015_AD015_S6_L001_R1_001.fastq.gz\n",
      "Started analysis of NR015_AD015_S6_L002_R1_001.fastq.gz\n",
      "Approx 75% complete for NR014_AD014_S5_L001_R1_001.fastq.gz\n",
      "Approx 55% complete for NR014_AD014_S5_L002_R1_001.fastq.gz\n",
      "Approx 75% complete for NR014_AD014_S5_L001_R2_001.fastq.gz\n",
      "Analysis complete for NR015_AD015_S6_L001_R2_001.fastq.gz\n",
      "Started analysis of NR015_AD015_S6_L002_R2_001.fastq.gz\n",
      "Approx 55% complete for NR014_AD014_S5_L002_R2_001.fastq.gz\n",
      "Approx 5% complete for NR015_AD015_S6_L002_R1_001.fastq.gz\n",
      "Approx 5% complete for NR015_AD015_S6_L002_R2_001.fastq.gz\n",
      "Approx 10% complete for NR015_AD015_S6_L002_R1_001.fastq.gz\n",
      "Approx 10% complete for NR015_AD015_S6_L002_R2_001.fastq.gz\n",
      "Approx 80% complete for NR014_AD014_S5_L001_R1_001.fastq.gz\n",
      "Approx 80% complete for NR014_AD014_S5_L001_R2_001.fastq.gz\n",
      "Approx 15% complete for NR015_AD015_S6_L002_R1_001.fastq.gz\n",
      "Approx 60% complete for NR014_AD014_S5_L002_R1_001.fastq.gz\n",
      "Approx 15% complete for NR015_AD015_S6_L002_R2_001.fastq.gz\n",
      "Approx 60% complete for NR014_AD014_S5_L002_R2_001.fastq.gz\n",
      "Approx 20% complete for NR015_AD015_S6_L002_R1_001.fastq.gz\n",
      "Approx 20% complete for NR015_AD015_S6_L002_R2_001.fastq.gz\n",
      "Approx 25% complete for NR015_AD015_S6_L002_R1_001.fastq.gz\n",
      "Approx 85% complete for NR014_AD014_S5_L001_R1_001.fastq.gz\n",
      "Approx 85% complete for NR014_AD014_S5_L001_R2_001.fastq.gz\n",
      "Approx 25% complete for NR015_AD015_S6_L002_R2_001.fastq.gz\n",
      "Approx 30% complete for NR015_AD015_S6_L002_R1_001.fastq.gz\n",
      "Approx 65% complete for NR014_AD014_S5_L002_R1_001.fastq.gz\n",
      "Approx 30% complete for NR015_AD015_S6_L002_R2_001.fastq.gz\n",
      "Approx 65% complete for NR014_AD014_S5_L002_R2_001.fastq.gz\n",
      "Approx 35% complete for NR015_AD015_S6_L002_R1_001.fastq.gz\n",
      "Approx 35% complete for NR015_AD015_S6_L002_R2_001.fastq.gz\n",
      "Approx 90% complete for NR014_AD014_S5_L001_R1_001.fastq.gz\n",
      "Approx 40% complete for NR015_AD015_S6_L002_R1_001.fastq.gz\n",
      "Approx 90% complete for NR014_AD014_S5_L001_R2_001.fastq.gz\n",
      "Approx 40% complete for NR015_AD015_S6_L002_R2_001.fastq.gz\n",
      "Approx 45% complete for NR015_AD015_S6_L002_R1_001.fastq.gz\n",
      "Approx 70% complete for NR014_AD014_S5_L002_R1_001.fastq.gz\n",
      "Approx 45% complete for NR015_AD015_S6_L002_R2_001.fastq.gz\n",
      "Approx 50% complete for NR015_AD015_S6_L002_R1_001.fastq.gz\n",
      "Approx 70% complete for NR014_AD014_S5_L002_R2_001.fastq.gz\n",
      "Too many tiles (>500) so giving up trying to do per-tile qualities since we're probably parsing the file wrongly\n",
      "Approx 95% complete for NR014_AD014_S5_L001_R1_001.fastq.gz\n",
      "Approx 50% complete for NR015_AD015_S6_L002_R2_001.fastq.gz\n",
      "Approx 95% complete for NR014_AD014_S5_L001_R2_001.fastq.gz\n",
      "Too many tiles (>500) so giving up trying to do per-tile qualities since we're probably parsing the file wrongly\n",
      "Approx 55% complete for NR015_AD015_S6_L002_R1_001.fastq.gz\n",
      "Approx 55% complete for NR015_AD015_S6_L002_R2_001.fastq.gz\n",
      "Approx 60% complete for NR015_AD015_S6_L002_R1_001.fastq.gz\n",
      "Approx 75% complete for NR014_AD014_S5_L002_R1_001.fastq.gz\n",
      "Approx 60% complete for NR015_AD015_S6_L002_R2_001.fastq.gz\n",
      "Approx 65% complete for NR015_AD015_S6_L002_R1_001.fastq.gz\n",
      "Approx 75% complete for NR014_AD014_S5_L002_R2_001.fastq.gz\n",
      "Analysis complete for NR014_AD014_S5_L001_R1_001.fastq.gz\n",
      "Analysis complete for NR014_AD014_S5_L001_R2_001.fastq.gz\n",
      "Approx 65% complete for NR015_AD015_S6_L002_R2_001.fastq.gz\n",
      "Approx 70% complete for NR015_AD015_S6_L002_R1_001.fastq.gz\n",
      "Too many tiles (>500) so giving up trying to do per-tile qualities since we're probably parsing the file wrongly\n",
      "Approx 70% complete for NR015_AD015_S6_L002_R2_001.fastq.gz\n",
      "Approx 75% complete for NR015_AD015_S6_L002_R1_001.fastq.gz\n",
      "Too many tiles (>500) so giving up trying to do per-tile qualities since we're probably parsing the file wrongly\n",
      "Approx 80% complete for NR014_AD014_S5_L002_R1_001.fastq.gz\n",
      "Approx 75% complete for NR015_AD015_S6_L002_R2_001.fastq.gz\n",
      "Approx 80% complete for NR015_AD015_S6_L002_R1_001.fastq.gz\n",
      "Approx 80% complete for NR014_AD014_S5_L002_R2_001.fastq.gz\n",
      "Approx 80% complete for NR015_AD015_S6_L002_R2_001.fastq.gz\n",
      "Approx 85% complete for NR015_AD015_S6_L002_R1_001.fastq.gz\n",
      "Approx 85% complete for NR015_AD015_S6_L002_R2_001.fastq.gz\n",
      "Approx 90% complete for NR015_AD015_S6_L002_R1_001.fastq.gz\n",
      "Approx 85% complete for NR014_AD014_S5_L002_R1_001.fastq.gz\n",
      "Approx 90% complete for NR015_AD015_S6_L002_R2_001.fastq.gz\n",
      "Approx 95% complete for NR015_AD015_S6_L002_R1_001.fastq.gz\n",
      "Approx 85% complete for NR014_AD014_S5_L002_R2_001.fastq.gz\n",
      "Approx 95% complete for NR015_AD015_S6_L002_R2_001.fastq.gz\n",
      "Analysis complete for NR015_AD015_S6_L002_R1_001.fastq.gz\n",
      "Analysis complete for NR015_AD015_S6_L002_R2_001.fastq.gz\n",
      "Approx 90% complete for NR014_AD014_S5_L002_R1_001.fastq.gz\n",
      "Approx 90% complete for NR014_AD014_S5_L002_R2_001.fastq.gz\n",
      "Approx 95% complete for NR014_AD014_S5_L002_R1_001.fastq.gz\n",
      "Approx 95% complete for NR014_AD014_S5_L002_R2_001.fastq.gz\n",
      "Analysis complete for NR014_AD014_S5_L002_R1_001.fastq.gz\n",
      "Analysis complete for NR014_AD014_S5_L002_R2_001.fastq.gz\n"
     ]
    }
   ],
   "source": [
    "!/Applications/bioinfo/FastQC/fastqc -t 6 \\\n",
    "-o /Volumes/Alanine/wd/17-09-15b \\\n",
    "/Volumes/web/halfshell/working-directory/17-09-01/*fastq.gz"
   ]
  },
  {
   "cell_type": "code",
   "execution_count": 4,
   "metadata": {
    "collapsed": false,
    "deletable": true,
    "editable": true
   },
   "outputs": [
    {
     "name": "stdout",
     "output_type": "stream",
     "text": [
      "\r\n",
      "            FastQC - A high throughput sequence QC analysis tool\r\n",
      "\r\n",
      "SYNOPSIS\r\n",
      "\r\n",
      "\tfastqc seqfile1 seqfile2 .. seqfileN\r\n",
      "\r\n",
      "    fastqc [-o output dir] [--(no)extract] [-f fastq|bam|sam] \r\n",
      "           [-c contaminant file] seqfile1 .. seqfileN\r\n",
      "\r\n",
      "DESCRIPTION\r\n",
      "\r\n",
      "    FastQC reads a set of sequence files and produces from each one a quality\r\n",
      "    control report consisting of a number of different modules, each one of \r\n",
      "    which will help to identify a different potential type of problem in your\r\n",
      "    data.\r\n",
      "    \r\n",
      "    If no files to process are specified on the command line then the program\r\n",
      "    will start as an interactive graphical application.  If files are provided\r\n",
      "    on the command line then the program will run with no user interaction\r\n",
      "    required.  In this mode it is suitable for inclusion into a standardised\r\n",
      "    analysis pipeline.\r\n",
      "    \r\n",
      "    The options for the program as as follows:\r\n",
      "    \r\n",
      "    -h --help       Print this help file and exit\r\n",
      "    \r\n",
      "    -v --version    Print the version of the program and exit\r\n",
      "    \r\n",
      "    -o --outdir     Create all output files in the specified output directory.\r\n",
      "                    Please note that this directory must exist as the program\r\n",
      "                    will not create it.  If this option is not set then the \r\n",
      "                    output file for each sequence file is created in the same\r\n",
      "                    directory as the sequence file which was processed.\r\n",
      "                    \r\n",
      "    --casava        Files come from raw casava output. Files in the same sample\r\n",
      "                    group (differing only by the group number) will be analysed\r\n",
      "                    as a set rather than individually. Sequences with the filter\r\n",
      "                    flag set in the header will be excluded from the analysis.\r\n",
      "                    Files must have the same names given to them by casava\r\n",
      "                    (including being gzipped and ending with .gz) otherwise they\r\n",
      "                    won't be grouped together correctly.\r\n",
      "                    \r\n",
      "    --nano          Files come from naopore sequences and are in fast5 format. In\r\n",
      "                    this mode you can pass in directories to process and the program\r\n",
      "                    will take in all fast5 files within those directories and produce\r\n",
      "                    a single output file from the sequences found in all files.                    \r\n",
      "                    \r\n",
      "    --nofilter      If running with --casava then don't remove read flagged by\r\n",
      "                    casava as poor quality when performing the QC analysis.\r\n",
      "                   \r\n",
      "    --extract       If set then the zipped output file will be uncompressed in\r\n",
      "                    the same directory after it has been created.  By default\r\n",
      "                    this option will be set if fastqc is run in non-interactive\r\n",
      "                    mode.\r\n",
      "                    \r\n",
      "    -j --java       Provides the full path to the java binary you want to use to\r\n",
      "                    launch fastqc. If not supplied then java is assumed to be in\r\n",
      "                    your path.\r\n",
      "                   \r\n",
      "    --noextract     Do not uncompress the output file after creating it.  You\r\n",
      "                    should set this option if you do not wish to uncompress\r\n",
      "                    the output when running in non-interactive mode.\r\n",
      "                    \r\n",
      "    --nogroup       Disable grouping of bases for reads >50bp. All reports will\r\n",
      "                    show data for every base in the read.  WARNING: Using this\r\n",
      "                    option will cause fastqc to crash and burn if you use it on\r\n",
      "                    really long reads, and your plots may end up a ridiculous size.\r\n",
      "                    You have been warned!\r\n",
      "                    \r\n",
      "    -f --format     Bypasses the normal sequence file format detection and\r\n",
      "                    forces the program to use the specified format.  Valid\r\n",
      "                    formats are bam,sam,bam_mapped,sam_mapped and fastq\r\n",
      "                    \r\n",
      "    -t --threads    Specifies the number of files which can be processed\r\n",
      "                    simultaneously.  Each thread will be allocated 250MB of\r\n",
      "                    memory so you shouldn't run more threads than your\r\n",
      "                    available memory will cope with, and not more than\r\n",
      "                    6 threads on a 32 bit machine\r\n",
      "                  \r\n",
      "    -c              Specifies a non-default file which contains the list of\r\n",
      "    --contaminants  contaminants to screen overrepresented sequences against.\r\n",
      "                    The file must contain sets of named contaminants in the\r\n",
      "                    form name[tab]sequence.  Lines prefixed with a hash will\r\n",
      "                    be ignored.\r\n",
      "\r\n",
      "    -a              Specifies a non-default file which contains the list of\r\n",
      "    --adapters      adapter sequences which will be explicity searched against\r\n",
      "                    the library. The file must contain sets of named adapters\r\n",
      "                    in the form name[tab]sequence.  Lines prefixed with a hash\r\n",
      "                    will be ignored.\r\n",
      "                    \r\n",
      "    -l              Specifies a non-default file which contains a set of criteria\r\n",
      "    --limits        which will be used to determine the warn/error limits for the\r\n",
      "                    various modules.  This file can also be used to selectively \r\n",
      "                    remove some modules from the output all together.  The format\r\n",
      "                    needs to mirror the default limits.txt file found in the\r\n",
      "                    Configuration folder.\r\n",
      "                    \r\n",
      "   -k --kmers       Specifies the length of Kmer to look for in the Kmer content\r\n",
      "                    module. Specified Kmer length must be between 2 and 10. Default\r\n",
      "                    length is 7 if not specified.\r\n",
      "                    \r\n",
      "   -q --quiet       Supress all progress messages on stdout and only report errors.\r\n",
      "   \r\n",
      "   -d --dir         Selects a directory to be used for temporary files written when\r\n",
      "                    generating report images. Defaults to system temp directory if\r\n",
      "                    not specified.\r\n",
      "                    \r\n",
      "BUGS\r\n",
      "\r\n",
      "    Any bugs in fastqc should be reported either to simon.andrews@babraham.ac.uk\r\n",
      "    or in www.bioinformatics.babraham.ac.uk/bugzilla/\r\n",
      "                   \r\n",
      "    "
     ]
    }
   ],
   "source": [
    "!/Applications/bioinfo/FastQC/fastqc -help"
   ]
  },
  {
   "cell_type": "code",
   "execution_count": 7,
   "metadata": {
    "collapsed": false,
    "deletable": true,
    "editable": true
   },
   "outputs": [
    {
     "name": "stdout",
     "output_type": "stream",
     "text": [
      "[INFO   ]         multiqc : This is MultiQC v1.0.dev0\n",
      "[INFO   ]         multiqc : Template    : default\n",
      "[INFO   ]         multiqc : Searching '/Volumes/Alanine/wd/17-09-15b'\n",
      "[INFO   ]          fastqc : Found 16 reports\n",
      "[INFO   ]         multiqc : Report      : multiqc_report.html\n",
      "[INFO   ]         multiqc : Data        : multiqc_data\n",
      "[INFO   ]         multiqc : MultiQC complete\n"
     ]
    }
   ],
   "source": [
    "!multiqc /Volumes/Alanine/wd/17-09-15b\n"
   ]
  },
  {
   "cell_type": "code",
   "execution_count": 9,
   "metadata": {
    "collapsed": false,
    "deletable": true,
    "editable": true
   },
   "outputs": [],
   "source": [
    "!mv m* /Volumes/Alanine/wd/17-09-15b/"
   ]
  },
  {
   "cell_type": "markdown",
   "metadata": {
    "collapsed": true,
    "deletable": true,
    "editable": true
   },
   "source": [
    "# RNA files"
   ]
  },
  {
   "cell_type": "code",
   "execution_count": 32,
   "metadata": {
    "collapsed": false,
    "deletable": true,
    "editable": true
   },
   "outputs": [
    {
     "name": "stdout",
     "output_type": "stream",
     "text": [
      "/Volumes/web-1/nightingales/Geoduck_NovaSeq/170630_A00104_0125_BH2V37DMXX/Demux/FastqOutput/L001\n"
     ]
    }
   ],
   "source": [
    "cd /Volumes/web-1/nightingales/Geoduck_NovaSeq/170630_A00104_0125_BH2V37DMXX/Demux/FastqOutput/L001"
   ]
  },
  {
   "cell_type": "code",
   "execution_count": 33,
   "metadata": {
    "collapsed": false,
    "deletable": true,
    "editable": true
   },
   "outputs": [
    {
     "name": "stdout",
     "output_type": "stream",
     "text": [
      "\u001b[30m\u001b[43mAD002\u001b[m\u001b[m/        \u001b[30m\u001b[43mNR006\u001b[m\u001b[m/        \u001b[30m\u001b[43mNR013_AD013\u001b[m\u001b[m/  \u001b[30m\u001b[43mNR015_AD015\u001b[m\u001b[m/  \u001b[30m\u001b[43mNR021\u001b[m\u001b[m/\r\n",
      "\u001b[30m\u001b[43mNR005\u001b[m\u001b[m/        \u001b[30m\u001b[43mNR012\u001b[m\u001b[m/        \u001b[30m\u001b[43mNR014_AD014\u001b[m\u001b[m/  \u001b[30m\u001b[43mNR019\u001b[m\u001b[m/        \u001b[30m\u001b[43mUndetermined\u001b[m\u001b[m/\r\n"
     ]
    }
   ],
   "source": [
    "ls\n"
   ]
  },
  {
   "cell_type": "markdown",
   "metadata": {
    "deletable": true,
    "editable": true
   },
   "source": [
    "RNA files would be inside directories that are NR\"only\""
   ]
  },
  {
   "cell_type": "code",
   "execution_count": 43,
   "metadata": {
    "collapsed": false,
    "deletable": true,
    "editable": true
   },
   "outputs": [
    {
     "name": "stdout",
     "output_type": "stream",
     "text": [
      "NR005/:\n",
      "total 14024\n",
      "drwxrwxrwx  1 sr320  staff   264B Jul 18 10:46 \u001b[30m\u001b[43m.\u001b[m\u001b[m/\n",
      "drwxrwxrwx  1 sr320  staff   398B Sep  1 09:10 \u001b[30m\u001b[43m..\u001b[m\u001b[m/\n",
      "-rwxrwxrwx  1 sr320  staff   3.4M Jul  5 17:50 \u001b[31mNR005_S4_L001_R1_001.fastq.gz\u001b[m\u001b[m*\n",
      "-rwxrwxrwx  1 sr320  staff   3.5M Jul  5 17:50 \u001b[31mNR005_S4_L001_R2_001.fastq.gz\u001b[m\u001b[m*\n",
      "\n",
      "NR006/:\n",
      "total 1090112\n",
      "drwxrwxrwx  1 sr320  staff   264B Jul 18 10:46 \u001b[30m\u001b[43m.\u001b[m\u001b[m/\n",
      "drwxrwxrwx  1 sr320  staff   398B Sep  1 09:10 \u001b[30m\u001b[43m..\u001b[m\u001b[m/\n",
      "-rwxrwxrwx  1 sr320  staff   262M Jul  5 17:50 \u001b[31mNR006_S3_L001_R1_001.fastq.gz\u001b[m\u001b[m*\n",
      "-rwxrwxrwx  1 sr320  staff   270M Jul  5 17:50 \u001b[31mNR006_S3_L001_R2_001.fastq.gz\u001b[m\u001b[m*\n",
      "\n",
      "NR012/:\n",
      "total 104928\n",
      "drwxrwxrwx  1 sr320  staff   264B Jul 18 10:46 \u001b[30m\u001b[43m.\u001b[m\u001b[m/\n",
      "drwxrwxrwx  1 sr320  staff   398B Sep  1 09:10 \u001b[30m\u001b[43m..\u001b[m\u001b[m/\n",
      "-rwxrwxrwx  1 sr320  staff    25M Jul  5 17:50 \u001b[31mNR012_S1_L001_R1_001.fastq.gz\u001b[m\u001b[m*\n",
      "-rwxrwxrwx  1 sr320  staff    26M Jul  5 17:50 \u001b[31mNR012_S1_L001_R2_001.fastq.gz\u001b[m\u001b[m*\n",
      "\n",
      "NR013_AD013/:\n",
      "total 111593776\n",
      "drwxrwxrwx  1 sr320  staff   264B Jul 20 21:01 \u001b[30m\u001b[43m.\u001b[m\u001b[m/\n",
      "drwxrwxrwx  1 sr320  staff   398B Sep  1 09:10 \u001b[30m\u001b[43m..\u001b[m\u001b[m/\n",
      "-rwxrwxrwx  1 sr320  staff    26G Jul  5 17:50 \u001b[31mNR013_AD013_S2_L001_R1_001.fastq.gz\u001b[m\u001b[m*\n",
      "-rwxrwxrwx  1 sr320  staff    27G Jul  5 17:50 \u001b[31mNR013_AD013_S2_L001_R2_001.fastq.gz\u001b[m\u001b[m*\n",
      "\n",
      "NR014_AD014/:\n",
      "total 269588552\n",
      "drwxrwxrwx  1 sr320  staff   264B Jul 20 21:54 \u001b[30m\u001b[43m.\u001b[m\u001b[m/\n",
      "drwxrwxrwx  1 sr320  staff   398B Sep  1 09:10 \u001b[30m\u001b[43m..\u001b[m\u001b[m/\n",
      "-rwxrwxrwx  1 sr320  staff    63G Jul  5 17:50 \u001b[31mNR014_AD014_S5_L001_R1_001.fastq.gz\u001b[m\u001b[m*\n",
      "-rwxrwxrwx  1 sr320  staff    66G Jul  5 17:50 \u001b[31mNR014_AD014_S5_L001_R2_001.fastq.gz\u001b[m\u001b[m*\n",
      "\n",
      "NR015_AD015/:\n",
      "total 91331616\n",
      "drwxrwxrwx  1 sr320  staff   264B Jul 20 22:45 \u001b[30m\u001b[43m.\u001b[m\u001b[m/\n",
      "drwxrwxrwx  1 sr320  staff   398B Sep  1 09:10 \u001b[30m\u001b[43m..\u001b[m\u001b[m/\n",
      "-rwxrwxrwx  1 sr320  staff    21G Jul  5 17:50 \u001b[31mNR015_AD015_S6_L001_R1_001.fastq.gz\u001b[m\u001b[m*\n",
      "-rwxrwxrwx  1 sr320  staff    22G Jul  5 17:50 \u001b[31mNR015_AD015_S6_L001_R2_001.fastq.gz\u001b[m\u001b[m*\n",
      "\n",
      "NR019/:\n",
      "total 18312\n",
      "drwxrwxrwx  1 sr320  staff   264B Jul 18 11:15 \u001b[30m\u001b[43m.\u001b[m\u001b[m/\n",
      "drwxrwxrwx  1 sr320  staff   398B Sep  1 09:10 \u001b[30m\u001b[43m..\u001b[m\u001b[m/\n",
      "-rwxrwxrwx  1 sr320  staff   4.4M Jul  5 17:50 \u001b[31mNR019_S7_L001_R1_001.fastq.gz\u001b[m\u001b[m*\n",
      "-rwxrwxrwx  1 sr320  staff   4.5M Jul  5 17:50 \u001b[31mNR019_S7_L001_R2_001.fastq.gz\u001b[m\u001b[m*\n",
      "\n",
      "NR021/:\n",
      "total 1332448\n",
      "drwxrwxrwx  1 sr320  staff   264B Jul 18 11:34 \u001b[30m\u001b[43m.\u001b[m\u001b[m/\n",
      "drwxrwxrwx  1 sr320  staff   398B Sep  1 09:10 \u001b[30m\u001b[43m..\u001b[m\u001b[m/\n",
      "-rwxrwxrwx  1 sr320  staff   318M Jul  5 17:50 \u001b[31mNR021_S8_L001_R1_001.fastq.gz\u001b[m\u001b[m*\n",
      "-rwxrwxrwx  1 sr320  staff   333M Jul  5 17:50 \u001b[31mNR021_S8_L001_R2_001.fastq.gz\u001b[m\u001b[m*\n"
     ]
    }
   ],
   "source": [
    "ls -lah NR0*/"
   ]
  },
  {
   "cell_type": "code",
   "execution_count": 40,
   "metadata": {
    "collapsed": false,
    "deletable": true,
    "editable": true
   },
   "outputs": [],
   "source": [
    "!cp NR005/* /Volumes/web-1/halfshell/working-directory/17-09-07/"
   ]
  },
  {
   "cell_type": "code",
   "execution_count": 44,
   "metadata": {
    "collapsed": true,
    "deletable": true,
    "editable": true
   },
   "outputs": [],
   "source": [
    "!cp NR006/* /Volumes/web-1/halfshell/working-directory/17-09-07/"
   ]
  },
  {
   "cell_type": "code",
   "execution_count": 45,
   "metadata": {
    "collapsed": true,
    "deletable": true,
    "editable": true
   },
   "outputs": [],
   "source": [
    "!cp NR012/* /Volumes/web-1/halfshell/working-directory/17-09-07/"
   ]
  },
  {
   "cell_type": "code",
   "execution_count": 46,
   "metadata": {
    "collapsed": true,
    "deletable": true,
    "editable": true
   },
   "outputs": [],
   "source": [
    "!cp NR019/* /Volumes/web-1/halfshell/working-directory/17-09-07/"
   ]
  },
  {
   "cell_type": "code",
   "execution_count": 47,
   "metadata": {
    "collapsed": true,
    "deletable": true,
    "editable": true
   },
   "outputs": [],
   "source": [
    "!cp NR021/* /Volumes/web-1/halfshell/working-directory/17-09-07/"
   ]
  },
  {
   "cell_type": "code",
   "execution_count": 50,
   "metadata": {
    "collapsed": false,
    "deletable": true,
    "editable": true
   },
   "outputs": [
    {
     "name": "stdout",
     "output_type": "stream",
     "text": [
      "/Volumes/web-1/nightingales/Geoduck_NovaSeq/170630_A00104_0125_BH2V37DMXX/Demux/FastqOutput/L002\n"
     ]
    }
   ],
   "source": [
    "cd /Volumes/web-1/nightingales/Geoduck_NovaSeq/170630_A00104_0125_BH2V37DMXX/Demux/FastqOutput/L002"
   ]
  },
  {
   "cell_type": "code",
   "execution_count": 51,
   "metadata": {
    "collapsed": true,
    "deletable": true,
    "editable": true
   },
   "outputs": [
    {
     "name": "stdout",
     "output_type": "stream",
     "text": [
      "NR005/:\n",
      "total 11608\n",
      "drwxrwxrwx  1 sr320  staff   264B Jul 18 10:46 \u001b[30m\u001b[43m.\u001b[m\u001b[m/\n",
      "drwxrwxrwx  1 sr320  staff   398B Sep  1 09:10 \u001b[30m\u001b[43m..\u001b[m\u001b[m/\n",
      "-rwxrwxrwx  1 sr320  staff   2.8M Jul  5 18:11 \u001b[31mNR005_S4_L002_R1_001.fastq.gz\u001b[m\u001b[m*\n",
      "-rwxrwxrwx  1 sr320  staff   2.9M Jul  5 18:11 \u001b[31mNR005_S4_L002_R2_001.fastq.gz\u001b[m\u001b[m*\n",
      "\n",
      "NR006/:\n",
      "total 904960\n",
      "drwxrwxrwx  1 sr320  staff   264B Jul 18 10:46 \u001b[30m\u001b[43m.\u001b[m\u001b[m/\n",
      "drwxrwxrwx  1 sr320  staff   398B Sep  1 09:10 \u001b[30m\u001b[43m..\u001b[m\u001b[m/\n",
      "-rwxrwxrwx  1 sr320  staff   217M Jul  5 18:11 \u001b[31mNR006_S3_L002_R1_001.fastq.gz\u001b[m\u001b[m*\n",
      "-rwxrwxrwx  1 sr320  staff   225M Jul  5 18:11 \u001b[31mNR006_S3_L002_R2_001.fastq.gz\u001b[m\u001b[m*\n",
      "\n",
      "NR012/:\n",
      "total 114608\n",
      "drwxrwxrwx  1 sr320  staff   264B Jul 18 10:46 \u001b[30m\u001b[43m.\u001b[m\u001b[m/\n",
      "drwxrwxrwx  1 sr320  staff   398B Sep  1 09:10 \u001b[30m\u001b[43m..\u001b[m\u001b[m/\n",
      "-rwxrwxrwx  1 sr320  staff    27M Jul  5 18:11 \u001b[31mNR012_S1_L002_R1_001.fastq.gz\u001b[m\u001b[m*\n",
      "-rwxrwxrwx  1 sr320  staff    29M Jul  5 18:11 \u001b[31mNR012_S1_L002_R2_001.fastq.gz\u001b[m\u001b[m*\n",
      "\n",
      "NR013_AD013/:\n",
      "total 128513000\n",
      "drwxrwxrwx  1 sr320  staff   264B Jul 20 23:40 \u001b[30m\u001b[43m.\u001b[m\u001b[m/\n",
      "drwxrwxrwx  1 sr320  staff   398B Sep  1 09:10 \u001b[30m\u001b[43m..\u001b[m\u001b[m/\n",
      "-rwxrwxrwx  1 sr320  staff    30G Jul  5 18:11 \u001b[31mNR013_AD013_S2_L002_R1_001.fastq.gz\u001b[m\u001b[m*\n",
      "-rwxrwxrwx  1 sr320  staff    32G Jul  5 18:11 \u001b[31mNR013_AD013_S2_L002_R2_001.fastq.gz\u001b[m\u001b[m*\n",
      "\n",
      "NR014_AD014/:\n",
      "total 296998792\n",
      "drwxrwxrwx  1 sr320  staff   264B Jul 21 00:40 \u001b[30m\u001b[43m.\u001b[m\u001b[m/\n",
      "drwxrwxrwx  1 sr320  staff   398B Sep  1 09:10 \u001b[30m\u001b[43m..\u001b[m\u001b[m/\n",
      "-rwxrwxrwx  1 sr320  staff    69G Jul  5 18:11 \u001b[31mNR014_AD014_S5_L002_R1_001.fastq.gz\u001b[m\u001b[m*\n",
      "-rwxrwxrwx  1 sr320  staff    72G Jul  5 18:11 \u001b[31mNR014_AD014_S5_L002_R2_001.fastq.gz\u001b[m\u001b[m*\n",
      "\n",
      "NR015_AD015/:\n",
      "total 97057744\n",
      "drwxrwxrwx  1 sr320  staff   264B Jul 21 01:36 \u001b[30m\u001b[43m.\u001b[m\u001b[m/\n",
      "drwxrwxrwx  1 sr320  staff   398B Sep  1 09:10 \u001b[30m\u001b[43m..\u001b[m\u001b[m/\n",
      "-rwxrwxrwx  1 sr320  staff    22G Jul  5 18:11 \u001b[31mNR015_AD015_S6_L002_R1_001.fastq.gz\u001b[m\u001b[m*\n",
      "-rwxrwxrwx  1 sr320  staff    24G Jul  5 18:11 \u001b[31mNR015_AD015_S6_L002_R2_001.fastq.gz\u001b[m\u001b[m*\n",
      "\n",
      "NR019/:\n",
      "total 9880\n",
      "drwxrwxrwx  1 sr320  staff   264B Jul 18 11:42 \u001b[30m\u001b[43m.\u001b[m\u001b[m/\n",
      "drwxrwxrwx  1 sr320  staff   398B Sep  1 09:10 \u001b[30m\u001b[43m..\u001b[m\u001b[m/\n",
      "-rwxrwxrwx  1 sr320  staff   2.4M Jul  5 18:11 \u001b[31mNR019_S7_L002_R1_001.fastq.gz\u001b[m\u001b[m*\n",
      "-rwxrwxrwx  1 sr320  staff   2.4M Jul  5 18:11 \u001b[31mNR019_S7_L002_R2_001.fastq.gz\u001b[m\u001b[m*\n",
      "\n",
      "NR021/:\n",
      "total 1104928\n",
      "drwxrwxrwx  1 sr320  staff   264B Jul 18 11:58 \u001b[30m\u001b[43m.\u001b[m\u001b[m/\n",
      "drwxrwxrwx  1 sr320  staff   398B Sep  1 09:10 \u001b[30m\u001b[43m..\u001b[m\u001b[m/\n",
      "-rwxrwxrwx  1 sr320  staff   264M Jul  5 18:11 \u001b[31mNR021_S8_L002_R1_001.fastq.gz\u001b[m\u001b[m*\n",
      "-rwxrwxrwx  1 sr320  staff   275M Jul  5 18:11 \u001b[31mNR021_S8_L002_R2_001.fastq.gz\u001b[m\u001b[m*\n"
     ]
    }
   ],
   "source": [
    "ls -lah NR0*/"
   ]
  },
  {
   "cell_type": "code",
   "execution_count": 52,
   "metadata": {
    "collapsed": true,
    "deletable": true,
    "editable": true
   },
   "outputs": [],
   "source": [
    "!cp NR005/* /Volumes/web-1/halfshell/working-directory/17-09-07/\n",
    "!cp NR006/* /Volumes/web-1/halfshell/working-directory/17-09-07/\n",
    "!cp NR012/* /Volumes/web-1/halfshell/working-directory/17-09-07/\n",
    "!cp NR019/* /Volumes/web-1/halfshell/working-directory/17-09-07/\n",
    "!cp NR021/* /Volumes/web-1/halfshell/working-directory/17-09-07/"
   ]
  },
  {
   "cell_type": "code",
   "execution_count": null,
   "metadata": {
    "collapsed": true,
    "deletable": true,
    "editable": true
   },
   "outputs": [],
   "source": []
  }
 ],
 "metadata": {
  "kernelspec": {
   "display_name": "Python 2",
   "language": "python",
   "name": "python2"
  },
  "language_info": {
   "codemirror_mode": {
    "name": "ipython",
    "version": 2
   },
   "file_extension": ".py",
   "mimetype": "text/x-python",
   "name": "python",
   "nbconvert_exporter": "python",
   "pygments_lexer": "ipython2",
   "version": "2.7.12"
  }
 },
 "nbformat": 4,
 "nbformat_minor": 0
}
