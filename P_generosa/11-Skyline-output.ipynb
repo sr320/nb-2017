{
 "cells": [
  {
   "cell_type": "code",
   "execution_count": 1,
   "metadata": {
    "collapsed": false
   },
   "outputs": [
    {
     "name": "stdout",
     "output_type": "stream",
     "text": [
      "Protein Name,Protein Description,File Name,Peptide Sequence,Peptide Peak Found Ratio,Area,Protein Sequence\r",
      "\r\n",
      "CHOYP_14332.1.2|m.5643,,2017_January_23_envtstress_oyster1.raw,LVENYKPLTNEER,0.09,#N/A,MKLIFSYRLMKPFQFFSNMSLSREELANKAKLAEQAERYDDMADAMKKLVENYKPLTNEERNLLSVAYKNVVGARRSSWRVISSIESKTDSSEKKQVIASAYRTKITEELKNICNDVLDLLEKYLIDEETMKKYKDAAANNENTDMKDSLVFYLKMKGDYYRYLAEVSTDEEKNAVVKKSEDAYKEAYKNANDSMAPTHPIRLGLALNYSVFHYEIMNKPDEACKLAKRAFDDAIAELDTLNEESYKDSTLIMQLLRDNLTLWTSDANQDGDDDREGENN\r",
      "\r\n",
      "CHOYP_14332.1.2|m.5643,,2017_January_23_envtstress_oyster10.raw,LVENYKPLTNEER,0.09,#N/A,MKLIFSYRLMKPFQFFSNMSLSREELANKAKLAEQAERYDDMADAMKKLVENYKPLTNEERNLLSVAYKNVVGARRSSWRVISSIESKTDSSEKKQVIASAYRTKITEELKNICNDVLDLLEKYLIDEETMKKYKDAAANNENTDMKDSLVFYLKMKGDYYRYLAEVSTDEEKNAVVKKSEDAYKEAYKNANDSMAPTHPIRLGLALNYSVFHYEIMNKPDEACKLAKRAFDDAIAELDTLNEESYKDSTLIMQLLRDNLTLWTSDANQDGDDDREGENN\r",
      "\r\n",
      "CHOYP_14332.1.2|m.5643,,2017_January_23_envtstress_oyster11.raw,LVENYKPLTNEER,0.18,#N/A,MKLIFSYRLMKPFQFFSNMSLSREELANKAKLAEQAERYDDMADAMKKLVENYKPLTNEERNLLSVAYKNVVGARRSSWRVISSIESKTDSSEKKQVIASAYRTKITEELKNICNDVLDLLEKYLIDEETMKKYKDAAANNENTDMKDSLVFYLKMKGDYYRYLAEVSTDEEKNAVVKKSEDAYKEAYKNANDSMAPTHPIRLGLALNYSVFHYEIMNKPDEACKLAKRAFDDAIAELDTLNEESYKDSTLIMQLLRDNLTLWTSDANQDGDDDREGENN\r",
      "\r\n",
      "CHOYP_14332.1.2|m.5643,,2017_January_23_envtstress_oyster12.raw,LVENYKPLTNEER,0.18,232692,MKLIFSYRLMKPFQFFSNMSLSREELANKAKLAEQAERYDDMADAMKKLVENYKPLTNEERNLLSVAYKNVVGARRSSWRVISSIESKTDSSEKKQVIASAYRTKITEELKNICNDVLDLLEKYLIDEETMKKYKDAAANNENTDMKDSLVFYLKMKGDYYRYLAEVSTDEEKNAVVKKSEDAYKEAYKNANDSMAPTHPIRLGLALNYSVFHYEIMNKPDEACKLAKRAFDDAIAELDTLNEESYKDSTLIMQLLRDNLTLWTSDANQDGDDDREGENN\r",
      "\r\n",
      "CHOYP_14332.1.2|m.5643,,2017_January_23_envtstress_oyster13.raw,LVENYKPLTNEER,0.09,#N/A,MKLIFSYRLMKPFQFFSNMSLSREELANKAKLAEQAERYDDMADAMKKLVENYKPLTNEERNLLSVAYKNVVGARRSSWRVISSIESKTDSSEKKQVIASAYRTKITEELKNICNDVLDLLEKYLIDEETMKKYKDAAANNENTDMKDSLVFYLKMKGDYYRYLAEVSTDEEKNAVVKKSEDAYKEAYKNANDSMAPTHPIRLGLALNYSVFHYEIMNKPDEACKLAKRAFDDAIAELDTLNEESYKDSTLIMQLLRDNLTLWTSDANQDGDDDREGENN\r",
      "\r\n",
      "CHOYP_14332.1.2|m.5643,,2017_January_23_envtstress_oyster14.raw,LVENYKPLTNEER,0.09,#N/A,MKLIFSYRLMKPFQFFSNMSLSREELANKAKLAEQAERYDDMADAMKKLVENYKPLTNEERNLLSVAYKNVVGARRSSWRVISSIESKTDSSEKKQVIASAYRTKITEELKNICNDVLDLLEKYLIDEETMKKYKDAAANNENTDMKDSLVFYLKMKGDYYRYLAEVSTDEEKNAVVKKSEDAYKEAYKNANDSMAPTHPIRLGLALNYSVFHYEIMNKPDEACKLAKRAFDDAIAELDTLNEESYKDSTLIMQLLRDNLTLWTSDANQDGDDDREGENN\r",
      "\r\n",
      "CHOYP_14332.1.2|m.5643,,2017_January_23_envtstress_oyster15.raw,LVENYKPLTNEER,0.09,#N/A,MKLIFSYRLMKPFQFFSNMSLSREELANKAKLAEQAERYDDMADAMKKLVENYKPLTNEERNLLSVAYKNVVGARRSSWRVISSIESKTDSSEKKQVIASAYRTKITEELKNICNDVLDLLEKYLIDEETMKKYKDAAANNENTDMKDSLVFYLKMKGDYYRYLAEVSTDEEKNAVVKKSEDAYKEAYKNANDSMAPTHPIRLGLALNYSVFHYEIMNKPDEACKLAKRAFDDAIAELDTLNEESYKDSTLIMQLLRDNLTLWTSDANQDGDDDREGENN\r",
      "\r\n",
      "CHOYP_14332.1.2|m.5643,,2017_January_23_envtstress_oyster16.raw,LVENYKPLTNEER,0.09,#N/A,MKLIFSYRLMKPFQFFSNMSLSREELANKAKLAEQAERYDDMADAMKKLVENYKPLTNEERNLLSVAYKNVVGARRSSWRVISSIESKTDSSEKKQVIASAYRTKITEELKNICNDVLDLLEKYLIDEETMKKYKDAAANNENTDMKDSLVFYLKMKGDYYRYLAEVSTDEEKNAVVKKSEDAYKEAYKNANDSMAPTHPIRLGLALNYSVFHYEIMNKPDEACKLAKRAFDDAIAELDTLNEESYKDSTLIMQLLRDNLTLWTSDANQDGDDDREGENN\r",
      "\r\n",
      "CHOYP_14332.1.2|m.5643,,2017_January_23_envtstress_oyster17.raw,LVENYKPLTNEER,0.09,#N/A,MKLIFSYRLMKPFQFFSNMSLSREELANKAKLAEQAERYDDMADAMKKLVENYKPLTNEERNLLSVAYKNVVGARRSSWRVISSIESKTDSSEKKQVIASAYRTKITEELKNICNDVLDLLEKYLIDEETMKKYKDAAANNENTDMKDSLVFYLKMKGDYYRYLAEVSTDEEKNAVVKKSEDAYKEAYKNANDSMAPTHPIRLGLALNYSVFHYEIMNKPDEACKLAKRAFDDAIAELDTLNEESYKDSTLIMQLLRDNLTLWTSDANQDGDDDREGENN\r",
      "\r\n"
     ]
    }
   ],
   "source": [
    "!head /Users/sr320/Desktop/2017-03-16_Skyline_report_yaamini.csv"
   ]
  },
  {
   "cell_type": "code",
   "execution_count": 6,
   "metadata": {
    "collapsed": true
   },
   "outputs": [],
   "source": [
    "!cp /Users/sr320/Desktop/2017-03-16_Skyline_report_yaamini.csv /Volumes/Alanine/wd/17-03-17/2017-03-16_Skyline_report_yaamini.csv"
   ]
  },
  {
   "cell_type": "code",
   "execution_count": 7,
   "metadata": {
    "collapsed": false
   },
   "outputs": [
    {
     "name": "stdout",
     "output_type": "stream",
     "text": [
      "-rw-r--r--@ 1 sr320  staff   5.8G Mar 17 11:06 /Users/sr320/Desktop/2017-03-16_Skyline_report_yaamini.csv\r\n"
     ]
    }
   ],
   "source": [
    "!ls -lh /Users/sr320/Desktop/2017-03-16_Skyline_report_yaami*"
   ]
  },
  {
   "cell_type": "code",
   "execution_count": 9,
   "metadata": {
    "collapsed": false
   },
   "outputs": [
    {
     "name": "stdout",
     "output_type": "stream",
     "text": [
      "Protein Name,File Name,Area\r\n",
      "CHOYP_14332.1.2|m.5643,2017_January_23_envtstress_oyster1.raw,#N/A\r\n",
      "CHOYP_14332.1.2|m.5643,2017_January_23_envtstress_oyster10.raw,#N/A\r\n",
      "CHOYP_14332.1.2|m.5643,2017_January_23_envtstress_oyster11.raw,#N/A\r\n",
      "CHOYP_14332.1.2|m.5643,2017_January_23_envtstress_oyster12.raw,232692\r\n",
      "CHOYP_14332.1.2|m.5643,2017_January_23_envtstress_oyster13.raw,#N/A\r\n",
      "CHOYP_14332.1.2|m.5643,2017_January_23_envtstress_oyster14.raw,#N/A\r\n",
      "CHOYP_14332.1.2|m.5643,2017_January_23_envtstress_oyster15.raw,#N/A\r\n",
      "CHOYP_14332.1.2|m.5643,2017_January_23_envtstress_oyster16.raw,#N/A\r\n",
      "CHOYP_14332.1.2|m.5643,2017_January_23_envtstress_oyster17.raw,#N/A\r\n"
     ]
    }
   ],
   "source": [
    "!head /Users/sr320/Desktop/2017-03-16_Skyline_report_yaamini.csv \\\n",
    "| cut -d, -f1,3,6"
   ]
  },
  {
   "cell_type": "code",
   "execution_count": 10,
   "metadata": {
    "collapsed": false
   },
   "outputs": [
    {
     "name": "stdout",
     "output_type": "stream",
     "text": [
      " 5562901 /Users/sr320/Desktop/2017-03-16_Skyline_report_yaamini.csv\r\n"
     ]
    }
   ],
   "source": [
    "!wc -l /Users/sr320/Desktop/2017-03-16_Skyline_report_yaamini.csv"
   ]
  },
  {
   "cell_type": "code",
   "execution_count": 11,
   "metadata": {
    "collapsed": false
   },
   "outputs": [
    {
     "name": "stdout",
     "output_type": "stream",
     "text": [
      " 4683522\r\n"
     ]
    }
   ],
   "source": [
    "!fgrep \"#N/A\" /Users/sr320/Desktop/2017-03-16_Skyline_report_yaamini.csv | wc -l "
   ]
  },
  {
   "cell_type": "code",
   "execution_count": 12,
   "metadata": {
    "collapsed": false
   },
   "outputs": [
    {
     "data": {
      "text/plain": [
       "879379"
      ]
     },
     "execution_count": 12,
     "metadata": {},
     "output_type": "execute_result"
    }
   ],
   "source": [
    "5562901-4683522"
   ]
  },
  {
   "cell_type": "code",
   "execution_count": 17,
   "metadata": {
    "collapsed": false
   },
   "outputs": [],
   "source": [
    "!fgrep -v \"#N/A\" /Users/sr320/Desktop/2017-03-16_Skyline_report_yaamini.csv | cut -d, -f1,3,6 \\\n",
    "> /Volumes/Alanine/wd/17-03-17/NoNA.csv"
   ]
  },
  {
   "cell_type": "markdown",
   "metadata": {},
   "source": [
    "<img src=\"http://eagle.fish.washington.edu/cnidarian/skitch/NoNA_csv_1E7C619D.png\" alt=\"NoNA_csv_1E7C619D.png\"/>"
   ]
  },
  {
   "cell_type": "code",
   "execution_count": 21,
   "metadata": {
    "collapsed": false
   },
   "outputs": [
    {
     "name": "stdout",
     "output_type": "stream",
     "text": [
      "==> /Volumes/Alanine/wd/17-03-17/Oyster-AverageArea-Proteinbased.csv <==\r\n",
      "Row Labels,2017_January_23_envtstress_oyster1.raw,2017_January_23_envtstress_oyster10.raw,2017_January_23_envtstress_oyster11.raw,2017_January_23_envtstress_oyster12.raw,2017_January_23_envtstress_oyster13.raw,2017_January_23_envtstress_oyster14.raw,2017_January_23_envtstress_oyster15.raw,2017_January_23_envtstress_oyster16.raw,2017_January_23_envtstress_oyster17.raw,2017_January_23_envtstress_oyster18.raw,2017_January_23_envtstress_oyster19.raw,2017_January_23_envtstress_oyster2.raw,2017_January_23_envtstress_oyster20.raw,2017_January_23_envtstress_oyster21.raw,2017_January_23_envtstress_oyster22.raw,2017_January_23_envtstress_oyster23.raw,2017_January_23_envtstress_oyster24.raw,2017_January_23_envtstress_oyster25.raw,2017_January_23_envtstress_oyster3.raw,2017_January_23_envtstress_oyster4.raw,2017_January_23_envtstress_oyster5.raw,2017_January_23_envtstress_oyster6.raw,2017_January_23_envtstress_oyster7.raw,2017_January_23_envtstress_oyster8.raw,2017_January_23_envtstress_oyster9.raw\r\n",
      "CHOYP_14332.1.2|m.5643,2716275.545,13976900.44,1726699.5,1526528.909,3073463.222,2243615.1,3293219.556,3426957.583,3703115.909,1943599.9,4909780.357,5683900.818,1708631.273,18246.83333,15207.2,6447,5308420.417,7676814.636,7981118.083,8265518.636,2632123.3,5997446.167,5666410,1825921.667,993315.4\r\n",
      "\r\n",
      "==> /Volumes/Alanine/wd/17-03-17/Oyster-MaxArea-Proteinbased.csv <==\r\n",
      "Row Labels,2017_January_23_envtstress_oyster1.raw,2017_January_23_envtstress_oyster10.raw,2017_January_23_envtstress_oyster11.raw,2017_January_23_envtstress_oyster12.raw,2017_January_23_envtstress_oyster13.raw,2017_January_23_envtstress_oyster14.raw,2017_January_23_envtstress_oyster15.raw,2017_January_23_envtstress_oyster16.raw,2017_January_23_envtstress_oyster17.raw,2017_January_23_envtstress_oyster18.raw,2017_January_23_envtstress_oyster19.raw,2017_January_23_envtstress_oyster2.raw,2017_January_23_envtstress_oyster20.raw,2017_January_23_envtstress_oyster21.raw,2017_January_23_envtstress_oyster22.raw,2017_January_23_envtstress_oyster23.raw,2017_January_23_envtstress_oyster24.raw,2017_January_23_envtstress_oyster25.raw,2017_January_23_envtstress_oyster3.raw,2017_January_23_envtstress_oyster4.raw,2017_January_23_envtstress_oyster5.raw,2017_January_23_envtstress_oyster6.raw,2017_January_23_envtstress_oyster7.raw,2017_January_23_envtstress_oyster8.raw,2017_January_23_envtstress_oyster9.raw,(blank),Grand Total\r\n",
      "CHOYP_14332.1.2|m.5643,17485922,118201048,19257424,15264229,22693604,20629784,26985726,27184488,24594746,11796736,34933568,58437312,16280349,36537,34443,6447,43229116,68165520,80826072,83109216,19807702,28428714,25620226,10843485,7724831,,118201048\r\n"
     ]
    }
   ],
   "source": [
    "!head -2 /Volumes/Alanine/wd/17-03-17/Oyster*"
   ]
  },
  {
   "cell_type": "markdown",
   "metadata": {},
   "source": [
    "<img src=\"http://eagle.fish.washington.edu/cnidarian/skitch/Screenshot_3_17_17__11_29_AM_1E7C627A.png\" alt=\"Screenshot_3_17_17__11_29_AM_1E7C627A.png\"/>"
   ]
  },
  {
   "cell_type": "code",
   "execution_count": null,
   "metadata": {
    "collapsed": true
   },
   "outputs": [],
   "source": []
  }
 ],
 "metadata": {
  "kernelspec": {
   "display_name": "Python 2",
   "language": "python",
   "name": "python2"
  },
  "language_info": {
   "codemirror_mode": {
    "name": "ipython",
    "version": 2
   },
   "file_extension": ".py",
   "mimetype": "text/x-python",
   "name": "python",
   "nbconvert_exporter": "python",
   "pygments_lexer": "ipython2",
   "version": "2.7.12"
  }
 },
 "nbformat": 4,
 "nbformat_minor": 0
}
