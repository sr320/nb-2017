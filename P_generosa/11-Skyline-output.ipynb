{
 "cells": [
  {
   "cell_type": "code",
   "execution_count": 1,
   "metadata": {
    "collapsed": false
   },
   "outputs": [
    {
     "name": "stdout",
     "output_type": "stream",
     "text": [
      "Protein Name,Protein Description,File Name,Peptide Sequence,Peptide Peak Found Ratio,Area,Protein Sequence\r",
      "\r\n",
      "CHOYP_14332.1.2|m.5643,,2017_January_23_envtstress_oyster1.raw,LVENYKPLTNEER,0.09,#N/A,MKLIFSYRLMKPFQFFSNMSLSREELANKAKLAEQAERYDDMADAMKKLVENYKPLTNEERNLLSVAYKNVVGARRSSWRVISSIESKTDSSEKKQVIASAYRTKITEELKNICNDVLDLLEKYLIDEETMKKYKDAAANNENTDMKDSLVFYLKMKGDYYRYLAEVSTDEEKNAVVKKSEDAYKEAYKNANDSMAPTHPIRLGLALNYSVFHYEIMNKPDEACKLAKRAFDDAIAELDTLNEESYKDSTLIMQLLRDNLTLWTSDANQDGDDDREGENN\r",
      "\r\n",
      "CHOYP_14332.1.2|m.5643,,2017_January_23_envtstress_oyster10.raw,LVENYKPLTNEER,0.09,#N/A,MKLIFSYRLMKPFQFFSNMSLSREELANKAKLAEQAERYDDMADAMKKLVENYKPLTNEERNLLSVAYKNVVGARRSSWRVISSIESKTDSSEKKQVIASAYRTKITEELKNICNDVLDLLEKYLIDEETMKKYKDAAANNENTDMKDSLVFYLKMKGDYYRYLAEVSTDEEKNAVVKKSEDAYKEAYKNANDSMAPTHPIRLGLALNYSVFHYEIMNKPDEACKLAKRAFDDAIAELDTLNEESYKDSTLIMQLLRDNLTLWTSDANQDGDDDREGENN\r",
      "\r\n",
      "CHOYP_14332.1.2|m.5643,,2017_January_23_envtstress_oyster11.raw,LVENYKPLTNEER,0.18,#N/A,MKLIFSYRLMKPFQFFSNMSLSREELANKAKLAEQAERYDDMADAMKKLVENYKPLTNEERNLLSVAYKNVVGARRSSWRVISSIESKTDSSEKKQVIASAYRTKITEELKNICNDVLDLLEKYLIDEETMKKYKDAAANNENTDMKDSLVFYLKMKGDYYRYLAEVSTDEEKNAVVKKSEDAYKEAYKNANDSMAPTHPIRLGLALNYSVFHYEIMNKPDEACKLAKRAFDDAIAELDTLNEESYKDSTLIMQLLRDNLTLWTSDANQDGDDDREGENN\r",
      "\r\n",
      "CHOYP_14332.1.2|m.5643,,2017_January_23_envtstress_oyster12.raw,LVENYKPLTNEER,0.18,232692,MKLIFSYRLMKPFQFFSNMSLSREELANKAKLAEQAERYDDMADAMKKLVENYKPLTNEERNLLSVAYKNVVGARRSSWRVISSIESKTDSSEKKQVIASAYRTKITEELKNICNDVLDLLEKYLIDEETMKKYKDAAANNENTDMKDSLVFYLKMKGDYYRYLAEVSTDEEKNAVVKKSEDAYKEAYKNANDSMAPTHPIRLGLALNYSVFHYEIMNKPDEACKLAKRAFDDAIAELDTLNEESYKDSTLIMQLLRDNLTLWTSDANQDGDDDREGENN\r",
      "\r\n",
      "CHOYP_14332.1.2|m.5643,,2017_January_23_envtstress_oyster13.raw,LVENYKPLTNEER,0.09,#N/A,MKLIFSYRLMKPFQFFSNMSLSREELANKAKLAEQAERYDDMADAMKKLVENYKPLTNEERNLLSVAYKNVVGARRSSWRVISSIESKTDSSEKKQVIASAYRTKITEELKNICNDVLDLLEKYLIDEETMKKYKDAAANNENTDMKDSLVFYLKMKGDYYRYLAEVSTDEEKNAVVKKSEDAYKEAYKNANDSMAPTHPIRLGLALNYSVFHYEIMNKPDEACKLAKRAFDDAIAELDTLNEESYKDSTLIMQLLRDNLTLWTSDANQDGDDDREGENN\r",
      "\r\n",
      "CHOYP_14332.1.2|m.5643,,2017_January_23_envtstress_oyster14.raw,LVENYKPLTNEER,0.09,#N/A,MKLIFSYRLMKPFQFFSNMSLSREELANKAKLAEQAERYDDMADAMKKLVENYKPLTNEERNLLSVAYKNVVGARRSSWRVISSIESKTDSSEKKQVIASAYRTKITEELKNICNDVLDLLEKYLIDEETMKKYKDAAANNENTDMKDSLVFYLKMKGDYYRYLAEVSTDEEKNAVVKKSEDAYKEAYKNANDSMAPTHPIRLGLALNYSVFHYEIMNKPDEACKLAKRAFDDAIAELDTLNEESYKDSTLIMQLLRDNLTLWTSDANQDGDDDREGENN\r",
      "\r\n",
      "CHOYP_14332.1.2|m.5643,,2017_January_23_envtstress_oyster15.raw,LVENYKPLTNEER,0.09,#N/A,MKLIFSYRLMKPFQFFSNMSLSREELANKAKLAEQAERYDDMADAMKKLVENYKPLTNEERNLLSVAYKNVVGARRSSWRVISSIESKTDSSEKKQVIASAYRTKITEELKNICNDVLDLLEKYLIDEETMKKYKDAAANNENTDMKDSLVFYLKMKGDYYRYLAEVSTDEEKNAVVKKSEDAYKEAYKNANDSMAPTHPIRLGLALNYSVFHYEIMNKPDEACKLAKRAFDDAIAELDTLNEESYKDSTLIMQLLRDNLTLWTSDANQDGDDDREGENN\r",
      "\r\n",
      "CHOYP_14332.1.2|m.5643,,2017_January_23_envtstress_oyster16.raw,LVENYKPLTNEER,0.09,#N/A,MKLIFSYRLMKPFQFFSNMSLSREELANKAKLAEQAERYDDMADAMKKLVENYKPLTNEERNLLSVAYKNVVGARRSSWRVISSIESKTDSSEKKQVIASAYRTKITEELKNICNDVLDLLEKYLIDEETMKKYKDAAANNENTDMKDSLVFYLKMKGDYYRYLAEVSTDEEKNAVVKKSEDAYKEAYKNANDSMAPTHPIRLGLALNYSVFHYEIMNKPDEACKLAKRAFDDAIAELDTLNEESYKDSTLIMQLLRDNLTLWTSDANQDGDDDREGENN\r",
      "\r\n",
      "CHOYP_14332.1.2|m.5643,,2017_January_23_envtstress_oyster17.raw,LVENYKPLTNEER,0.09,#N/A,MKLIFSYRLMKPFQFFSNMSLSREELANKAKLAEQAERYDDMADAMKKLVENYKPLTNEERNLLSVAYKNVVGARRSSWRVISSIESKTDSSEKKQVIASAYRTKITEELKNICNDVLDLLEKYLIDEETMKKYKDAAANNENTDMKDSLVFYLKMKGDYYRYLAEVSTDEEKNAVVKKSEDAYKEAYKNANDSMAPTHPIRLGLALNYSVFHYEIMNKPDEACKLAKRAFDDAIAELDTLNEESYKDSTLIMQLLRDNLTLWTSDANQDGDDDREGENN\r",
      "\r\n"
     ]
    }
   ],
   "source": [
    "!head /Users/sr320/Desktop/2017-03-16_Skyline_report_yaamini.csv"
   ]
  },
  {
   "cell_type": "code",
   "execution_count": 6,
   "metadata": {
    "collapsed": true
   },
   "outputs": [],
   "source": [
    "!cp /Users/sr320/Desktop/2017-03-16_Skyline_report_yaamini.csv /Volumes/Alanine/wd/17-03-17/2017-03-16_Skyline_report_yaamini.csv"
   ]
  },
  {
   "cell_type": "code",
   "execution_count": 7,
   "metadata": {
    "collapsed": false
   },
   "outputs": [
    {
     "name": "stdout",
     "output_type": "stream",
     "text": [
      "-rw-r--r--@ 1 sr320  staff   5.8G Mar 17 11:06 /Users/sr320/Desktop/2017-03-16_Skyline_report_yaamini.csv\r\n"
     ]
    }
   ],
   "source": [
    "!ls -lh /Users/sr320/Desktop/2017-03-16_Skyline_report_yaami*"
   ]
  },
  {
   "cell_type": "code",
   "execution_count": 9,
   "metadata": {
    "collapsed": false
   },
   "outputs": [
    {
     "name": "stdout",
     "output_type": "stream",
     "text": [
      "Protein Name,File Name,Area\r\n",
      "CHOYP_14332.1.2|m.5643,2017_January_23_envtstress_oyster1.raw,#N/A\r\n",
      "CHOYP_14332.1.2|m.5643,2017_January_23_envtstress_oyster10.raw,#N/A\r\n",
      "CHOYP_14332.1.2|m.5643,2017_January_23_envtstress_oyster11.raw,#N/A\r\n",
      "CHOYP_14332.1.2|m.5643,2017_January_23_envtstress_oyster12.raw,232692\r\n",
      "CHOYP_14332.1.2|m.5643,2017_January_23_envtstress_oyster13.raw,#N/A\r\n",
      "CHOYP_14332.1.2|m.5643,2017_January_23_envtstress_oyster14.raw,#N/A\r\n",
      "CHOYP_14332.1.2|m.5643,2017_January_23_envtstress_oyster15.raw,#N/A\r\n",
      "CHOYP_14332.1.2|m.5643,2017_January_23_envtstress_oyster16.raw,#N/A\r\n",
      "CHOYP_14332.1.2|m.5643,2017_January_23_envtstress_oyster17.raw,#N/A\r\n"
     ]
    }
   ],
   "source": [
    "!head /Users/sr320/Desktop/2017-03-16_Skyline_report_yaamini.csv \\\n",
    "| cut -d, -f1,3,6"
   ]
  },
  {
   "cell_type": "code",
   "execution_count": 10,
   "metadata": {
    "collapsed": false
   },
   "outputs": [
    {
     "name": "stdout",
     "output_type": "stream",
     "text": [
      " 5562901 /Users/sr320/Desktop/2017-03-16_Skyline_report_yaamini.csv\r\n"
     ]
    }
   ],
   "source": [
    "!wc -l /Users/sr320/Desktop/2017-03-16_Skyline_report_yaamini.csv"
   ]
  },
  {
   "cell_type": "code",
   "execution_count": 11,
   "metadata": {
    "collapsed": false
   },
   "outputs": [
    {
     "name": "stdout",
     "output_type": "stream",
     "text": [
      " 4683522\r\n"
     ]
    }
   ],
   "source": [
    "!fgrep \"#N/A\" /Users/sr320/Desktop/2017-03-16_Skyline_report_yaamini.csv | wc -l "
   ]
  },
  {
   "cell_type": "code",
   "execution_count": 12,
   "metadata": {
    "collapsed": false
   },
   "outputs": [
    {
     "data": {
      "text/plain": [
       "879379"
      ]
     },
     "execution_count": 12,
     "metadata": {},
     "output_type": "execute_result"
    }
   ],
   "source": [
    "5562901-4683522"
   ]
  },
  {
   "cell_type": "code",
   "execution_count": 17,
   "metadata": {
    "collapsed": false
   },
   "outputs": [],
   "source": [
    "!fgrep -v \"#N/A\" /Users/sr320/Desktop/2017-03-16_Skyline_report_yaamini.csv | cut -d, -f1,3,6 \\\n",
    "> /Volumes/Alanine/wd/17-03-17/NoNA.csv"
   ]
  },
  {
   "cell_type": "markdown",
   "metadata": {},
   "source": [
    "<img src=\"http://eagle.fish.washington.edu/cnidarian/skitch/NoNA_csv_1E7C619D.png\" alt=\"NoNA_csv_1E7C619D.png\"/>"
   ]
  },
  {
   "cell_type": "code",
   "execution_count": 18,
   "metadata": {
    "collapsed": false
   },
   "outputs": [
    {
     "name": "stdout",
     "output_type": "stream",
     "text": [
      "Grand Total,4452361.643,7778049.772,11151995.25,10539949.28,12010607.63,6959335.956,2677105.55,2763377.745,2728841.002,3053985.139,2493923.998,10586699.44,3273336.045,705995.4639,30539.31667,13764.74814,38490345.1,7277489.87,2938133.865,3117492.855,7046313.301,12940464.36,3037718.482,2979258.645,8292783.89"
     ]
    }
   ],
   "source": [
    "!head /Volumes/Alanine/wd/17-03-17/Geoduck-AverageArea-Proteinbased.csv"
   ]
  },
  {
   "cell_type": "code",
   "execution_count": null,
   "metadata": {
    "collapsed": true
   },
   "outputs": [],
   "source": []
  }
 ],
 "metadata": {
  "kernelspec": {
   "display_name": "Python 2",
   "language": "python",
   "name": "python2"
  },
  "language_info": {
   "codemirror_mode": {
    "name": "ipython",
    "version": 2
   },
   "file_extension": ".py",
   "mimetype": "text/x-python",
   "name": "python",
   "nbconvert_exporter": "python",
   "pygments_lexer": "ipython2",
   "version": "2.7.12"
  }
 },
 "nbformat": 4,
 "nbformat_minor": 0
}
