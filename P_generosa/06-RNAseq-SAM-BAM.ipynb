{
 "cells": [
  {
   "cell_type": "code",
   "execution_count": 1,
   "metadata": {
    "collapsed": false
   },
   "outputs": [
    {
     "name": "stdout",
     "output_type": "stream",
     "text": [
      "\r\n",
      "Program: samtools (Tools for alignments in the SAM format)\r\n",
      "Version: 1.3.1 (using htslib 1.3.1)\r\n",
      "\r\n",
      "Usage:   samtools <command> [options]\r\n",
      "\r\n",
      "Commands:\r\n",
      "  -- Indexing\r\n",
      "     dict           create a sequence dictionary file\r\n",
      "     faidx          index/extract FASTA\r\n",
      "     index          index alignment\r\n",
      "\r\n",
      "  -- Editing\r\n",
      "     calmd          recalculate MD/NM tags and '=' bases\r\n",
      "     fixmate        fix mate information\r\n",
      "     reheader       replace BAM header\r\n",
      "     rmdup          remove PCR duplicates\r\n",
      "     targetcut      cut fosmid regions (for fosmid pool only)\r\n",
      "     addreplacerg   adds or replaces RG tags\r\n",
      "\r\n",
      "  -- File operations\r\n",
      "     collate        shuffle and group alignments by name\r\n",
      "     cat            concatenate BAMs\r\n",
      "     merge          merge sorted alignments\r\n",
      "     mpileup        multi-way pileup\r\n",
      "     sort           sort alignment file\r\n",
      "     split          splits a file by read group\r\n",
      "     quickcheck     quickly check if SAM/BAM/CRAM file appears intact\r\n",
      "     fastq          converts a BAM to a FASTQ\r\n",
      "     fasta          converts a BAM to a FASTA\r\n",
      "\r\n",
      "  -- Statistics\r\n",
      "     bedcov         read depth per BED region\r\n",
      "     depth          compute the depth\r\n",
      "     flagstat       simple stats\r\n",
      "     idxstats       BAM index stats\r\n",
      "     phase          phase heterozygotes\r\n",
      "     stats          generate stats (former bamcheck)\r\n",
      "\r\n",
      "  -- Viewing\r\n",
      "     flags          explain BAM flags\r\n",
      "     tview          text alignment viewer\r\n",
      "     view           SAM<->BAM<->CRAM conversion\r\n",
      "     depad          convert padded BAM to unpadded BAM\r\n",
      "\r\n"
     ]
    }
   ],
   "source": [
    "!samtools "
   ]
  },
  {
   "cell_type": "code",
   "execution_count": 1,
   "metadata": {
    "collapsed": true
   },
   "outputs": [],
   "source": [
    "!samtools view -b -S \\\n",
    "/Users/sr320/data-genomic/wd/2017-01-31/bw-Geo_Pool_M_CTTGTA.sam \\\n",
    "> /Users/sr320/data-genomic/wd/2017-02-11/bw-Geo_Pool_M_CTTGTA.bam"
   ]
  },
  {
   "cell_type": "code",
   "execution_count": null,
   "metadata": {
    "collapsed": true
   },
   "outputs": [],
   "source": []
  }
 ],
 "metadata": {
  "kernelspec": {
   "display_name": "Python 2",
   "language": "python",
   "name": "python2"
  },
  "language_info": {
   "codemirror_mode": {
    "name": "ipython",
    "version": 2
   },
   "file_extension": ".py",
   "mimetype": "text/x-python",
   "name": "python",
   "nbconvert_exporter": "python",
   "pygments_lexer": "ipython2",
   "version": "2.7.12"
  }
 },
 "nbformat": 4,
 "nbformat_minor": 0
}
