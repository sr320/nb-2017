{
 "cells": [
  {
   "cell_type": "code",
   "execution_count": 1,
   "metadata": {
    "collapsed": false
   },
   "outputs": [
    {
     "name": "stdout",
     "output_type": "stream",
     "text": [
      "\r\n",
      "Program: samtools (Tools for alignments in the SAM format)\r\n",
      "Version: 1.3.1 (using htslib 1.3.1)\r\n",
      "\r\n",
      "Usage:   samtools <command> [options]\r\n",
      "\r\n",
      "Commands:\r\n",
      "  -- Indexing\r\n",
      "     dict           create a sequence dictionary file\r\n",
      "     faidx          index/extract FASTA\r\n",
      "     index          index alignment\r\n",
      "\r\n",
      "  -- Editing\r\n",
      "     calmd          recalculate MD/NM tags and '=' bases\r\n",
      "     fixmate        fix mate information\r\n",
      "     reheader       replace BAM header\r\n",
      "     rmdup          remove PCR duplicates\r\n",
      "     targetcut      cut fosmid regions (for fosmid pool only)\r\n",
      "     addreplacerg   adds or replaces RG tags\r\n",
      "\r\n",
      "  -- File operations\r\n",
      "     collate        shuffle and group alignments by name\r\n",
      "     cat            concatenate BAMs\r\n",
      "     merge          merge sorted alignments\r\n",
      "     mpileup        multi-way pileup\r\n",
      "     sort           sort alignment file\r\n",
      "     split          splits a file by read group\r\n",
      "     quickcheck     quickly check if SAM/BAM/CRAM file appears intact\r\n",
      "     fastq          converts a BAM to a FASTQ\r\n",
      "     fasta          converts a BAM to a FASTA\r\n",
      "\r\n",
      "  -- Statistics\r\n",
      "     bedcov         read depth per BED region\r\n",
      "     depth          compute the depth\r\n",
      "     flagstat       simple stats\r\n",
      "     idxstats       BAM index stats\r\n",
      "     phase          phase heterozygotes\r\n",
      "     stats          generate stats (former bamcheck)\r\n",
      "\r\n",
      "  -- Viewing\r\n",
      "     flags          explain BAM flags\r\n",
      "     tview          text alignment viewer\r\n",
      "     view           SAM<->BAM<->CRAM conversion\r\n",
      "     depad          convert padded BAM to unpadded BAM\r\n",
      "\r\n"
     ]
    }
   ],
   "source": [
    "!samtools "
   ]
  },
  {
   "cell_type": "code",
   "execution_count": 1,
   "metadata": {
    "collapsed": true
   },
   "outputs": [],
   "source": [
    "!samtools view -b -S \\\n",
    "/Users/sr320/data-genomic/wd/2017-01-31/bw-Geo_Pool_M_CTTGTA.sam \\\n",
    "> /Users/sr320/data-genomic/wd/2017-02-11/bw-Geo_Pool_M_CTTGTA.bam"
   ]
  },
  {
   "cell_type": "code",
   "execution_count": 3,
   "metadata": {
    "collapsed": false
   },
   "outputs": [
    {
     "name": "stdout",
     "output_type": "stream",
     "text": [
      "\r\n",
      "Tool:    bedtools bamtobed (aka bamToBed)\r\n",
      "Version: v2.22.0\r\n",
      "Summary: Converts BAM alignments to BED6 or BEDPE format.\r\n",
      "\r\n",
      "Usage:   bedtools bamtobed [OPTIONS] -i <bam> \r\n",
      "\r\n",
      "Options: \r\n",
      "\t-bedpe\tWrite BEDPE format.\r\n",
      "\t\t- Requires BAM to be grouped or sorted by query.\r\n",
      "\r\n",
      "\t-mate1\tWhen writing BEDPE (-bedpe) format, \r\n",
      "\t\talways report mate one as the first BEDPE \"block\".\r\n",
      "\r\n",
      "\t-bed12\tWrite \"blocked\" BED format (aka \"BED12\"). Forces -split.\r\n",
      "\r\n",
      "\t\thttp://genome-test.cse.ucsc.edu/FAQ/FAQformat#format1\r\n",
      "\r\n",
      "\t-split\tReport \"split\" BAM alignments as separate BED entries.\r\n",
      "\t\tSplits only on N CIGAR operations.\r\n",
      "\r\n",
      "\t-splitD\tSplit alignments based on N and D CIGAR operators.\r\n",
      "\t\tForces -split.\r\n",
      "\r\n",
      "\t-ed\tUse BAM edit distance (NM tag) for BED score.\r\n",
      "\t\t- Default for BED is to use mapping quality.\r\n",
      "\t\t- Default for BEDPE is to use the minimum of\r\n",
      "\t\t  the two mapping qualities for the pair.\r\n",
      "\t\t- When -ed is used with -bedpe, the total edit\r\n",
      "\t\t  distance from the two mates is reported.\r\n",
      "\r\n",
      "\t-tag\tUse other NUMERIC BAM alignment tag for BED score.\r\n",
      "\t\t- Default for BED is to use mapping quality.\r\n",
      "\t\t  Disallowed with BEDPE output.\r\n",
      "\r\n",
      "\t-color\tAn R,G,B string for the color used with BED12 format.\r\n",
      "\t\tDefault is (255,0,0).\r\n",
      "\r\n",
      "\t-cigar\tAdd the CIGAR string to the BED entry as a 7th column.\r\n",
      "\r\n"
     ]
    }
   ],
   "source": [
    "!bedtools bamtobed -h"
   ]
  },
  {
   "cell_type": "code",
   "execution_count": 5,
   "metadata": {
    "collapsed": false
   },
   "outputs": [],
   "source": [
    "!bedtools bamtobed \\\n",
    "-i /Users/sr320/data-genomic/wd/2017-02-11/bw-Geo_Pool_M_CTTGTA.bam \\\n",
    "> /Users/sr320/data-genomic/wd/2017-02-11/bw-Geo_Pool_M_CTTGTA.bed"
   ]
  },
  {
   "cell_type": "code",
   "execution_count": 6,
   "metadata": {
    "collapsed": false
   },
   "outputs": [
    {
     "name": "stdout",
     "output_type": "stream",
     "text": [
      "scaffold14114\t7440\t7541\tHWI-D00743:26:C7C84ACXX:6:1101:1440:2249/1\t42\t-\r\n",
      "scaffold14114\t6193\t6294\tHWI-D00743:26:C7C84ACXX:6:1101:1440:2249/2\t42\t+\r\n",
      "scaffold220025\t382\t479\tHWI-D00743:26:C7C84ACXX:6:1101:1729:2229/1\t0\t-\r\n",
      "scaffold19621\t8988\t9086\tHWI-D00743:26:C7C84ACXX:6:1101:1955:2195/1\t23\t-\r\n",
      "scaffold19621\t8949\t9041\tHWI-D00743:26:C7C84ACXX:6:1101:1955:2195/2\t23\t+\r\n",
      "scaffold188491\t3570\t3669\tHWI-D00743:26:C7C84ACXX:6:1101:1864:2227/1\t42\t-\r\n",
      "scaffold9819\t10977\t11075\tHWI-D00743:26:C7C84ACXX:6:1101:1928:2238/1\t42\t-\r\n",
      "scaffold123558\t17385\t17485\tHWI-D00743:26:C7C84ACXX:6:1101:2486:2223/2\t42\t-\r\n",
      "scaffold207084\t7943\t8045\tHWI-D00743:26:C7C84ACXX:6:1101:1652:2230/1\t0\t-\r\n",
      "scaffold207084\t7928\t8029\tHWI-D00743:26:C7C84ACXX:6:1101:1652:2230/2\t0\t+\r\n"
     ]
    }
   ],
   "source": [
    "!head /Users/sr320/data-genomic/wd/2017-02-11/bw-Geo_Pool_M_CTTGTA.bed"
   ]
  },
  {
   "cell_type": "code",
   "execution_count": null,
   "metadata": {
    "collapsed": true
   },
   "outputs": [],
   "source": []
  }
 ],
 "metadata": {
  "kernelspec": {
   "display_name": "Python 2",
   "language": "python",
   "name": "python2"
  },
  "language_info": {
   "codemirror_mode": {
    "name": "ipython",
    "version": 2
   },
   "file_extension": ".py",
   "mimetype": "text/x-python",
   "name": "python",
   "nbconvert_exporter": "python",
   "pygments_lexer": "ipython2",
   "version": "2.7.12"
  }
 },
 "nbformat": 4,
 "nbformat_minor": 0
}
