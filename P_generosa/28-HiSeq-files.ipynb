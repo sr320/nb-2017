{
 "cells": [
  {
   "cell_type": "code",
   "execution_count": 1,
   "metadata": {
    "collapsed": false
   },
   "outputs": [
    {
     "name": "stdout",
     "output_type": "stream",
     "text": [
      "/Volumes/web-1/nightingales/Geoduck_HiSeq/170228_ST-K00104_0381_AHHHWNBBXX/Data/Ironman-35682656\n"
     ]
    }
   ],
   "source": [
    "cd /Volumes/web-1/nightingales/Geoduck_HiSeq/170228_ST-K00104_0381_AHHHWNBBXX/Data/Ironman-35682656\n"
   ]
  },
  {
   "cell_type": "code",
   "execution_count": 3,
   "metadata": {
    "collapsed": false
   },
   "outputs": [
    {
     "name": "stdout",
     "output_type": "stream",
     "text": [
      "\u001b[30m\u001b[43mGeoduck1_1-43499537\u001b[m\u001b[m/ \u001b[30m\u001b[43mGeoduck3_7-43496563\u001b[m\u001b[m/ \u001b[30m\u001b[43mGeoduck6_5-43495569\u001b[m\u001b[m/\r\n",
      "\u001b[30m\u001b[43mGeoduck1_2-43501508\u001b[m\u001b[m/ \u001b[30m\u001b[43mGeoduck3_8-43484191\u001b[m\u001b[m/ \u001b[30m\u001b[43mGeoduck6_6-43502519\u001b[m\u001b[m/\r\n",
      "\u001b[30m\u001b[43mGeoduck1_3-43495567\u001b[m\u001b[m/ \u001b[30m\u001b[43mGeoduck4_1-43495568\u001b[m\u001b[m/ \u001b[30m\u001b[43mGeoduck6_7-43489717\u001b[m\u001b[m/\r\n",
      "\u001b[30m\u001b[43mGeoduck1_4-43483166\u001b[m\u001b[m/ \u001b[30m\u001b[43mGeoduck4_2-43484187\u001b[m\u001b[m/ \u001b[30m\u001b[43mGeoduck6_8-43500519\u001b[m\u001b[m/\r\n",
      "\u001b[30m\u001b[43mGeoduck1_5-43489716\u001b[m\u001b[m/ \u001b[30m\u001b[43mGeoduck4_3-43498554\u001b[m\u001b[m/ \u001b[30m\u001b[43mGeoduck7_1-43493558\u001b[m\u001b[m/\r\n",
      "\u001b[30m\u001b[43mGeoduck1_6-43484188\u001b[m\u001b[m/ \u001b[30m\u001b[43mGeoduck4_4-43485200\u001b[m\u001b[m/ \u001b[30m\u001b[43mGeoduck7_2-43498556\u001b[m\u001b[m/\r\n",
      "\u001b[30m\u001b[43mGeoduck1_7-43492569\u001b[m\u001b[m/ \u001b[30m\u001b[43mGeoduck4_5-43498559\u001b[m\u001b[m/ \u001b[30m\u001b[43mGeoduck7_3-43499536\u001b[m\u001b[m/\r\n",
      "\u001b[30m\u001b[43mGeoduck1_8-43490641\u001b[m\u001b[m/ \u001b[30m\u001b[43mGeoduck4_6-43500516\u001b[m\u001b[m/ \u001b[30m\u001b[43mGeoduck7_4-43494561\u001b[m\u001b[m/\r\n",
      "\u001b[30m\u001b[43mGeoduck2_1-43497582\u001b[m\u001b[m/ \u001b[30m\u001b[43mGeoduck4_7-43485201\u001b[m\u001b[m/ \u001b[30m\u001b[43mGeoduck7_5-43498560\u001b[m\u001b[m/\r\n",
      "\u001b[30m\u001b[43mGeoduck2_2-43491623\u001b[m\u001b[m/ \u001b[30m\u001b[43mGeoduck4_8-43497585\u001b[m\u001b[m/ \u001b[30m\u001b[43mGeoduck7_6-43484189\u001b[m\u001b[m/\r\n",
      "\u001b[30m\u001b[43mGeoduck2_3-43492566\u001b[m\u001b[m/ \u001b[30m\u001b[43mGeoduck5_1-43498555\u001b[m\u001b[m/ \u001b[30m\u001b[43mGeoduck7_7-43496564\u001b[m\u001b[m/\r\n",
      "\u001b[30m\u001b[43mGeoduck2_4-43486135\u001b[m\u001b[m/ \u001b[30m\u001b[43mGeoduck5_2-43486134\u001b[m\u001b[m/ \u001b[30m\u001b[43mGeoduck7_8-43484193\u001b[m\u001b[m/\r\n",
      "\u001b[30m\u001b[43mGeoduck2_5-43486136\u001b[m\u001b[m/ \u001b[30m\u001b[43mGeoduck5_3-43497581\u001b[m\u001b[m/ \u001b[30m\u001b[43mGeoduck8_1-43492567\u001b[m\u001b[m/\r\n",
      "\u001b[30m\u001b[43mGeoduck2_6-43494562\u001b[m\u001b[m/ \u001b[30m\u001b[43mGeoduck5_4-43498557\u001b[m\u001b[m/ \u001b[30m\u001b[43mGeoduck8_2-43496562\u001b[m\u001b[m/\r\n",
      "\u001b[30m\u001b[43mGeoduck2_7-43500517\u001b[m\u001b[m/ \u001b[30m\u001b[43mGeoduck5_5-43501509\u001b[m\u001b[m/ \u001b[30m\u001b[43mGeoduck8_3-43502518\u001b[m\u001b[m/\r\n",
      "\u001b[30m\u001b[43mGeoduck2_8-43485202\u001b[m\u001b[m/ \u001b[30m\u001b[43mGeoduck5_6-43495570\u001b[m\u001b[m/ \u001b[30m\u001b[43mGeoduck8_4-43490640\u001b[m\u001b[m/\r\n",
      "\u001b[30m\u001b[43mGeoduck3_1-43493557\u001b[m\u001b[m/ \u001b[30m\u001b[43mGeoduck5_7-43484190\u001b[m\u001b[m/ \u001b[30m\u001b[43mGeoduck8_5-43497584\u001b[m\u001b[m/\r\n",
      "\u001b[30m\u001b[43mGeoduck3_2-43497583\u001b[m\u001b[m/ \u001b[30m\u001b[43mGeoduck5_8-43484192\u001b[m\u001b[m/ \u001b[30m\u001b[43mGeoduck8_6-43491625\u001b[m\u001b[m/\r\n",
      "\u001b[30m\u001b[43mGeoduck3_3-43489715\u001b[m\u001b[m/ \u001b[30m\u001b[43mGeoduck6_1-43494560\u001b[m\u001b[m/ \u001b[30m\u001b[43mGeoduck8_7-43500518\u001b[m\u001b[m/\r\n",
      "\u001b[30m\u001b[43mGeoduck3_4-43499538\u001b[m\u001b[m/ \u001b[30m\u001b[43mGeoduck6_2-43491624\u001b[m\u001b[m/ \u001b[30m\u001b[43mGeoduck8_8-43483167\u001b[m\u001b[m/\r\n",
      "\u001b[30m\u001b[43mGeoduck3_5-43500515\u001b[m\u001b[m/ \u001b[30m\u001b[43mGeoduck6_3-43496561\u001b[m\u001b[m/\r\n",
      "\u001b[30m\u001b[43mGeoduck3_6-43492568\u001b[m\u001b[m/ \u001b[30m\u001b[43mGeoduck6_4-43498558\u001b[m\u001b[m/\r\n"
     ]
    }
   ],
   "source": [
    "ls"
   ]
  },
  {
   "cell_type": "code",
   "execution_count": 4,
   "metadata": {
    "collapsed": false
   },
   "outputs": [
    {
     "name": "stdout",
     "output_type": "stream",
     "text": [
      "./Geoduck2_3-43492566/Geoduck-ctenidia-RNA-2_S11_L002_R1_001.fastq.gz\r\n",
      "./Geoduck2_3-43492566/Geoduck-ctenidia-RNA-2_S11_L002_R2_001.fastq.gz\r\n",
      "./Geoduck5_3-43497581/Geoduck-ctenidia-RNA-5_S35_L005_R1_001.fastq.gz\r\n",
      "./Geoduck5_3-43497581/Geoduck-ctenidia-RNA-5_S35_L005_R2_001.fastq.gz\r\n",
      "./Geoduck6_3-43496561/Geoduck-ctenidia-RNA-6_S43_L006_R1_001.fastq.gz\r\n",
      "./Geoduck6_3-43496561/Geoduck-ctenidia-RNA-6_S43_L006_R2_001.fastq.gz\r\n",
      "./Geoduck1_3-43495567/Geoduck-ctenidia-RNA-1_S3_L001_R1_001.fastq.gz\r\n",
      "./Geoduck1_3-43495567/Geoduck-ctenidia-RNA-1_S3_L001_R2_001.fastq.gz\r\n",
      "./Geoduck6_1-43494560/Geoduck-gonad-RNA-6_S41_L006_R1_001.fastq.gz\r\n",
      "./Geoduck6_1-43494560/Geoduck-gonad-RNA-6_S41_L006_R2_001.fastq.gz\r\n"
     ]
    }
   ],
   "source": [
    "!find . -name \\*.gz | head"
   ]
  },
  {
   "cell_type": "code",
   "execution_count": null,
   "metadata": {
    "collapsed": true
   },
   "outputs": [],
   "source": []
  },
  {
   "cell_type": "code",
   "execution_count": 5,
   "metadata": {
    "collapsed": false
   },
   "outputs": [
    {
     "name": "stdout",
     "output_type": "stream",
     "text": [
      "./Geoduck2_3-43492566/Geoduck-ctenidia-RNA-2_S11_L002_R1_001.fastq.gz\n",
      "./Geoduck2_3-43492566/Geoduck-ctenidia-RNA-2_S11_L002_R2_001.fastq.gz\n",
      "./Geoduck5_3-43497581/Geoduck-ctenidia-RNA-5_S35_L005_R1_001.fastq.gz\n",
      "./Geoduck5_3-43497581/Geoduck-ctenidia-RNA-5_S35_L005_R2_001.fastq.gz\n",
      "./Geoduck6_3-43496561/Geoduck-ctenidia-RNA-6_S43_L006_R1_001.fastq.gz\n",
      "./Geoduck6_3-43496561/Geoduck-ctenidia-RNA-6_S43_L006_R2_001.fastq.gz\n",
      "./Geoduck1_3-43495567/Geoduck-ctenidia-RNA-1_S3_L001_R1_001.fastq.gz\n",
      "./Geoduck1_3-43495567/Geoduck-ctenidia-RNA-1_S3_L001_R2_001.fastq.gz\n",
      "./Geoduck6_1-43494560/Geoduck-gonad-RNA-6_S41_L006_R1_001.fastq.gz\n",
      "./Geoduck6_1-43494560/Geoduck-gonad-RNA-6_S41_L006_R2_001.fastq.gz\n",
      "./Geoduck4_3-43498554/Geoduck-ctenidia-RNA-4_S27_L004_R1_001.fastq.gz\n",
      "./Geoduck4_3-43498554/Geoduck-ctenidia-RNA-4_S27_L004_R2_001.fastq.gz\n",
      "./Geoduck3_3-43489715/Geoduck-ctenidia-RNA-3_S19_L003_R1_001.fastq.gz\n",
      "./Geoduck3_3-43489715/Geoduck-ctenidia-RNA-3_S19_L003_R2_001.fastq.gz\n",
      "./Geoduck1_1-43499537/Geoduck-gonad-RNA-1_S1_L001_R1_001.fastq.gz\n",
      "./Geoduck1_1-43499537/Geoduck-gonad-RNA-1_S1_L001_R2_001.fastq.gz\n",
      "./Geoduck7_1-43493558/Geoduck-gonad-RNA-7_S49_L007_R1_001.fastq.gz\n",
      "./Geoduck7_1-43493558/Geoduck-gonad-RNA-7_S49_L007_R2_001.fastq.gz\n",
      "./Geoduck5_1-43498555/Geoduck-gonad-RNA-5_S33_L005_R1_001.fastq.gz\n",
      "./Geoduck5_1-43498555/Geoduck-gonad-RNA-5_S33_L005_R2_001.fastq.gz\n",
      "./Geoduck7_3-43499536/Geoduck-ctenidia-RNA-7_S51_L007_R1_001.fastq.gz\n",
      "./Geoduck7_3-43499536/Geoduck-ctenidia-RNA-7_S51_L007_R2_001.fastq.gz\n",
      "./Geoduck8_3-43502518/Geoduck-ctenidia-RNA-8_S59_L008_R1_001.fastq.gz\n",
      "./Geoduck8_3-43502518/Geoduck-ctenidia-RNA-8_S59_L008_R2_001.fastq.gz\n",
      "./Geoduck1_2-43501508/Geoduck-heart-RNA-1_S2_L001_R1_001.fastq.gz\n",
      "./Geoduck1_2-43501508/Geoduck-heart-RNA-1_S2_L001_R2_001.fastq.gz\n",
      "./Geoduck2_1-43497582/Geoduck-gonad-RNA-2_S9_L002_R1_001.fastq.gz\n",
      "./Geoduck2_1-43497582/Geoduck-gonad-RNA-2_S9_L002_R2_001.fastq.gz\n",
      "./Geoduck8_1-43492567/Geoduck-gonad-RNA-8_S57_L008_R2_001.fastq.gz\n",
      "./Geoduck8_1-43492567/Geoduck-gonad-RNA-8_S57_L008_R1_001.fastq.gz\n",
      "./Geoduck3_1-43493557/Geoduck-gonad-RNA-3_S17_L003_R1_001.fastq.gz\n",
      "./Geoduck3_1-43493557/Geoduck-gonad-RNA-3_S17_L003_R2_001.fastq.gz\n",
      "./Geoduck4_1-43495568/Geoduck-gonad-RNA-4_S25_L004_R1_001.fastq.gz\n",
      "./Geoduck4_1-43495568/Geoduck-gonad-RNA-4_S25_L004_R2_001.fastq.gz\n",
      "./Geoduck5_2-43486134/Geoduck-heart-RNA-5_S34_L005_R1_001.fastq.gz\n",
      "./Geoduck5_2-43486134/Geoduck-heart-RNA-5_S34_L005_R2_001.fastq.gz\n",
      "./Geoduck3_2-43497583/Geoduck-heart-RNA-3_S18_L003_R1_001.fastq.gz\n",
      "./Geoduck3_2-43497583/Geoduck-heart-RNA-3_S18_L003_R2_001.fastq.gz\n",
      "./Geoduck6_2-43491624/Geoduck-heart-RNA-6_S42_L006_R1_001.fastq.gz\n",
      "./Geoduck6_2-43491624/Geoduck-heart-RNA-6_S42_L006_R2_001.fastq.gz\n",
      "./Geoduck2_2-43491623/Geoduck-heart-RNA-2_S10_L002_R1_001.fastq.gz\n",
      "./Geoduck2_2-43491623/Geoduck-heart-RNA-2_S10_L002_R2_001.fastq.gz\n",
      "./Geoduck4_2-43484187/Geoduck-heart-RNA-4_S26_L004_R1_001.fastq.gz\n",
      "./Geoduck4_2-43484187/Geoduck-heart-RNA-4_S26_L004_R2_001.fastq.gz\n",
      "./Geoduck2_4-43486135/Geoduck-juvenile-OA-exposure-RNA-EPI-115-2_S12_L002_R1_001.fastq.gz\n",
      "./Geoduck2_4-43486135/Geoduck-juvenile-OA-exposure-RNA-EPI-115-2_S12_L002_R2_001.fastq.gz\n",
      "./Geoduck3_4-43499538/Geoduck-juvenile-OA-exposure-RNA-EPI-115-3_S20_L003_R2_001.fastq.gz\n",
      "./Geoduck3_4-43499538/Geoduck-juvenile-OA-exposure-RNA-EPI-115-3_S20_L003_R1_001.fastq.gz\n",
      "./Geoduck1_4-43483166/Geoduck-juvenile-OA-exposure-RNA-EPI-115-1_S4_L001_R1_001.fastq.gz\n",
      "./Geoduck1_4-43483166/Geoduck-juvenile-OA-exposure-RNA-EPI-115-1_S4_L001_R2_001.fastq.gz\n",
      "./Geoduck7_2-43498556/Geoduck-heart-RNA-7_S50_L007_R1_001.fastq.gz\n",
      "./Geoduck7_2-43498556/Geoduck-heart-RNA-7_S50_L007_R2_001.fastq.gz\n",
      "./Geoduck8_2-43496562/Geoduck-heart-RNA-8_S58_L008_R1_001.fastq.gz\n",
      "./Geoduck8_2-43496562/Geoduck-heart-RNA-8_S58_L008_R2_001.fastq.gz\n",
      "./Geoduck4_4-43485200/Geoduck-juvenile-OA-exposure-RNA-EPI-115-4_S28_L004_R1_001.fastq.gz\n",
      "./Geoduck4_4-43485200/Geoduck-juvenile-OA-exposure-RNA-EPI-115-4_S28_L004_R2_001.fastq.gz\n",
      "./Geoduck8_4-43490640/Geoduck-juvenile-OA-exposure-RNA-EPI-115-8_S60_L008_R1_001.fastq.gz\n",
      "./Geoduck8_4-43490640/Geoduck-juvenile-OA-exposure-RNA-EPI-115-8_S60_L008_R2_001.fastq.gz\n",
      "./Geoduck7_4-43494561/Geoduck-juvenile-OA-exposure-RNA-EPI-115-7_S52_L007_R1_001.fastq.gz\n",
      "./Geoduck7_4-43494561/Geoduck-juvenile-OA-exposure-RNA-EPI-115-7_S52_L007_R2_001.fastq.gz\n",
      "./Geoduck3_5-43500515/Geoduck-juvenile-OA-exposure-RNA-EPI-116-3_S21_L003_R1_001.fastq.gz\n",
      "./Geoduck3_5-43500515/Geoduck-juvenile-OA-exposure-RNA-EPI-116-3_S21_L003_R2_001.fastq.gz\n",
      "./Geoduck1_5-43489716/Geoduck-juvenile-OA-exposure-RNA-EPI-116-1_S5_L001_R1_001.fastq.gz\n",
      "./Geoduck1_5-43489716/Geoduck-juvenile-OA-exposure-RNA-EPI-116-1_S5_L001_R2_001.fastq.gz\n",
      "./Geoduck6_4-43498558/Geoduck-juvenile-OA-exposure-RNA-EPI-115-6_S44_L006_R1_001.fastq.gz\n",
      "./Geoduck6_4-43498558/Geoduck-juvenile-OA-exposure-RNA-EPI-115-6_S44_L006_R2_001.fastq.gz\n",
      "./Geoduck2_5-43486136/Geoduck-juvenile-OA-exposure-RNA-EPI-116-2_S13_L002_R1_001.fastq.gz\n",
      "./Geoduck2_5-43486136/Geoduck-juvenile-OA-exposure-RNA-EPI-116-2_S13_L002_R2_001.fastq.gz\n",
      "./Geoduck1_6-43484188/Geoduck-juvenile-ambient-exposure-RNA-EPI-123-1_S6_L001_R1_001.fastq.gz\n",
      "./Geoduck1_6-43484188/Geoduck-juvenile-ambient-exposure-RNA-EPI-123-1_S6_L001_R2_001.fastq.gz\n",
      "./Geoduck5_4-43498557/Geoduck-juvenile-OA-exposure-RNA-EPI-115-5_S36_L005_R2_001.fastq.gz\n",
      "./Geoduck5_4-43498557/Geoduck-juvenile-OA-exposure-RNA-EPI-115-5_S36_L005_R1_001.fastq.gz\n",
      "./Geoduck6_5-43495569/Geoduck-juvenile-OA-exposure-RNA-EPI-116-6_S45_L006_R1_001.fastq.gz\n",
      "./Geoduck6_5-43495569/Geoduck-juvenile-OA-exposure-RNA-EPI-116-6_S45_L006_R2_001.fastq.gz\n",
      "./Geoduck5_5-43501509/Geoduck-juvenile-OA-exposure-RNA-EPI-116-5_S37_L005_R1_001.fastq.gz\n",
      "./Geoduck5_5-43501509/Geoduck-juvenile-OA-exposure-RNA-EPI-116-5_S37_L005_R2_001.fastq.gz\n",
      "./Geoduck7_5-43498560/Geoduck-juvenile-OA-exposure-RNA-EPI-116-7_S53_L007_R1_001.fastq.gz\n",
      "./Geoduck7_5-43498560/Geoduck-juvenile-OA-exposure-RNA-EPI-116-7_S53_L007_R2_001.fastq.gz\n",
      "./Geoduck4_5-43498559/Geoduck-juvenile-OA-exposure-RNA-EPI-116-4_S29_L004_R2_001.fastq.gz\n",
      "./Geoduck4_5-43498559/Geoduck-juvenile-OA-exposure-RNA-EPI-116-4_S29_L004_R1_001.fastq.gz\n",
      "./Geoduck8_5-43497584/Geoduck-juvenile-OA-exposure-RNA-EPI-116-8_S61_L008_R1_001.fastq.gz\n",
      "./Geoduck8_5-43497584/Geoduck-juvenile-OA-exposure-RNA-EPI-116-8_S61_L008_R2_001.fastq.gz\n",
      "./Geoduck4_6-43500516/Geoduck-juvenile-ambient-exposure-RNA-EPI-123-4_S30_L004_R1_001.fastq.gz\n",
      "./Geoduck4_6-43500516/Geoduck-juvenile-ambient-exposure-RNA-EPI-123-4_S30_L004_R2_001.fastq.gz\n",
      "./Geoduck8_6-43491625/Geoduck-juvenile-ambient-exposure-RNA-EPI-123-8_S62_L008_R1_001.fastq.gz\n",
      "./Geoduck8_6-43491625/Geoduck-juvenile-ambient-exposure-RNA-EPI-123-8_S62_L008_R2_001.fastq.gz\n",
      "./Geoduck1_7-43492569/Geoduck-juvenile-ambient-exposure-RNA-EPI-124-1_S7_L001_R1_001.fastq.gz\n",
      "./Geoduck1_7-43492569/Geoduck-juvenile-ambient-exposure-RNA-EPI-124-1_S7_L001_R2_001.fastq.gz\n",
      "./Geoduck2_6-43494562/Geoduck-juvenile-ambient-exposure-RNA-EPI-123-2_S14_L002_R1_001.fastq.gz\n",
      "./Geoduck2_6-43494562/Geoduck-juvenile-ambient-exposure-RNA-EPI-123-2_S14_L002_R2_001.fastq.gz\n",
      "./Geoduck3_6-43492568/Geoduck-juvenile-ambient-exposure-RNA-EPI-123-3_S22_L003_R2_001.fastq.gz\n",
      "./Geoduck3_6-43492568/Geoduck-juvenile-ambient-exposure-RNA-EPI-123-3_S22_L003_R1_001.fastq.gz\n",
      "./Geoduck7_6-43484189/Geoduck-juvenile-ambient-exposure-RNA-EPI-123-7_S54_L007_R1_001.fastq.gz\n",
      "./Geoduck7_6-43484189/Geoduck-juvenile-ambient-exposure-RNA-EPI-123-7_S54_L007_R2_001.fastq.gz\n",
      "./Geoduck3_7-43496563/Geoduck-juvenile-ambient-exposure-RNA-EPI-124-3_S23_L003_R1_001.fastq.gz\n",
      "./Geoduck3_7-43496563/Geoduck-juvenile-ambient-exposure-RNA-EPI-124-3_S23_L003_R2_001.fastq.gz\n",
      "./Geoduck5_6-43495570/Geoduck-juvenile-ambient-exposure-RNA-EPI-123-5_S38_L005_R1_001.fastq.gz\n",
      "./Geoduck5_6-43495570/Geoduck-juvenile-ambient-exposure-RNA-EPI-123-5_S38_L005_R2_001.fastq.gz\n",
      "./Geoduck6_6-43502519/Geoduck-juvenile-ambient-exposure-RNA-EPI-123-6_S46_L006_R1_001.fastq.gz\n",
      "./Geoduck6_6-43502519/Geoduck-juvenile-ambient-exposure-RNA-EPI-123-6_S46_L006_R2_001.fastq.gz\n",
      "./Geoduck2_7-43500517/Geoduck-juvenile-ambient-exposure-RNA-EPI-124-2_S15_L002_R1_001.fastq.gz\n",
      "./Geoduck2_7-43500517/Geoduck-juvenile-ambient-exposure-RNA-EPI-124-2_S15_L002_R2_001.fastq.gz\n",
      "./Geoduck6_7-43489717/Geoduck-juvenile-ambient-exposure-RNA-EPI-124-6_S47_L006_R1_001.fastq.gz\n",
      "./Geoduck6_7-43489717/Geoduck-juvenile-ambient-exposure-RNA-EPI-124-6_S47_L006_R2_001.fastq.gz\n",
      "./Geoduck1_8-43490641/Geoduck-larvae-day5-RNA-EPI-99-1_S8_L001_R2_001.fastq.gz\n",
      "./Geoduck1_8-43490641/Geoduck-larvae-day5-RNA-EPI-99-1_S8_L001_R1_001.fastq.gz\n",
      "./Geoduck4_8-43497585/Geoduck-larvae-day5-RNA-EPI-99-4_S32_L004_R1_001.fastq.gz\n",
      "./Geoduck4_8-43497585/Geoduck-larvae-day5-RNA-EPI-99-4_S32_L004_R2_001.fastq.gz\n",
      "./Geoduck4_7-43485201/Geoduck-juvenile-ambient-exposure-RNA-EPI-124-4_S31_L004_R1_001.fastq.gz\n",
      "./Geoduck4_7-43485201/Geoduck-juvenile-ambient-exposure-RNA-EPI-124-4_S31_L004_R2_001.fastq.gz\n",
      "./Geoduck8_8-43483167/Geoduck-larvae-day5-RNA-EPI-99-8_S64_L008_R1_001.fastq.gz\n",
      "./Geoduck8_8-43483167/Geoduck-larvae-day5-RNA-EPI-99-8_S64_L008_R2_001.fastq.gz\n",
      "./Geoduck5_7-43484190/Geoduck-juvenile-ambient-exposure-RNA-EPI-124-5_S39_L005_R1_001.fastq.gz\n",
      "./Geoduck5_7-43484190/Geoduck-juvenile-ambient-exposure-RNA-EPI-124-5_S39_L005_R2_001.fastq.gz\n",
      "./Geoduck7_7-43496564/Geoduck-juvenile-ambient-exposure-RNA-EPI-124-7_S55_L007_R1_001.fastq.gz\n",
      "./Geoduck7_7-43496564/Geoduck-juvenile-ambient-exposure-RNA-EPI-124-7_S55_L007_R2_001.fastq.gz\n",
      "./Geoduck6_8-43500519/Geoduck-larvae-day5-RNA-EPI-99-6_S48_L006_R1_001.fastq.gz\n",
      "./Geoduck6_8-43500519/Geoduck-larvae-day5-RNA-EPI-99-6_S48_L006_R2_001.fastq.gz\n",
      "./Geoduck8_7-43500518/Geoduck-juvenile-ambient-exposure-RNA-EPI-124-8_S63_L008_R1_001.fastq.gz\n",
      "./Geoduck8_7-43500518/Geoduck-juvenile-ambient-exposure-RNA-EPI-124-8_S63_L008_R2_001.fastq.gz\n",
      "./Geoduck5_8-43484192/Geoduck-larvae-day5-RNA-EPI-99-5_S40_L005_R1_001.fastq.gz\n",
      "./Geoduck5_8-43484192/Geoduck-larvae-day5-RNA-EPI-99-5_S40_L005_R2_001.fastq.gz\n",
      "./Geoduck7_8-43484193/Geoduck-larvae-day5-RNA-EPI-99-7_S56_L007_R1_001.fastq.gz\n",
      "./Geoduck7_8-43484193/Geoduck-larvae-day5-RNA-EPI-99-7_S56_L007_R2_001.fastq.gz\n",
      "./Geoduck2_8-43485202/Geoduck-larvae-day5-RNA-EPI-99-2_S16_L002_R1_001.fastq.gz\n",
      "./Geoduck2_8-43485202/Geoduck-larvae-day5-RNA-EPI-99-2_S16_L002_R2_001.fastq.gz\n",
      "./Geoduck3_8-43484191/Geoduck-larvae-day5-RNA-EPI-99-3_S24_L003_R1_001.fastq.gz\n",
      "./Geoduck3_8-43484191/Geoduck-larvae-day5-RNA-EPI-99-3_S24_L003_R2_001.fastq.gz\n"
     ]
    }
   ],
   "source": [
    "!find . -name \\*.gz"
   ]
  },
  {
   "cell_type": "code",
   "execution_count": 6,
   "metadata": {
    "collapsed": false
   },
   "outputs": [
    {
     "name": "stdout",
     "output_type": "stream",
     "text": [
      "     128\r\n"
     ]
    }
   ],
   "source": [
    "!find . -name \\*.gz | wc -l"
   ]
  },
  {
   "cell_type": "code",
   "execution_count": 7,
   "metadata": {
    "collapsed": true
   },
   "outputs": [],
   "source": [
    "!find . -name \\*.gz -exec cp {} \\\n",
    "/Volumes/web-1/halfshell/working-directory/17-09-01b/ \\;"
   ]
  },
  {
   "cell_type": "code",
   "execution_count": null,
   "metadata": {
    "collapsed": true
   },
   "outputs": [],
   "source": []
  }
 ],
 "metadata": {
  "kernelspec": {
   "display_name": "Python 2",
   "language": "python",
   "name": "python2"
  },
  "language_info": {
   "codemirror_mode": {
    "name": "ipython",
    "version": 2
   },
   "file_extension": ".py",
   "mimetype": "text/x-python",
   "name": "python",
   "nbconvert_exporter": "python",
   "pygments_lexer": "ipython2",
   "version": "2.7.12"
  }
 },
 "nbformat": 4,
 "nbformat_minor": 0
}
