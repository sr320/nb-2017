{
 "cells": [
  {
   "cell_type": "code",
   "execution_count": 5,
   "metadata": {
    "collapsed": false
   },
   "outputs": [
    {
     "name": "stdout",
     "output_type": "stream",
     "text": [
      "/Volumes/Alanine/wd/17-11-03\n"
     ]
    }
   ],
   "source": [
    "cd /Volumes/Alanine/wd/17-11-03"
   ]
  },
  {
   "cell_type": "code",
   "execution_count": 7,
   "metadata": {
    "collapsed": false
   },
   "outputs": [],
   "source": [
    "mkdir analyses"
   ]
  },
  {
   "cell_type": "code",
   "execution_count": null,
   "metadata": {
    "collapsed": false
   },
   "outputs": [],
   "source": [
    "!/Applications/bioinfo/bowtie2-2.2.4/bowtie2-build \\\n",
    "/Volumes/Alanine/wd/17-11-03/genomes/redundans_sb_02.fa \\\n",
    "analyses/redundans_sb_02.bowtie-index \\\n",
    "2> analyses/redundans_sb_02.bw.stderr"
   ]
  },
  {
   "cell_type": "code",
   "execution_count": 9,
   "metadata": {
    "collapsed": false
   },
   "outputs": [
    {
     "name": "stdout",
     "output_type": "stream",
     "text": [
      "7200858 reads; of these:\r\n",
      "  7200858 (100.00%) were unpaired; of these:\r\n",
      "    7141129 (99.17%) aligned 0 times\r\n",
      "    45511 (0.63%) aligned exactly 1 time\r\n",
      "    14218 (0.20%) aligned >1 times\r\n",
      "0.83% overall alignment rate\r\n"
     ]
    }
   ],
   "source": [
    "!/Applications/bioinfo/bowtie2-2.2.4/bowtie2 \\\n",
    "-x analyses/redundans_sb_02.bowtie-index \\\n",
    "-U /Volumes/Alanine/wd/17-06-19/HC4-3_ACTTGA-CGTACG_L002_R1_001.fastq \\\n",
    "-p 8 \\\n",
    "--very-fast \\\n",
    "-S analyses/HC4-redundans_sb_02.sam"
   ]
  },
  {
   "cell_type": "code",
   "execution_count": 21,
   "metadata": {
    "collapsed": false
   },
   "outputs": [
    {
     "name": "stdout",
     "output_type": "stream",
     "text": [
      "canu_sb_01.fa         platanus_sb_02.fa     redundans_sjw_01.fa\r\n",
      "canu_sjw_01.fa        racon_sjw_01.fa       redundans_sjw_02.fa\r\n",
      "ol-canu-170623.fa     redundans_sb_01.fa    redundans_sjw_02b.fa\r\n",
      "platanus_sb_01.fa     redundans_sb_02.fa    soap_bgi_01.fa\r\n"
     ]
    }
   ],
   "source": [
    "ls genomes"
   ]
  },
  {
   "cell_type": "code",
   "execution_count": null,
   "metadata": {
    "collapsed": false
   },
   "outputs": [],
   "source": [
    "!/Applications/bioinfo/bowtie2-2.2.4/bowtie2-build \\\n",
    "/Volumes/Alanine/wd/17-11-03/genomes/redundans_sb_01.fa \\\n",
    "analyses/redundans_sb_01.bowtie-index \\\n",
    "2> analyses/redundans_sb_01.bw.stderr"
   ]
  },
  {
   "cell_type": "code",
   "execution_count": 13,
   "metadata": {
    "collapsed": false
   },
   "outputs": [
    {
     "name": "stdout",
     "output_type": "stream",
     "text": [
      "7200858 reads; of these:\r\n",
      "  7200858 (100.00%) were unpaired; of these:\r\n",
      "    7200052 (99.99%) aligned 0 times\r\n",
      "    617 (0.01%) aligned exactly 1 time\r\n",
      "    189 (0.00%) aligned >1 times\r\n",
      "0.01% overall alignment rate\r\n"
     ]
    }
   ],
   "source": [
    "!/Applications/bioinfo/bowtie2-2.2.4/bowtie2 \\\n",
    "-x analyses/redundans_sb_01.bowtie-index \\\n",
    "-U /Volumes/Alanine/wd/17-06-19/HC4-3_ACTTGA-CGTACG_L002_R1_001.fastq \\\n",
    "-p 8 \\\n",
    "--very-fast \\\n",
    "-S analyses/HC4-redundans_sb_01.sam"
   ]
  },
  {
   "cell_type": "code",
   "execution_count": null,
   "metadata": {
    "collapsed": false,
    "scrolled": false
   },
   "outputs": [],
   "source": [
    "!/Applications/bioinfo/bowtie2-2.2.4/bowtie2-build \\\n",
    "genomes/canu_sb_01.fa \\\n",
    "analyses/canu_sb_01.bowtie-index "
   ]
  },
  {
   "cell_type": "code",
   "execution_count": 16,
   "metadata": {
    "collapsed": false
   },
   "outputs": [
    {
     "name": "stdout",
     "output_type": "stream",
     "text": [
      "7200858 reads; of these:\r\n",
      "  7200858 (100.00%) were unpaired; of these:\r\n",
      "    7186539 (99.80%) aligned 0 times\r\n",
      "    6089 (0.08%) aligned exactly 1 time\r\n",
      "    8230 (0.11%) aligned >1 times\r\n",
      "0.20% overall alignment rate\r\n"
     ]
    }
   ],
   "source": [
    "!/Applications/bioinfo/bowtie2-2.2.4/bowtie2 \\\n",
    "-x analyses/canu_sb_01.bowtie-index \\\n",
    "-U /Volumes/Alanine/wd/17-06-19/HC4-3_ACTTGA-CGTACG_L002_R1_001.fastq \\\n",
    "-p 8 \\\n",
    "--very-fast \\\n",
    "-S analyses/HC4-canu_sb_01.sam"
   ]
  },
  {
   "cell_type": "code",
   "execution_count": null,
   "metadata": {
    "collapsed": false,
    "scrolled": true
   },
   "outputs": [],
   "source": [
    "!/Applications/bioinfo/bowtie2-2.2.4/bowtie2-build \\\n",
    "genomes/canu_sjw_01.fa \\\n",
    "analyses/canu_sjw_01.bowtie-index "
   ]
  },
  {
   "cell_type": "code",
   "execution_count": 18,
   "metadata": {
    "collapsed": false
   },
   "outputs": [
    {
     "name": "stdout",
     "output_type": "stream",
     "text": [
      "7200858 reads; of these:\r\n",
      "  7200858 (100.00%) were unpaired; of these:\r\n",
      "    7174112 (99.63%) aligned 0 times\r\n",
      "    14177 (0.20%) aligned exactly 1 time\r\n",
      "    12569 (0.17%) aligned >1 times\r\n",
      "0.37% overall alignment rate\r\n"
     ]
    }
   ],
   "source": [
    "!/Applications/bioinfo/bowtie2-2.2.4/bowtie2 \\\n",
    "-x analyses/canu_sjw_01.bowtie-index \\\n",
    "-U /Volumes/Alanine/wd/17-06-19/HC4-3_ACTTGA-CGTACG_L002_R1_001.fastq \\\n",
    "-p 8 \\\n",
    "--very-fast \\\n",
    "-S analyses/HC4-canu_sjw_01.sam"
   ]
  },
  {
   "cell_type": "code",
   "execution_count": null,
   "metadata": {
    "collapsed": false,
    "scrolled": true
   },
   "outputs": [],
   "source": [
    "!/Applications/bioinfo/bowtie2-2.2.4/bowtie2-build \\\n",
    "genomes/ol-canu-170623.fa \\\n",
    "analyses/ol-canu-170623.bowtie-index "
   ]
  },
  {
   "cell_type": "code",
   "execution_count": 20,
   "metadata": {
    "collapsed": false
   },
   "outputs": [
    {
     "name": "stdout",
     "output_type": "stream",
     "text": [
      "7200858 reads; of these:\r\n",
      "  7200858 (100.00%) were unpaired; of these:\r\n",
      "    7182354 (99.74%) aligned 0 times\r\n",
      "    8682 (0.12%) aligned exactly 1 time\r\n",
      "    9822 (0.14%) aligned >1 times\r\n",
      "0.26% overall alignment rate\r\n"
     ]
    }
   ],
   "source": [
    "!/Applications/bioinfo/bowtie2-2.2.4/bowtie2 \\\n",
    "-x analyses/ol-canu-170623.bowtie-index \\\n",
    "-U /Volumes/Alanine/wd/17-06-19/HC4-3_ACTTGA-CGTACG_L002_R1_001.fastq \\\n",
    "-p 8 \\\n",
    "--very-fast \\\n",
    "-S analyses/HC4-ol-canu-170623.sam"
   ]
  },
  {
   "cell_type": "code",
   "execution_count": null,
   "metadata": {
    "collapsed": false,
    "scrolled": false
   },
   "outputs": [],
   "source": [
    "!/Applications/bioinfo/bowtie2-2.2.4/bowtie2-build \\\n",
    "genomes/platanus_sb_01.fa \\\n",
    "analyses/platanus_sb_01.bowtie-index "
   ]
  },
  {
   "cell_type": "code",
   "execution_count": 23,
   "metadata": {
    "collapsed": false
   },
   "outputs": [
    {
     "name": "stdout",
     "output_type": "stream",
     "text": [
      "7200858 reads; of these:\r\n",
      "  7200858 (100.00%) were unpaired; of these:\r\n",
      "    7196898 (99.95%) aligned 0 times\r\n",
      "    1661 (0.02%) aligned exactly 1 time\r\n",
      "    2299 (0.03%) aligned >1 times\r\n",
      "0.05% overall alignment rate\r\n"
     ]
    }
   ],
   "source": [
    "!/Applications/bioinfo/bowtie2-2.2.4/bowtie2 \\\n",
    "-x analyses/platanus_sb_01.bowtie-index \\\n",
    "-U /Volumes/Alanine/wd/17-06-19/HC4-3_ACTTGA-CGTACG_L002_R1_001.fastq \\\n",
    "-p 8 \\\n",
    "--very-fast \\\n",
    "-S analyses/HC4-platanus_sb_01.sam"
   ]
  },
  {
   "cell_type": "code",
   "execution_count": 24,
   "metadata": {
    "collapsed": false
   },
   "outputs": [
    {
     "name": "stdout",
     "output_type": "stream",
     "text": [
      "canu_sb_01.fa         platanus_sb_02.fa     redundans_sjw_01.fa\r\n",
      "canu_sjw_01.fa        racon_sjw_01.fa       redundans_sjw_02.fa\r\n",
      "ol-canu-170623.fa     redundans_sb_01.fa    redundans_sjw_02b.fa\r\n",
      "platanus_sb_01.fa     redundans_sb_02.fa    soap_bgi_01.fa\r\n"
     ]
    }
   ],
   "source": [
    "ls genomes"
   ]
  },
  {
   "cell_type": "code",
   "execution_count": null,
   "metadata": {
    "collapsed": false
   },
   "outputs": [
    {
     "name": "stdout",
     "output_type": "stream",
     "text": [
      "Settings:\n",
      "  Output files: \"analyses/platanus_sb_02.bowtie-index.*.bt2\"\n",
      "  Line rate: 6 (line is 64 bytes)\n",
      "  Lines per side: 1 (side is 64 bytes)\n",
      "  Offset rate: 4 (one in 16)\n",
      "  FTable chars: 10\n",
      "  Strings: unpacked\n",
      "  Max bucket size: default\n",
      "  Max bucket size, sqrt multiplier: default\n",
      "  Max bucket size, len divisor: 4\n",
      "  Difference-cover sample period: 1024\n",
      "  Endianness: little\n",
      "  Actual local endianness: little\n",
      "  Sanity checking: disabled\n",
      "  Assertions: disabled\n",
      "  Random seed: 0\n",
      "  Sizeofs: void*:8, int:4, long:8, size_t:8\n",
      "Input files DNA, FASTA:\n",
      "  genomes/platanus_sb_02.fa\n",
      "Building a SMALL index\n",
      "Reading reference sizes\n",
      "  Time reading reference sizes: 00:00:36\n",
      "Calculating joined length\n",
      "Writing header\n",
      "Reserving space for joined string\n",
      "Joining reference sequences\n",
      "  Time to join reference sequences: 00:00:41\n",
      "bmax according to bmaxDivN setting: 408388374\n",
      "Using parameters --bmax 306291281 --dcv 1024\n",
      "  Doing ahead-of-time memory usage test\n",
      "  Passed!  Constructing with these parameters: --bmax 306291281 --dcv 1024\n",
      "Constructing suffix-array element generator\n",
      "Building DifferenceCoverSample\n",
      "  Building sPrime\n",
      "  Building sPrimeOrder\n",
      "  V-Sorting samples\n",
      "  V-Sorting samples time: 00:02:50\n",
      "  Allocating rank array\n",
      "  Ranking v-sort output\n",
      "  Ranking v-sort output time: 00:00:45\n",
      "  Invoking Larsson-Sadakane on ranks\n",
      "  Invoking Larsson-Sadakane on ranks time: 00:01:05\n",
      "  Sanity-checking and returning\n",
      "Building samples\n",
      "Reserving space for 12 sample suffixes\n",
      "Generating random suffixes\n",
      "QSorting 12 sample offsets, eliminating duplicates\n",
      "QSorting sample offsets, eliminating duplicates time: 00:00:00\n",
      "Multikey QSorting 12 samples\n",
      "  (Using difference cover)\n",
      "  Multikey QSorting samples time: 00:00:00\n",
      "Calculating bucket sizes\n",
      "  Binary sorting into buckets\n",
      "  10%\n",
      "  20%\n",
      "  30%\n",
      "  40%\n",
      "  50%\n",
      "  60%\n",
      "  70%\n",
      "  80%\n",
      "  90%\n",
      "  100%\n",
      "  Binary sorting into buckets time: 00:01:22\n",
      "Splitting and merging\n",
      "  Splitting and merging time: 00:00:00\n",
      "Avg bucket size: 2.33365e+08 (target: 306291280)\n",
      "Converting suffix-array elements to index image\n",
      "Allocating ftab, absorbFtab\n",
      "Entering Ebwt loop\n",
      "Getting block 1 of 7\n",
      "  Reserving size (306291281) for bucket\n",
      "  Calculating Z arrays\n",
      "  Calculating Z arrays time: 00:00:00\n",
      "  Entering block accumulator loop:\n",
      "  10%\n",
      "  20%\n",
      "  30%\n",
      "  40%\n",
      "  50%\n",
      "  60%\n",
      "  70%\n",
      "  80%\n",
      "  90%\n",
      "  100%\n",
      "  Block accumulator loop time: 00:00:26\n",
      "  Sorting block of length 277092624\n",
      "  (Using difference cover)\n",
      "  Sorting block time: 00:11:15\n",
      "Returning block of 277092625\n",
      "Getting block 2 of 7\n",
      "  Reserving size (306291281) for bucket\n",
      "  Calculating Z arrays\n",
      "  Calculating Z arrays time: 00:00:00\n",
      "  Entering block accumulator loop:\n",
      "  10%\n",
      "  20%\n",
      "  30%\n",
      "  40%\n",
      "  50%\n",
      "  60%\n",
      "  70%\n",
      "  80%\n",
      "  90%\n",
      "  100%\n",
      "  Block accumulator loop time: 00:00:31\n",
      "  Sorting block of length 252717864\n",
      "  (Using difference cover)\n",
      "  Sorting block time: 00:10:47\n",
      "Returning block of 252717865\n",
      "Getting block 3 of 7\n",
      "  Reserving size (306291281) for bucket\n",
      "  Calculating Z arrays\n",
      "  Calculating Z arrays time: 00:00:00\n",
      "  Entering block accumulator loop:\n",
      "  10%\n",
      "  20%\n",
      "  30%\n",
      "  40%\n",
      "  50%\n",
      "  60%\n",
      "  70%\n",
      "  80%\n",
      "  90%\n",
      "  100%\n",
      "  Block accumulator loop time: 00:00:32\n",
      "  Sorting block of length 209995400\n",
      "  (Using difference cover)\n",
      "  Sorting block time: 00:08:36\n",
      "Returning block of 209995401\n",
      "Getting block 4 of 7\n",
      "  Reserving size (306291281) for bucket\n",
      "  Calculating Z arrays\n",
      "  Calculating Z arrays time: 00:00:00\n",
      "  Entering block accumulator loop:\n",
      "  10%\n",
      "  20%\n",
      "  30%\n",
      "  40%\n",
      "  50%\n",
      "  60%\n",
      "  70%\n",
      "  80%\n",
      "  90%\n",
      "  100%\n",
      "  Block accumulator loop time: 00:00:37\n",
      "  Sorting block of length 287110446\n",
      "  (Using difference cover)\n",
      "  Sorting block time: 00:12:06\n",
      "Returning block of 287110447\n",
      "Getting block 5 of 7\n",
      "  Reserving size (306291281) for bucket\n",
      "  Calculating Z arrays\n",
      "  Calculating Z arrays time: 00:00:00\n",
      "  Entering block accumulator loop:\n",
      "  10%\n",
      "  20%\n",
      "  30%\n",
      "  40%\n",
      "  50%\n",
      "  60%\n",
      "  70%\n",
      "  80%\n",
      "  90%\n",
      "  100%\n",
      "  Block accumulator loop time: 00:00:40\n",
      "  Sorting block of length 263143799\n",
      "  (Using difference cover)\n",
      "  Sorting block time: 00:11:14\n",
      "Returning block of 263143800\n",
      "Getting block 6 of 7\n",
      "  Reserving size (306291281) for bucket\n",
      "  Calculating Z arrays\n",
      "  Calculating Z arrays time: 00:00:00\n",
      "  Entering block accumulator loop:\n",
      "  10%\n",
      "  20%\n",
      "  30%\n",
      "  40%\n",
      "  50%\n",
      "  60%\n",
      "  70%\n",
      "  80%\n",
      "  90%\n",
      "  100%\n",
      "  Block accumulator loop time: 00:00:36\n",
      "  Sorting block of length 212024186\n",
      "  (Using difference cover)\n",
      "  Sorting block time: 00:08:39\n",
      "Returning block of 212024187\n",
      "Getting block 7 of 7\n",
      "  Reserving size (306291281) for bucket\n",
      "  Calculating Z arrays\n",
      "  Calculating Z arrays time: 00:00:00\n",
      "  Entering block accumulator loop:\n",
      "  10%\n",
      "  20%\n",
      "  30%\n",
      "  40%\n",
      "  50%\n",
      "  60%\n",
      "  70%\n",
      "  80%\n",
      "  90%\n",
      "  100%\n",
      "  Block accumulator loop time: 00:00:22\n",
      "  Sorting block of length 131469171\n",
      "  (Using difference cover)\n",
      "  Sorting block time: 00:05:20\n",
      "Returning block of 131469172\n",
      "Exited Ebwt loop\n",
      "fchr[A]: 0\n",
      "fchr[C]: 513840453\n",
      "fchr[G]: 811970491\n",
      "fchr[T]: 1111931377\n",
      "fchr[$]: 1633553496\n",
      "Exiting Ebwt::buildToDisk()\n",
      "Returning from initFromVector\n",
      "Wrote 1043661112 bytes to primary EBWT file: analyses/platanus_sb_02.bowtie-index.1.bt2\n",
      "Wrote 408388380 bytes to secondary EBWT file: analyses/platanus_sb_02.bowtie-index.2.bt2\n",
      "Re-opening _in1 and _in2 as input streams\n",
      "Returning from Ebwt constructor\n",
      "Headers:\n",
      "    len: 1633553496\n",
      "    bwtLen: 1633553497\n",
      "    sz: 408388374\n",
      "    bwtSz: 408388375\n",
      "    lineRate: 6\n",
      "    offRate: 4\n",
      "    offMask: 0xfffffff0\n",
      "    ftabChars: 10\n",
      "    eftabLen: 20\n",
      "    eftabSz: 80\n",
      "    ftabLen: 1048577\n",
      "    ftabSz: 4194308\n",
      "    offsLen: 102097094\n",
      "    offsSz: 408388376\n",
      "    lineSz: 64\n",
      "    sideSz: 64\n",
      "    sideBwtSz: 48\n",
      "    sideBwtLen: 192\n",
      "    numSides: 8508092\n",
      "    numLines: 8508092\n",
      "    ebwtTotLen: 544517888\n",
      "    ebwtTotSz: 544517888\n",
      "    color: 0\n",
      "    reverse: 0\n",
      "Total time for call to driver() for forward index: 01:33:42\n",
      "Reading reference sizes\n",
      "  Time reading reference sizes: 00:00:22\n",
      "Calculating joined length\n",
      "Writing header\n",
      "Reserving space for joined string\n",
      "Joining reference sequences\n",
      "  Time to join reference sequences: 00:00:36\n",
      "  Time to reverse reference sequence: 00:00:06\n",
      "bmax according to bmaxDivN setting: 408388374\n",
      "Using parameters --bmax 306291281 --dcv 1024\n",
      "  Doing ahead-of-time memory usage test\n",
      "  Passed!  Constructing with these parameters: --bmax 306291281 --dcv 1024\n",
      "Constructing suffix-array element generator\n",
      "Building DifferenceCoverSample\n",
      "  Building sPrime\n",
      "  Building sPrimeOrder\n",
      "  V-Sorting samples\n",
      "  V-Sorting samples time: 00:02:57\n",
      "  Allocating rank array\n",
      "  Ranking v-sort output\n",
      "  Ranking v-sort output time: 00:00:46\n",
      "  Invoking Larsson-Sadakane on ranks\n",
      "  Invoking Larsson-Sadakane on ranks time: 00:01:05\n",
      "  Sanity-checking and returning\n",
      "Building samples\n",
      "Reserving space for 12 sample suffixes\n",
      "Generating random suffixes\n",
      "QSorting 12 sample offsets, eliminating duplicates\n",
      "QSorting sample offsets, eliminating duplicates time: 00:00:00\n",
      "Multikey QSorting 12 samples\n",
      "  (Using difference cover)\n",
      "  Multikey QSorting samples time: 00:00:00\n",
      "Calculating bucket sizes\n",
      "  Binary sorting into buckets\n",
      "  10%\n",
      "  20%\n",
      "  30%\n",
      "  40%\n",
      "  50%\n",
      "  60%\n",
      "  70%\n",
      "  80%\n",
      "  90%\n",
      "  100%\n",
      "  Binary sorting into buckets time: 00:01:19\n",
      "Splitting and merging\n",
      "  Splitting and merging time: 00:00:00\n",
      "Split 1, merged 7; iterating...\n",
      "  Binary sorting into buckets\n",
      "  10%\n",
      "  20%\n",
      "  30%\n",
      "  40%\n",
      "  50%\n",
      "  60%\n",
      "  70%\n",
      "  80%\n",
      "  90%\n",
      "  100%\n",
      "  Binary sorting into buckets time: 00:01:09\n",
      "Splitting and merging\n",
      "  Splitting and merging time: 00:00:00\n",
      "Split 1, merged 0; iterating...\n",
      "  Binary sorting into buckets\n",
      "  10%\n",
      "  20%\n",
      "  30%\n",
      "  40%\n",
      "  50%\n",
      "  60%\n",
      "  70%\n",
      "  80%\n",
      "  90%\n",
      "  100%\n",
      "  Binary sorting into buckets time: 00:01:11\n",
      "Splitting and merging\n",
      "  Splitting and merging time: 00:00:00\n",
      "Split 1, merged 1; iterating...\n",
      "  Binary sorting into buckets\n",
      "  10%\n",
      "  20%\n",
      "  30%\n",
      "  40%\n",
      "  50%\n",
      "  60%\n",
      "  70%\n",
      "  80%\n",
      "  90%\n",
      "  100%\n",
      "  Binary sorting into buckets time: 00:01:10\n",
      "Splitting and merging\n",
      "  Splitting and merging time: 00:00:00\n",
      "Split 1, merged 1; iterating...\n",
      "  Binary sorting into buckets\n",
      "  10%\n",
      "  20%\n",
      "  30%\n",
      "  40%\n",
      "  50%\n",
      "  60%\n",
      "  70%\n",
      "  80%\n",
      "  90%\n",
      "  100%\n",
      "  Binary sorting into buckets time: 00:01:11\n",
      "Splitting and merging\n",
      "  Splitting and merging time: 00:00:00\n",
      "Avg bucket size: 2.33365e+08 (target: 306291280)\n",
      "Converting suffix-array elements to index image\n",
      "Allocating ftab, absorbFtab\n",
      "Entering Ebwt loop\n",
      "Getting block 1 of 7\n",
      "  Reserving size (306291281) for bucket\n",
      "  Calculating Z arrays\n",
      "  Calculating Z arrays time: 00:00:00\n",
      "  Entering block accumulator loop:\n",
      "  10%\n",
      "  20%\n",
      "  30%\n",
      "  40%\n",
      "  50%\n",
      "  60%\n",
      "  70%\n",
      "  80%\n",
      "  90%\n",
      "  100%\n",
      "  Block accumulator loop time: 00:00:23\n",
      "  Sorting block of length 159615147\n",
      "  (Using difference cover)\n",
      "  Sorting block time: 00:06:21\n",
      "Returning block of 159615148\n",
      "Getting block 2 of 7\n",
      "  Reserving size (306291281) for bucket\n",
      "  Calculating Z arrays\n",
      "  Calculating Z arrays time: 00:00:00\n",
      "  Entering block accumulator loop:\n",
      "  10%\n",
      "  20%\n",
      "  30%\n",
      "  40%\n",
      "  50%\n",
      "  60%\n",
      "  70%\n",
      "  80%\n",
      "  90%\n",
      "  100%\n",
      "  Block accumulator loop time: 00:00:28\n",
      "  Sorting block of length 180541588\n",
      "  (Using difference cover)\n",
      "  Sorting block time: 00:07:15\n",
      "Returning block of 180541589\n",
      "Getting block 3 of 7\n",
      "  Reserving size (306291281) for bucket\n",
      "  Calculating Z arrays\n",
      "  Calculating Z arrays time: 00:00:00\n",
      "  Entering block accumulator loop:\n",
      "  10%\n",
      "  20%\n",
      "  30%\n",
      "  40%\n",
      "  50%\n",
      "  60%\n",
      "  70%\n",
      "  80%\n",
      "  90%\n",
      "  100%\n",
      "  Block accumulator loop time: 00:00:31\n",
      "  Sorting block of length 290119755\n",
      "  (Using difference cover)\n",
      "  Sorting block time: 00:12:09\n",
      "Returning block of 290119756\n",
      "Getting block 4 of 7\n",
      "  Reserving size (306291281) for bucket\n",
      "  Calculating Z arrays\n",
      "  Calculating Z arrays time: 00:00:00\n",
      "  Entering block accumulator loop:\n",
      "  10%\n",
      "  20%\n",
      "  30%\n",
      "  40%\n",
      "  50%\n",
      "  60%\n",
      "  70%\n",
      "  80%\n",
      "  90%\n",
      "  100%\n",
      "  Block accumulator loop time: 00:00:33\n",
      "  Sorting block of length 205399727\n",
      "  (Using difference cover)\n",
      "  Sorting block time: 00:08:34\n",
      "Returning block of 205399728\n",
      "Getting block 5 of 7\n",
      "  Reserving size (306291281) for bucket\n",
      "  Calculating Z arrays\n",
      "  Calculating Z arrays time: 00:00:00\n",
      "  Entering block accumulator loop:\n",
      "  10%\n",
      "  20%\n",
      "  30%\n",
      "  40%\n",
      "  50%\n",
      "  60%\n",
      "  70%\n",
      "  80%\n",
      "  90%\n",
      "  100%\n",
      "  Block accumulator loop time: 00:00:36\n",
      "  Sorting block of length 225462045\n",
      "  (Using difference cover)\n"
     ]
    }
   ],
   "source": [
    "!/Applications/bioinfo/bowtie2-2.2.4/bowtie2-build \\\n",
    "genomes/platanus_sb_02.fa \\\n",
    "analyses/platanus_sb_02.bowtie-index "
   ]
  },
  {
   "cell_type": "code",
   "execution_count": null,
   "metadata": {
    "collapsed": true
   },
   "outputs": [],
   "source": [
    "!/Applications/bioinfo/bowtie2-2.2.4/bowtie2 \\\n",
    "-x analyses/platanus_sb_02.bowtie-index \\\n",
    "-U /Volumes/Alanine/wd/17-06-19/HC4-3_ACTTGA-CGTACG_L002_R1_001.fastq \\\n",
    "-p 8 \\\n",
    "--very-fast \\\n",
    "-S analyses/HC4-platanus_sb_02.sam"
   ]
  },
  {
   "cell_type": "code",
   "execution_count": null,
   "metadata": {
    "collapsed": true
   },
   "outputs": [],
   "source": [
    "!/Applications/bioinfo/bowtie2-2.2.4/bowtie2-build \\\n",
    "genomes/racon_sjw_01.fa \\\n",
    "analyses/racon_sjw_01.bowtie-index "
   ]
  },
  {
   "cell_type": "code",
   "execution_count": null,
   "metadata": {
    "collapsed": true
   },
   "outputs": [],
   "source": [
    "!/Applications/bioinfo/bowtie2-2.2.4/bowtie2 \\\n",
    "-x analyses/racon_sjw_01.bowtie-index \\\n",
    "-U /Volumes/Alanine/wd/17-06-19/HC4-3_ACTTGA-CGTACG_L002_R1_001.fastq \\\n",
    "-p 8 \\\n",
    "--very-fast \\\n",
    "-S analyses/HC4-racon_sjw_01.sam"
   ]
  },
  {
   "cell_type": "code",
   "execution_count": null,
   "metadata": {
    "collapsed": true
   },
   "outputs": [],
   "source": []
  }
 ],
 "metadata": {
  "kernelspec": {
   "display_name": "Python 2",
   "language": "python",
   "name": "python2"
  },
  "language_info": {
   "codemirror_mode": {
    "name": "ipython",
    "version": 2
   },
   "file_extension": ".py",
   "mimetype": "text/x-python",
   "name": "python",
   "nbconvert_exporter": "python",
   "pygments_lexer": "ipython2",
   "version": "2.7.12"
  }
 },
 "nbformat": 4,
 "nbformat_minor": 0
}
