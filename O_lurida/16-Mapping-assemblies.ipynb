{
 "cells": [
  {
   "cell_type": "code",
   "execution_count": 5,
   "metadata": {
    "collapsed": false
   },
   "outputs": [
    {
     "name": "stdout",
     "output_type": "stream",
     "text": [
      "/Volumes/Alanine/wd/17-11-03\n"
     ]
    }
   ],
   "source": [
    "cd /Volumes/Alanine/wd/17-11-03"
   ]
  },
  {
   "cell_type": "code",
   "execution_count": 7,
   "metadata": {
    "collapsed": false
   },
   "outputs": [],
   "source": [
    "mkdir analyses"
   ]
  },
  {
   "cell_type": "code",
   "execution_count": null,
   "metadata": {
    "collapsed": false
   },
   "outputs": [],
   "source": [
    "!/Applications/bioinfo/bowtie2-2.2.4/bowtie2-build \\\n",
    "/Volumes/Alanine/wd/17-11-03/genomes/redundans_sb_02.fa \\\n",
    "analyses/redundans_sb_02.bowtie-index \\\n",
    "2> analyses/redundans_sb_02.bw.stderr"
   ]
  },
  {
   "cell_type": "code",
   "execution_count": 9,
   "metadata": {
    "collapsed": false
   },
   "outputs": [
    {
     "name": "stdout",
     "output_type": "stream",
     "text": [
      "7200858 reads; of these:\r\n",
      "  7200858 (100.00%) were unpaired; of these:\r\n",
      "    7141129 (99.17%) aligned 0 times\r\n",
      "    45511 (0.63%) aligned exactly 1 time\r\n",
      "    14218 (0.20%) aligned >1 times\r\n",
      "0.83% overall alignment rate\r\n"
     ]
    }
   ],
   "source": [
    "!/Applications/bioinfo/bowtie2-2.2.4/bowtie2 \\\n",
    "-x analyses/redundans_sb_02.bowtie-index \\\n",
    "-U /Volumes/Alanine/wd/17-06-19/HC4-3_ACTTGA-CGTACG_L002_R1_001.fastq \\\n",
    "-p 8 \\\n",
    "--very-fast \\\n",
    "-S analyses/HC4-redundans_sb_02.sam"
   ]
  },
  {
   "cell_type": "code",
   "execution_count": 14,
   "metadata": {
    "collapsed": false
   },
   "outputs": [
    {
     "name": "stdout",
     "output_type": "stream",
     "text": [
      "canu_sb_01.fa         platanus_sb_02.fa     redundans_sjw_01.fa\r\n",
      "canu_sjw_01.fa        racon_sjw_01.fa       redundans_sjw_02.fa\r\n",
      "ol-canu-170623.fa     redundans_sb_01.fa    redundans_sjw_02b.fa\r\n",
      "platanus_sb_01.fa     redundans_sb_02.fa    soap_bgi_01.fa\r\n"
     ]
    }
   ],
   "source": [
    "ls genomes"
   ]
  },
  {
   "cell_type": "code",
   "execution_count": null,
   "metadata": {
    "collapsed": false
   },
   "outputs": [],
   "source": [
    "!/Applications/bioinfo/bowtie2-2.2.4/bowtie2-build \\\n",
    "/Volumes/Alanine/wd/17-11-03/genomes/redundans_sb_01.fa \\\n",
    "analyses/redundans_sb_01.bowtie-index \\\n",
    "2> analyses/redundans_sb_01.bw.stderr"
   ]
  },
  {
   "cell_type": "code",
   "execution_count": 13,
   "metadata": {
    "collapsed": false
   },
   "outputs": [
    {
     "name": "stdout",
     "output_type": "stream",
     "text": [
      "7200858 reads; of these:\r\n",
      "  7200858 (100.00%) were unpaired; of these:\r\n",
      "    7200052 (99.99%) aligned 0 times\r\n",
      "    617 (0.01%) aligned exactly 1 time\r\n",
      "    189 (0.00%) aligned >1 times\r\n",
      "0.01% overall alignment rate\r\n"
     ]
    }
   ],
   "source": [
    "!/Applications/bioinfo/bowtie2-2.2.4/bowtie2 \\\n",
    "-x analyses/redundans_sb_01.bowtie-index \\\n",
    "-U /Volumes/Alanine/wd/17-06-19/HC4-3_ACTTGA-CGTACG_L002_R1_001.fastq \\\n",
    "-p 8 \\\n",
    "--very-fast \\\n",
    "-S analyses/HC4-redundans_sb_01.sam"
   ]
  },
  {
   "cell_type": "code",
   "execution_count": null,
   "metadata": {
    "collapsed": false,
    "scrolled": false
   },
   "outputs": [],
   "source": [
    "!/Applications/bioinfo/bowtie2-2.2.4/bowtie2-build \\\n",
    "genomes/canu_sb_01.fa \\\n",
    "analyses/canu_sb_01.bowtie-index "
   ]
  },
  {
   "cell_type": "code",
   "execution_count": 16,
   "metadata": {
    "collapsed": false
   },
   "outputs": [
    {
     "name": "stdout",
     "output_type": "stream",
     "text": [
      "7200858 reads; of these:\r\n",
      "  7200858 (100.00%) were unpaired; of these:\r\n",
      "    7186539 (99.80%) aligned 0 times\r\n",
      "    6089 (0.08%) aligned exactly 1 time\r\n",
      "    8230 (0.11%) aligned >1 times\r\n",
      "0.20% overall alignment rate\r\n"
     ]
    }
   ],
   "source": [
    "!/Applications/bioinfo/bowtie2-2.2.4/bowtie2 \\\n",
    "-x analyses/canu_sb_01.bowtie-index \\\n",
    "-U /Volumes/Alanine/wd/17-06-19/HC4-3_ACTTGA-CGTACG_L002_R1_001.fastq \\\n",
    "-p 8 \\\n",
    "--very-fast \\\n",
    "-S analyses/HC4-canu_sb_01.sam"
   ]
  },
  {
   "cell_type": "code",
   "execution_count": null,
   "metadata": {
    "collapsed": false,
    "scrolled": true
   },
   "outputs": [
    {
     "name": "stdout",
     "output_type": "stream",
     "text": [
      "Settings:\n",
      "  Output files: \"analyses/canu_sjw_01.bowtie-index.*.bt2\"\n",
      "  Line rate: 6 (line is 64 bytes)\n",
      "  Lines per side: 1 (side is 64 bytes)\n",
      "  Offset rate: 4 (one in 16)\n",
      "  FTable chars: 10\n",
      "  Strings: unpacked\n",
      "  Max bucket size: default\n",
      "  Max bucket size, sqrt multiplier: default\n",
      "  Max bucket size, len divisor: 4\n",
      "  Difference-cover sample period: 1024\n",
      "  Endianness: little\n",
      "  Actual local endianness: little\n",
      "  Sanity checking: disabled\n",
      "  Assertions: disabled\n",
      "  Random seed: 0\n",
      "  Sizeofs: void*:8, int:4, long:8, size_t:8\n",
      "Input files DNA, FASTA:\n",
      "  genomes/canu_sjw_01.fa\n",
      "Building a SMALL index\n",
      "Reading reference sizes\n",
      "  Time reading reference sizes: 00:00:02\n",
      "Calculating joined length\n",
      "Writing header\n",
      "Reserving space for joined string\n",
      "Joining reference sequences\n",
      "  Time to join reference sequences: 00:00:00\n",
      "bmax according to bmaxDivN setting: 33036713\n",
      "Using parameters --bmax 24777535 --dcv 1024\n",
      "  Doing ahead-of-time memory usage test\n",
      "  Passed!  Constructing with these parameters: --bmax 24777535 --dcv 1024\n",
      "Constructing suffix-array element generator\n",
      "Building DifferenceCoverSample\n",
      "  Building sPrime\n",
      "  Building sPrimeOrder\n",
      "  V-Sorting samples\n",
      "  V-Sorting samples time: 00:00:02\n",
      "  Allocating rank array\n",
      "  Ranking v-sort output\n",
      "  Ranking v-sort output time: 00:00:01\n",
      "  Invoking Larsson-Sadakane on ranks\n",
      "  Invoking Larsson-Sadakane on ranks time: 00:00:01\n",
      "  Sanity-checking and returning\n",
      "Building samples\n",
      "Reserving space for 12 sample suffixes\n",
      "Generating random suffixes\n",
      "QSorting 12 sample offsets, eliminating duplicates\n",
      "QSorting sample offsets, eliminating duplicates time: 00:00:00\n",
      "Multikey QSorting 12 samples\n",
      "  (Using difference cover)\n",
      "  Multikey QSorting samples time: 00:00:00\n",
      "Calculating bucket sizes\n",
      "  Binary sorting into buckets\n",
      "  10%\n",
      "  20%\n",
      "  30%\n",
      "  40%\n",
      "  50%\n",
      "  60%\n",
      "  70%\n",
      "  80%\n",
      "  90%\n",
      "  100%\n",
      "  Binary sorting into buckets time: 00:00:05\n",
      "Splitting and merging\n",
      "  Splitting and merging time: 00:00:00\n",
      "Avg bucket size: 1.88781e+07 (target: 24777534)\n",
      "Converting suffix-array elements to index image\n",
      "Allocating ftab, absorbFtab\n",
      "Entering Ebwt loop\n",
      "Getting block 1 of 7\n",
      "  Reserving size (24777535) for bucket\n",
      "  Calculating Z arrays\n",
      "  Calculating Z arrays time: 00:00:00\n",
      "  Entering block accumulator loop:\n",
      "  10%\n",
      "  20%\n",
      "  30%\n",
      "  40%\n",
      "  50%\n",
      "  60%\n",
      "  70%\n",
      "  80%\n",
      "  90%\n",
      "  100%\n",
      "  Block accumulator loop time: 00:00:02\n",
      "  Sorting block of length 17621906\n",
      "  (Using difference cover)\n",
      "  Sorting block time: 00:00:07\n",
      "Returning block of 17621907\n",
      "Getting block 2 of 7\n",
      "  Reserving size (24777535) for bucket\n",
      "  Calculating Z arrays\n",
      "  Calculating Z arrays time: 00:00:00\n",
      "  Entering block accumulator loop:\n",
      "  10%\n",
      "  20%\n",
      "  30%\n",
      "  40%\n",
      "  50%\n",
      "  60%\n",
      "  70%\n",
      "  80%\n",
      "  90%\n",
      "  100%\n",
      "  Block accumulator loop time: 00:00:02\n",
      "  Sorting block of length 24028631\n",
      "  (Using difference cover)\n",
      "  Sorting block time: 00:00:09\n",
      "Returning block of 24028632\n",
      "Getting block 3 of 7\n",
      "  Reserving size (24777535) for bucket\n",
      "  Calculating Z arrays\n",
      "  Calculating Z arrays time: 00:00:00\n",
      "  Entering block accumulator loop:\n",
      "  10%\n",
      "  20%\n",
      "  30%\n",
      "  40%\n",
      "  50%\n",
      "  60%\n",
      "  70%\n",
      "  80%\n",
      "  90%\n",
      "  100%\n",
      "  Block accumulator loop time: 00:00:02\n",
      "  Sorting block of length 23587618\n",
      "  (Using difference cover)\n",
      "  Sorting block time: 00:00:10\n",
      "Returning block of 23587619\n",
      "Getting block 4 of 7\n",
      "  Reserving size (24777535) for bucket\n",
      "  Calculating Z arrays\n",
      "  Calculating Z arrays time: 00:00:00\n",
      "  Entering block accumulator loop:\n",
      "  10%\n",
      "  20%\n",
      "  30%\n",
      "  40%\n",
      "  50%\n",
      "  60%\n",
      "  70%\n",
      "  80%\n",
      "  90%\n",
      "  100%\n",
      "  Block accumulator loop time: 00:00:03\n",
      "  Sorting block of length 18060201\n",
      "  (Using difference cover)\n",
      "  Sorting block time: 00:00:07\n",
      "Returning block of 18060202\n",
      "Getting block 5 of 7\n",
      "  Reserving size (24777535) for bucket\n",
      "  Calculating Z arrays\n",
      "  Calculating Z arrays time: 00:00:00\n",
      "  Entering block accumulator loop:\n",
      "  10%\n",
      "  20%\n",
      "  30%\n",
      "  40%\n",
      "  50%\n",
      "  60%\n",
      "  70%\n",
      "  80%\n",
      "  90%\n",
      "  100%\n",
      "  Block accumulator loop time: 00:00:03\n",
      "  Sorting block of length 15081623\n",
      "  (Using difference cover)\n",
      "  Sorting block time: 00:00:06\n",
      "Returning block of 15081624\n",
      "Getting block 6 of 7\n",
      "  Reserving size (24777535) for bucket\n",
      "  Calculating Z arrays\n",
      "  Calculating Z arrays time: 00:00:00\n",
      "  Entering block accumulator loop:\n",
      "  10%\n",
      "  20%\n",
      "  30%\n",
      "  40%\n",
      "  50%\n",
      "  60%\n",
      "  70%\n",
      "  80%\n",
      "  90%\n",
      "  100%\n",
      "  Block accumulator loop time: 00:00:03\n",
      "  Sorting block of length 19501454\n",
      "  (Using difference cover)\n"
     ]
    }
   ],
   "source": [
    "!/Applications/bioinfo/bowtie2-2.2.4/bowtie2-build \\\n",
    "genomes/canu_sjw_01.fa \\\n",
    "analyses/canu_sjw_01.bowtie-index "
   ]
  },
  {
   "cell_type": "code",
   "execution_count": null,
   "metadata": {
    "collapsed": true
   },
   "outputs": [],
   "source": [
    "!/Applications/bioinfo/bowtie2-2.2.4/bowtie2 \\\n",
    "-x analyses/canu_sjw_01.bowtie-index \\\n",
    "-U /Volumes/Alanine/wd/17-06-19/HC4-3_ACTTGA-CGTACG_L002_R1_001.fastq \\\n",
    "-p 8 \\\n",
    "--very-fast \\\n",
    "-S analyses/HC4-canu_sjw_01.sam"
   ]
  },
  {
   "cell_type": "code",
   "execution_count": null,
   "metadata": {
    "collapsed": true
   },
   "outputs": [],
   "source": []
  }
 ],
 "metadata": {
  "kernelspec": {
   "display_name": "Python 2",
   "language": "python",
   "name": "python2"
  },
  "language_info": {
   "codemirror_mode": {
    "name": "ipython",
    "version": 2
   },
   "file_extension": ".py",
   "mimetype": "text/x-python",
   "name": "python",
   "nbconvert_exporter": "python",
   "pygments_lexer": "ipython2",
   "version": "2.7.12"
  }
 },
 "nbformat": 4,
 "nbformat_minor": 0
}
