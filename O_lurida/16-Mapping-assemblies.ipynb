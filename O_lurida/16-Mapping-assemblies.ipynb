{
 "cells": [
  {
   "cell_type": "code",
   "execution_count": 5,
   "metadata": {
    "collapsed": false
   },
   "outputs": [
    {
     "name": "stdout",
     "output_type": "stream",
     "text": [
      "/Volumes/Alanine/wd/17-11-03\n"
     ]
    }
   ],
   "source": [
    "cd /Volumes/Alanine/wd/17-11-03"
   ]
  },
  {
   "cell_type": "code",
   "execution_count": 7,
   "metadata": {
    "collapsed": false
   },
   "outputs": [],
   "source": [
    "mkdir analyses"
   ]
  },
  {
   "cell_type": "code",
   "execution_count": null,
   "metadata": {
    "collapsed": false
   },
   "outputs": [],
   "source": [
    "!/Applications/bioinfo/bowtie2-2.2.4/bowtie2-build \\\n",
    "/Volumes/Alanine/wd/17-11-03/genomes/redundans_sb_02.fa \\\n",
    "analyses/redundans_sb_02.bowtie-index \\\n",
    "2> analyses/redundans_sb_02.bw.stderr"
   ]
  },
  {
   "cell_type": "code",
   "execution_count": 9,
   "metadata": {
    "collapsed": false
   },
   "outputs": [
    {
     "name": "stdout",
     "output_type": "stream",
     "text": [
      "7200858 reads; of these:\r\n",
      "  7200858 (100.00%) were unpaired; of these:\r\n",
      "    7141129 (99.17%) aligned 0 times\r\n",
      "    45511 (0.63%) aligned exactly 1 time\r\n",
      "    14218 (0.20%) aligned >1 times\r\n",
      "0.83% overall alignment rate\r\n"
     ]
    }
   ],
   "source": [
    "!/Applications/bioinfo/bowtie2-2.2.4/bowtie2 \\\n",
    "-x analyses/redundans_sb_02.bowtie-index \\\n",
    "-U /Volumes/Alanine/wd/17-06-19/HC4-3_ACTTGA-CGTACG_L002_R1_001.fastq \\\n",
    "-p 8 \\\n",
    "--very-fast \\\n",
    "-S analyses/HC4-redundans_sb_02.sam"
   ]
  },
  {
   "cell_type": "code",
   "execution_count": 21,
   "metadata": {
    "collapsed": false
   },
   "outputs": [
    {
     "name": "stdout",
     "output_type": "stream",
     "text": [
      "canu_sb_01.fa         platanus_sb_02.fa     redundans_sjw_01.fa\r\n",
      "canu_sjw_01.fa        racon_sjw_01.fa       redundans_sjw_02.fa\r\n",
      "ol-canu-170623.fa     redundans_sb_01.fa    redundans_sjw_02b.fa\r\n",
      "platanus_sb_01.fa     redundans_sb_02.fa    soap_bgi_01.fa\r\n"
     ]
    }
   ],
   "source": [
    "ls genomes"
   ]
  },
  {
   "cell_type": "code",
   "execution_count": null,
   "metadata": {
    "collapsed": false
   },
   "outputs": [],
   "source": [
    "!/Applications/bioinfo/bowtie2-2.2.4/bowtie2-build \\\n",
    "/Volumes/Alanine/wd/17-11-03/genomes/redundans_sb_01.fa \\\n",
    "analyses/redundans_sb_01.bowtie-index \\\n",
    "2> analyses/redundans_sb_01.bw.stderr"
   ]
  },
  {
   "cell_type": "code",
   "execution_count": 13,
   "metadata": {
    "collapsed": false
   },
   "outputs": [
    {
     "name": "stdout",
     "output_type": "stream",
     "text": [
      "7200858 reads; of these:\r\n",
      "  7200858 (100.00%) were unpaired; of these:\r\n",
      "    7200052 (99.99%) aligned 0 times\r\n",
      "    617 (0.01%) aligned exactly 1 time\r\n",
      "    189 (0.00%) aligned >1 times\r\n",
      "0.01% overall alignment rate\r\n"
     ]
    }
   ],
   "source": [
    "!/Applications/bioinfo/bowtie2-2.2.4/bowtie2 \\\n",
    "-x analyses/redundans_sb_01.bowtie-index \\\n",
    "-U /Volumes/Alanine/wd/17-06-19/HC4-3_ACTTGA-CGTACG_L002_R1_001.fastq \\\n",
    "-p 8 \\\n",
    "--very-fast \\\n",
    "-S analyses/HC4-redundans_sb_01.sam"
   ]
  },
  {
   "cell_type": "code",
   "execution_count": null,
   "metadata": {
    "collapsed": false,
    "scrolled": false
   },
   "outputs": [],
   "source": [
    "!/Applications/bioinfo/bowtie2-2.2.4/bowtie2-build \\\n",
    "genomes/canu_sb_01.fa \\\n",
    "analyses/canu_sb_01.bowtie-index "
   ]
  },
  {
   "cell_type": "code",
   "execution_count": 16,
   "metadata": {
    "collapsed": false
   },
   "outputs": [
    {
     "name": "stdout",
     "output_type": "stream",
     "text": [
      "7200858 reads; of these:\r\n",
      "  7200858 (100.00%) were unpaired; of these:\r\n",
      "    7186539 (99.80%) aligned 0 times\r\n",
      "    6089 (0.08%) aligned exactly 1 time\r\n",
      "    8230 (0.11%) aligned >1 times\r\n",
      "0.20% overall alignment rate\r\n"
     ]
    }
   ],
   "source": [
    "!/Applications/bioinfo/bowtie2-2.2.4/bowtie2 \\\n",
    "-x analyses/canu_sb_01.bowtie-index \\\n",
    "-U /Volumes/Alanine/wd/17-06-19/HC4-3_ACTTGA-CGTACG_L002_R1_001.fastq \\\n",
    "-p 8 \\\n",
    "--very-fast \\\n",
    "-S analyses/HC4-canu_sb_01.sam"
   ]
  },
  {
   "cell_type": "code",
   "execution_count": null,
   "metadata": {
    "collapsed": false,
    "scrolled": true
   },
   "outputs": [],
   "source": [
    "!/Applications/bioinfo/bowtie2-2.2.4/bowtie2-build \\\n",
    "genomes/canu_sjw_01.fa \\\n",
    "analyses/canu_sjw_01.bowtie-index "
   ]
  },
  {
   "cell_type": "code",
   "execution_count": 18,
   "metadata": {
    "collapsed": false
   },
   "outputs": [
    {
     "name": "stdout",
     "output_type": "stream",
     "text": [
      "7200858 reads; of these:\r\n",
      "  7200858 (100.00%) were unpaired; of these:\r\n",
      "    7174112 (99.63%) aligned 0 times\r\n",
      "    14177 (0.20%) aligned exactly 1 time\r\n",
      "    12569 (0.17%) aligned >1 times\r\n",
      "0.37% overall alignment rate\r\n"
     ]
    }
   ],
   "source": [
    "!/Applications/bioinfo/bowtie2-2.2.4/bowtie2 \\\n",
    "-x analyses/canu_sjw_01.bowtie-index \\\n",
    "-U /Volumes/Alanine/wd/17-06-19/HC4-3_ACTTGA-CGTACG_L002_R1_001.fastq \\\n",
    "-p 8 \\\n",
    "--very-fast \\\n",
    "-S analyses/HC4-canu_sjw_01.sam"
   ]
  },
  {
   "cell_type": "code",
   "execution_count": null,
   "metadata": {
    "collapsed": false,
    "scrolled": true
   },
   "outputs": [],
   "source": [
    "!/Applications/bioinfo/bowtie2-2.2.4/bowtie2-build \\\n",
    "genomes/ol-canu-170623.fa \\\n",
    "analyses/ol-canu-170623.bowtie-index "
   ]
  },
  {
   "cell_type": "code",
   "execution_count": 20,
   "metadata": {
    "collapsed": false
   },
   "outputs": [
    {
     "name": "stdout",
     "output_type": "stream",
     "text": [
      "7200858 reads; of these:\r\n",
      "  7200858 (100.00%) were unpaired; of these:\r\n",
      "    7182354 (99.74%) aligned 0 times\r\n",
      "    8682 (0.12%) aligned exactly 1 time\r\n",
      "    9822 (0.14%) aligned >1 times\r\n",
      "0.26% overall alignment rate\r\n"
     ]
    }
   ],
   "source": [
    "!/Applications/bioinfo/bowtie2-2.2.4/bowtie2 \\\n",
    "-x analyses/ol-canu-170623.bowtie-index \\\n",
    "-U /Volumes/Alanine/wd/17-06-19/HC4-3_ACTTGA-CGTACG_L002_R1_001.fastq \\\n",
    "-p 8 \\\n",
    "--very-fast \\\n",
    "-S analyses/HC4-ol-canu-170623.sam"
   ]
  },
  {
   "cell_type": "code",
   "execution_count": null,
   "metadata": {
    "collapsed": false,
    "scrolled": false
   },
   "outputs": [],
   "source": [
    "!/Applications/bioinfo/bowtie2-2.2.4/bowtie2-build \\\n",
    "genomes/platanus_sb_01.fa \\\n",
    "analyses/platanus_sb_01.bowtie-index "
   ]
  },
  {
   "cell_type": "code",
   "execution_count": 23,
   "metadata": {
    "collapsed": false
   },
   "outputs": [
    {
     "name": "stdout",
     "output_type": "stream",
     "text": [
      "7200858 reads; of these:\r\n",
      "  7200858 (100.00%) were unpaired; of these:\r\n",
      "    7196898 (99.95%) aligned 0 times\r\n",
      "    1661 (0.02%) aligned exactly 1 time\r\n",
      "    2299 (0.03%) aligned >1 times\r\n",
      "0.05% overall alignment rate\r\n"
     ]
    }
   ],
   "source": [
    "!/Applications/bioinfo/bowtie2-2.2.4/bowtie2 \\\n",
    "-x analyses/platanus_sb_01.bowtie-index \\\n",
    "-U /Volumes/Alanine/wd/17-06-19/HC4-3_ACTTGA-CGTACG_L002_R1_001.fastq \\\n",
    "-p 8 \\\n",
    "--very-fast \\\n",
    "-S analyses/HC4-platanus_sb_01.sam"
   ]
  },
  {
   "cell_type": "code",
   "execution_count": 24,
   "metadata": {
    "collapsed": false
   },
   "outputs": [
    {
     "name": "stdout",
     "output_type": "stream",
     "text": [
      "canu_sb_01.fa         platanus_sb_02.fa     redundans_sjw_01.fa\r\n",
      "canu_sjw_01.fa        racon_sjw_01.fa       redundans_sjw_02.fa\r\n",
      "ol-canu-170623.fa     redundans_sb_01.fa    redundans_sjw_02b.fa\r\n",
      "platanus_sb_01.fa     redundans_sb_02.fa    soap_bgi_01.fa\r\n"
     ]
    }
   ],
   "source": [
    "ls genomes"
   ]
  },
  {
   "cell_type": "code",
   "execution_count": null,
   "metadata": {
    "collapsed": false
   },
   "outputs": [],
   "source": [
    "!/Applications/bioinfo/bowtie2-2.2.4/bowtie2-build \\\n",
    "genomes/platanus_sb_02.fa \\\n",
    "analyses/platanus_sb_02.bowtie-index "
   ]
  },
  {
   "cell_type": "code",
   "execution_count": 26,
   "metadata": {
    "collapsed": false
   },
   "outputs": [
    {
     "name": "stdout",
     "output_type": "stream",
     "text": [
      "7200858 reads; of these:\r\n",
      "  7200858 (100.00%) were unpaired; of these:\r\n",
      "    7113925 (98.79%) aligned 0 times\r\n",
      "    51588 (0.72%) aligned exactly 1 time\r\n",
      "    35345 (0.49%) aligned >1 times\r\n",
      "1.21% overall alignment rate\r\n"
     ]
    }
   ],
   "source": [
    "!/Applications/bioinfo/bowtie2-2.2.4/bowtie2 \\\n",
    "-x analyses/platanus_sb_02.bowtie-index \\\n",
    "-U /Volumes/Alanine/wd/17-06-19/HC4-3_ACTTGA-CGTACG_L002_R1_001.fastq \\\n",
    "-p 8 \\\n",
    "--very-fast \\\n",
    "-S analyses/HC4-platanus_sb_02.sam"
   ]
  },
  {
   "cell_type": "code",
   "execution_count": null,
   "metadata": {
    "collapsed": false
   },
   "outputs": [],
   "source": [
    "!/Applications/bioinfo/bowtie2-2.2.4/bowtie2-build \\\n",
    "genomes/racon_sjw_01.fa \\\n",
    "analyses/racon_sjw_01.bowtie-index "
   ]
  },
  {
   "cell_type": "code",
   "execution_count": 28,
   "metadata": {
    "collapsed": false
   },
   "outputs": [
    {
     "name": "stdout",
     "output_type": "stream",
     "text": [
      "7200858 reads; of these:\r\n",
      "  7200858 (100.00%) were unpaired; of these:\r\n",
      "    7184698 (99.78%) aligned 0 times\r\n",
      "    9176 (0.13%) aligned exactly 1 time\r\n",
      "    6984 (0.10%) aligned >1 times\r\n",
      "0.22% overall alignment rate\r\n"
     ]
    }
   ],
   "source": [
    "!/Applications/bioinfo/bowtie2-2.2.4/bowtie2 \\\n",
    "-x analyses/racon_sjw_01.bowtie-index \\\n",
    "-U /Volumes/Alanine/wd/17-06-19/HC4-3_ACTTGA-CGTACG_L002_R1_001.fastq \\\n",
    "-p 8 \\\n",
    "--very-fast \\\n",
    "-S analyses/HC4-racon_sjw_01.sam"
   ]
  },
  {
   "cell_type": "code",
   "execution_count": null,
   "metadata": {
    "collapsed": false
   },
   "outputs": [],
   "source": [
    "!/Applications/bioinfo/bowtie2-2.2.4/bowtie2-build \\\n",
    "genomes/redundans_sb_01.fa \\\n",
    "analyses/redundans_sb_01.bowtie-index "
   ]
  },
  {
   "cell_type": "code",
   "execution_count": 30,
   "metadata": {
    "collapsed": false,
    "scrolled": true
   },
   "outputs": [
    {
     "name": "stdout",
     "output_type": "stream",
     "text": [
      "7200858 reads; of these:\r\n",
      "  7200858 (100.00%) were unpaired; of these:\r\n",
      "    7200052 (99.99%) aligned 0 times\r\n",
      "    617 (0.01%) aligned exactly 1 time\r\n",
      "    189 (0.00%) aligned >1 times\r\n",
      "0.01% overall alignment rate\r\n"
     ]
    }
   ],
   "source": [
    "!/Applications/bioinfo/bowtie2-2.2.4/bowtie2 \\\n",
    "-x analyses/redundans_sb_01.bowtie-index \\\n",
    "-U /Volumes/Alanine/wd/17-06-19/HC4-3_ACTTGA-CGTACG_L002_R1_001.fastq \\\n",
    "-p 8 \\\n",
    "--very-fast \\\n",
    "-S analyses/HC4-redundans_sb_01.sam"
   ]
  },
  {
   "cell_type": "code",
   "execution_count": null,
   "metadata": {
    "collapsed": false,
    "scrolled": true
   },
   "outputs": [],
   "source": [
    "!/Applications/bioinfo/bowtie2-2.2.4/bowtie2-build \\\n",
    "genomes/redundans_sb_02.fa \\\n",
    "analyses/redundans_sb_02.bowtie-index "
   ]
  },
  {
   "cell_type": "code",
   "execution_count": 33,
   "metadata": {
    "collapsed": false
   },
   "outputs": [
    {
     "name": "stdout",
     "output_type": "stream",
     "text": [
      "7200858 reads; of these:\r\n",
      "  7200858 (100.00%) were unpaired; of these:\r\n",
      "    7141129 (99.17%) aligned 0 times\r\n",
      "    45511 (0.63%) aligned exactly 1 time\r\n",
      "    14218 (0.20%) aligned >1 times\r\n",
      "0.83% overall alignment rate\r\n"
     ]
    }
   ],
   "source": [
    "!/Applications/bioinfo/bowtie2-2.2.4/bowtie2 \\\n",
    "-x analyses/redundans_sb_02.bowtie-index \\\n",
    "-U /Volumes/Alanine/wd/17-06-19/HC4-3_ACTTGA-CGTACG_L002_R1_001.fastq \\\n",
    "-p 8 \\\n",
    "--very-fast \\\n",
    "-S analyses/HC4-redundans_sb_02.sam"
   ]
  },
  {
   "cell_type": "code",
   "execution_count": null,
   "metadata": {
    "collapsed": false
   },
   "outputs": [],
   "source": [
    "!/Applications/bioinfo/bowtie2-2.2.4/bowtie2-build \\\n",
    "genomes/redundans_sjw_01.fa \\\n",
    "analyses/redundans_sjw_01.bowtie-index "
   ]
  },
  {
   "cell_type": "code",
   "execution_count": 35,
   "metadata": {
    "collapsed": false
   },
   "outputs": [
    {
     "name": "stdout",
     "output_type": "stream",
     "text": [
      "7200858 reads; of these:\r\n",
      "  7200858 (100.00%) were unpaired; of these:\r\n",
      "    7185638 (99.79%) aligned 0 times\r\n",
      "    8669 (0.12%) aligned exactly 1 time\r\n",
      "    6551 (0.09%) aligned >1 times\r\n",
      "0.21% overall alignment rate\r\n"
     ]
    }
   ],
   "source": [
    "!/Applications/bioinfo/bowtie2-2.2.4/bowtie2 \\\n",
    "-x analyses/redundans_sjw_01.bowtie-index \\\n",
    "-U /Volumes/Alanine/wd/17-06-19/HC4-3_ACTTGA-CGTACG_L002_R1_001.fastq \\\n",
    "-p 8 \\\n",
    "--very-fast \\\n",
    "-S analyses/HC4-redundans_sjw_01.sam"
   ]
  },
  {
   "cell_type": "code",
   "execution_count": null,
   "metadata": {
    "collapsed": false
   },
   "outputs": [],
   "source": [
    "!/Applications/bioinfo/bowtie2-2.2.4/bowtie2-build \\\n",
    "genomes/redundans_sjw_02.fa \\\n",
    "analyses/redundans_sjw_02.bowtie-index "
   ]
  },
  {
   "cell_type": "code",
   "execution_count": 37,
   "metadata": {
    "collapsed": false
   },
   "outputs": [
    {
     "name": "stdout",
     "output_type": "stream",
     "text": [
      "7200858 reads; of these:\r\n",
      "  7200858 (100.00%) were unpaired; of these:\r\n",
      "    7179952 (99.71%) aligned 0 times\r\n",
      "    10236 (0.14%) aligned exactly 1 time\r\n",
      "    10670 (0.15%) aligned >1 times\r\n",
      "0.29% overall alignment rate\r\n"
     ]
    }
   ],
   "source": [
    "!/Applications/bioinfo/bowtie2-2.2.4/bowtie2 \\\n",
    "-x analyses/redundans_sjw_02.bowtie-index \\\n",
    "-U /Volumes/Alanine/wd/17-06-19/HC4-3_ACTTGA-CGTACG_L002_R1_001.fastq \\\n",
    "-p 8 \\\n",
    "--very-fast \\\n",
    "-S analyses/HC4-redundans_sjw_02.sam"
   ]
  },
  {
   "cell_type": "code",
   "execution_count": null,
   "metadata": {
    "collapsed": false
   },
   "outputs": [],
   "source": [
    "!/Applications/bioinfo/bowtie2-2.2.4/bowtie2-build \\\n",
    "genomes/redundans_sjw_02b.fa \\\n",
    "analyses/redundans_sjw_02b.bowtie-index "
   ]
  },
  {
   "cell_type": "code",
   "execution_count": 39,
   "metadata": {
    "collapsed": false
   },
   "outputs": [
    {
     "name": "stdout",
     "output_type": "stream",
     "text": [
      "7200858 reads; of these:\r\n",
      "  7200858 (100.00%) were unpaired; of these:\r\n",
      "    7187150 (99.81%) aligned 0 times\r\n",
      "    5733 (0.08%) aligned exactly 1 time\r\n",
      "    7975 (0.11%) aligned >1 times\r\n",
      "0.19% overall alignment rate\r\n"
     ]
    }
   ],
   "source": [
    "!/Applications/bioinfo/bowtie2-2.2.4/bowtie2 \\\n",
    "-x analyses/redundans_sjw_02b.bowtie-index \\\n",
    "-U /Volumes/Alanine/wd/17-06-19/HC4-3_ACTTGA-CGTACG_L002_R1_001.fastq \\\n",
    "-p 8 \\\n",
    "--very-fast \\\n",
    "-S analyses/HC4-redundans_sjw_02b.sam"
   ]
  },
  {
   "cell_type": "code",
   "execution_count": null,
   "metadata": {
    "collapsed": false,
    "scrolled": false
   },
   "outputs": [],
   "source": [
    "!/Applications/bioinfo/bowtie2-2.2.4/bowtie2-build \\\n",
    "genomes/soap_bgi_01.fa \\\n",
    "analyses/soap_bgi_01.bowtie-index "
   ]
  },
  {
   "cell_type": "code",
   "execution_count": 41,
   "metadata": {
    "collapsed": false
   },
   "outputs": [
    {
     "name": "stdout",
     "output_type": "stream",
     "text": [
      "7200858 reads; of these:\r\n",
      "  7200858 (100.00%) were unpaired; of these:\r\n",
      "    7139308 (99.15%) aligned 0 times\r\n",
      "    48197 (0.67%) aligned exactly 1 time\r\n",
      "    13353 (0.19%) aligned >1 times\r\n",
      "0.85% overall alignment rate\r\n"
     ]
    }
   ],
   "source": [
    "!/Applications/bioinfo/bowtie2-2.2.4/bowtie2 \\\n",
    "-x analyses/soap_bgi_01.bowtie-index \\\n",
    "-U /Volumes/Alanine/wd/17-06-19/HC4-3_ACTTGA-CGTACG_L002_R1_001.fastq \\\n",
    "-p 8 \\\n",
    "--very-fast \\\n",
    "-S analyses/HC4-soap_bgi_01.sam"
   ]
  },
  {
   "cell_type": "code",
   "execution_count": null,
   "metadata": {
    "collapsed": true
   },
   "outputs": [],
   "source": []
  }
 ],
 "metadata": {
  "kernelspec": {
   "display_name": "Python 2",
   "language": "python",
   "name": "python2"
  },
  "language_info": {
   "codemirror_mode": {
    "name": "ipython",
    "version": 2
   },
   "file_extension": ".py",
   "mimetype": "text/x-python",
   "name": "python",
   "nbconvert_exporter": "python",
   "pygments_lexer": "ipython2",
   "version": "2.7.12"
  }
 },
 "nbformat": 4,
 "nbformat_minor": 0
}
