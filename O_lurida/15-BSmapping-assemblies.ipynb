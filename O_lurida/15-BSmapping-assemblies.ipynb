{
 "cells": [
  {
   "cell_type": "code",
   "execution_count": 4,
   "metadata": {
    "collapsed": false
   },
   "outputs": [
    {
     "name": "stdout",
     "output_type": "stream",
     "text": [
      "/Volumes/Alanine/wd/17-11-03\n"
     ]
    }
   ],
   "source": [
    "cd /Volumes/Alanine/wd/17-11-03"
   ]
  },
  {
   "cell_type": "code",
   "execution_count": 2,
   "metadata": {
    "collapsed": true
   },
   "outputs": [
    {
     "name": "stdout",
     "output_type": "stream",
     "text": [
      "\r\n",
      "BSMAP v2.74\r\n",
      "Usage:\tbsmap [options]\r\n",
      "       -a  <str>   query a file, FASTA/FASTQ/BAM format\r\n",
      "       -d  <str>   reference sequences file, FASTA format\r\n",
      "       -o  <str>   output alignment file, BSP/SAM/BAM format, if omitted, the output will be written to STDOUT in SAM format.\r\n",
      "\r\n",
      "  Options for alignment:\r\n",
      "       -s  <int>   seed size, default=16(WGBS mode), 12(RRBS mode). min=8, max=16.\r\n",
      "       -v  <float> if this value is between 0 and 1, it's interpreted as the mismatch rate w.r.t to the read length.\r\n",
      "                   otherwise it's interpreted as the maximum number of mismatches allowed on a read, <=15.\r\n",
      "                   example: -v 5 (max #mismatches = 5), -v 0.1 (max #mismatches = read_length * 10%)\r\n",
      "                   default=0.08.\r\n",
      "       -g  <int>   gap size, BSMAP only allow 1 continuous gap (insert or deletion) with up to 3 nucleotides\r\n",
      "                   default=0\r\n",
      "       -w  <int>   maximum number of equal best hits to count, <=1000\r\n",
      "       -3          using 3-nucleotide mapping approach\r\n",
      "       -B  <int>   start from the Nth read or read pair, default: 1\r\n",
      "       -E  <int>   end at the Nth read or read pair, default: 4,294,967,295\r\n",
      "       -I  <int>   index interval, default=4\r\n",
      "       -k  <float> set the cut-off ratio for over-represented kmers, default=5e-07\r\n",
      "                   example: -k 1e-6 means the top 0.0001% over-represented kmer will be skipped in alignment\r\n",
      "       -p  <int>   number of processors to use, default=8\r\n",
      "       -D  <str>   activating RRBS mapping mode and set restriction enzyme digestion sites. \r\n",
      "                   digestion position marked by '-', example: -D C-CGG for MspI digestion.\r\n",
      "                   default: none (whole genome shotgun bisulfite mapping mode)\r\n",
      "       -S  <int>   seed for random number generation used in selecting multiple hits\r\n",
      "                   other seed values generate pseudo random number based on read index number, to allow reproducible mapping results. \r\n",
      "                   default=0. (get seed from system clock, mapping results not resproducible.)\r\n",
      "       -n  [0,1]   set mapping strand information. default: 0\r\n",
      "                   -n 0: only map to 2 forward strands, i.e. BSW(++) and BSC(-+), \r\n",
      "                   for PE sequencing, map read#1 to ++ and -+, read#2 to +- and --.\r\n",
      "                   -n 1: map SE or PE reads to all 4 strands, i.e. ++, +-, -+, -- \r\n",
      "       -M  <str>   set alignment information for the additional nucleotide transition. \r\n",
      "                   <str> is in the form of two different nucleotides N1N2, \r\n",
      "                   indicating N1 in the reads could be mapped to N2 in the reference sequences.\r\n",
      "                   default: -M TC, corresponds to C=>U(T) transition in bisulfite conversion. \r\n",
      "                   example: -M GA could be used to detect A=>I(G) transition in RNA editing. \r\n",
      "\r\n",
      "  Options for trimming:\r\n",
      "       -q  <int>   quality threshold in trimming, 0-40, default=0 (no trim)\r\n",
      "       -z  <int>   base quality, default=33 [Illumina is using 64, Sanger Institute is using 33]\r\n",
      "       -f  <int>   filter low-quality reads containing >n Ns, default=5\r\n",
      "       -A  <str>   3-end adapter sequence, default: none (no trim)\r\n",
      "       -L  <int>   map the first N nucleotides of the read, default:144 (map the whole read).\r\n",
      "\r\n",
      "  Options for reporting:\r\n",
      "       -r  [0,1]   how to report repeat hits, 0=none(unique hit/pair only); 1=random one, default:1.\r\n",
      "       -R          print corresponding reference sequences in SAM output, default=off\r\n",
      "       -u          report unmapped reads, default=off\r\n",
      "       -H          do not print header information in SAM format output\r\n",
      "\r\n",
      "  Options for pair-end alignment:\r\n",
      "       -b  <str>   query b file\r\n",
      "       -m  <int>   minimal insert size allowed, default=28\r\n",
      "       -x  <int>   maximal insert size allowed, default=500\r\n",
      "\r\n",
      "       -h          help\r\n",
      "\r\n"
     ]
    }
   ],
   "source": [
    "!/Applications/bioinfo/BSMAP/bsmap-2.74/bsmap"
   ]
  },
  {
   "cell_type": "code",
   "execution_count": 21,
   "metadata": {
    "collapsed": false
   },
   "outputs": [
    {
     "name": "stdout",
     "output_type": "stream",
     "text": [
      "canu_sb_01.fa         platanus_sb_02.fa     redundans_sjw_01.fa\r\n",
      "canu_sjw_01.fa        racon_sjw_01.fa       redundans_sjw_02.fa\r\n",
      "ol-canu-170623.fa     redundans_sb_01.fa    redundans_sjw_02b.fa\r\n",
      "platanus_sb_01.fa     redundans_sb_02.fa    soap_bgi_01.fa\r\n"
     ]
    }
   ],
   "source": [
    "ls genomes/"
   ]
  },
  {
   "cell_type": "code",
   "execution_count": 11,
   "metadata": {
    "collapsed": true
   },
   "outputs": [],
   "source": [
    "!/Applications/bioinfo/BSMAP/bsmap-2.74/bsmap \\\n",
    "-a zr_1-sub001.fastq \\\n",
    "-d genomes/canu_sb_01.fa \\\n",
    "-o analyses/bsmap_out_canu_sb_01.sam \\\n",
    "-p 5 \\\n",
    "2> analyses/stderr_bsmap_canu_sb_01.txt"
   ]
  },
  {
   "cell_type": "code",
   "execution_count": 13,
   "metadata": {
    "collapsed": false
   },
   "outputs": [
    {
     "name": "stdout",
     "output_type": "stream",
     "text": [
      "Total number of aligned reads: 85011 (12%)\r\n",
      "Done.\r\n",
      "Finished at Fri Nov  3 10:19:02 2017\r\n",
      "Total time consumed:  9 secs\r\n"
     ]
    }
   ],
   "source": [
    "!tail -4 analyses/stderr_bsmap_canu_sb_01.txt"
   ]
  },
  {
   "cell_type": "code",
   "execution_count": 15,
   "metadata": {
    "collapsed": false
   },
   "outputs": [
    {
     "name": "stdout",
     "output_type": "stream",
     "text": [
      "Total number of aligned reads: 60126 (8.3%)\r\n",
      "Done.\r\n",
      "Finished at Fri Nov  3 10:20:45 2017\r\n",
      "Total time consumed:  21 secs\r\n"
     ]
    }
   ],
   "source": [
    "!/Applications/bioinfo/BSMAP/bsmap-2.74/bsmap \\\n",
    "-a zr_1-sub001.fastq \\\n",
    "-d genomes/canu_sjw_01.fa \\\n",
    "-o analyses/bsmap_out_canu_sjw_01.sam \\\n",
    "-p 5 \\\n",
    "2> analyses/stderr_bsmap_canu_sjw_01.txt\n",
    "!tail -4 analyses/stderr_bsmap_canu_sjw_01.txt"
   ]
  },
  {
   "cell_type": "code",
   "execution_count": 19,
   "metadata": {
    "collapsed": false
   },
   "outputs": [
    {
     "name": "stdout",
     "output_type": "stream",
     "text": [
      "Total number of aligned reads: 88056 (12%)\r\n",
      "Done.\r\n",
      "Finished at Fri Nov  3 10:24:26 2017\r\n",
      "Total time consumed:  9 secs\r\n"
     ]
    }
   ],
   "source": [
    "!/Applications/bioinfo/BSMAP/bsmap-2.74/bsmap \\\n",
    "-a zr_1-sub001.fastq \\\n",
    "-d genomes/ol-canu-170623.fa \\\n",
    "-o analyses/bsmap_out_ol-canu-170623.sam \\\n",
    "-p 5 \\\n",
    "2> analyses/stderr_bsmap_ol-canu-170623.txt\n",
    "!tail -4 analyses/stderr_bsmap_ol-canu-170623.txt"
   ]
  },
  {
   "cell_type": "code",
   "execution_count": 20,
   "metadata": {
    "collapsed": false
   },
   "outputs": [
    {
     "name": "stdout",
     "output_type": "stream",
     "text": [
      "tail: analyses/stderr_bsmap_platanus_sb_01.txt: No such file or directory\r\n"
     ]
    }
   ],
   "source": [
    "!/Applications/bioinfo/BSMAP/bsmap-2.74/bsmap \\\n",
    "-a zr_1-sub001.fastq \\\n",
    "-d genomes/platanus_sb_01.fa \\\n",
    "-o analyses/bsmap_out_platanus_sb_01.sam \\\n",
    "-p 5 \\\n",
    "2> analyses/stderr_bsmap-cplatanus_sb_01.txt\n"
   ]
  },
  {
   "cell_type": "code",
   "execution_count": 23,
   "metadata": {
    "collapsed": false
   },
   "outputs": [
    {
     "name": "stdout",
     "output_type": "stream",
     "text": [
      "Total number of aligned reads: 3127 (0.43%)\r\n",
      "Done.\r\n",
      "Finished at Fri Nov  3 10:51:14 2017\r\n",
      "Total time consumed:  1463 secs\r\n"
     ]
    }
   ],
   "source": [
    "!tail -4 analyses/stderr_bsmap-cplatanus_sb_01.txt"
   ]
  },
  {
   "cell_type": "code",
   "execution_count": null,
   "metadata": {
    "collapsed": true
   },
   "outputs": [],
   "source": [
    "!/Applications/bioinfo/BSMAP/bsmap-2.74/bsmap \\\n",
    "-a zr_1-sub001.fastq \\\n",
    "-d genomes/platanus_sb_02.fa \\\n",
    "-o analyses/bsmap_out_platanus_sb_02.sam \\\n",
    "-p 5 \\\n",
    "2> analyses/stderr_bsmap-platanus_sb_02.txt\n",
    "!tail -4 analyses/stderr_bsmap_platanus_sb_02.txt"
   ]
  },
  {
   "cell_type": "code",
   "execution_count": null,
   "metadata": {
    "collapsed": true
   },
   "outputs": [],
   "source": [
    "ls genomes/"
   ]
  },
  {
   "cell_type": "code",
   "execution_count": null,
   "metadata": {
    "collapsed": true
   },
   "outputs": [],
   "source": [
    "!/Applications/bioinfo/BSMAP/bsmap-2.74/bsmap \\\n",
    "-a zr_1-sub001.fastq \\\n",
    "-d genomes/racon_sjw_01.fa \\\n",
    "-o analyses/bsmap_out_racon_sjw_01.sam \\\n",
    "-p 5 \\\n",
    "2> analyses/stderr_bsmap-racon_sjw_01.txt\n",
    "!tail -4 analyses/stderr_bsmap_racon_sjw_01.txt"
   ]
  },
  {
   "cell_type": "code",
   "execution_count": null,
   "metadata": {
    "collapsed": true
   },
   "outputs": [],
   "source": []
  }
 ],
 "metadata": {
  "kernelspec": {
   "display_name": "Python 2",
   "language": "python",
   "name": "python2"
  },
  "language_info": {
   "codemirror_mode": {
    "name": "ipython",
    "version": 2
   },
   "file_extension": ".py",
   "mimetype": "text/x-python",
   "name": "python",
   "nbconvert_exporter": "python",
   "pygments_lexer": "ipython2",
   "version": "2.7.12"
  }
 },
 "nbformat": 4,
 "nbformat_minor": 0
}
