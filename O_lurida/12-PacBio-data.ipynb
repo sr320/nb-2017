{
 "cells": [
  {
   "cell_type": "markdown",
   "metadata": {},
   "source": [
    "<img src=\"http://eagle.fish.washington.edu/cnidarian/skitch/17-09-12_1F6881AC.png\" alt=\"17-09-12_1F6881AC.png\"/>"
   ]
  },
  {
   "cell_type": "code",
   "execution_count": 2,
   "metadata": {
    "collapsed": false
   },
   "outputs": [
    {
     "name": "stdout",
     "output_type": "stream",
     "text": [
      "/Volumes/Alanine/wd/17-09-12\n"
     ]
    }
   ],
   "source": [
    "cd /Volumes/Alanine/wd/17-09-12/"
   ]
  },
  {
   "cell_type": "code",
   "execution_count": 7,
   "metadata": {
    "collapsed": false
   },
   "outputs": [
    {
     "name": "stdout",
     "output_type": "stream",
     "text": [
      "m170-all.fa\n",
      "m170-all.fastq\n",
      "\u001b[31mm170211_224036_42134_c101073082550000001823236402101737_s1_X0_filtered_subreads.fastq\u001b[m\u001b[m*\n",
      "\u001b[31mm170301_100013_42134_c101174162550000001823269408211761_s1_p0_filtered_subreads.fastq\u001b[m\u001b[m*\n",
      "\u001b[31mm170301_162825_42134_c101174162550000001823269408211762_s1_p0_filtered_subreads.fastq\u001b[m\u001b[m*\n",
      "\u001b[31mm170301_225711_42134_c101174162550000001823269408211763_s1_p0_filtered_subreads.fastq\u001b[m\u001b[m*\n",
      "\u001b[31mm170308_163922_42134_c101174252550000001823269408211742_s1_p0_filtered_subreads.fastq\u001b[m\u001b[m*\n",
      "\u001b[31mm170308_230815_42134_c101174252550000001823269408211743_s1_p0_filtered_subreads.fastq\u001b[m\u001b[m*\n",
      "\u001b[31mm170315_001112_42134_c101169372550000001823273008151717_s1_p0_filtered_subreads.fastq\u001b[m\u001b[m*\n",
      "\u001b[31mm170315_063041_42134_c101169382550000001823273008151700_s1_p0_filtered_subreads.fastq\u001b[m\u001b[m*\n",
      "\u001b[31mm170315_124938_42134_c101169382550000001823273008151701_s1_p0_filtered_subreads.fastq\u001b[m\u001b[m*\n",
      "\u001b[31mm170315_190851_42134_c101169382550000001823273008151702_s1_p0_filtered_subreads.fastq\u001b[m\u001b[m*\n"
     ]
    }
   ],
   "source": [
    "ls"
   ]
  },
  {
   "cell_type": "code",
   "execution_count": 4,
   "metadata": {
    "collapsed": true
   },
   "outputs": [],
   "source": [
    "!gunzip *"
   ]
  },
  {
   "cell_type": "code",
   "execution_count": 5,
   "metadata": {
    "collapsed": true
   },
   "outputs": [],
   "source": [
    "!cat *.fastq > m170-all.fastq"
   ]
  },
  {
   "cell_type": "code",
   "execution_count": 6,
   "metadata": {
    "collapsed": true
   },
   "outputs": [],
   "source": [
    "!cat m170-all.fastq | awk 'NR%4==1{printf \">%s\\n\", substr($0,2)}NR%4==2{print}' > m170-all.fa"
   ]
  },
  {
   "cell_type": "code",
   "execution_count": 13,
   "metadata": {
    "collapsed": false
   },
   "outputs": [
    {
     "name": "stdout",
     "output_type": "stream",
     "text": [
      "\r\n",
      "0:9999 \t1432866\r\n",
      "10000:19999 \t310387\r\n",
      "20000:29999 \t32184\r\n",
      "30000:39999 \t3849\r\n",
      "40000:49999 \t563\r\n",
      "50000:59999 \t60\r\n",
      "60000:69999 \t8\r\n",
      "\r\n",
      "Total length of sequence:\t12591188319 bp\r\n",
      "Total number of sequences:\t1779917\r\n",
      "N25 stats:\t\t\t25% of total sequence length is contained in the 181750 sequences >= 12785 bp\r\n",
      "N50 stats:\t\t\t50% of total sequence length is contained in the 486270 sequences >= 8657 bp\r\n",
      "N75 stats:\t\t\t75% of total sequence length is contained in the 912149 sequences >= 6401 bp\r\n",
      "Total GC count:\t\t\t4720472838 bp\r\n",
      "GC %:\t\t\t\t37.49 %\r\n",
      "\r\n"
     ]
    }
   ],
   "source": [
    "!perl /Users/sr320/git-repos/nb-2017/scripts/count_fasta.pl -i 10000 \\\n",
    "m170-all.fa"
   ]
  },
  {
   "cell_type": "code",
   "execution_count": 9,
   "metadata": {
    "collapsed": false
   },
   "outputs": [
    {
     "name": "stdout",
     "output_type": "stream",
     "text": [
      "1779917\r\n"
     ]
    }
   ],
   "source": [
    "!grep -c '>' m170-all.fa\n"
   ]
  },
  {
   "cell_type": "markdown",
   "metadata": {},
   "source": [
    "<img src=\"http://eagle.fish.washington.edu/cnidarian/skitch/technote_coverage_calculation_pdf_1F688600.png\" alt=\"technote_coverage_calculation_pdf_1F688600.png\"/>"
   ]
  },
  {
   "cell_type": "code",
   "execution_count": 17,
   "metadata": {
    "collapsed": false
   },
   "outputs": [
    {
     "data": {
      "text/plain": [
       "2"
      ]
     },
     "execution_count": 17,
     "metadata": {},
     "output_type": "execute_result"
    }
   ],
   "source": [
    "9000*779917/3000000000"
   ]
  },
  {
   "cell_type": "code",
   "execution_count": 24,
   "metadata": {
    "collapsed": false
   },
   "outputs": [
    {
     "data": {
      "text/plain": [
       "u'/Volumes/Alanine/wd/17-09-12'"
      ]
     },
     "execution_count": 24,
     "metadata": {},
     "output_type": "execute_result"
    }
   ],
   "source": [
    "pwd"
   ]
  },
  {
   "cell_type": "code",
   "execution_count": 26,
   "metadata": {
    "collapsed": false
   },
   "outputs": [
    {
     "name": "stdout",
     "output_type": "stream",
     "text": [
      "Traceback (most recent call last):\r\n",
      "  File \"/Applications/bioinfo/quickmerge/merge_wrapper.py\", line 150, in <module>\r\n",
      "    subprocess.call(['nucmer','-l','100','-prefix',str(prefix),str(selfpath),str(hypath)])\r\n",
      "  File \"/Users/sr320/anaconda/lib/python2.7/subprocess.py\", line 523, in call\r\n",
      "    return Popen(*popenargs, **kwargs).wait()\r\n",
      "  File \"/Users/sr320/anaconda/lib/python2.7/subprocess.py\", line 711, in __init__\r\n",
      "    errread, errwrite)\r\n",
      "  File \"/Users/sr320/anaconda/lib/python2.7/subprocess.py\", line 1343, in _execute_child\r\n",
      "    raise child_exception\r\n",
      "OSError: [Errno 2] No such file or directory\r\n"
     ]
    }
   ],
   "source": [
    "!python /Applications/bioinfo/quickmerge/merge_wrapper.py \\\n",
    "/Users/sr320/git-repos/nb-2017/O_lurida/data/ol-canu-170623.fa \\\n",
    "/Volumes/web/halfshell/working-directory/17-09-10/ol-bgisoap-161129.fa"
   ]
  },
  {
   "cell_type": "code",
   "execution_count": 23,
   "metadata": {
    "collapsed": false
   },
   "outputs": [
    {
     "name": "stdout",
     "output_type": "stream",
     "text": [
      "usage: merge_wrapper.py [-h] [-pre PREFIX] [-hco HCO] [-c C]\r\n",
      "                        [-l LENGTH_CUTOFF] [--no_nucmer] [--no_delta]\r\n",
      "                        [--stop_after_nucmer] [--stop_after_df]\r\n",
      "                        [-lm LENGTH_MINIMUM] [--clean_only]\r\n",
      "                        hybrid_assembly_fasta self_assembly_fasta\r\n",
      "\r\n",
      "run mummer and the merge program.\r\n",
      "\r\n",
      "positional arguments:\r\n",
      "  hybrid_assembly_fasta\r\n",
      "                        the output of a hybrid assembly program such as\r\n",
      "                        DBG2OLC\r\n",
      "  self_assembly_fasta   the output of a self assembly program such as PBcR\r\n",
      "\r\n",
      "optional arguments:\r\n",
      "  -h, --help            show this help message and exit\r\n",
      "  -pre PREFIX, --prefix PREFIX\r\n",
      "                        the prefix for all output files\r\n",
      "  -hco HCO, --hco HCO   the quickmerge hco parameter (default=5.0)\r\n",
      "  -c C, --c C           the quickmerge c parameter (default=1.5)\r\n",
      "  -l LENGTH_CUTOFF, --length_cutoff LENGTH_CUTOFF\r\n",
      "                        minimum seed contig length to be merged (default=0)\r\n",
      "  --no_nucmer           skip the nucmer step\r\n",
      "  --no_delta            skip the nucmer and delta-filter steps\r\n",
      "  --stop_after_nucmer   do not perform the delta-filter and merger steps\r\n",
      "  --stop_after_df       do not perform the merger step\r\n",
      "  -lm LENGTH_MINIMUM, --length_minimum LENGTH_MINIMUM\r\n",
      "                        set the minimum alignment length necessary for use in\r\n",
      "                        quickmerge (default 0)\r\n",
      "  --clean_only          generate safe FASTA files for merging, but do not\r\n",
      "                        merge\r\n"
     ]
    }
   ],
   "source": [
    "!python /Applications/bioinfo/quickmerge/merge_wrapper.py -h"
   ]
  },
  {
   "cell_type": "code",
   "execution_count": null,
   "metadata": {
    "collapsed": true
   },
   "outputs": [],
   "source": []
  }
 ],
 "metadata": {
  "kernelspec": {
   "display_name": "Python 2",
   "language": "python",
   "name": "python2"
  },
  "language_info": {
   "codemirror_mode": {
    "name": "ipython",
    "version": 2
   },
   "file_extension": ".py",
   "mimetype": "text/x-python",
   "name": "python",
   "nbconvert_exporter": "python",
   "pygments_lexer": "ipython2",
   "version": "2.7.12"
  }
 },
 "nbformat": 4,
 "nbformat_minor": 0
}
