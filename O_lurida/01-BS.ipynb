{
 "cells": [
  {
   "cell_type": "markdown",
   "metadata": {},
   "source": [
    "We have two datasets:\n",
    "    \n",
    "a) MBD-enriched and bisulfite-treated DNA from two parent populations, both grown out in Clam Bay (Manchester):\n",
    "\n",
    "Hood Canal (HC)\n",
    "Oyster Bay (SS/South Sound)\n",
    "\n",
    "b) Bisulfite-treated DNA from Fidalgo Bay broodstock offspring, grown out at two locations:\n",
    "\n",
    "Fidalgo Bay (1NF)\n",
    "Oyster Bay (2NF)\n"
   ]
  },
  {
   "cell_type": "code",
   "execution_count": null,
   "metadata": {
    "collapsed": true
   },
   "outputs": [],
   "source": []
  }
 ],
 "metadata": {
  "kernelspec": {
   "display_name": "Python 2",
   "language": "python",
   "name": "python2"
  },
  "language_info": {
   "codemirror_mode": {
    "name": "ipython",
    "version": 2
   },
   "file_extension": ".py",
   "mimetype": "text/x-python",
   "name": "python",
   "nbconvert_exporter": "python",
   "pygments_lexer": "ipython2",
   "version": "2.7.12"
  }
 },
 "nbformat": 4,
 "nbformat_minor": 0
}
