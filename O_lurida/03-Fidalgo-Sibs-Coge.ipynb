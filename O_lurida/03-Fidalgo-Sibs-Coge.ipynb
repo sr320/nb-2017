{
 "cells": [
  {
   "cell_type": "markdown",
   "metadata": {},
   "source": [
    "# Looking at CoGe data - Bismarck"
   ]
  },
  {
   "cell_type": "markdown",
   "metadata": {},
   "source": [
    "<img src=\"http://eagle.fish.washington.edu/cnidarian/skitch/CoGe__ExperimentView_1E7B2720.png\" alt=\"CoGe__ExperimentView_1E7B2720.png\"/>"
   ]
  },
  {
   "cell_type": "code",
   "execution_count": 1,
   "metadata": {
    "collapsed": false
   },
   "outputs": [
    {
     "name": "stdout",
     "output_type": "stream",
     "text": [
      "-part.txt                       metadata.json\r\n",
      "\u001b[31mCpG.filtered.coge.csv\u001b[m\u001b[m           start\r\n",
      "CpG.filtered.coge.csv.processed start.idx\r\n",
      "README.txt                      stop\r\n",
      "annotations.csv                 stop.idx\r\n",
      "chr                             strand\r\n",
      "chr.dic                         strand.idx\r\n",
      "chr.idx                         value1\r\n",
      "chr.int                         value1.idx\r\n",
      "format.json                     value2\r\n",
      "info.csv                        value2.idx\r\n"
     ]
    }
   ],
   "source": [
    "!ls /Users/sr320/git-repos/nb-2017/O_lurida/analyses/experiment_7869"
   ]
  },
  {
   "cell_type": "code",
   "execution_count": 2,
   "metadata": {
    "collapsed": false
   },
   "outputs": [
    {
     "name": "stdout",
     "output_type": "stream",
     "text": [
      "scaffold9340,70191,70191,1,0.0,11\r",
      "\r\n",
      "scaffold9340,9732,9732,-1,0.7684210526315789,95\r",
      "\r\n",
      "scaffold9340,34757,34757,1,0.17391304347826086,115\r",
      "\r\n",
      "scaffold9340,57731,57731,-1,0.7058823529411765,17\r",
      "\r\n",
      "scaffold9340,24328,24328,1,0.0,7\r",
      "\r\n",
      "scaffold9340,57027,57027,-1,0.0,11\r",
      "\r\n",
      "scaffold9340,56920,56920,-1,0.06060606060606061,33\r",
      "\r\n",
      "scaffold9340,70308,70308,1,0.14285714285714285,7\r",
      "\r\n",
      "scaffold9340,34736,34736,1,0.3,50\r",
      "\r\n",
      "scaffold9340,96370,96370,1,0.0,8\r",
      "\r\n"
     ]
    }
   ],
   "source": [
    "!head /Users/sr320/git-repos/nb-2017/O_lurida/analyses/experiment_7869/CpG.filtered.coge.csv.processed"
   ]
  },
  {
   "cell_type": "markdown",
   "metadata": {},
   "source": [
    "`#CHR,POSITION,POSITION,STRAND,METHYLATION(0-1),DEPTH`\n"
   ]
  },
  {
   "cell_type": "markdown",
   "metadata": {},
   "source": [
    "methykit fmt\n",
    "\n",
    "```\n",
    "chr.Base\tchr\tbase\tstrand\tcoverage\tfreqC\tfreqT\n",
    "scaffold1.33\tscaffold1\t33\tF\t3\t0.00\t100.00\n",
    "scaffold1.143\tscaffold1\t143\tF\t4\t0.00\t100.00\n",
    "scaffold1.244\tscaffold1\t244\tF\t3\t66.67\t33.33\n",
    "scaffold1.265\tscaffold1\t265\tF\t7\t14.29\t85.71\n",
    "scaffold1.579\tscaffold1\t579\tF\t4\t0.00\t100.00\n",
    "scaffold1.591\tscaffold1\t591\tF\t4\t0.00\t100.00\n",
    "scaffold1.622\tscaffold1\t622\tF\t4\t0.00\t100.00\n",
    "scaffold1.641\tscaffold1\t641\tF\t3\t66.67\t33.33\n",
    "scaffold1.723\tscaffold1\t723\tF\t3\t0.00\t100.00\n",
    "\n",
    "```"
   ]
  },
  {
   "cell_type": "markdown",
   "metadata": {},
   "source": [
    "<img src=\"http://eagle.fish.washington.edu/cnidarian/skitch/CoGe__My_Data_1E7B29BC.png\" alt=\"CoGe__My_Data_1E7B29BC.png\"/>"
   ]
  },
  {
   "cell_type": "code",
   "execution_count": null,
   "metadata": {
    "collapsed": true
   },
   "outputs": [],
   "source": []
  }
 ],
 "metadata": {
  "kernelspec": {
   "display_name": "Python 2",
   "language": "python",
   "name": "python2"
  },
  "language_info": {
   "codemirror_mode": {
    "name": "ipython",
    "version": 2
   },
   "file_extension": ".py",
   "mimetype": "text/x-python",
   "name": "python",
   "nbconvert_exporter": "python",
   "pygments_lexer": "ipython2",
   "version": "2.7.12"
  }
 },
 "nbformat": 4,
 "nbformat_minor": 0
}
