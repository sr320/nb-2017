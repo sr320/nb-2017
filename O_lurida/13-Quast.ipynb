{
 "cells": [
  {
   "cell_type": "code",
   "execution_count": 4,
   "metadata": {
    "collapsed": false
   },
   "outputs": [
    {
     "name": "stdout",
     "output_type": "stream",
     "text": [
      "QUAST: QUality ASsessment Tool for Genome Assemblies\n",
      "Version: 4.5\n",
      "\n",
      "Usage: python /Applications/bioinfo/quast-4.5/quast.py [options] <files_with_contigs>\n",
      "\n",
      "Options:\n",
      "-o  --output-dir  <dirname>   Directory to store all result files [default: quast_results/results_<datetime>]\n",
      "-R                <filename>  Reference genome file\n",
      "-G  --genes       <filename>  File with gene coordinates in the reference (GFF, BED, NCBI or TXT)\n",
      "-m  --min-contig  <int>       Lower threshold for contig length [default: 500]\n",
      "-t  --threads     <int>       Maximum number of threads [default: 25% of CPUs]\n",
      "\n",
      "These are basic options. To see the full list, use --help\n",
      "\n"
     ]
    }
   ],
   "source": [
    "!python /Applications/bioinfo/quast-4.5/quast.py"
   ]
  },
  {
   "cell_type": "code",
   "execution_count": 7,
   "metadata": {
    "collapsed": false
   },
   "outputs": [
    {
     "name": "stdout",
     "output_type": "stream",
     "text": [
      "/Applications/bioinfo/quast-4.5/quast.py -t 8 -o /Volumes/Alanine/wd/17-09-13/ /Users/sr320/git-repos/nb-2017/O_lurida/data/ol-canu-170623.fa /Volumes/web/halfshell/working-directory/17-09-10/ol-bgisoap-161129.fa /Volumes/web/halfshell/working-directory/17-09-10/ol-redundans-170608.fa\n",
      "\n",
      "Version: 4.5\n",
      "\n",
      "System information:\n",
      "  OS: Darwin-14.5.0-x86_64-i386-64bit (macosx)\n",
      "  Python version: 2.7.12\n",
      "  CPUs number: 8\n",
      "\n",
      "Started: 2017-09-13 09:06:24\n",
      "\n",
      "Logging to /Volumes/Alanine/wd/17-09-13/quast.log\n",
      "NOTICE: Output directory already exists. Existing Nucmer alignments can be used\n",
      "\n",
      "CWD: /Users/sr320/git-repos/nb-2017/O_lurida\n",
      "Main parameters: \n",
      "  Threads: 8, minimum contig length: 500, ambiguity: one, threshold for extensive misassembly size: 1000\n",
      "\n",
      "Contigs:\n",
      "  Pre-processing...\n",
      "  1  /Users/sr320/git-repos/nb-2017/O_lurida/data/ol-canu-170623.fa ==> ol-canu-170623\n",
      "  2  /Volumes/web/halfshell/working-directory/17-09-10/ol-bgisoap-161129.fa ==> ol-bgisoap-161129\n",
      "  3  /Volumes/web/halfshell/working-directory/17-09-10/ol-redundans-170608.fa ==> ol-redundans-170608\n",
      "\n",
      "2017-09-13 09:07:39\n",
      "Running Basic statistics processor...\n",
      "  Contig files: \n",
      "    1  ol-canu-170623\n",
      "    2  ol-bgisoap-161129\n",
      "    3  ol-redundans-170608\n",
      "  Calculating N50 and L50...\n",
      "    1  ol-canu-170623, N50 = 14126, L50 = 1230, Total length = 46364927, GC % = 36.53, # N's per 100 kbp =  0.00\n",
      "    2  ol-bgisoap-161129, N50 = 4204, L50 = 43989, Total length = 697528655, GC % = 35.83, # N's per 100 kbp =  19149.50\n",
      "    3  ol-redundans-170608, N50 = 4175, L50 = 32022, Total length = 513841258, GC % = 35.90, # N's per 100 kbp =  1019.31\n",
      "  Drawing Nx plot...\n",
      "    saved to /Volumes/Alanine/wd/17-09-13/basic_stats/Nx_plot.pdf\n",
      "  Drawing cumulative plot...\n",
      "    saved to /Volumes/Alanine/wd/17-09-13/basic_stats/cumulative_plot.pdf\n",
      "  Drawing GC content plot...\n",
      "    saved to /Volumes/Alanine/wd/17-09-13/basic_stats/GC_content_plot.pdf\n",
      "  Drawing ol-canu-170623 GC content plot...\n",
      "    saved to /Volumes/Alanine/wd/17-09-13/basic_stats/ol-canu-170623_GC_content_plot.pdf\n",
      "  Drawing ol-bgisoap-161129 GC content plot...\n",
      "    saved to /Volumes/Alanine/wd/17-09-13/basic_stats/ol-bgisoap-161129_GC_content_plot.pdf\n",
      "  Drawing ol-redundans-170608 GC content plot...\n",
      "    saved to /Volumes/Alanine/wd/17-09-13/basic_stats/ol-redundans-170608_GC_content_plot.pdf\n",
      "Done.\n",
      "\n",
      "NOTICE: Genes are not predicted by default. Use --gene-finding option to enable it.\n",
      "\n",
      "2017-09-13 09:09:14\n",
      "Creating large visual summaries...\n",
      "This may take a while: press Ctrl-C to skip this step..\n",
      "  1 of 2: Creating Icarus viewers...\n",
      "  2 of 2: Creating PDF with all tables and plots...\n",
      "Done\n",
      "\n",
      "2017-09-13 09:09:45\n",
      "RESULTS:\n",
      "  Text versions of total report are saved to /Volumes/Alanine/wd/17-09-13/report.txt, report.tsv, and report.tex\n",
      "  Text versions of transposed total report are saved to /Volumes/Alanine/wd/17-09-13/transposed_report.txt, transposed_report.tsv, and transposed_report.tex\n",
      "  HTML version (interactive tables and plots) saved to /Volumes/Alanine/wd/17-09-13/report.html\n",
      "  PDF version (tables and plots) is saved to /Volumes/Alanine/wd/17-09-13/report.pdf\n",
      "  Icarus (contig browser) is saved to /Volumes/Alanine/wd/17-09-13/icarus.html\n",
      "  Log saved to /Volumes/Alanine/wd/17-09-13/quast.log\n",
      "\n",
      "Finished: 2017-09-13 09:09:45\n",
      "Elapsed time: 0:03:21.006471\n",
      "NOTICEs: 2; WARNINGs: 0; non-fatal ERRORs: 0\n",
      "\n",
      "Thank you for using QUAST!\n"
     ]
    }
   ],
   "source": [
    "!python /Applications/bioinfo/quast-4.5/quast.py \\\n",
    "-t 8 \\\n",
    "-o /Volumes/Alanine/wd/17-09-13/ \\\n",
    "/Users/sr320/git-repos/nb-2017/O_lurida/data/ol-canu-170623.fa \\\n",
    "/Volumes/web/halfshell/working-directory/17-09-10/ol-bgisoap-161129.fa \\\n",
    "/Volumes/web/halfshell/working-directory/17-09-10/ol-redundans-170608.fa"
   ]
  },
  {
   "cell_type": "code",
   "execution_count": null,
   "metadata": {
    "collapsed": true
   },
   "outputs": [],
   "source": []
  }
 ],
 "metadata": {
  "kernelspec": {
   "display_name": "Python 2",
   "language": "python",
   "name": "python2"
  },
  "language_info": {
   "codemirror_mode": {
    "name": "ipython",
    "version": 2
   },
   "file_extension": ".py",
   "mimetype": "text/x-python",
   "name": "python",
   "nbconvert_exporter": "python",
   "pygments_lexer": "ipython2",
   "version": "2.7.12"
  }
 },
 "nbformat": 4,
 "nbformat_minor": 0
}
