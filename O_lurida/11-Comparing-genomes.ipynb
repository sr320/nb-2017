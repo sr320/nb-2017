{
 "cells": [
  {
   "cell_type": "markdown",
   "metadata": {},
   "source": [
    "Sam has compiled the current status of Olympia oyster genome assemblies [here](http://faculty.washington.edu/sr320/?p=13567). I am going to try to assess differences. \n",
    "\n",
    "Metassembler approach seemed not to produce anything.\n",
    "\n",
    "Canu which is PacBio only, created a fasta post Pilon polishing.\n",
    "Renaming `oly_polished_.fasta` to `ol-canu-170623.fa` "
   ]
  },
  {
   "cell_type": "code",
   "execution_count": 1,
   "metadata": {},
   "outputs": [
    {
     "data": {
      "text/plain": [
       "u'/Users/sr320/git-repos/nb-2017/O_lurida'"
      ]
     },
     "execution_count": 1,
     "metadata": {},
     "output_type": "execute_result"
    }
   ],
   "source": [
    "pwd"
   ]
  },
  {
   "cell_type": "code",
   "execution_count": 2,
   "metadata": {},
   "outputs": [
    {
     "name": "stdout",
     "output_type": "stream",
     "text": [
      "/Users/sr320/git-repos/nb-2017/O_lurida/data\n"
     ]
    }
   ],
   "source": [
    "cd data/"
   ]
  },
  {
   "cell_type": "code",
   "execution_count": 5,
   "metadata": {},
   "outputs": [
    {
     "name": "stdout",
     "output_type": "stream",
     "text": [
      "  % Total    % Received % Xferd  Average Speed   Time    Time     Time  Current\n",
      "                                 Dload  Upload   Total   Spent    Left  Speed\n",
      "100 44.8M  100 44.8M    0     0  1117k      0  0:00:41  0:00:41 --:--:-- 1292k  0   570k      0  0:01:20  0:00:17  0:01:03 1232k   0  0:01:12  0:00:18  0:00:54 1369k\n"
     ]
    }
   ],
   "source": [
    "!curl -O http://owl.fish.washington.edu/scaphapoda/Sean/Oly_Canu_Output/Polished_genome/oly_polished_.fasta"
   ]
  },
  {
   "cell_type": "code",
   "execution_count": 6,
   "metadata": {},
   "outputs": [
    {
     "name": "stdout",
     "output_type": "stream",
     "text": [
      "SS2-test-fastq.gz    oly_polished_.fasta\r\n"
     ]
    }
   ],
   "source": [
    "ls\n"
   ]
  },
  {
   "cell_type": "code",
   "execution_count": 8,
   "metadata": {},
   "outputs": [
    {
     "name": "stdout",
     "output_type": "stream",
     "text": [
      ">tig00000006_pilon\r\n",
      "TTTTTGAAAAGTAGGCCAAACATCAAGGTCAGGAGGTCAAAAATTTTGGTACCCACGGAAATGTCTTGACATAAGAAACA\r\n",
      "TACATGTGAAATATCAAAGCCCTAGTGCTTACCATTCAAAAGTTATAGCTAAGGTTAAAGTTTTTGAAAAGTAGGCCAAA\r\n",
      "CATCATGGTCAGGAGGTCAAAACTTTTGGTACCCACGGAAAGGTCTTGACATAAGGAACACACATGTGGAATTTCAAAGC\r\n",
      "CCTAGTACTTACCATTCAAAAGTTATAGCCAAGGTTAAAGTTTCAGACAGAAGGACAGACAGGACAAAAACAATATGCCC\r\n",
      "CCGATCTTCGATCACGGGGGCATAAAAAATCAAATCAAAAGAAAAGTACGAACATGTACCATCTATCCTTCTGTATTTCA\r\n",
      "TAATACCAAAAGTAATAAAAGAATTAAAAAGGTCACACGAGGAATGTTTTGGTTCAAGCTCACAAAGTTTGTAACGAAAT\r\n",
      "TGTTTTTCTTTGTAAGGTTCATTATTACAACTTTGCTGGATCCAGCAAATGTTCTAGCAAACCCCAACCCGTGGGGGTCC\r\n",
      "GGGTTAGAATAGGCCCCCAGCATCCTTTTGCGTGTCGTAGCAGGCGATTGAATGGAGCGGTCATTCGGATGAGACCGGAA\r\n",
      "AAACCGAGGCTCCATGTCACAGCAGGTGTGGCACGAAAAAGATCCCCCCTGCTCAAAGGTACTGAGTGCCGAGCATAGGC\r\n"
     ]
    }
   ],
   "source": [
    "!head oly_polished_.fasta"
   ]
  },
  {
   "cell_type": "code",
   "execution_count": 12,
   "metadata": {
    "collapsed": true
   },
   "outputs": [],
   "source": [
    "cp oly_polished_.fasta ol-canu-170623.fa"
   ]
  },
  {
   "cell_type": "code",
   "execution_count": 13,
   "metadata": {},
   "outputs": [
    {
     "name": "stdout",
     "output_type": "stream",
     "text": [
      "3388\r\n"
     ]
    }
   ],
   "source": [
    "!fgrep -c \">\" ol-canu-170623.fa"
   ]
  },
  {
   "cell_type": "code",
   "execution_count": 16,
   "metadata": {},
   "outputs": [
    {
     "name": "stdout",
     "output_type": "stream",
     "text": [
      "  % Total    % Received % Xferd  Average Speed   Time    Time     Time  Current\n",
      "                                 Dload  Upload   Total   Spent    Left  Speed\n",
      "  0  531M    0  407k    0     0   1387      0   4d 15h  0:05:00   4d 15h     0 0:00:33   4d 07h  8605    0   1719      0 90:02:59  0:04:02 89:58:57     00:04:30   4d 04h     0 1486      0   4d 08h  0:04:40   4d 08h     0curl: (56) Recv failure: Connection reset by peer\n"
     ]
    }
   ],
   "source": [
    "!curl -O http://owl.fish.washington.edu/scaphapoda/Sean/Oly_Redundans_Output_Try_2/scaffolds.reduced.fa"
   ]
  },
  {
   "cell_type": "code",
   "execution_count": 17,
   "metadata": {},
   "outputs": [
    {
     "name": "stdout",
     "output_type": "stream",
     "text": [
      "  % Total    % Received % Xferd  Average Speed   Time    Time     Time  Current\n",
      "                                 Dload  Upload   Total   Spent    Left  Speed\n",
      "100  531M  100  531M    0     0  1028k      0  0:08:49  0:08:49 --:--:--  966k0 --:--:--  0:00:12 --:--:--     0 0:27:56  842k   0  0:12:01  0:01:53  0:10:08  862k9k      0  0:11:47  0:01:57  0:09:50 1152k122M    0     0   847k      0  0:10:42  0:02:27  0:08:15 326420   988k      0  0:09:10  0:03:23  0:05:47 1242k    0  0:09:17  0:03:36  0:05:41  795kk      0  0:09:25  0:03:44  0:05:41  609k 0:09:28  0:04:01  0:05:27  611k:18 1240k 0     0   994k      0  0:09:07  0:07:11  0:01:56 1128k\n"
     ]
    }
   ],
   "source": [
    "!curl -O http://owl.fish.washington.edu/halfshell/working-directory/17-09-10/ol-redundans-170608.fa"
   ]
  },
  {
   "cell_type": "code",
   "execution_count": 18,
   "metadata": {},
   "outputs": [
    {
     "name": "stdout",
     "output_type": "stream",
     "text": [
      "SS2-test-fastq.gz       ol-redundans-170608.fa  pg-canu-170623.fa\r\n",
      "ol-canu-170623.fa       oly_polished_.fasta     scaffolds.reduced.fa\r\n"
     ]
    }
   ],
   "source": [
    "ls"
   ]
  },
  {
   "cell_type": "code",
   "execution_count": 24,
   "metadata": {},
   "outputs": [
    {
     "name": "stdout",
     "output_type": "stream",
     "text": [
      "  % Total    % Received % Xferd  Average Speed   Time    Time     Time  Current\n",
      "                                 Dload  Upload   Total   Spent    Left  Speed\n",
      "100  754M  100  754M    0     0   966k      0  0:13:18  0:13:18 --:--:--  445k  0:11:05  0:01:19  0:09:46 1343k  1405k      0  0:09:09  0:03:16  0:05:53 1906k0  1150k      0  0:11:11  0:04:50  0:06:21  61372k      0  0:12:27  0:05:33  0:06:54  853k   0  0:12:58  0:06:14  0:06:44  710kk      0  0:12:59  0:07:09  0:05:50 1033k 0   996k      0  0:12:54  0:11:46  0:01:08  334k\n"
     ]
    }
   ],
   "source": [
    "!curl -O http://owl.fish.washington.edu/halfshell/working-directory/17-09-10/ol-bgisoap-161129.fa"
   ]
  },
  {
   "cell_type": "code",
   "execution_count": 21,
   "metadata": {},
   "outputs": [
    {
     "name": "stdout",
     "output_type": "stream",
     "text": [
      "  % Total    % Received % Xferd  Average Speed   Time    Time     Time  Current\n",
      "                                 Dload  Upload   Total   Spent    Left  Speed\n",
      "100  125M  100  125M    0     0   481k      0  0:04:26  0:04:26 --:--:--  743k:10:07  0:00:29  5:09:38 13606  0   676k      0  0:03:09  0:01:48  0:01:21 1595k01:55  0:01:01 1496k  0:00:27  9124  0:02:55  0:02:28  0:00:27 10631\n"
     ]
    }
   ],
   "source": [
    "!curl -O http://owl.fish.washington.edu/halfshell/bu-alanine-wd/17-03-21/Ostrea_lurida-Scaff-10k.fa"
   ]
  },
  {
   "cell_type": "code",
   "execution_count": 25,
   "metadata": {},
   "outputs": [
    {
     "name": "stdout",
     "output_type": "stream",
     "text": [
      "Ostrea_lurida-Scaff-10k.fa  ol-redundans-170608.fa\r\n",
      "SS2-test-fastq.gz           oly_polished_.fasta\r\n",
      "ol-bgisoap-161129.fa        pg-canu-170623.fa\r\n",
      "ol-canu-170623.fa           scaffolds.reduced.fa\r\n"
     ]
    }
   ],
   "source": [
    "ls"
   ]
  },
  {
   "cell_type": "code",
   "execution_count": 31,
   "metadata": {},
   "outputs": [
    {
     "name": "stdout",
     "output_type": "stream",
     "text": [
      "total 3167448\r\n",
      "drwxr-xr-x  10 sr320  staff   340B Sep  8 09:00 \u001b[34m.\u001b[m\u001b[m/\r\n",
      "drwxr-xr-x  14 sr320  staff   476B Sep  8 09:29 \u001b[34m..\u001b[m\u001b[m/\r\n",
      "-rw-r--r--   1 sr320  staff   125M Sep  8 09:04 Ostrea_lurida-Scaff-10k.fa\r\n",
      "-rw-r--r--   1 sr320  staff   883K Jul 27 08:44 SS2-test-fastq.gz\r\n",
      "-rw-r--r--   1 sr320  staff   754M Sep  8 09:29 ol-bgisoap-161129.fa\r\n",
      "-rw-r--r--   1 sr320  staff    45M Sep  8 07:41 ol-canu-170623.fa\r\n",
      "-rw-r--r--   1 sr320  staff   531M Sep  8 08:40 ol-redundans-170608.fa\r\n",
      "-rw-r--r--   1 sr320  staff    45M Sep  8 07:38 oly_polished_.fasta\r\n",
      "-rw-r--r--   1 sr320  staff    45M Sep  8 07:41 pg-canu-170623.fa\r\n",
      "-rw-r--r--   1 sr320  staff   408K Sep  8 07:57 scaffolds.reduced.fa\r\n"
     ]
    }
   ],
   "source": [
    "ls -lah\n"
   ]
  },
  {
   "cell_type": "code",
   "execution_count": 32,
   "metadata": {
    "collapsed": true
   },
   "outputs": [],
   "source": [
    "rm oly_polished_.fasta\n"
   ]
  },
  {
   "cell_type": "code",
   "execution_count": 33,
   "metadata": {},
   "outputs": [
    {
     "name": "stdout",
     "output_type": "stream",
     "text": [
      "Ostrea_lurida-Scaff-10k.fa  ol-redundans-170608.fa\r\n",
      "SS2-test-fastq.gz           pg-canu-170623.fa\r\n",
      "ol-bgisoap-161129.fa        scaffolds.reduced.fa\r\n",
      "ol-canu-170623.fa\r\n"
     ]
    }
   ],
   "source": [
    "ls\n"
   ]
  },
  {
   "cell_type": "code",
   "execution_count": 34,
   "metadata": {
    "collapsed": true
   },
   "outputs": [],
   "source": [
    "rm pg-canu-170623.fa"
   ]
  },
  {
   "cell_type": "code",
   "execution_count": 35,
   "metadata": {
    "scrolled": true
   },
   "outputs": [
    {
     "name": "stdout",
     "output_type": "stream",
     "text": [
      "Ostrea_lurida-Scaff-10k.fa  ol-canu-170623.fa\r\n",
      "SS2-test-fastq.gz           ol-redundans-170608.fa\r\n",
      "ol-bgisoap-161129.fa        scaffolds.reduced.fa\r\n"
     ]
    }
   ],
   "source": [
    "ls\n"
   ]
  },
  {
   "cell_type": "code",
   "execution_count": 36,
   "metadata": {
    "collapsed": true
   },
   "outputs": [],
   "source": [
    "rm scaffolds.reduced.fa"
   ]
  },
  {
   "cell_type": "code",
   "execution_count": 41,
   "metadata": {},
   "outputs": [
    {
     "name": "stdout",
     "output_type": "stream",
     "text": [
      "Ostrea_lurida-Scaff-10k.fa  ol-canu-170623.fa\r\n",
      "SS2-test-fastq.gz           ol-redundans-170608.fa\r\n",
      "ol-bgisoap-161129.fa\r\n"
     ]
    }
   ],
   "source": [
    "ls"
   ]
  },
  {
   "cell_type": "code",
   "execution_count": 42,
   "metadata": {},
   "outputs": [
    {
     "name": "stdout",
     "output_type": "stream",
     "text": [
      "\r\n",
      "BSMAP v2.74\r\n",
      "Usage:\tbsmap [options]\r\n",
      "       -a  <str>   query a file, FASTA/FASTQ/BAM format\r\n",
      "       -d  <str>   reference sequences file, FASTA format\r\n",
      "       -o  <str>   output alignment file, BSP/SAM/BAM format, if omitted, the output will be written to STDOUT in SAM format.\r\n",
      "\r\n",
      "  Options for alignment:\r\n",
      "       -s  <int>   seed size, default=16(WGBS mode), 12(RRBS mode). min=8, max=16.\r\n",
      "       -v  <float> if this value is between 0 and 1, it's interpreted as the mismatch rate w.r.t to the read length.\r\n",
      "                   otherwise it's interpreted as the maximum number of mismatches allowed on a read, <=15.\r\n",
      "                   example: -v 5 (max #mismatches = 5), -v 0.1 (max #mismatches = read_length * 10%)\r\n",
      "                   default=0.08.\r\n",
      "       -g  <int>   gap size, BSMAP only allow 1 continuous gap (insert or deletion) with up to 3 nucleotides\r\n",
      "                   default=0\r\n",
      "       -w  <int>   maximum number of equal best hits to count, <=1000\r\n",
      "       -3          using 3-nucleotide mapping approach\r\n",
      "       -B  <int>   start from the Nth read or read pair, default: 1\r\n",
      "       -E  <int>   end at the Nth read or read pair, default: 4,294,967,295\r\n",
      "       -I  <int>   index interval, default=4\r\n",
      "       -k  <float> set the cut-off ratio for over-represented kmers, default=5e-07\r\n",
      "                   example: -k 1e-6 means the top 0.0001% over-represented kmer will be skipped in alignment\r\n",
      "       -p  <int>   number of processors to use, default=4\r\n",
      "       -D  <str>   activating RRBS mapping mode and set restriction enzyme digestion sites. \r\n",
      "                   digestion position marked by '-', example: -D C-CGG for MspI digestion.\r\n",
      "                   default: none (whole genome shotgun bisulfite mapping mode)\r\n",
      "       -S  <int>   seed for random number generation used in selecting multiple hits\r\n",
      "                   other seed values generate pseudo random number based on read index number, to allow reproducible mapping results. \r\n",
      "                   default=0. (get seed from system clock, mapping results not resproducible.)\r\n",
      "       -n  [0,1]   set mapping strand information. default: 0\r\n",
      "                   -n 0: only map to 2 forward strands, i.e. BSW(++) and BSC(-+), \r\n",
      "                   for PE sequencing, map read#1 to ++ and -+, read#2 to +- and --.\r\n",
      "                   -n 1: map SE or PE reads to all 4 strands, i.e. ++, +-, -+, -- \r\n",
      "       -M  <str>   set alignment information for the additional nucleotide transition. \r\n",
      "                   <str> is in the form of two different nucleotides N1N2, \r\n",
      "                   indicating N1 in the reads could be mapped to N2 in the reference sequences.\r\n",
      "                   default: -M TC, corresponds to C=>U(T) transition in bisulfite conversion. \r\n",
      "                   example: -M GA could be used to detect A=>I(G) transition in RNA editing. \r\n",
      "\r\n",
      "  Options for trimming:\r\n",
      "       -q  <int>   quality threshold in trimming, 0-40, default=0 (no trim)\r\n",
      "       -z  <int>   base quality, default=33 [Illumina is using 64, Sanger Institute is using 33]\r\n",
      "       -f  <int>   filter low-quality reads containing >n Ns, default=5\r\n",
      "       -A  <str>   3-end adapter sequence, default: none (no trim)\r\n",
      "       -L  <int>   map the first N nucleotides of the read, default:144 (map the whole read).\r\n",
      "\r\n",
      "  Options for reporting:\r\n",
      "       -r  [0,1]   how to report repeat hits, 0=none(unique hit/pair only); 1=random one, default:1.\r\n",
      "       -R          print corresponding reference sequences in SAM output, default=off\r\n",
      "       -u          report unmapped reads, default=off\r\n",
      "       -H          do not print header information in SAM format output\r\n",
      "\r\n",
      "  Options for pair-end alignment:\r\n",
      "       -b  <str>   query b file\r\n",
      "       -m  <int>   minimal insert size allowed, default=28\r\n",
      "       -x  <int>   maximal insert size allowed, default=500\r\n",
      "\r\n",
      "       -h          help\r\n",
      "\r\n"
     ]
    }
   ],
   "source": [
    "!/Users/sr320/Dropbox/scratch/BSMAP/bsmap-2.74/bsmap"
   ]
  },
  {
   "cell_type": "code",
   "execution_count": 43,
   "metadata": {},
   "outputs": [
    {
     "name": "stdout",
     "output_type": "stream",
     "text": [
      "  % Total    % Received % Xferd  Average Speed   Time    Time     Time  Current\n",
      "                                 Dload  Upload   Total   Spent    Left  Speed\n",
      "100  253M  100  253M    0     0   683k      0  0:06:20  0:06:20 --:--:--  909k76      0  3:36:40  0:01:14  3:35:26  292k 210M    0     0   666k      0  0:06:30  0:05:24  0:01:06  958k\n"
     ]
    }
   ],
   "source": [
    "!curl -O http://owl.fish.washington.edu/halfshell/bu-alanine-wd/17-03-16/sub.tgz"
   ]
  },
  {
   "cell_type": "code",
   "execution_count": 44,
   "metadata": {},
   "outputs": [
    {
     "name": "stdout",
     "output_type": "stream",
     "text": [
      "Ostrea_lurida-Scaff-10k.fa  ol-canu-170623.fa\r\n",
      "SS2-test-fastq.gz           ol-redundans-170608.fa\r\n",
      "ol-bgisoap-161129.fa        sub.tgz\r\n"
     ]
    }
   ],
   "source": [
    "ls"
   ]
  },
  {
   "cell_type": "code",
   "execution_count": null,
   "metadata": {
    "collapsed": true
   },
   "outputs": [],
   "source": [
    "!/Applications/bsmap-2.74/bsmap \\\n",
    "-a zr_1-sub01.fastq \\\n",
    "-d ol-canu-170623.fa \\\n",
    "-o /Volumes/Monarch/wd/17-09-08/bsmap_out_canu.sam \\\n",
    "-p 4 \\\n",
    "2> /Volumes/Monarch/wd/17-09-08/stderr_bsmap_canu.txt"
   ]
  },
  {
   "cell_type": "code",
   "execution_count": null,
   "metadata": {
    "collapsed": true
   },
   "outputs": [],
   "source": [
    "!/Applications/bsmap-2.74/bsmap \\\n",
    "-a zr_1-sub01.fastq \\\n",
    "-d ol-redundans-170608.fa \\\n",
    "-o /Volumes/Monarch/wd/17-09-08/bsmap_out_redun.sam \\\n",
    "-p 4 \\\n",
    "2> /Volumes/Monarch/wd/17-09-08/stderr_bsmap_redun.txt"
   ]
  },
  {
   "cell_type": "code",
   "execution_count": null,
   "metadata": {
    "collapsed": true
   },
   "outputs": [],
   "source": [
    "!/Applications/bsmap-2.74/bsmap \\\n",
    "-a zr_1-sub01.fastq \\\n",
    "-d ol-bgisoap-161129.fa \\\n",
    "-o /Volumes/Monarch/wd/17-09-08/bsmap_out_soap.sam \\\n",
    "-p 4 \\\n",
    "2> /Volumes/Monarch/wd/17-09-08/stderr_bsmap_soap.txt"
   ]
  },
  {
   "cell_type": "code",
   "execution_count": null,
   "metadata": {
    "collapsed": true
   },
   "outputs": [],
   "source": [
    "!/Applications/bsmap-2.74/bsmap \\\n",
    "-a zr_1-sub01.fastq \\\n",
    "-d Ostrea_lurida-Scaff-10k.fa \\\n",
    "-o /Volumes/Monarch/wd/17-09-08/bsmap_out_scaff10k.sam \\\n",
    "-p 4 \\\n",
    "2> /Volumes/Monarch/wd/17-09-08/stderr_bsmap_scaff10k.txt"
   ]
  },
  {
   "cell_type": "code",
   "execution_count": 52,
   "metadata": {
    "collapsed": true
   },
   "outputs": [],
   "source": [
    "!/Applications/bsmap-2.74/bsmap \\\n",
    "-a zr_1-sub001.fastq \\\n",
    "-d ol-canu-170623.fa \\\n",
    "-o /Volumes/Monarch/wd/17-09-08/bsmap_out_canu-2.sam \\\n",
    "-p 4 \\\n",
    "2> /Volumes/Monarch/wd/17-09-08/stderr_bsmap_canu-2.txt"
   ]
  },
  {
   "cell_type": "code",
   "execution_count": 53,
   "metadata": {
    "collapsed": true
   },
   "outputs": [],
   "source": [
    "!/Applications/bsmap-2.74/bsmap \\\n",
    "-a zr_1-sub001.fastq \\\n",
    "-d ol-redundans-170608.fa \\\n",
    "-o /Volumes/Monarch/wd/17-09-08/bsmap_out_redun-2.sam \\\n",
    "-p 4 \\\n",
    "2> /Volumes/Monarch/wd/17-09-08/stderr_bsmap_redun-2.txt"
   ]
  },
  {
   "cell_type": "code",
   "execution_count": 54,
   "metadata": {
    "collapsed": true
   },
   "outputs": [],
   "source": [
    "!/Applications/bsmap-2.74/bsmap \\\n",
    "-a zr_1-sub001.fastq \\\n",
    "-d ol-bgisoap-161129.fa \\\n",
    "-o /Volumes/Monarch/wd/17-09-08/bsmap_out_soap-2.sam \\\n",
    "-p 4 \\\n",
    "2> /Volumes/Monarch/wd/17-09-08/stderr_bsmap_soap-2.txt"
   ]
  },
  {
   "cell_type": "code",
   "execution_count": 55,
   "metadata": {
    "collapsed": true
   },
   "outputs": [],
   "source": [
    "!/Applications/bsmap-2.74/bsmap \\\n",
    "-a zr_1-sub001.fastq \\\n",
    "-d Ostrea_lurida-Scaff-10k.fa \\\n",
    "-o /Volumes/Monarch/wd/17-09-08/bsmap_out_scaff10k-2.sam \\\n",
    "-p 4 \\\n",
    "2> /Volumes/Monarch/wd/17-09-08/stderr_bsmap_scaff10k-2.txt"
   ]
  },
  {
   "cell_type": "code",
   "execution_count": null,
   "metadata": {
    "collapsed": true
   },
   "outputs": [],
   "source": []
  }
 ],
 "metadata": {
  "kernelspec": {
   "display_name": "Python 2",
   "language": "python",
   "name": "python2"
  },
  "language_info": {
   "codemirror_mode": {
    "name": "ipython",
    "version": 2
   },
   "file_extension": ".py",
   "mimetype": "text/x-python",
   "name": "python",
   "nbconvert_exporter": "python",
   "pygments_lexer": "ipython2",
   "version": "2.7.12"
  }
 },
 "nbformat": 4,
 "nbformat_minor": 1
}
