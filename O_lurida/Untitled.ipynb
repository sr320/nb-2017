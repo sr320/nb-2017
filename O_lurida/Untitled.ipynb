{
 "cells": [
  {
   "cell_type": "code",
   "execution_count": 4,
   "metadata": {
    "collapsed": false
   },
   "outputs": [
    {
     "name": "stdout",
     "output_type": "stream",
     "text": [
      "gzip: /Volumes/Alanine/wd/17-06-19/HC2-10_CTTGTA-GACGT_L002_R1_001.fastq.gz: not in gzip format\n",
      "0 reads\n",
      "0.00% overall alignment rate\n"
     ]
    }
   ],
   "source": [
    "!/Applications/bioinfo/bowtie2-2.2.4/bowtie2 \\\n",
    "-x analyses/scaffolds.reduced.bowtie-index \\\n",
    "-U /Volumes/Alanine/wd/17-06-19/HC2-10_CTTGTA-GACGT_L002_R1_001.fastq.gz \\\n",
    "-p 8 \\\n",
    "--very-fast \\\n",
    "-S /Volumes/Alanine/wd/17-06-19/test.sam"
   ]
  },
  {
   "cell_type": "code",
   "execution_count": null,
   "metadata": {
    "collapsed": true
   },
   "outputs": [],
   "source": [
    "/Volumes/web-1/nightingales/O_lurida/2bRAD_Dec2015/SS1-8_CGATGT-TCAGCAC_L001_R1_001.fastq.gz"
   ]
  },
  {
   "cell_type": "code",
   "execution_count": 5,
   "metadata": {
    "collapsed": false
   },
   "outputs": [
    {
     "name": "stdout",
     "output_type": "stream",
     "text": [
      "2809128 reads; of these:\r\n",
      "  2809128 (100.00%) were unpaired; of these:\r\n",
      "    2782597 (99.06%) aligned 0 times\r\n",
      "    20685 (0.74%) aligned exactly 1 time\r\n",
      "    5846 (0.21%) aligned >1 times\r\n",
      "0.94% overall alignment rate\r\n"
     ]
    }
   ],
   "source": [
    "!/Applications/bioinfo/bowtie2-2.2.4/bowtie2 \\\n",
    "-x analyses/scaffolds.reduced.bowtie-index \\\n",
    "-U /Volumes/web-1/nightingales/O_lurida/2bRAD_Dec2015/SS1-8_CGATGT-TCAGCAC_L001_R1_001.fastq.gz \\\n",
    "-p 8 \\\n",
    "--very-fast \\\n",
    "-S /Volumes/Alanine/wd/17-06-19/test.sam"
   ]
  },
  {
   "cell_type": "code",
   "execution_count": null,
   "metadata": {
    "collapsed": true
   },
   "outputs": [],
   "source": []
  }
 ],
 "metadata": {
  "kernelspec": {
   "display_name": "Python 2",
   "language": "python",
   "name": "python2"
  },
  "language_info": {
   "codemirror_mode": {
    "name": "ipython",
    "version": 2
   },
   "file_extension": ".py",
   "mimetype": "text/x-python",
   "name": "python",
   "nbconvert_exporter": "python",
   "pygments_lexer": "ipython2",
   "version": "2.7.12"
  }
 },
 "nbformat": 4,
 "nbformat_minor": 0
}
