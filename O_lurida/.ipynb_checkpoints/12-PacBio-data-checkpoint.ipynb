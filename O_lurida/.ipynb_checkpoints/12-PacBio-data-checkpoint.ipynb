{
 "cells": [
  {
   "cell_type": "markdown",
   "metadata": {},
   "source": [
    "<img src=\"http://eagle.fish.washington.edu/cnidarian/skitch/17-09-12_1F6881AC.png\" alt=\"17-09-12_1F6881AC.png\"/>"
   ]
  },
  {
   "cell_type": "code",
   "execution_count": 2,
   "metadata": {
    "collapsed": false
   },
   "outputs": [
    {
     "name": "stdout",
     "output_type": "stream",
     "text": [
      "/Volumes/Alanine/wd/17-09-12\n"
     ]
    }
   ],
   "source": [
    "cd /Volumes/Alanine/wd/17-09-12/"
   ]
  },
  {
   "cell_type": "code",
   "execution_count": 7,
   "metadata": {
    "collapsed": false
   },
   "outputs": [
    {
     "name": "stdout",
     "output_type": "stream",
     "text": [
      "m170-all.fa\n",
      "m170-all.fastq\n",
      "\u001b[31mm170211_224036_42134_c101073082550000001823236402101737_s1_X0_filtered_subreads.fastq\u001b[m\u001b[m*\n",
      "\u001b[31mm170301_100013_42134_c101174162550000001823269408211761_s1_p0_filtered_subreads.fastq\u001b[m\u001b[m*\n",
      "\u001b[31mm170301_162825_42134_c101174162550000001823269408211762_s1_p0_filtered_subreads.fastq\u001b[m\u001b[m*\n",
      "\u001b[31mm170301_225711_42134_c101174162550000001823269408211763_s1_p0_filtered_subreads.fastq\u001b[m\u001b[m*\n",
      "\u001b[31mm170308_163922_42134_c101174252550000001823269408211742_s1_p0_filtered_subreads.fastq\u001b[m\u001b[m*\n",
      "\u001b[31mm170308_230815_42134_c101174252550000001823269408211743_s1_p0_filtered_subreads.fastq\u001b[m\u001b[m*\n",
      "\u001b[31mm170315_001112_42134_c101169372550000001823273008151717_s1_p0_filtered_subreads.fastq\u001b[m\u001b[m*\n",
      "\u001b[31mm170315_063041_42134_c101169382550000001823273008151700_s1_p0_filtered_subreads.fastq\u001b[m\u001b[m*\n",
      "\u001b[31mm170315_124938_42134_c101169382550000001823273008151701_s1_p0_filtered_subreads.fastq\u001b[m\u001b[m*\n",
      "\u001b[31mm170315_190851_42134_c101169382550000001823273008151702_s1_p0_filtered_subreads.fastq\u001b[m\u001b[m*\n"
     ]
    }
   ],
   "source": [
    "ls"
   ]
  },
  {
   "cell_type": "code",
   "execution_count": 4,
   "metadata": {
    "collapsed": true
   },
   "outputs": [],
   "source": [
    "!gunzip *"
   ]
  },
  {
   "cell_type": "code",
   "execution_count": 5,
   "metadata": {
    "collapsed": true
   },
   "outputs": [],
   "source": [
    "!cat *.fastq > m170-all.fastq"
   ]
  },
  {
   "cell_type": "code",
   "execution_count": 6,
   "metadata": {
    "collapsed": true
   },
   "outputs": [],
   "source": [
    "!cat m170-all.fastq | awk 'NR%4==1{printf \">%s\\n\", substr($0,2)}NR%4==2{print}' > m170-all.fa"
   ]
  },
  {
   "cell_type": "code",
   "execution_count": null,
   "metadata": {
    "collapsed": false
   },
   "outputs": [],
   "source": [
    "!perl /Users/sr320/git-repos/nb-2017/scripts/count_fasta.pl -i 10000 \\\n",
    "m170-all.fa"
   ]
  },
  {
   "cell_type": "code",
   "execution_count": 9,
   "metadata": {
    "collapsed": false
   },
   "outputs": [
    {
     "name": "stdout",
     "output_type": "stream",
     "text": [
      "1779917\r\n"
     ]
    }
   ],
   "source": [
    "!grep -c '>' m170-all.fa\n"
   ]
  },
  {
   "cell_type": "markdown",
   "metadata": {},
   "source": [
    "<img src=\"http://eagle.fish.washington.edu/cnidarian/skitch/technote_coverage_calculation_pdf_1F688600.png\" alt=\"technote_coverage_calculation_pdf_1F688600.png\"/>"
   ]
  },
  {
   "cell_type": "code",
   "execution_count": null,
   "metadata": {
    "collapsed": true
   },
   "outputs": [],
   "source": []
  }
 ],
 "metadata": {
  "kernelspec": {
   "display_name": "Python 2",
   "language": "python",
   "name": "python2"
  },
  "language_info": {
   "codemirror_mode": {
    "name": "ipython",
    "version": 2
   },
   "file_extension": ".py",
   "mimetype": "text/x-python",
   "name": "python",
   "nbconvert_exporter": "python",
   "pygments_lexer": "ipython2",
   "version": "2.7.12"
  }
 },
 "nbformat": 4,
 "nbformat_minor": 0
}
