{
 "cells": [
  {
   "cell_type": "markdown",
   "metadata": {},
   "source": [
    "rerunning https://github.com/sr320/nb-2016/blob/master/O_lurida/BSMAP-06-BGIv001.ipynb"
   ]
  },
  {
   "cell_type": "markdown",
   "metadata": {},
   "source": [
    "<img src=\"http://eagle.fish.washington.edu/cnidarian/skitch/MBD_BSseq_December_2015_·_RobertsLab_project-olympia_oyster-genomic_Wiki_1E7AD4C1.png\" alt=\"MBD_BSseq_December_2015_·_RobertsLab_project-olympia_oyster-genomic_Wiki_1E7AD4C1.png\"/>"
   ]
  },
  {
   "cell_type": "code",
   "execution_count": 1,
   "metadata": {
    "collapsed": true
   },
   "outputs": [],
   "source": [
    "bsmaploc=\"/Applications/bioinfo/BSMAP/bsmap-2.74/\"\n"
   ]
  },
  {
   "cell_type": "code",
   "execution_count": 2,
   "metadata": {
    "collapsed": true
   },
   "outputs": [],
   "source": [
    "!mkdir /Volumes/Alanine/wd/17-03-21\n"
   ]
  },
  {
   "cell_type": "code",
   "execution_count": 3,
   "metadata": {
    "collapsed": true
   },
   "outputs": [],
   "source": [
    "!cp /Volumes/web-1/halfshell/2016-11-oly-annotation/Ostrea_lurida-Scaff-10k.fa \\\n",
    "/Volumes/Alanine/wd/17-03-21/Ostrea_lurida-Scaff-10k.fa"
   ]
  },
  {
   "cell_type": "code",
   "execution_count": 4,
   "metadata": {
    "collapsed": true
   },
   "outputs": [],
   "source": [
    "for i in (\"1\",\"2\",\"3\", \"4\", \"5\", \"6\", \"7\", \"8\",\"9\", \"10\", \"11\",\"12\",\"13\", \"14\", \"15\", \"16\", \"17\", \"18\"):\n",
    "    !{bsmaploc}bsmap \\\n",
    "-a /Volumes/Alanine/wd/17-03-16/zr1394_{i}.fastq.gz \\\n",
    "-d /Volumes/Alanine/wd/17-03-21/Ostrea_lurida-Scaff-10k.fa \\\n",
    "-o /Volumes/Alanine/wd/17-03-21/bsmap_out_{i}.sam \\\n",
    "-p 8 \\\n",
    "2> /Volumes/Alanine/wd/17-03-21/stderr_bsmap_{i}.txt"
   ]
  },
  {
   "cell_type": "code",
   "execution_count": 5,
   "metadata": {
    "collapsed": false
   },
   "outputs": [
    {
     "name": "stdout",
     "output_type": "stream",
     "text": [
      "Libraryv1\n",
      "Total number of aligned reads: 4475269 (6%)\n",
      "Libraryv2\n",
      "Total number of aligned reads: 4160540 (5.7%)\n",
      "Libraryv3\n",
      "Total number of aligned reads: 4409715 (5.8%)\n",
      "Libraryv4\n",
      "Total number of aligned reads: 3798032 (5.9%)\n",
      "Libraryv5\n",
      "Total number of aligned reads: 5405401 (5.9%)\n",
      "Libraryv6\n",
      "Total number of aligned reads: 4084380 (5.7%)\n",
      "Libraryv7\n",
      "Total number of aligned reads: 4758929 (6%)\n",
      "Libraryv8\n",
      "Total number of aligned reads: 3690608 (5.9%)\n",
      "Libraryv9\n",
      "Total number of aligned reads: 7520210 (6.2%)\n",
      "Libraryv10\n",
      "Total number of aligned reads: 8008734 (7.1%)\n",
      "Libraryv11\n",
      "Total number of aligned reads: 5386094 (6.3%)\n",
      "Libraryv12\n",
      "Total number of aligned reads: 5181901 (5.9%)\n",
      "Libraryv13\n",
      "Total number of aligned reads: 5862952 (6.3%)\n",
      "Libraryv14\n",
      "Total number of aligned reads: 8628636 (6.2%)\n",
      "Libraryv15\n",
      "Total number of aligned reads: 6271468 (6.3%)\n",
      "Libraryv16\n",
      "Total number of aligned reads: 6858344 (6.4%)\n",
      "Libraryv17\n",
      "Total number of aligned reads: 4160977 (6.3%)\n",
      "Libraryv18\n",
      "Total number of aligned reads: 4660057 (5.9%)\n"
     ]
    }
   ],
   "source": [
    "for i in  (\"1\",\"2\",\"3\", \"4\", \"5\", \"6\", \"7\", \"8\",\"9\", \"10\", \"11\",\"12\",\"13\", \"14\", \"15\", \"16\", \"17\", \"18\"):\n",
    "    !echo Libraryv{i}\n",
    "    !grep \"Total number of aligned reads\" /Volumes/Alanine/wd/17-03-21/stderr_bsmap_{i}.txt"
   ]
  },
  {
   "cell_type": "code",
   "execution_count": 6,
   "metadata": {
    "collapsed": false
   },
   "outputs": [
    {
     "name": "stdout",
     "output_type": "stream",
     "text": [
      "total 2300251 valid mappings, 1780314 covered cytosines, average coverage: 4.85 fold.\n",
      "total 2160142 valid mappings, 1738090 covered cytosines, average coverage: 4.69 fold.\n",
      "total 2273784 valid mappings, 1779105 covered cytosines, average coverage: 4.76 fold.\n",
      "total 1953004 valid mappings, 1584477 covered cytosines, average coverage: 4.66 fold.\n",
      "total 2814240 valid mappings, 2057671 covered cytosines, average coverage: 5.09 fold.\n",
      "total 2131592 valid mappings, 2021853 covered cytosines, average coverage: 3.90 fold.\n",
      "total 2437463 valid mappings, 1741618 covered cytosines, average coverage: 5.27 fold.\n",
      "total 1899037 valid mappings, 1482970 covered cytosines, average coverage: 4.87 fold.\n",
      "total 3882054 valid mappings, 2226308 covered cytosines, average coverage: 6.25 fold.\n",
      "total 4209853 valid mappings, 1413111 covered cytosines, average coverage: 11.17 fold.\n",
      "total 2794026 valid mappings, 1353682 covered cytosines, average coverage: 7.76 fold.\n",
      "total 2707835 valid mappings, 2012546 covered cytosines, average coverage: 4.94 fold.\n",
      "total 2991118 valid mappings, 1580217 covered cytosines, average coverage: 7.09 fold.\n",
      "total 4363908 valid mappings, 1836860 covered cytosines, average coverage: 8.71 fold.\n",
      "total 3200761 valid mappings, 1511259 covered cytosines, average coverage: 7.91 fold.\n",
      "total 3490759 valid mappings, 1630438 covered cytosines, average coverage: 7.92 fold.\n",
      "total 2143909 valid mappings, 1257946 covered cytosines, average coverage: 6.46 fold.\n",
      "total 2406697 valid mappings, 1760432 covered cytosines, average coverage: 5.11 fold.\n"
     ]
    }
   ],
   "source": [
    "for i in  (\"1\",\"2\",\"3\", \"4\", \"5\", \"6\", \"7\", \"8\",\"9\", \"10\", \"11\",\"12\",\"13\", \"14\", \"15\", \"16\", \"17\", \"18\"):\n",
    "    !python {bsmaploc}methratio.py \\\n",
    "-d /Volumes/Alanine/wd/17-03-21/Ostrea_lurida-Scaff-10k.fa \\\n",
    "-u -z -g \\\n",
    "-o /Volumes/Alanine/wd/17-03-21/methratio_out_{i}.txt \\\n",
    "-s {bsmaploc}samtools \\\n",
    "/Volumes/Alanine/wd/17-03-21/bsmap_out_{i}.sam \\\n",
    "2> /Volumes/Alanine/wd/17-03-21/stderr_methratio_{i}.txt"
   ]
  },
  {
   "cell_type": "code",
   "execution_count": 7,
   "metadata": {
    "collapsed": false
   },
   "outputs": [
    {
     "name": "stdout",
     "output_type": "stream",
     "text": [
      "1\n",
      "17-03-21\n",
      "2\n",
      "17-03-21\n",
      "3\n",
      "17-03-21\n",
      "4\n",
      "17-03-21\n",
      "5\n",
      "17-03-21\n",
      "6\n",
      "17-03-21\n",
      "7\n",
      "17-03-21\n",
      "8\n",
      "17-03-21\n",
      "9\n",
      "17-03-21\n",
      "10\n",
      "17-03-21\n",
      "11\n",
      "17-03-21\n",
      "12\n",
      "17-03-21\n",
      "13\n",
      "17-03-21\n",
      "14\n",
      "17-03-21\n",
      "15\n",
      "17-03-21\n",
      "16\n",
      "17-03-21\n",
      "17\n",
      "17-03-21\n",
      "18\n",
      "17-03-21\n"
     ]
    }
   ],
   "source": [
    "#first methratio files are converted to filter for CG context, 3x coverage (mr3x.awk), and reformatting (mr_gg.awk.sh).\n",
    "#due to issue passing variable to awk, simple scripts were used (included in repository)\n",
    "for i in (\"1\",\"2\",\"3\", \"4\", \"5\", \"6\", \"7\", \"8\",\"9\", \"10\", \"11\",\"12\",\"13\", \"14\", \"15\", \"16\", \"17\", \"18\"):\n",
    "    !echo {i}\n",
    "    !grep \"[A-Z][A-Z]CG[A-Z]\" </Volumes/Alanine/wd/17-03-21/methratio_out_{i}.txt> /Volumes/Alanine/wd/17-03-21/methratio_out_{i}CG.txt\n",
    "    !awk -f ../scripts/mr3x.awk /Volumes/Alanine/wd/17-03-21/methratio_out_{i}CG.txt > /Volumes/Alanine/wd/17-03-21/mr3x.{i}.txt\n",
    "    !awk -f ../scripts/mr_gg.awk.sh /Volumes/Alanine/wd/17-03-21/mr3x.{i}.txt > /Volumes/Alanine/wd/17-03-21/mkfmt_{i}.txt\n",
    "    !date +\"%y-%m-%d\""
   ]
  },
  {
   "cell_type": "markdown",
   "metadata": {},
   "source": [
    "```\n",
    "setwd(\"/Volumes/Alanine/wd/17-03-21\")\n",
    "\n",
    "library(methylKit)\n",
    "\n",
    "file.list <- list ('mkfmt_1.txt',\n",
    "                   'mkfmt_2.txt',\n",
    "                   'mkfmt_3.txt',\n",
    "                   'mkfmt_4.txt',\n",
    "                   'mkfmt_5.txt',\n",
    "                   'mkfmt_6.txt',\n",
    "                   'mkfmt_7.txt',\n",
    "                   'mkfmt_8.txt',\n",
    "                   'mkfmt_9.txt',\n",
    "                   'mkfmt_10.txt',\n",
    "                   'mkfmt_11.txt',\n",
    "                   'mkfmt_12.txt',\n",
    "                   'mkfmt_13.txt',\n",
    "                   'mkfmt_14.txt',\n",
    "                   'mkfmt_15.txt',\n",
    "                   'mkfmt_16.txt',\n",
    "                   'mkfmt_17.txt',\n",
    "                   'mkfmt_18.txt'\n",
    ")\n",
    "\n",
    "\n",
    "myobj=read(file.list,sample.id=list(\"1\",\"2\",\"3\",\"4\",\"5\",\"6\",\"7\",\"8\",\"9\",\"10\",\"11\",\"12\",\"13\",\"14\",\"15\",\"16\",\"17\",\"18\"),assembly=\"bgi-scaff\",treatment=c(0,0,0,0,0,0,0,0,0,1,1,1,1,1,1,1,1,1))\n",
    "\n",
    "meth<-unite(myobj)\n",
    "head(meth)\n",
    "nrow(meth)\n",
    "getCorrelation(meth,plot=F)\n",
    "hc<- clusterSamples(meth, dist=\"correlation\", method=\"ward\", plot=T)\n",
    "PCA<-PCASamples(meth)\n",
    "```"
   ]
  },
  {
   "cell_type": "markdown",
   "metadata": {},
   "source": [
    "<img src=\"http://eagle.fish.washington.edu/cnidarian/skitch/tree_png_and_Printer-Friendly_Page_pdf__1_page__1E82C920.png\" alt=\"tree_png_and_Printer-Friendly_Page_pdf__1_page__1E82C920.png\"/>"
   ]
  },
  {
   "cell_type": "markdown",
   "metadata": {},
   "source": [
    "<img src=\"http://eagle.fish.washington.edu/cnidarian/skitch/RStudio_1E82C951.png\" alt=\"RStudio_1E82C951.png\"/>"
   ]
  },
  {
   "cell_type": "markdown",
   "metadata": {},
   "source": [
    "```\n",
    "DMLobj=read(file.list,sample.id=list(\"1\",\"2\",\"3\",\"4\",\"5\",\"6\",\"7\",\"8\",\"9\",\"10\",\"11\",\"12\",\"13\",\"14\",\"15\",\"16\",\"17\",\"18\"),assembly=\"bgi-scaff\",treatment=c(0,0,0,0,0,0,0,0,0,1,1,1,1,1,1,1,1,1))\n",
    ",assembly=\"BGI-scaff\",treatment=c(1,1,1,1,1,1,1,1,1,0,0,0,0,0,0,0,0,0), context=\"CpG\")\n",
    "lin<-unite(DMLobj)\n",
    "lin.pooled <- pool(lin, sample.ids <- c(\"lin_1\", \"lin_2\"))\n",
    "lin_DML.fisher <- calculateDiffMeth(lin.pooled)\n",
    "select(lin_DML.fisher, 1)\n",
    "lin_DML_p <- getData(lin_DML.fisher)\n",
    "lin_DML_filt <- lin_DML_p[lin_DML_p$pvalue < 0.01 & lin_DML_p$meth.diff > 25,]\n",
    "write.csv(lin_DML_filt,file=\"Population_DML_filt\")\n",
    "```"
   ]
  },
  {
   "cell_type": "code",
   "execution_count": 10,
   "metadata": {
    "collapsed": true
   },
   "outputs": [],
   "source": [
    "!tail -n +2 /Volumes/Alanine/wd/17-03-16/Population_DML_filt | awk -F, '{print $2, $3-1, $4+1, \"DML_pop\" }' | tr -d '\"' | tr ' ' \"\\t\"  \\\n",
    "> /Volumes/Alanine/wd/17-03-16/TwoPopulation-ClamBay_DML_filt.bed"
   ]
  },
  {
   "cell_type": "code",
   "execution_count": 11,
   "metadata": {
    "collapsed": false
   },
   "outputs": [
    {
     "name": "stdout",
     "output_type": "stream",
     "text": [
      "scaffold10145\t39632\t39634\tDML_pop\r\n",
      "scaffold1044\t11208\t11210\tDML_pop\r\n",
      "scaffold10449\t36\t38\tDML_pop\r\n",
      "scaffold10513\t1465\t1467\tDML_pop\r\n",
      "scaffold10641\t6080\t6082\tDML_pop\r\n",
      "scaffold10641\t8525\t8527\tDML_pop\r\n",
      "scaffold10754\t4684\t4686\tDML_pop\r\n",
      "scaffold10843\t18870\t18872\tDML_pop\r\n",
      "scaffold10851\t5678\t5680\tDML_pop\r\n",
      "scaffold10851\t5831\t5833\tDML_pop\r\n"
     ]
    }
   ],
   "source": [
    "!head /Volumes/Alanine/wd/17-03-16/TwoPopulation-ClamBay_DML_filt.bed"
   ]
  },
  {
   "cell_type": "code",
   "execution_count": 12,
   "metadata": {
    "collapsed": false
   },
   "outputs": [
    {
     "name": "stdout",
     "output_type": "stream",
     "text": [
      "     224 /Volumes/Alanine/wd/17-03-16/TwoPopulation-ClamBay_DML_filt.bed\r\n"
     ]
    }
   ],
   "source": [
    "!wc -l /Volumes/Alanine/wd/17-03-16/TwoPopulation-ClamBay_DML_filt.bed"
   ]
  },
  {
   "cell_type": "code",
   "execution_count": null,
   "metadata": {
    "collapsed": true
   },
   "outputs": [],
   "source": []
  }
 ],
 "metadata": {
  "kernelspec": {
   "display_name": "Python 2",
   "language": "python",
   "name": "python2"
  },
  "language_info": {
   "codemirror_mode": {
    "name": "ipython",
    "version": 2
   },
   "file_extension": ".py",
   "mimetype": "text/x-python",
   "name": "python",
   "nbconvert_exporter": "python",
   "pygments_lexer": "ipython2",
   "version": "2.7.12"
  }
 },
 "nbformat": 4,
 "nbformat_minor": 0
}
