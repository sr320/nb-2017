{
 "cells": [
  {
   "cell_type": "markdown",
   "metadata": {},
   "source": [
    "rerunning https://github.com/sr320/nb-2016/blob/master/O_lurida/BSMAP-06-BGIv001.ipynb"
   ]
  },
  {
   "cell_type": "code",
   "execution_count": 2,
   "metadata": {
    "collapsed": true
   },
   "outputs": [],
   "source": [
    "bsmaploc=\"/Applications/bioinfo/BSMAP/bsmap-2.74/\"\n"
   ]
  },
  {
   "cell_type": "code",
   "execution_count": 3,
   "metadata": {
    "collapsed": true
   },
   "outputs": [],
   "source": [
    "!mkdir /Volumes/Alanine/wd/17-03-16\n"
   ]
  },
  {
   "cell_type": "code",
   "execution_count": null,
   "metadata": {
    "collapsed": true
   },
   "outputs": [],
   "source": [
    "for i in (\"1\",\"2\",\"3\", \"4\", \"5\", \"6\", \"7\", \"8\",\"9\", \"10\", \"11\",\"12\",\"13\", \"14\", \"15\", \"16\", \"17\", \"18\"):\n",
    "    !cp /Volumes/web/nightingales/O_lurida/20160203_mbdseq/zr1394_{i}.fastq.gz \\\n",
    "/Volumes/Alanine/wd/17-03-16/"
   ]
  },
  {
   "cell_type": "code",
   "execution_count": null,
   "metadata": {
    "collapsed": true
   },
   "outputs": [],
   "source": [
    "for i in (\"1\",\"2\",\"3\", \"4\", \"5\", \"6\", \"7\", \"8\",\"9\", \"10\", \"11\",\"12\",\"13\", \"14\", \"15\", \"16\", \"17\", \"18\"):\n",
    "    !{bsmaploc}bsmap \\\n",
    "-a /Volumes/Alanine/wd/17-03-16/zr1394_{i}.fastq.gz \\\n",
    "-d /Volumes/Alanine/wd/17-03-16/OlyBGI-scaffold-10k.fa \\\n",
    "-o /Volumes/Alanine/wd/17-03-16/bsmap_out_{i}.sam \\\n",
    "-p 4 \\\n",
    "2> /Volumes/Alanine/wd/17-03-16/stderr_bsmap_{i}.txt"
   ]
  },
  {
   "cell_type": "code",
   "execution_count": null,
   "metadata": {
    "collapsed": true
   },
   "outputs": [],
   "source": [
    "for i in  (\"1\",\"2\",\"3\", \"4\", \"5\", \"6\", \"7\", \"8\",\"9\", \"10\", \"11\",\"12\",\"13\", \"14\", \"15\", \"16\", \"17\", \"18\"):\n",
    "   !python {bsmaploc}methratio.py \\\n",
    "-d /Volumes/Alanine/wd/17-03-16/OlyBGI-scaffold-10k.fa \\\n",
    "-u -z -g \\\n",
    "-o /Volumes/Alanine/wd/17-03-16/methratio_out_{i}.txt \\\n",
    "-s {bsmaploc}samtools \\\n",
    "/Volumes/Alanine/wd/17-03-16/bsmap_out_{i}.sam \\\n",
    "2> /Volumes/Alanine/wd/17-03-16/stderr_methratio_{i}.txt"
   ]
  },
  {
   "cell_type": "code",
   "execution_count": null,
   "metadata": {
    "collapsed": true
   },
   "outputs": [],
   "source": [
    "#first methratio files are converted to filter for CG context, 3x coverage (mr3x.awk), and reformatting (mr_gg.awk.sh).\n",
    "#due to issue passing variable to awk, simple scripts were used (included in repository)\n",
    "for i in (\"1\",\"2\",\"3\", \"4\", \"5\", \"6\", \"7\", \"8\",\"9\", \"10\", \"11\",\"12\",\"13\", \"14\", \"15\", \"16\", \"17\", \"18\"):\n",
    "    !echo {i}\n",
    "    !grep \"[A-Z][A-Z]CG[A-Z]\" <methratio_out_{i}_b.txt> methratio_out_{i}CG.txt\n",
    "    !awk -f ../scripts/mr3x.awk methratio_out_{i}CG.txt > mr3x.{i}.txt\n",
    "    !awk -f ../scripts/mr_gg.awk.sh mr3x.{i}.txt > mkfmt_{i}.txt\n",
    "    !date +\"%y-%m-%d\""
   ]
  }
 ],
 "metadata": {
  "kernelspec": {
   "display_name": "Python 2",
   "language": "python",
   "name": "python2"
  },
  "language_info": {
   "codemirror_mode": {
    "name": "ipython",
    "version": 2
   },
   "file_extension": ".py",
   "mimetype": "text/x-python",
   "name": "python",
   "nbconvert_exporter": "python",
   "pygments_lexer": "ipython2",
   "version": "2.7.12"
  }
 },
 "nbformat": 4,
 "nbformat_minor": 0
}
