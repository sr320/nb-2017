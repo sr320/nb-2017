{
 "cells": [
  {
   "cell_type": "markdown",
   "metadata": {},
   "source": [
    "rerunning https://github.com/sr320/nb-2016/blob/master/O_lurida/BSMAP-06-BGIv001.ipynb"
   ]
  },
  {
   "cell_type": "markdown",
   "metadata": {},
   "source": [
    "<img src=\"http://eagle.fish.washington.edu/cnidarian/skitch/MBD_BSseq_December_2015_·_RobertsLab_project-olympia_oyster-genomic_Wiki_1E7AD4C1.png\" alt=\"MBD_BSseq_December_2015_·_RobertsLab_project-olympia_oyster-genomic_Wiki_1E7AD4C1.png\"/>"
   ]
  },
  {
   "cell_type": "code",
   "execution_count": 2,
   "metadata": {
    "collapsed": true
   },
   "outputs": [],
   "source": [
    "bsmaploc=\"/Applications/bioinfo/BSMAP/bsmap-2.74/\"\n"
   ]
  },
  {
   "cell_type": "code",
   "execution_count": 3,
   "metadata": {
    "collapsed": true
   },
   "outputs": [],
   "source": [
    "!mkdir /Volumes/Alanine/wd/17-03-16\n"
   ]
  },
  {
   "cell_type": "code",
   "execution_count": 5,
   "metadata": {
    "collapsed": true
   },
   "outputs": [],
   "source": [
    "for i in (\"1\",\"2\",\"3\", \"4\", \"5\", \"6\", \"7\", \"8\",\"9\", \"10\", \"11\",\"12\",\"13\", \"14\", \"15\", \"16\", \"17\", \"18\"):\n",
    "    !cp /Volumes/web/nightingales/O_lurida/20160203_mbdseq/zr1394_{i}.fastq.gz \\\n",
    "/Volumes/Alanine/wd/17-03-16/"
   ]
  },
  {
   "cell_type": "code",
   "execution_count": 6,
   "metadata": {
    "collapsed": true
   },
   "outputs": [],
   "source": [
    "for i in (\"1\",\"2\",\"3\", \"4\", \"5\", \"6\", \"7\", \"8\",\"9\", \"10\", \"11\",\"12\",\"13\", \"14\", \"15\", \"16\", \"17\", \"18\"):\n",
    "    !{bsmaploc}bsmap \\\n",
    "-a /Volumes/Alanine/wd/17-03-16/zr1394_{i}.fastq.gz \\\n",
    "-d /Volumes/Alanine/wd/17-03-16/OlyBGI-scaffold-10k.fa \\\n",
    "-o /Volumes/Alanine/wd/17-03-16/bsmap_out_{i}.sam \\\n",
    "-p 4 \\\n",
    "2> /Volumes/Alanine/wd/17-03-16/stderr_bsmap_{i}.txt"
   ]
  },
  {
   "cell_type": "code",
   "execution_count": 11,
   "metadata": {
    "collapsed": false
   },
   "outputs": [
    {
     "name": "stdout",
     "output_type": "stream",
     "text": [
      "Libraryv1\n",
      "Total number of aligned reads: 3302222 (4.5%)\n",
      "Libraryv2\n",
      "Total number of aligned reads: 2968517 (4%)\n",
      "Libraryv3\n",
      "Total number of aligned reads: 3307706 (4.3%)\n",
      "Libraryv4\n",
      "Total number of aligned reads: 2814861 (4.4%)\n",
      "Libraryv5\n",
      "Total number of aligned reads: 3777497 (4.1%)\n",
      "Libraryv6\n",
      "Total number of aligned reads: 2873960 (4%)\n",
      "Libraryv7\n",
      "Total number of aligned reads: 3522640 (4.5%)\n",
      "Libraryv8\n",
      "Total number of aligned reads: 2740547 (4.4%)\n",
      "Libraryv9\n",
      "Total number of aligned reads: 5489606 (4.5%)\n",
      "Libraryv10\n",
      "Total number of aligned reads: 6072123 (5.4%)\n",
      "Libraryv11\n",
      "Total number of aligned reads: 4305069 (5.1%)\n",
      "Libraryv12\n",
      "Total number of aligned reads: 3651165 (4.2%)\n",
      "Libraryv13\n",
      "Total number of aligned reads: 4466096 (4.8%)\n",
      "Libraryv14\n",
      "Total number of aligned reads: 6760743 (4.8%)\n",
      "Libraryv15\n",
      "Total number of aligned reads: 4890956 (4.9%)\n",
      "Libraryv16\n",
      "Total number of aligned reads: 5427322 (5.1%)\n",
      "Libraryv17\n",
      "Total number of aligned reads: 3144110 (4.7%)\n",
      "Libraryv18\n",
      "Total number of aligned reads: 3358704 (4.3%)\n"
     ]
    }
   ],
   "source": [
    "for i in  (\"1\",\"2\",\"3\", \"4\", \"5\", \"6\", \"7\", \"8\",\"9\", \"10\", \"11\",\"12\",\"13\", \"14\", \"15\", \"16\", \"17\", \"18\"):\n",
    "    !echo Libraryv{i}\n",
    "    !grep \"Total number of aligned reads\" /Volumes/Alanine/wd/17-03-16/stderr_bsmap_{i}.txt"
   ]
  },
  {
   "cell_type": "code",
   "execution_count": null,
   "metadata": {
    "collapsed": true
   },
   "outputs": [],
   "source": [
    "for i in  (\"1\",\"2\",\"3\", \"4\", \"5\", \"6\", \"7\", \"8\",\"9\", \"10\", \"11\",\"12\",\"13\", \"14\", \"15\", \"16\", \"17\", \"18\"):\n",
    "   !python {bsmaploc}methratio.py \\\n",
    "-d /Volumes/Alanine/wd/17-03-16/OlyBGI-scaffold-10k.fa \\\n",
    "-u -z -g \\\n",
    "-o /Volumes/Alanine/wd/17-03-16/methratio_out_{i}.txt \\\n",
    "-s {bsmaploc}samtools \\\n",
    "/Volumes/Alanine/wd/17-03-16/bsmap_out_{i}.sam \\\n",
    "2> /Volumes/Alanine/wd/17-03-16/stderr_methratio_{i}.txt"
   ]
  },
  {
   "cell_type": "code",
   "execution_count": 8,
   "metadata": {
    "collapsed": false
   },
   "outputs": [
    {
     "name": "stdout",
     "output_type": "stream",
     "text": [
      "grep: /Volumes/Alanine/wd/17-03-16/stderr_methratio_1.txt: No such file or directory\n",
      "grep: /Volumes/Alanine/wd/17-03-16/stderr_methratio_2.txt: No such file or directory\n",
      "grep: /Volumes/Alanine/wd/17-03-16/stderr_methratio_3.txt: No such file or directory\n",
      "grep: /Volumes/Alanine/wd/17-03-16/stderr_methratio_4.txt: No such file or directory\n",
      "grep: /Volumes/Alanine/wd/17-03-16/stderr_methratio_5.txt: No such file or directory\n",
      "grep: /Volumes/Alanine/wd/17-03-16/stderr_methratio_6.txt: No such file or directory\n",
      "grep: /Volumes/Alanine/wd/17-03-16/stderr_methratio_7.txt: No such file or directory\n",
      "grep: /Volumes/Alanine/wd/17-03-16/stderr_methratio_8.txt: No such file or directory\n",
      "grep: /Volumes/Alanine/wd/17-03-16/stderr_methratio_9.txt: No such file or directory\n",
      "grep: /Volumes/Alanine/wd/17-03-16/stderr_methratio_10.txt: No such file or directory\n",
      "grep: /Volumes/Alanine/wd/17-03-16/stderr_methratio_11.txt: No such file or directory\n",
      "grep: /Volumes/Alanine/wd/17-03-16/stderr_methratio_12.txt: No such file or directory\n",
      "grep: /Volumes/Alanine/wd/17-03-16/stderr_methratio_13.txt: No such file or directory\n",
      "grep: /Volumes/Alanine/wd/17-03-16/stderr_methratio_14.txt: No such file or directory\n",
      "grep: /Volumes/Alanine/wd/17-03-16/stderr_methratio_15.txt: No such file or directory\n",
      "grep: /Volumes/Alanine/wd/17-03-16/stderr_methratio_16.txt: No such file or directory\n",
      "grep: /Volumes/Alanine/wd/17-03-16/stderr_methratio_17.txt: No such file or directory\n",
      "grep: /Volumes/Alanine/wd/17-03-16/stderr_methratio_18.txt: No such file or directory\n"
     ]
    }
   ],
   "source": []
  },
  {
   "cell_type": "code",
   "execution_count": null,
   "metadata": {
    "collapsed": true
   },
   "outputs": [],
   "source": [
    "#first methratio files are converted to filter for CG context, 3x coverage (mr3x.awk), and reformatting (mr_gg.awk.sh).\n",
    "#due to issue passing variable to awk, simple scripts were used (included in repository)\n",
    "for i in (\"1\",\"2\",\"3\", \"4\", \"5\", \"6\", \"7\", \"8\",\"9\", \"10\", \"11\",\"12\",\"13\", \"14\", \"15\", \"16\", \"17\", \"18\"):\n",
    "    !echo {i}\n",
    "    !grep \"[A-Z][A-Z]CG[A-Z]\" <methratio_out_{i}_b.txt> methratio_out_{i}CG.txt\n",
    "    !awk -f ../scripts/mr3x.awk methratio_out_{i}CG.txt > mr3x.{i}.txt\n",
    "    !awk -f ../scripts/mr_gg.awk.sh mr3x.{i}.txt > mkfmt_{i}.txt\n",
    "    !date +\"%y-%m-%d\""
   ]
  }
 ],
 "metadata": {
  "kernelspec": {
   "display_name": "Python 2",
   "language": "python",
   "name": "python2"
  },
  "language_info": {
   "codemirror_mode": {
    "name": "ipython",
    "version": 2
   },
   "file_extension": ".py",
   "mimetype": "text/x-python",
   "name": "python",
   "nbconvert_exporter": "python",
   "pygments_lexer": "ipython2",
   "version": "2.7.12"
  }
 },
 "nbformat": 4,
 "nbformat_minor": 0
}
