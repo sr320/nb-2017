{
 "cells": [
  {
   "cell_type": "markdown",
   "metadata": {},
   "source": [
    "rerunning https://github.com/sr320/nb-2016/blob/master/O_lurida/BSMAP-06-BGIv001.ipynb"
   ]
  },
  {
   "cell_type": "markdown",
   "metadata": {},
   "source": [
    "<img src=\"http://eagle.fish.washington.edu/cnidarian/skitch/MBD_BSseq_December_2015_·_RobertsLab_project-olympia_oyster-genomic_Wiki_1E7AD4C1.png\" alt=\"MBD_BSseq_December_2015_·_RobertsLab_project-olympia_oyster-genomic_Wiki_1E7AD4C1.png\"/>"
   ]
  },
  {
   "cell_type": "code",
   "execution_count": 1,
   "metadata": {
    "collapsed": true
   },
   "outputs": [],
   "source": [
    "bsmaploc=\"/Applications/bioinfo/BSMAP/bsmap-2.74/\"\n"
   ]
  },
  {
   "cell_type": "code",
   "execution_count": 3,
   "metadata": {
    "collapsed": true
   },
   "outputs": [],
   "source": [
    "!mkdir /Volumes/Alanine/wd/17-03-16\n"
   ]
  },
  {
   "cell_type": "code",
   "execution_count": 5,
   "metadata": {
    "collapsed": true
   },
   "outputs": [],
   "source": [
    "for i in (\"1\",\"2\",\"3\", \"4\", \"5\", \"6\", \"7\", \"8\",\"9\", \"10\", \"11\",\"12\",\"13\", \"14\", \"15\", \"16\", \"17\", \"18\"):\n",
    "    !cp /Volumes/web/nightingales/O_lurida/20160203_mbdseq/zr1394_{i}.fastq.gz \\\n",
    "/Volumes/Alanine/wd/17-03-16/"
   ]
  },
  {
   "cell_type": "code",
   "execution_count": 6,
   "metadata": {
    "collapsed": true
   },
   "outputs": [],
   "source": [
    "for i in (\"1\",\"2\",\"3\", \"4\", \"5\", \"6\", \"7\", \"8\",\"9\", \"10\", \"11\",\"12\",\"13\", \"14\", \"15\", \"16\", \"17\", \"18\"):\n",
    "    !{bsmaploc}bsmap \\\n",
    "-a /Volumes/Alanine/wd/17-03-16/zr1394_{i}.fastq.gz \\\n",
    "-d /Volumes/Alanine/wd/17-03-16/OlyBGI-scaffold-10k.fa \\\n",
    "-o /Volumes/Alanine/wd/17-03-16/bsmap_out_{i}.sam \\\n",
    "-p 4 \\\n",
    "2> /Volumes/Alanine/wd/17-03-16/stderr_bsmap_{i}.txt"
   ]
  },
  {
   "cell_type": "code",
   "execution_count": 11,
   "metadata": {
    "collapsed": false
   },
   "outputs": [
    {
     "name": "stdout",
     "output_type": "stream",
     "text": [
      "Libraryv1\n",
      "Total number of aligned reads: 3302222 (4.5%)\n",
      "Libraryv2\n",
      "Total number of aligned reads: 2968517 (4%)\n",
      "Libraryv3\n",
      "Total number of aligned reads: 3307706 (4.3%)\n",
      "Libraryv4\n",
      "Total number of aligned reads: 2814861 (4.4%)\n",
      "Libraryv5\n",
      "Total number of aligned reads: 3777497 (4.1%)\n",
      "Libraryv6\n",
      "Total number of aligned reads: 2873960 (4%)\n",
      "Libraryv7\n",
      "Total number of aligned reads: 3522640 (4.5%)\n",
      "Libraryv8\n",
      "Total number of aligned reads: 2740547 (4.4%)\n",
      "Libraryv9\n",
      "Total number of aligned reads: 5489606 (4.5%)\n",
      "Libraryv10\n",
      "Total number of aligned reads: 6072123 (5.4%)\n",
      "Libraryv11\n",
      "Total number of aligned reads: 4305069 (5.1%)\n",
      "Libraryv12\n",
      "Total number of aligned reads: 3651165 (4.2%)\n",
      "Libraryv13\n",
      "Total number of aligned reads: 4466096 (4.8%)\n",
      "Libraryv14\n",
      "Total number of aligned reads: 6760743 (4.8%)\n",
      "Libraryv15\n",
      "Total number of aligned reads: 4890956 (4.9%)\n",
      "Libraryv16\n",
      "Total number of aligned reads: 5427322 (5.1%)\n",
      "Libraryv17\n",
      "Total number of aligned reads: 3144110 (4.7%)\n",
      "Libraryv18\n",
      "Total number of aligned reads: 3358704 (4.3%)\n"
     ]
    }
   ],
   "source": [
    "for i in  (\"1\",\"2\",\"3\", \"4\", \"5\", \"6\", \"7\", \"8\",\"9\", \"10\", \"11\",\"12\",\"13\", \"14\", \"15\", \"16\", \"17\", \"18\"):\n",
    "    !echo Libraryv{i}\n",
    "    !grep \"Total number of aligned reads\" /Volumes/Alanine/wd/17-03-16/stderr_bsmap_{i}.txt"
   ]
  },
  {
   "cell_type": "code",
   "execution_count": 2,
   "metadata": {
    "collapsed": false
   },
   "outputs": [
    {
     "name": "stdout",
     "output_type": "stream",
     "text": [
      "total 1340027 valid mappings, 792620 covered cytosines, average coverage: 6.31 fold.\n",
      "total 1209419 valid mappings, 755168 covered cytosines, average coverage: 5.97 fold.\n",
      "total 1354093 valid mappings, 798900 covered cytosines, average coverage: 6.30 fold.\n",
      "total 1151692 valid mappings, 716889 covered cytosines, average coverage: 6.00 fold.\n",
      "total 1522209 valid mappings, 867765 covered cytosines, average coverage: 6.46 fold.\n",
      "total 1165705 valid mappings, 838911 covered cytosines, average coverage: 5.09 fold.\n",
      "total 1428274 valid mappings, 788927 covered cytosines, average coverage: 6.72 fold.\n",
      "total 1119103 valid mappings, 670576 covered cytosines, average coverage: 6.25 fold.\n",
      "total 2225181 valid mappings, 1009283 covered cytosines, average coverage: 7.90 fold.\n",
      "total 2584397 valid mappings, 697980 covered cytosines, average coverage: 13.33 fold.\n",
      "total 1727527 valid mappings, 650096 covered cytosines, average coverage: 10.27 fold.\n",
      "total 1484586 valid mappings, 885684 covered cytosines, average coverage: 6.13 fold.\n",
      "total 1813149 valid mappings, 763048 covered cytosines, average coverage: 8.90 fold.\n",
      "total 2709037 valid mappings, 890117 covered cytosines, average coverage: 11.45 fold.\n",
      "total 1981101 valid mappings, 739715 covered cytosines, average coverage: 10.15 fold.\n",
      "total 2176932 valid mappings, 794614 covered cytosines, average coverage: 10.40 fold.\n",
      "total 1295911 valid mappings, 596905 covered cytosines, average coverage: 8.04 fold.\n",
      "total 1373814 valid mappings, 781807 covered cytosines, average coverage: 6.46 fold.\n"
     ]
    }
   ],
   "source": [
    "for i in  (\"1\",\"2\",\"3\", \"4\", \"5\", \"6\", \"7\", \"8\",\"9\", \"10\", \"11\",\"12\",\"13\", \"14\", \"15\", \"16\", \"17\", \"18\"):\n",
    "    !python {bsmaploc}methratio.py \\\n",
    "-d /Volumes/Alanine/wd/17-03-16/OlyBGI-scaffold-10k.fa \\\n",
    "-u -z -g \\\n",
    "-o /Volumes/Alanine/wd/17-03-16/methratio_out_{i}.txt \\\n",
    "-s {bsmaploc}samtools \\\n",
    "/Volumes/Alanine/wd/17-03-16/bsmap_out_{i}.sam \\\n",
    "2> /Volumes/Alanine/wd/17-03-16/stderr_methratio_{i}.txt"
   ]
  },
  {
   "cell_type": "code",
   "execution_count": 5,
   "metadata": {
    "collapsed": false
   },
   "outputs": [
    {
     "name": "stdout",
     "output_type": "stream",
     "text": [
      "==> /Volumes/Alanine/wd/17-03-16/methratio_out_1.txt <==\n",
      "chr\tpos\tstrand\tcontext\tratio\teff_CT_count\tC_count\tCT_count\trev_G_count\trev_GA_count\tCI_lower\tCI_upper\n",
      "scaffold1\t7\t+\tGCCAG\t1.000\t1.00\t1\t1\t0\t0\t0.207\t1.000\n",
      "scaffold1\t10\t+\tAGCTT\t0.000\t1.00\t0\t1\t0\t0\t0.000\t0.793\n",
      "scaffold1\t24\t+\tATCTT\t0.000\t1.00\t0\t1\t0\t0\t0.000\t0.793\n",
      "scaffold1\t48\t+\tATCAT\t0.000\t1.00\t0\t1\t0\t0\t0.000\t0.793\n",
      "scaffold1\t370\t+\tATCAA\t0.000\t1.00\t0\t1\t0\t0\t0.000\t0.793\n",
      "scaffold1\t376\t+\tGTCTC\t0.000\t1.00\t0\t1\t0\t0\t0.000\t0.793\n",
      "scaffold1\t378\t+\tCTCGA\t1.000\t1.00\t1\t1\t1\t1\t0.207\t1.000\n",
      "scaffold1\t390\t+\tGTCAT\t0.000\t1.00\t0\t1\t0\t0\t0.000\t0.793\n",
      "scaffold1\t398\t+\tTACCG\t0.000\t1.00\t0\t1\t0\t0\t0.000\t0.793\n",
      "\n",
      "==> /Volumes/Alanine/wd/17-03-16/methratio_out_10.txt <==\n",
      "chr\tpos\tstrand\tcontext\tratio\teff_CT_count\tC_count\tCT_count\trev_G_count\trev_GA_count\tCI_lower\tCI_upper\n",
      "scaffold1\t80\t+\tAACCT\t0.000\t1.00\t0\t1\t0\t0\t0.000\t0.793\n",
      "scaffold1\t81\t+\tACCTC\t0.000\t1.00\t0\t1\t0\t0\t0.000\t0.793\n",
      "scaffold1\t83\t+\tCTCAT\t0.000\t1.00\t0\t1\t0\t0\t0.000\t0.793\n",
      "scaffold1\t93\t+\tGACAC\t0.000\t1.00\t0\t1\t0\t0\t0.000\t0.793\n",
      "scaffold1\t108\t-\tGTGTT\t0.000\t2.00\t0\t2\t0\t0\t0.000\t0.658\n",
      "scaffold1\t113\t-\tTTGGA\t0.000\t2.00\t0\t2\t1\t1\t0.000\t0.658\n",
      "scaffold1\t114\t-\tTGGAA\t0.000\t2.00\t0\t2\t1\t1\t0.000\t0.658\n",
      "scaffold1\t119\t+\tAACGG\t0.000\t3.00\t0\t3\t1\t1\t0.000\t0.562\n",
      "scaffold1\t121\t-\tCGGGA\t0.000\t2.00\t0\t2\t1\t1\t0.000\t0.658\n",
      "\n",
      "==> /Volumes/Alanine/wd/17-03-16/methratio_out_11.txt <==\n",
      "chr\tpos\tstrand\tcontext\tratio\teff_CT_count\tC_count\tCT_count\trev_G_count\trev_GA_count\tCI_lower\tCI_upper\n",
      "scaffold1\t140\t+\tGTCCA\t0.000\t1.00\t0\t1\t0\t0\t0.000\t0.793\n",
      "scaffold1\t141\t+\tTCCAA\t0.000\t1.00\t0\t1\t0\t0\t0.000\t0.793\n",
      "scaffold1\t147\t+\tAACTG\t0.000\t1.00\t0\t1\t0\t0\t0.000\t0.793\n",
      "scaffold1\t150\t+\tTGCAC\t0.000\t1.00\t0\t1\t0\t0\t0.000\t0.793\n",
      "scaffold1\t152\t+\tCACCA\t0.000\t1.00\t0\t1\t0\t0\t0.000\t0.793\n",
      "scaffold1\t153\t+\tACCAC\t0.000\t1.00\t0\t1\t0\t0\t0.000\t0.793\n",
      "scaffold1\t155\t+\tCACTA\t0.000\t1.00\t0\t1\t0\t0\t0.000\t0.793\n",
      "scaffold1\t169\t+\tTTCTC\t0.000\t1.00\t0\t1\t0\t0\t0.000\t0.793\n",
      "scaffold1\t171\t+\tCTCTG\t0.000\t1.00\t0\t1\t0\t0\t0.000\t0.793\n",
      "\n",
      "==> /Volumes/Alanine/wd/17-03-16/methratio_out_12.txt <==\n",
      "chr\tpos\tstrand\tcontext\tratio\teff_CT_count\tC_count\tCT_count\trev_G_count\trev_GA_count\tCI_lower\tCI_upper\n",
      "scaffold1\t4\t+\tTCCGC\tNA\t0.00\t0\t1\t0\t1\tNA\tNA\n",
      "scaffold1\t17\t-\tTTGTG\t0.000\t1.00\t0\t1\t0\t0\t0.000\t0.793\n",
      "scaffold1\t42\t-\tTTGAA\t0.000\t1.00\t0\t1\t0\t0\t0.000\t0.793\n",
      "scaffold1\t73\t-\tTTGCA\t0.000\t1.00\t0\t1\t0\t0\t0.000\t0.793\n",
      "scaffold1\t87\t-\tTTGAC\t0.000\t1.00\t0\t1\t0\t0\t0.000\t0.793\n",
      "scaffold1\t91\t-\tCAGAC\t0.000\t1.00\t0\t1\t0\t0\t0.000\t0.793\n",
      "scaffold1\t97\t-\tCTGAA\t1.000\t1.00\t1\t1\t0\t0\t0.207\t1.000\n",
      "scaffold1\t137\t-\tCTGGT\t0.000\t1.00\t0\t1\t0\t0\t0.000\t0.793\n",
      "scaffold1\t138\t-\tTGGTC\t0.000\t1.00\t0\t1\t0\t0\t0.000\t0.793\n",
      "\n",
      "==> /Volumes/Alanine/wd/17-03-16/methratio_out_13.txt <==\n",
      "chr\tpos\tstrand\tcontext\tratio\teff_CT_count\tC_count\tCT_count\trev_G_count\trev_GA_count\tCI_lower\tCI_upper\n",
      "scaffold1\t147\t+\tAACTG\t1.000\t1.00\t1\t1\t0\t0\t0.207\t1.000\n",
      "scaffold1\t277\t+\tTTCCC\t0.000\t1.00\t0\t1\t0\t0\t0.000\t0.793\n",
      "scaffold1\t278\t+\tTCCCA\t0.000\t1.00\t0\t1\t0\t0\t0.000\t0.793\n",
      "scaffold1\t279\t+\tCCCAT\t0.000\t1.00\t0\t1\t0\t0\t0.000\t0.793\n",
      "scaffold1\t294\t+\tAGCCA\t0.000\t1.00\t0\t1\t0\t0\t0.000\t0.793\n",
      "scaffold1\t295\t+\tGCCAT\t0.000\t1.00\t0\t1\t0\t0\t0.000\t0.793\n",
      "scaffold1\t303\t+\tGGCAA\t0.000\t1.00\t0\t1\t0\t0\t0.000\t0.793\n",
      "scaffold1\t306\t+\tAACAA\t0.000\t1.00\t0\t1\t0\t0\t0.000\t0.793\n",
      "scaffold1\t316\t+\tTACAC\t0.000\t1.00\t0\t1\t0\t0\t0.000\t0.793\n",
      "\n",
      "==> /Volumes/Alanine/wd/17-03-16/methratio_out_14.txt <==\n",
      "chr\tpos\tstrand\tcontext\tratio\teff_CT_count\tC_count\tCT_count\trev_G_count\trev_GA_count\tCI_lower\tCI_upper\n",
      "scaffold1\t119\t+\tAACGG\tNA\t0.00\t0\t1\t0\t1\tNA\tNA\n",
      "scaffold1\t124\t+\tGACTG\t0.000\t1.00\t0\t1\t0\t0\t0.000\t0.793\n",
      "scaffold1\t135\t+\tTTCTG\t0.000\t1.00\t0\t1\t0\t0\t0.000\t0.793\n",
      "scaffold1\t251\t+\tGACAT\t0.000\t1.00\t0\t1\t0\t0\t0.000\t0.793\n",
      "scaffold1\t261\t+\tAGCCA\t0.000\t1.00\t0\t1\t0\t0\t0.000\t0.793\n",
      "scaffold1\t262\t+\tGCCAA\t0.000\t1.00\t0\t1\t0\t0\t0.000\t0.793\n",
      "scaffold1\t269\t+\tTACAG\t0.000\t1.00\t0\t1\t0\t0\t0.000\t0.793\n",
      "scaffold1\t277\t+\tTTCCC\t0.000\t1.00\t0\t1\t0\t0\t0.000\t0.793\n",
      "scaffold1\t278\t+\tTCCCA\t0.000\t1.00\t0\t1\t0\t0\t0.000\t0.793\n",
      "\n",
      "==> /Volumes/Alanine/wd/17-03-16/methratio_out_15.txt <==\n",
      "chr\tpos\tstrand\tcontext\tratio\teff_CT_count\tC_count\tCT_count\trev_G_count\trev_GA_count\tCI_lower\tCI_upper\n",
      "scaffold1\t108\t-\tGTGTT\t0.000\t1.00\t0\t1\t0\t0\t0.000\t0.793\n",
      "scaffold1\t113\t-\tTTGGA\t0.000\t1.00\t0\t1\t0\t0\t0.000\t0.793\n",
      "scaffold1\t114\t-\tTGGAA\t0.000\t1.00\t0\t1\t0\t0\t0.000\t0.793\n",
      "scaffold1\t119\t+\tAACGG\t0.000\t1.00\t0\t1\t0\t0\t0.000\t0.793\n",
      "scaffold1\t121\t-\tCGGGA\t0.000\t1.00\t0\t1\t0\t0\t0.000\t0.793\n",
      "scaffold1\t122\t-\tGGGAC\t0.000\t1.00\t0\t1\t0\t0\t0.000\t0.793\n",
      "scaffold1\t126\t-\tCTGTT\t0.000\t1.00\t0\t1\t0\t0\t0.000\t0.793\n",
      "scaffold1\t137\t-\tCTGGT\t0.000\t1.00\t0\t1\t0\t0\t0.000\t0.793\n",
      "scaffold1\t138\t-\tTGGTC\t0.000\t1.00\t0\t1\t0\t0\t0.000\t0.793\n",
      "\n",
      "==> /Volumes/Alanine/wd/17-03-16/methratio_out_16.txt <==\n",
      "chr\tpos\tstrand\tcontext\tratio\teff_CT_count\tC_count\tCT_count\trev_G_count\trev_GA_count\tCI_lower\tCI_upper\n",
      "scaffold1\t113\t-\tTTGGA\t0.000\t1.00\t0\t1\t0\t0\t0.000\t0.793\n",
      "scaffold1\t114\t-\tTGGAA\t0.000\t1.00\t0\t1\t0\t0\t0.000\t0.793\n",
      "scaffold1\t119\t+\tAACGG\t0.000\t1.00\t0\t1\t0\t0\t0.000\t0.793\n",
      "scaffold1\t121\t-\tCGGGA\t0.000\t1.00\t0\t1\t0\t0\t0.000\t0.793\n",
      "scaffold1\t122\t-\tGGGAC\t0.000\t1.00\t0\t1\t0\t0\t0.000\t0.793\n",
      "scaffold1\t126\t-\tCTGTT\t0.000\t1.00\t0\t1\t0\t0\t0.000\t0.793\n",
      "scaffold1\t137\t-\tCTGGT\t0.000\t1.00\t0\t1\t0\t0\t0.000\t0.793\n",
      "scaffold1\t149\t-\tCTGCA\t0.000\t1.00\t0\t1\t0\t0\t0.000\t0.793\n",
      "scaffold1\t338\t+\tATCCA\t1.000\t1.00\t1\t1\t0\t0\t0.207\t1.000\n",
      "\n",
      "==> /Volumes/Alanine/wd/17-03-16/methratio_out_17.txt <==\n",
      "chr\tpos\tstrand\tcontext\tratio\teff_CT_count\tC_count\tCT_count\trev_G_count\trev_GA_count\tCI_lower\tCI_upper\n",
      "scaffold1\t108\t-\tGTGTT\t0.000\t1.00\t0\t1\t0\t0\t0.000\t0.793\n",
      "scaffold1\t113\t-\tTTGGA\t0.000\t1.00\t0\t1\t0\t0\t0.000\t0.793\n",
      "scaffold1\t114\t-\tTGGAA\t0.000\t1.00\t0\t1\t0\t0\t0.000\t0.793\n",
      "scaffold1\t119\t+\tAACGG\t0.000\t1.00\t0\t1\t0\t0\t0.000\t0.793\n",
      "scaffold1\t121\t-\tCGGGA\t0.000\t1.00\t0\t1\t0\t0\t0.000\t0.793\n",
      "scaffold1\t122\t-\tGGGAC\t0.000\t1.00\t0\t1\t0\t0\t0.000\t0.793\n",
      "scaffold1\t126\t-\tCTGTT\t0.000\t1.00\t0\t1\t0\t0\t0.000\t0.793\n",
      "scaffold1\t137\t-\tCTGGT\t0.000\t1.00\t0\t1\t0\t0\t0.000\t0.793\n",
      "scaffold1\t149\t-\tCTGCA\t0.000\t1.00\t0\t1\t0\t0\t0.000\t0.793\n",
      "\n",
      "==> /Volumes/Alanine/wd/17-03-16/methratio_out_18.txt <==\n",
      "chr\tpos\tstrand\tcontext\tratio\teff_CT_count\tC_count\tCT_count\trev_G_count\trev_GA_count\tCI_lower\tCI_upper\n",
      "scaffold1\t113\t-\tTTGGA\t0.000\t1.00\t0\t1\t0\t0\t0.000\t0.793\n",
      "scaffold1\t114\t-\tTGGAA\t0.000\t1.00\t0\t1\t0\t0\t0.000\t0.793\n",
      "scaffold1\t119\t+\tAACGG\t0.000\t1.00\t0\t1\t0\t0\t0.000\t0.793\n",
      "scaffold1\t121\t-\tCGGGA\t0.000\t1.00\t0\t1\t0\t0\t0.000\t0.793\n",
      "scaffold1\t122\t-\tGGGAC\t0.000\t1.00\t0\t1\t0\t0\t0.000\t0.793\n",
      "scaffold1\t126\t-\tCTGTT\t0.000\t1.00\t0\t1\t0\t0\t0.000\t0.793\n",
      "scaffold1\t135\t+\tTTCTG\t0.000\t1.00\t0\t1\t0\t0\t0.000\t0.793\n",
      "scaffold1\t137\t-\tCTGGT\t0.000\t1.00\t0\t1\t0\t0\t0.000\t0.793\n",
      "scaffold1\t140\t+\tGTCCA\t0.000\t1.00\t0\t1\t1\t1\t0.000\t0.793\n",
      "\n",
      "==> /Volumes/Alanine/wd/17-03-16/methratio_out_2.txt <==\n",
      "chr\tpos\tstrand\tcontext\tratio\teff_CT_count\tC_count\tCT_count\trev_G_count\trev_GA_count\tCI_lower\tCI_upper\n",
      "scaffold1\t73\t-\tTTGCA\t0.000\t1.00\t0\t1\t0\t0\t0.000\t0.793\n",
      "scaffold1\t87\t-\tTTGAC\t0.000\t1.00\t0\t1\t0\t0\t0.000\t0.793\n",
      "scaffold1\t91\t-\tCAGAC\t0.000\t1.00\t0\t1\t0\t0\t0.000\t0.793\n",
      "scaffold1\t97\t-\tCTGAA\t0.000\t2.00\t0\t2\t0\t0\t0.000\t0.658\n",
      "scaffold1\t103\t-\tATGGG\t0.000\t2.00\t0\t2\t0\t0\t0.000\t0.658\n",
      "scaffold1\t104\t-\tTGGGG\t0.000\t2.00\t0\t2\t0\t0\t0.000\t0.658\n",
      "scaffold1\t105\t-\tGGGGT\t0.000\t2.00\t0\t2\t0\t0\t0.000\t0.658\n",
      "scaffold1\t106\t-\tGGGTG\t0.000\t2.00\t0\t2\t0\t0\t0.000\t0.658\n",
      "scaffold1\t108\t-\tGTGTT\t0.000\t1.00\t0\t1\t0\t0\t0.000\t0.793\n",
      "\n",
      "==> /Volumes/Alanine/wd/17-03-16/methratio_out_3.txt <==\n",
      "chr\tpos\tstrand\tcontext\tratio\teff_CT_count\tC_count\tCT_count\trev_G_count\trev_GA_count\tCI_lower\tCI_upper\n",
      "scaffold1\t331\t-\tATGCA\t0.000\t1.00\t0\t1\t0\t0\t0.000\t0.793\n",
      "scaffold1\t362\t-\tTTGCA\t0.000\t1.00\t0\t1\t0\t0\t0.000\t0.793\n",
      "scaffold1\t374\t-\tAAGTC\t0.000\t1.00\t0\t1\t0\t0\t0.000\t0.793\n",
      "scaffold1\t704\t+\tTTCGG\t0.000\t1.00\t0\t1\t1\t1\t0.000\t0.793\n",
      "scaffold1\t715\t+\tTGCTG\t0.000\t1.00\t0\t1\t0\t0\t0.000\t0.793\n",
      "scaffold1\t718\t+\tTGCAG\t0.000\t1.00\t0\t1\t0\t0\t0.000\t0.793\n",
      "scaffold1\t722\t+\tGTCCC\t0.000\t1.00\t0\t1\t0\t0\t0.000\t0.793\n",
      "scaffold1\t723\t+\tTCCCC\t0.000\t1.00\t0\t1\t0\t0\t0.000\t0.793\n",
      "scaffold1\t724\t+\tCCCCT\t0.000\t1.00\t0\t1\t0\t0\t0.000\t0.793\n",
      "\n",
      "==> /Volumes/Alanine/wd/17-03-16/methratio_out_4.txt <==\n",
      "chr\tpos\tstrand\tcontext\tratio\teff_CT_count\tC_count\tCT_count\trev_G_count\trev_GA_count\tCI_lower\tCI_upper\n",
      "scaffold1\t331\t-\tATGCA\t0.000\t1.00\t0\t1\t0\t0\t0.000\t0.793\n",
      "scaffold1\t362\t-\tTTGCA\t0.000\t1.00\t0\t1\t1\t1\t0.000\t0.793\n",
      "scaffold1\t363\t+\tTGCAT\t0.000\t1.00\t0\t1\t0\t0\t0.000\t0.793\n",
      "scaffold1\t370\t+\tATCAA\t0.000\t1.00\t0\t1\t0\t0\t0.000\t0.793\n",
      "scaffold1\t374\t-\tAAGTC\t0.000\t1.00\t0\t1\t1\t1\t0.000\t0.793\n",
      "scaffold1\t376\t+\tGTCTC\t0.000\t1.00\t0\t1\t1\t1\t0.000\t0.793\n",
      "scaffold1\t378\t+\tCTCGA\t1.000\t1.00\t1\t1\t2\t2\t0.207\t1.000\n",
      "scaffold1\t390\t+\tGTCAT\t0.000\t1.00\t0\t1\t0\t0\t0.000\t0.793\n",
      "scaffold1\t398\t+\tTACCG\t0.000\t1.00\t0\t1\t0\t0\t0.000\t0.793\n",
      "\n",
      "==> /Volumes/Alanine/wd/17-03-16/methratio_out_5.txt <==\n",
      "chr\tpos\tstrand\tcontext\tratio\teff_CT_count\tC_count\tCT_count\trev_G_count\trev_GA_count\tCI_lower\tCI_upper\n",
      "scaffold1\t97\t-\tCTGAA\t0.000\t1.00\t0\t1\t0\t0\t0.000\t0.793\n",
      "scaffold1\t103\t-\tATGGG\t0.000\t1.00\t0\t1\t0\t0\t0.000\t0.793\n",
      "scaffold1\t108\t-\tGTGTT\t0.000\t1.00\t0\t1\t0\t0\t0.000\t0.793\n",
      "scaffold1\t113\t-\tTTGGA\t0.000\t2.00\t0\t2\t0\t0\t0.000\t0.658\n",
      "scaffold1\t114\t-\tTGGAA\t0.000\t3.00\t0\t3\t0\t0\t0.000\t0.562\n",
      "scaffold1\t119\t+\tAACGG\t1.000\t2.00\t2\t2\t3\t3\t0.342\t1.000\n",
      "scaffold1\t121\t-\tCGGGA\t0.000\t2.00\t0\t2\t0\t0\t0.000\t0.658\n",
      "scaffold1\t122\t-\tGGGAC\t0.000\t2.00\t0\t2\t0\t0\t0.000\t0.658\n",
      "scaffold1\t126\t-\tCTGTT\t0.000\t2.00\t0\t2\t0\t0\t0.000\t0.658\n",
      "\n",
      "==> /Volumes/Alanine/wd/17-03-16/methratio_out_6.txt <==\n",
      "chr\tpos\tstrand\tcontext\tratio\teff_CT_count\tC_count\tCT_count\trev_G_count\trev_GA_count\tCI_lower\tCI_upper\n",
      "scaffold1\t89\t+\tGACAG\t0.000\t2.00\t0\t2\t0\t0\t0.000\t0.658\n",
      "scaffold1\t93\t+\tGACAC\t0.000\t2.00\t0\t2\t0\t0\t0.000\t0.658\n",
      "scaffold1\t95\t+\tCACTG\t0.000\t2.00\t0\t2\t0\t0\t0.000\t0.658\n",
      "scaffold1\t113\t-\tTTGGA\t0.000\t3.00\t0\t3\t2\t2\t0.000\t0.562\n",
      "scaffold1\t114\t-\tTGGAA\t0.000\t3.00\t0\t3\t2\t2\t0.000\t0.562\n",
      "scaffold1\t119\t+\tAACGG\t0.600\t5.00\t3\t5\t3\t3\t0.231\t0.882\n",
      "scaffold1\t121\t-\tCGGGA\t0.000\t3.00\t0\t3\t2\t2\t0.000\t0.562\n",
      "scaffold1\t122\t-\tGGGAC\t0.000\t3.00\t0\t3\t2\t2\t0.000\t0.562\n",
      "scaffold1\t124\t+\tGACTG\t0.000\t2.00\t0\t2\t1\t1\t0.000\t0.658\n",
      "\n",
      "==> /Volumes/Alanine/wd/17-03-16/methratio_out_7.txt <==\n",
      "chr\tpos\tstrand\tcontext\tratio\teff_CT_count\tC_count\tCT_count\trev_G_count\trev_GA_count\tCI_lower\tCI_upper\n",
      "scaffold1\t206\t+\tCACGT\t1.000\t2.00\t2\t2\t2\t2\t0.342\t1.000\n",
      "scaffold1\t235\t-\tAAGTC\t0.000\t2.00\t0\t2\t0\t0\t0.000\t0.658\n",
      "scaffold1\t240\t-\tAAGAG\t0.000\t2.00\t0\t2\t0\t0\t0.000\t0.658\n",
      "scaffold1\t242\t-\tGAGGA\t0.000\t2.00\t0\t2\t0\t0\t0.000\t0.658\n",
      "scaffold1\t243\t-\tAGGAA\t0.000\t2.00\t0\t2\t0\t0\t0.000\t0.658\n",
      "scaffold1\t277\t+\tTTCCC\t1.000\t1.00\t1\t1\t0\t0\t0.207\t1.000\n",
      "scaffold1\t278\t+\tTCCCA\t0.000\t1.00\t0\t1\t0\t0\t0.000\t0.793\n",
      "scaffold1\t279\t+\tCCCAT\t0.000\t1.00\t0\t1\t0\t0\t0.000\t0.793\n",
      "scaffold1\t294\t+\tAGCCA\t0.000\t1.00\t0\t1\t0\t0\t0.000\t0.793\n",
      "\n",
      "==> /Volumes/Alanine/wd/17-03-16/methratio_out_8.txt <==\n",
      "chr\tpos\tstrand\tcontext\tratio\teff_CT_count\tC_count\tCT_count\trev_G_count\trev_GA_count\tCI_lower\tCI_upper\n",
      "scaffold1\t103\t-\tATGGG\t0.000\t1.00\t0\t1\t0\t0\t0.000\t0.793\n",
      "scaffold1\t106\t-\tGGGTG\t0.000\t2.00\t0\t2\t0\t0\t0.000\t0.658\n",
      "scaffold1\t108\t-\tGTGTT\t0.000\t4.00\t0\t4\t0\t0\t0.000\t0.490\n",
      "scaffold1\t113\t-\tTTGGA\t0.000\t4.00\t0\t4\t0\t0\t0.000\t0.490\n",
      "scaffold1\t114\t-\tTGGAA\t0.000\t4.00\t0\t4\t0\t0\t0.000\t0.490\n",
      "scaffold1\t119\t+\tAACGG\t0.000\t4.00\t0\t4\t0\t0\t0.000\t0.490\n",
      "scaffold1\t121\t-\tCGGGA\t0.000\t4.00\t0\t4\t0\t0\t0.000\t0.490\n",
      "scaffold1\t122\t-\tGGGAC\t0.000\t4.00\t0\t4\t0\t0\t0.000\t0.490\n",
      "scaffold1\t126\t-\tCTGTT\t0.000\t4.00\t0\t4\t0\t0\t0.000\t0.490\n",
      "\n",
      "==> /Volumes/Alanine/wd/17-03-16/methratio_out_9.txt <==\n",
      "chr\tpos\tstrand\tcontext\tratio\teff_CT_count\tC_count\tCT_count\trev_G_count\trev_GA_count\tCI_lower\tCI_upper\n",
      "scaffold1\t87\t-\tTTGAC\t0.000\t1.00\t0\t1\t0\t0\t0.000\t0.793\n",
      "scaffold1\t91\t-\tCAGAC\t0.000\t1.00\t0\t1\t0\t0\t0.000\t0.793\n",
      "scaffold1\t97\t-\tCTGAA\t0.000\t1.00\t0\t1\t0\t0\t0.000\t0.793\n",
      "scaffold1\t103\t-\tATGGG\t0.000\t1.00\t0\t1\t0\t0\t0.000\t0.793\n",
      "scaffold1\t104\t-\tTGGGG\t0.000\t1.00\t0\t1\t0\t0\t0.000\t0.793\n",
      "scaffold1\t105\t-\tGGGGT\t0.000\t1.00\t0\t1\t0\t0\t0.000\t0.793\n",
      "scaffold1\t106\t-\tGGGTG\t0.000\t1.00\t0\t1\t0\t0\t0.000\t0.793\n",
      "scaffold1\t108\t-\tGTGTT\t0.000\t1.00\t0\t1\t0\t0\t0.000\t0.793\n",
      "scaffold1\t113\t-\tTTGGA\t0.000\t1.00\t0\t1\t0\t0\t0.000\t0.793\n"
     ]
    }
   ],
   "source": [
    "!head /Volumes/Alanine/wd/17-03-16/meth*"
   ]
  },
  {
   "cell_type": "code",
   "execution_count": 6,
   "metadata": {
    "collapsed": false
   },
   "outputs": [
    {
     "data": {
      "text/plain": [
       "u'/Users/sr320/git-repos/nb-2017/O_lurida'"
      ]
     },
     "execution_count": 6,
     "metadata": {},
     "output_type": "execute_result"
    }
   ],
   "source": [
    "pwd"
   ]
  },
  {
   "cell_type": "code",
   "execution_count": null,
   "metadata": {
    "collapsed": true
   },
   "outputs": [],
   "source": [
    "#first methratio files are converted to filter for CG context, 3x coverage (mr3x.awk), and reformatting (mr_gg.awk.sh).\n",
    "#due to issue passing variable to awk, simple scripts were used (included in repository)\n",
    "for i in (\"1\",\"2\",\"3\", \"4\", \"5\", \"6\", \"7\", \"8\",\"9\", \"10\", \"11\",\"12\",\"13\", \"14\", \"15\", \"16\", \"17\", \"18\"):\n",
    "    !echo {i}\n",
    "    !grep \"[A-Z][A-Z]CG[A-Z]\" <methratio_out_{i}.txt> methratio_out_{i}CG.txt\n",
    "    !awk -f ../scripts/mr3x.awk methratio_out_{i}CG.txt > mr3x.{i}.txt\n",
    "    !awk -f ../scripts/mr_gg.awk.sh mr3x.{i}.txt > mkfmt_{i}.txt\n",
    "    !date +\"%y-%m-%d\""
   ]
  }
 ],
 "metadata": {
  "kernelspec": {
   "display_name": "Python 2",
   "language": "python",
   "name": "python2"
  },
  "language_info": {
   "codemirror_mode": {
    "name": "ipython",
    "version": 2
   },
   "file_extension": ".py",
   "mimetype": "text/x-python",
   "name": "python",
   "nbconvert_exporter": "python",
   "pygments_lexer": "ipython2",
   "version": "2.7.12"
  }
 },
 "nbformat": 4,
 "nbformat_minor": 0
}
