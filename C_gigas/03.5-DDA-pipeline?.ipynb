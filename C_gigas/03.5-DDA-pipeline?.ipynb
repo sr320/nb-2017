{
 "cells": [
  {
   "cell_type": "code",
   "execution_count": null,
   "metadata": {
    "collapsed": true
   },
   "outputs": [],
   "source": [
    "In directory need:\n",
    "    comet parameter files \n",
    "    mzxml\n",
    "    "
   ]
  },
  {
   "cell_type": "code",
   "execution_count": null,
   "metadata": {
    "collapsed": true
   },
   "outputs": [],
   "source": [
    "/home/srlab/Documents/rhonda"
   ]
  },
  {
   "cell_type": "code",
   "execution_count": null,
   "metadata": {
    "collapsed": true
   },
   "outputs": [],
   "source": []
  },
  {
   "cell_type": "code",
   "execution_count": null,
   "metadata": {
    "collapsed": true
   },
   "outputs": [],
   "source": [
    "/home/shared/comet/comet.2016012.linux.exe \\\n",
    "-Pcomet.params.high-low_de \\\n",
    "-DCg-Giga_cont_AA.fa \\\n",
    "*.mzXML \\\n",
    "&>> output.error.comet.log\n",
    "\n",
    "find *xml | \\\n",
    "xargs basename -s .pep.xml | \\\n",
    "xargs -I {} /usr/tpp_install/tpp/bin/xinteract \\\n",
    "-dDECOY_ \\\n",
    "-N{} \\\n",
    "{}.pep.xml \\\n",
    "-p0.9 \\\n",
    "-OAp \\\n",
    "&>> output.error.xin.log\n",
    "\n",
    "/usr/tpp_install/tpp/bin/ProteinProphet \\\n",
    "interact*.pep.xml \\\n",
    "interact-COMBINED.prot.xml \\\n",
    "&>> output.error.PP.log\n",
    "\n",
    "java -Xmx16g -jar /home/shared/abacus/abacus.jar -p \\\n",
    "Abacus.params"
   ]
  },
  {
   "cell_type": "code",
   "execution_count": null,
   "metadata": {
    "collapsed": true
   },
   "outputs": [],
   "source": [
    "copy rhonda session 4"
   ]
  },
  {
   "cell_type": "code",
   "execution_count": null,
   "metadata": {
    "collapsed": true
   },
   "outputs": [],
   "source": []
  }
 ],
 "metadata": {
  "kernelspec": {
   "display_name": "Python 2",
   "language": "python",
   "name": "python2"
  },
  "language_info": {
   "codemirror_mode": {
    "name": "ipython",
    "version": 2
   },
   "file_extension": ".py",
   "mimetype": "text/x-python",
   "name": "python",
   "nbconvert_exporter": "python",
   "pygments_lexer": "ipython2",
   "version": "2.7.12"
  }
 },
 "nbformat": 4,
 "nbformat_minor": 0
}
