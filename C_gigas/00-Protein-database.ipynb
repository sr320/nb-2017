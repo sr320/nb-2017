{
 "cells": [
  {
   "cell_type": "code",
   "execution_count": 1,
   "metadata": {
    "collapsed": false
   },
   "outputs": [
    {
     "name": "stdout",
     "output_type": "stream",
     "text": [
      "==> data/contigs.fasta.transdecoder.pep <==\r\n",
      ">CHOYP_043R.1.5|m.16874 CHOYP_043R.1.5|g.16874  ORF CHOYP_043R.1.5|g.16874 CHOYP_043R.1.5|m.16874 type:internal len:199 (-) CHOYP_043R.1.5:1-594(-)\r\n",
      "TPSGPTPSGPTPSVTPTPSGPTPSVTPTPSGSTPSGPTPSVTPTPSGPTPSGPTPSVTPT\r\n",
      "PSGPTPSVTPTPSVPTPSGPTPSVTPTPSGPTPSVTPTPSGPTPSGPTPSVTPTPSGPTP\r\n",
      "SGPTPSVTPTPSVTPTPSGPTPSVTSTPSAPTPSGPTPSGPTPSVTPTPSGPTPSGPTPS\r\n",
      "VTPTPSGPTPSVTPTPSG\r\n",
      ">CHOYP_043R.5.5|m.64252 CHOYP_043R.5.5|g.64252  ORF CHOYP_043R.5.5|g.64252 CHOYP_043R.5.5|m.64252 type:internal len:821 (+) CHOYP_043R.5.5:2-2461(+)\r\n",
      "SRPTPSVTPTPSGPTPSVTPTPSVSTPSGPTPSVTPTPSGPSPSVTPTPSGPSPSGPTPS\r\n",
      "ATPTPSGPTPSGTTPSGSTPSATITTISTPSTTVCSYVDIGPEQAIDVSLRSPSEDPDAP\r\n",
      "IENILQTNSVYKPKKEPTYDENVVVKIISQDTPTILRVSFTVNRADTVGLEYLTDYKQKI\r\n",
      "ITQNNETVEFVFAAGIITDNFTINIRSDSAEQPEISNLKIRACYKPVIGQPSTTTPNPSI\r\n",
      "\r\n",
      "==> data/contigs.fasta.transdecoder.pep.iprscan2.withID <==\r\n",
      "m.5643\t13CF8B870AA10786\t280\tHMMPfam\tPF00244\t14-3-3\t23\t270\t3.9e-102\tT\t08-Jun-2015\tIPR023410\t14-3-3 domain\tCHOYP_14332.1.2\t\r\n",
      "m.5644\tE4A005DBCE80F12D\t182\tHMMPfam\tPF07742\tBTG\t1\t114\t4.8e-41\tT\t08-Jun-2015\tIPR002087\tAnti-proliferative protein\tCHOYP_14332.1.2\t\r\n",
      "m.61737\t71649CBFAED2CB32\t251\tHMMPfam\tPF00244\t14-3-3\t5\t241\t4.5e-103\tT\t08-Jun-2015\tIPR023410\t14-3-3 domain\tCHOYP_14332.2.2\t\r\n",
      "m.3639\tAF7A49BCC4F45CE6\t130\tHMMPfam\tPF04081\tDNA_pol_delta_4\t67\t121\t1.2e-18\tT\t08-Jun-2015\tIPR007218\tDNA polymerase delta, subunit 4\tCellular Component: nucleus (GO:0005634), Biological Process: DNA replication (GO:0006260)\tCHOYP_1433E.1.2\t\r\n",
      "m.3638\t4CA9E64CDABF7498\t256\tHMMPfam\tPF00244\t14-3-3\t4\t238\t5.1e-113\tT\t08-Jun-2015\tIPR023410\t14-3-3 domain\tCHOYP_1433E.1.2\t\r\n",
      "m.63376\t4CA9E64CDABF7498\t256\tHMMPfam\tPF00244\t14-3-3\t4\t238\t5.1e-113\tT\t08-Jun-2015\tIPR023410\t14-3-3 domain\tCHOYP_1433E.2.2\t\r\n",
      "m.63378\t170BB3FD26542CC8\t145\tHMMPfam\tPF04505\tDispanin\t53\t129\t1.4e-23\tT\t08-Jun-2015\tIPR007593\tCD225/Dispanin family\tBiological Process: response to biotic stimulus (GO:0009607), Cellular Component: integral to membrane (GO:0016021)\tCHOYP_1433E.2.2\t\r\n",
      "m.8906\t05E715A55EC97770\t150\tHMMPfam\tPF00244\t14-3-3\t13\t140\t6.6e-62\tT\t08-Jun-2015\tIPR023410\t14-3-3 domain\tCHOYP_1433G.1.2\t\r\n",
      "m.63451\t3A894A146B2D40B8\t243\tHMMPfam\tPF00076\tRRM_1\t21\t82\t2e-15\tT\t08-Jun-2015\tIPR000504\tRNA recognition motif domain\tMolecular Function: nucleic acid binding (GO:0003676)\tCHOYP_1433G.2.2\t\r\n",
      "m.63451\t3A894A146B2D40B8\t243\tHMMPfam\tPF00098\tzf-CCHC\t102\t118\t7.5e-08\tT\t08-Jun-2015\tIPR001878\tZinc finger, CCHC-type\tMolecular Function: nucleic acid binding (GO:0003676), Molecular Function: zinc ion binding (GO:0008270)\tCHOYP_1433G.2.2\t\r\n"
     ]
    }
   ],
   "source": [
    "!head data/cont*"
   ]
  },
  {
   "cell_type": "markdown",
   "metadata": {},
   "source": [
    "## Cleaning up fasta-file"
   ]
  },
  {
   "cell_type": "code",
   "execution_count": null,
   "metadata": {
    "collapsed": true
   },
   "outputs": [],
   "source": []
  }
 ],
 "metadata": {
  "kernelspec": {
   "display_name": "Python 2",
   "language": "python",
   "name": "python2"
  },
  "language_info": {
   "codemirror_mode": {
    "name": "ipython",
    "version": 2
   },
   "file_extension": ".py",
   "mimetype": "text/x-python",
   "name": "python",
   "nbconvert_exporter": "python",
   "pygments_lexer": "ipython2",
   "version": "2.7.12"
  }
 },
 "nbformat": 4,
 "nbformat_minor": 0
}
