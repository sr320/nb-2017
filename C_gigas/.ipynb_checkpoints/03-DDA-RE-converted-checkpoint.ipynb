{
 "cells": [
  {
   "cell_type": "markdown",
   "metadata": {},
   "source": [
    "Files Rhonda have converted.."
   ]
  },
  {
   "cell_type": "markdown",
   "metadata": {},
   "source": [
    "```\n",
    "steven@emu:~/bioinfo/021117$ ls *mzXML\n",
    "20161205_Sample_11A.mzXML  20161205_Sample_27.mzXML   20161205_Sample_44A.mzXML\n",
    "20161205_Sample_11.mzXML   20161205_Sample_28A.mzXML  20161205_Sample_44.mzXML\n",
    "20161205_Sample_12A.mzXML  20161205_Sample_28.mzXML   20161205_Sample_48A.mzXML\n",
    "20161205_Sample_12.mzXML   20161205_Sample_32A.mzXML  20161205_Sample_48.mzXML\n",
    "20161205_Sample_16A.mzXML  20161205_Sample_32.mzXML   20161205_Sample_4A.mzXML\n",
    "20161205_Sample_16.mzXML   20161205_Sample_35A.mzXML  20161205_Sample_4.mzXML\n",
    "20161205_Sample_19A.mzXML  20161205_Sample_35.mzXML   20161205_Sample_51A.mzXML\n",
    "20161205_Sample_19.mzXML   20161205_Sample_36A.mzXML  20161205_Sample_51.mzXML\n",
    "20161205_Sample_1A.mzXML   20161205_Sample_36.mzXML   20161205_Sample_52A.mzXML\n",
    "20161205_sample_1.mzXML    20161205_Sample_3A.mzXML   20161205_Sample_52.mzXML\n",
    "20161205_Sample_20A.mzXML  20161205_Sample_3.mzXML    20161205_Sample_56A.mzXML\n",
    "20161205_Sample_20.mzXML   20161205_Sample_40A.mzXML  20161205_Sample_56.mzXML\n",
    "20161205_Sample_24A.mzXML  20161205_Sample_40.mzXML   20161205_Sample_8A.mzXML\n",
    "20161205_Sample_24.mzXML   20161205_Sample_43A.mzXML  20161205_Sample_8.mzXML\n",
    "20161205_Sample_27A.mzXML  20161205_Sample_43.mzXML\n",
    "```"
   ]
  },
  {
   "cell_type": "markdown",
   "metadata": {},
   "source": [
    "```\n",
    "tmux\n",
    "\n",
    "/home/shared/comet/comet.2016012.linux.exe \\\n",
    "-Pcomet.params.high-low_de \\\n",
    "-DCg_Giga_cont_AA.fa \\\n",
    "*.mzXML\n",
    "\n",
    "```\n",
    "control b\n",
    "d\n",
    "[detached (from session 2)]\n",
    "\n",
    "next time:\n",
    "    tmux attach -t2"
   ]
  },
  {
   "cell_type": "markdown",
   "metadata": {},
   "source": [
    "# testing xinteract code\n",
    "\n"
   ]
  },
  {
   "cell_type": "markdown",
   "metadata": {},
   "source": [
    "```\n",
    "find *xml | \\\n",
    "xargs basename -s .pep.xml | \\\n",
    "xargs -I {} /usr/tpp_install/tpp/bin/xinteract \\\n",
    "-dDECOY_ \\\n",
    "-N{} \\\n",
    "{}.pep.xml \\\n",
    "-p0.9 \\\n",
    "-OAp \\\n",
    "&>> output.error.log\n",
    "```\n",
    "session 3"
   ]
  },
  {
   "cell_type": "markdown",
   "metadata": {},
   "source": [
    "# Abacus"
   ]
  },
  {
   "cell_type": "code",
   "execution_count": 2,
   "metadata": {
    "collapsed": false
   },
   "outputs": [
    {
     "ename": "SyntaxError",
     "evalue": "invalid syntax (<ipython-input-2-12c0b2a9a480>, line 1)",
     "output_type": "error",
     "traceback": [
      "\u001b[0;36m  File \u001b[0;32m\"<ipython-input-2-12c0b2a9a480>\"\u001b[0;36m, line \u001b[0;32m1\u001b[0m\n\u001b[0;31m    usr(/tpp_install/tpp/bin/ProteinProphet, interact*.pep.xml, interact-COMBINED.prot.xml, &>>, output.error.PP.log)\u001b[0m\n\u001b[0m        ^\u001b[0m\n\u001b[0;31mSyntaxError\u001b[0m\u001b[0;31m:\u001b[0m invalid syntax\n"
     ]
    }
   ],
   "source": [
    "/usr/tpp_install/tpp/bin/ProteinProphet \\\n",
    "interact*.pep.xml \\\n",
    "interact-COMBINED.prot.xml \\\n",
    "&>> output.error.PP.log"
   ]
  },
  {
   "cell_type": "code",
   "execution_count": null,
   "metadata": {
    "collapsed": true
   },
   "outputs": [],
   "source": [
    "20161205_Sample_11A.mzXML    20161205_Sample_35A.mzXML    20161205_Sample_56A.mzXML\n",
    "20161205_Sample_11A.pep.xml  20161205_Sample_35A.pep.xml  20161205_Sample_56A.pep.xml\n",
    "20161205_Sample_11.mzXML     20161205_Sample_35.mzXML     20161205_Sample_56.mzXML\n",
    "20161205_Sample_11.pep.xml   20161205_Sample_35.pep.xml   20161205_Sample_56.pep.xml\n",
    "20161205_Sample_12A.mzXML    20161205_Sample_36A.mzXML    20161205_Sample_8A.mzXML\n",
    "20161205_Sample_12A.pep.xml  20161205_Sample_36A.pep.xml  20161205_Sample_8A.pep.xml\n",
    "20161205_Sample_12.mzXML     20161205_Sample_36.mzXML     20161205_Sample_8.mzXML\n",
    "20161205_Sample_12.pep.xml   20161205_Sample_36.pep.xml   20161205_Sample_8.pep.xml\n",
    "20161205_Sample_16A.mzXML    20161205_Sample_3A.mzXML     Abacus.param\n",
    "20161205_Sample_16A.pep.xml  20161205_Sample_3A.pep.xml   Cg_Giga_cont_AA.fa\n",
    "20161205_Sample_16.mzXML     20161205_Sample_3.mzXML      comet.params.high-low_de\n",
    "20161205_Sample_16.pep.xml   20161205_Sample_3.pep.xml    interact-20161205_Sample_11A.pep-MODELS.html\n",
    "20161205_Sample_19A.mzXML    20161205_Sample_40A.mzXML    interact-20161205_Sample_11A.pep.xml\n",
    "20161205_Sample_19A.pep.xml  20161205_Sample_40A.pep.xml  interact-20161205_Sample_11A.pep.xml.index\n",
    "20161205_Sample_19.mzXML     20161205_Sample_40.mzXML     interact-20161205_Sample_11A.prot-MODELS.html\n",
    "20161205_Sample_19.pep.xml   20161205_Sample_40.pep.xml   interact-20161205_Sample_11A.prot.xml\n",
    "20161205_Sample_1A.mzXML     20161205_Sample_43A.mzXML    interact-20161205_Sample_11.pep-MODELS.html\n",
    "20161205_Sample_1A.pep.xml   20161205_Sample_43A.pep.xml  interact-20161205_Sample_11.pep.xml\n",
    "20161205_sample_1.mzXML      20161205_Sample_43.mzXML     interact-20161205_Sample_11.pep.xml.index\n",
    "20161205_sample_1.pep.xml    20161205_Sample_43.pep.xml   interact-20161205_Sample_11.prot-MODELS.html\n",
    "20161205_Sample_20A.mzXML    20161205_Sample_44A.mzXML    interact-20161205_Sample_11.prot.xml\n",
    "20161205_Sample_20A.pep.xml  20161205_Sample_44A.pep.xml  interact-20161205_Sample_12A.pep-MODELS.html\n",
    "20161205_Sample_20.mzXML     20161205_Sample_44.mzXML     interact-20161205_Sample_12A.pep.xml\n",
    "20161205_Sample_20.pep.xml   20161205_Sample_44.pep.xml   interact-20161205_Sample_12A.pep.xml.index\n",
    "20161205_Sample_24A.mzXML    20161205_Sample_48A.mzXML    interact-20161205_Sample_12A.prot-MODELS.html\n",
    "20161205_Sample_24A.pep.xml  20161205_Sample_48A.pep.xml  interact-20161205_Sample_12A.prot.xml\n",
    "20161205_Sample_24.mzXML     20161205_Sample_48.mzXML     interact-20161205_Sample_12.pep-MODELS.html\n",
    "20161205_Sample_24.pep.xml   20161205_Sample_48.pep.xml   interact-20161205_Sample_12.pep.xml\n",
    "20161205_Sample_27A.mzXML    20161205_Sample_4A.mzXML     interact-20161205_Sample_12.pep.xml.index\n",
    "20161205_Sample_27A.pep.xml  20161205_Sample_4A.pep.xml   interact-20161205_Sample_12.prot-MODELS.html\n",
    "20161205_Sample_27.mzXML     20161205_Sample_4.mzXML      interact-20161205_Sample_12.prot.xml\n",
    "20161205_Sample_27.pep.xml   20161205_Sample_4.pep.xml    interact-20161205_Sample_16A.pep-MODELS.html\n",
    "20161205_Sample_28A.mzXML    20161205_Sample_51A.mzXML    interact-20161205_Sample_16A.pep.xml\n",
    "20161205_Sample_28A.pep.xml  20161205_Sample_51A.pep.xml  interact-20161205_Sample_16A.pep.xml.index\n",
    "20161205_Sample_28.mzXML     20161205_Sample_51.mzXML     interact-20161205_Sample_16A.prot-MODELS.html\n",
    "20161205_Sample_28.pep.xml   20161205_Sample_51.pep.xml   interact-20161205_Sample_16A.prot.xml\n",
    "20161205_Sample_32A.mzXML    20161205_Sample_52A.mzXML    interact-20161205_Sample_16.pep.xml\n",
    "20161205_Sample_32A.pep.xml  20161205_Sample_52A.pep.xml  interact-20161205_Sample_16.pep.xml.index\n",
    "20161205_Sample_32.mzXML     20161205_Sample_52.mzXML     interact-COMBINED.prot.xml\n",
    "20161205_Sample_32.pep.xml   20161205_Sample_52.pep.xml   stderr-stdout.txt\n"
   ]
  }
 ],
 "metadata": {
  "kernelspec": {
   "display_name": "Python 2",
   "language": "python",
   "name": "python2"
  },
  "language_info": {
   "codemirror_mode": {
    "name": "ipython",
    "version": 2
   },
   "file_extension": ".py",
   "mimetype": "text/x-python",
   "name": "python",
   "nbconvert_exporter": "python",
   "pygments_lexer": "ipython2",
   "version": "2.7.12"
  }
 },
 "nbformat": 4,
 "nbformat_minor": 0
}
