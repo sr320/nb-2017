{
 "cells": [
  {
   "cell_type": "code",
   "execution_count": 1,
   "metadata": {
    "collapsed": false
   },
   "outputs": [
    {
     "name": "stdout",
     "output_type": "stream",
     "text": [
      "==> data/contigs.fasta.transdecoder.pep <==\r\n",
      ">CHOYP_043R.1.5|m.16874 CHOYP_043R.1.5|g.16874  ORF CHOYP_043R.1.5|g.16874 CHOYP_043R.1.5|m.16874 type:internal len:199 (-) CHOYP_043R.1.5:1-594(-)\r\n",
      "TPSGPTPSGPTPSVTPTPSGPTPSVTPTPSGSTPSGPTPSVTPTPSGPTPSGPTPSVTPT\r\n",
      "PSGPTPSVTPTPSVPTPSGPTPSVTPTPSGPTPSVTPTPSGPTPSGPTPSVTPTPSGPTP\r\n",
      "SGPTPSVTPTPSVTPTPSGPTPSVTSTPSAPTPSGPTPSGPTPSVTPTPSGPTPSGPTPS\r\n",
      "VTPTPSGPTPSVTPTPSG\r\n",
      ">CHOYP_043R.5.5|m.64252 CHOYP_043R.5.5|g.64252  ORF CHOYP_043R.5.5|g.64252 CHOYP_043R.5.5|m.64252 type:internal len:821 (+) CHOYP_043R.5.5:2-2461(+)\r\n",
      "SRPTPSVTPTPSGPTPSVTPTPSVSTPSGPTPSVTPTPSGPSPSVTPTPSGPSPSGPTPS\r\n",
      "ATPTPSGPTPSGTTPSGSTPSATITTISTPSTTVCSYVDIGPEQAIDVSLRSPSEDPDAP\r\n",
      "IENILQTNSVYKPKKEPTYDENVVVKIISQDTPTILRVSFTVNRADTVGLEYLTDYKQKI\r\n",
      "ITQNNETVEFVFAAGIITDNFTINIRSDSAEQPEISNLKIRACYKPVIGQPSTTTPNPSI\r\n",
      "\r\n",
      "==> data/contigs.fasta.transdecoder.pep.iprscan2.withID <==\r\n",
      "m.5643\t13CF8B870AA10786\t280\tHMMPfam\tPF00244\t14-3-3\t23\t270\t3.9e-102\tT\t08-Jun-2015\tIPR023410\t14-3-3 domain\tCHOYP_14332.1.2\t\r\n",
      "m.5644\tE4A005DBCE80F12D\t182\tHMMPfam\tPF07742\tBTG\t1\t114\t4.8e-41\tT\t08-Jun-2015\tIPR002087\tAnti-proliferative protein\tCHOYP_14332.1.2\t\r\n",
      "m.61737\t71649CBFAED2CB32\t251\tHMMPfam\tPF00244\t14-3-3\t5\t241\t4.5e-103\tT\t08-Jun-2015\tIPR023410\t14-3-3 domain\tCHOYP_14332.2.2\t\r\n",
      "m.3639\tAF7A49BCC4F45CE6\t130\tHMMPfam\tPF04081\tDNA_pol_delta_4\t67\t121\t1.2e-18\tT\t08-Jun-2015\tIPR007218\tDNA polymerase delta, subunit 4\tCellular Component: nucleus (GO:0005634), Biological Process: DNA replication (GO:0006260)\tCHOYP_1433E.1.2\t\r\n",
      "m.3638\t4CA9E64CDABF7498\t256\tHMMPfam\tPF00244\t14-3-3\t4\t238\t5.1e-113\tT\t08-Jun-2015\tIPR023410\t14-3-3 domain\tCHOYP_1433E.1.2\t\r\n",
      "m.63376\t4CA9E64CDABF7498\t256\tHMMPfam\tPF00244\t14-3-3\t4\t238\t5.1e-113\tT\t08-Jun-2015\tIPR023410\t14-3-3 domain\tCHOYP_1433E.2.2\t\r\n",
      "m.63378\t170BB3FD26542CC8\t145\tHMMPfam\tPF04505\tDispanin\t53\t129\t1.4e-23\tT\t08-Jun-2015\tIPR007593\tCD225/Dispanin family\tBiological Process: response to biotic stimulus (GO:0009607), Cellular Component: integral to membrane (GO:0016021)\tCHOYP_1433E.2.2\t\r\n",
      "m.8906\t05E715A55EC97770\t150\tHMMPfam\tPF00244\t14-3-3\t13\t140\t6.6e-62\tT\t08-Jun-2015\tIPR023410\t14-3-3 domain\tCHOYP_1433G.1.2\t\r\n",
      "m.63451\t3A894A146B2D40B8\t243\tHMMPfam\tPF00076\tRRM_1\t21\t82\t2e-15\tT\t08-Jun-2015\tIPR000504\tRNA recognition motif domain\tMolecular Function: nucleic acid binding (GO:0003676)\tCHOYP_1433G.2.2\t\r\n",
      "m.63451\t3A894A146B2D40B8\t243\tHMMPfam\tPF00098\tzf-CCHC\t102\t118\t7.5e-08\tT\t08-Jun-2015\tIPR001878\tZinc finger, CCHC-type\tMolecular Function: nucleic acid binding (GO:0003676), Molecular Function: zinc ion binding (GO:0008270)\tCHOYP_1433G.2.2\t\r\n"
     ]
    }
   ],
   "source": [
    "!head data/cont*"
   ]
  },
  {
   "cell_type": "code",
   "execution_count": 3,
   "metadata": {
    "collapsed": false
   },
   "outputs": [
    {
     "name": "stdout",
     "output_type": "stream",
     "text": [
      "40637\r\n"
     ]
    }
   ],
   "source": [
    "!fgrep -c \">\" data/contigs.fasta.transdecoder.pep"
   ]
  },
  {
   "cell_type": "code",
   "execution_count": 5,
   "metadata": {
    "collapsed": false
   },
   "outputs": [
    {
     "name": "stdout",
     "output_type": "stream",
     "text": [
      "   40637\r\n"
     ]
    }
   ],
   "source": [
    "!grep \">\" data/contigs.fasta.transdecoder.pep | wc -l "
   ]
  },
  {
   "cell_type": "code",
   "execution_count": 6,
   "metadata": {
    "collapsed": false
   },
   "outputs": [
    {
     "name": "stdout",
     "output_type": "stream",
     "text": [
      "   40637\r\n"
     ]
    }
   ],
   "source": [
    "!grep \">\" data/contigs.fasta.transdecoder.pep | sort | uniq | wc -l "
   ]
  },
  {
   "cell_type": "markdown",
   "metadata": {},
   "source": [
    "## Cleaning up fasta-file"
   ]
  },
  {
   "cell_type": "code",
   "execution_count": 2,
   "metadata": {
    "collapsed": false
   },
   "outputs": [
    {
     "name": "stdout",
     "output_type": "stream",
     "text": [
      ">CHOYP_043R.1.5|m.16874\r\n",
      "TPSGPTPSGPTPSVTPTPSGPTPSVTPTPSGSTPSGPTPSVTPTPSGPTPSGPTPSVTPT\r\n",
      "PSGPTPSVTPTPSVPTPSGPTPSVTPTPSGPTPSVTPTPSGPTPSGPTPSVTPTPSGPTP\r\n",
      "SGPTPSVTPTPSVTPTPSGPTPSVTSTPSAPTPSGPTPSGPTPSVTPTPSGPTPSGPTPS\r\n",
      "VTPTPSGPTPSVTPTPSG\r\n",
      ">CHOYP_043R.5.5|m.64252\r\n",
      "SRPTPSVTPTPSGPTPSVTPTPSVSTPSGPTPSVTPTPSGPSPSVTPTPSGPSPSGPTPS\r\n",
      "ATPTPSGPTPSGTTPSGSTPSATITTISTPSTTVCSYVDIGPEQAIDVSLRSPSEDPDAP\r\n",
      "IENILQTNSVYKPKKEPTYDENVVVKIISQDTPTILRVSFTVNRADTVGLEYLTDYKQKI\r\n",
      "ITQNNETVEFVFAAGIITDNFTINIRSDSAEQPEISNLKIRACYKPVIGQPSTTTPNPSI\r\n"
     ]
    }
   ],
   "source": [
    "!head data/contigs.fasta.transdecoder.pep | cut -d ' ' -f 1"
   ]
  },
  {
   "cell_type": "code",
   "execution_count": 8,
   "metadata": {
    "collapsed": false
   },
   "outputs": [
    {
     "name": "stdout",
     "output_type": "stream",
     "text": [
      "   40637\r\n"
     ]
    }
   ],
   "source": [
    "!cat data/contigs.fasta.transdecoder.pep | cut -d ' ' -f 1 | grep \">\" | wc -l"
   ]
  },
  {
   "cell_type": "code",
   "execution_count": 9,
   "metadata": {
    "collapsed": false
   },
   "outputs": [
    {
     "name": "stdout",
     "output_type": "stream",
     "text": [
      "   40637\r\n"
     ]
    }
   ],
   "source": [
    "!cat data/contigs.fasta.transdecoder.pep | cut -d ' ' -f 1 | grep \">\" | sort | uniq | wc -l"
   ]
  },
  {
   "cell_type": "code",
   "execution_count": 10,
   "metadata": {
    "collapsed": true
   },
   "outputs": [],
   "source": [
    "!cat data/contigs.fasta.transdecoder.pep | cut -d ' ' -f 1 \\\n",
    "> data/Cg_Gigaton_proteins.fa"
   ]
  },
  {
   "cell_type": "code",
   "execution_count": 11,
   "metadata": {
    "collapsed": false
   },
   "outputs": [
    {
     "name": "stdout",
     "output_type": "stream",
     "text": [
      ">CHOYP_043R.1.5|m.16874\r\n",
      "TPSGPTPSGPTPSVTPTPSGPTPSVTPTPSGSTPSGPTPSVTPTPSGPTPSGPTPSVTPT\r\n",
      "PSGPTPSVTPTPSVPTPSGPTPSVTPTPSGPTPSVTPTPSGPTPSGPTPSVTPTPSGPTP\r\n",
      "SGPTPSVTPTPSVTPTPSGPTPSVTSTPSAPTPSGPTPSGPTPSVTPTPSGPTPSGPTPS\r\n",
      "VTPTPSGPTPSVTPTPSG\r\n",
      ">CHOYP_043R.5.5|m.64252\r\n",
      "SRPTPSVTPTPSGPTPSVTPTPSVSTPSGPTPSVTPTPSGPSPSVTPTPSGPSPSGPTPS\r\n",
      "ATPTPSGPTPSGTTPSGSTPSATITTISTPSTTVCSYVDIGPEQAIDVSLRSPSEDPDAP\r\n",
      "IENILQTNSVYKPKKEPTYDENVVVKIISQDTPTILRVSFTVNRADTVGLEYLTDYKQKI\r\n",
      "ITQNNETVEFVFAAGIITDNFTINIRSDSAEQPEISNLKIRACYKPVIGQPSTTTPNPSI\r\n"
     ]
    }
   ],
   "source": [
    "!head data/Cg_Gigaton_proteins.fa"
   ]
  },
  {
   "cell_type": "markdown",
   "metadata": {},
   "source": [
    "## Contaminants"
   ]
  },
  {
   "cell_type": "code",
   "execution_count": 13,
   "metadata": {
    "collapsed": false
   },
   "outputs": [
    {
     "name": "stdout",
     "output_type": "stream",
     "text": [
      "==> data/contam.bovin.fa <==\r\n",
      ">sp|ALBU_BOVIN|\r\n",
      "MKWVTFISLLLLFSSAYSRGVFRRDTHKSEIAHRFKDLGEEHFKGLVLIAFSQYLQQCPFDEHVKLVNELTEFAKTCVAD\r\n",
      "ESHAGCEKSLHTLFGDELCKVASLRETYGDMADCCEKQEPERNECFLSHKDDSPDLPKLKPDPNTLCDEFKADEKKFWGK\r\n",
      "YLYEIARRHPYFYAPELLYYANKYNGVFQECCQAEDKGACLLPKIETMREKVLASSARQRLRCASIQKFGERALKAWSVA\r\n",
      "RLSQKFPKAEFVEVTKLVTDLTKVHKECCHGDLLECADDRADLAKYICDNQDTISSKLKECCDKPLLEKSHCIAEVEKDA\r\n",
      "IPENLPPLTADFAEDKDVCKNYQEAKDAFLGSFLYEYSRRHPEYAVSVLLRLAKEYEATLEECCAKDDPHACYSTVFDKL\r\n",
      "KHLVDEPQNLIKQNCDQFEKLGEYGFQNALIVRYTRKVPQVSTPTLVEVSRSLGKVGTRCCTKPESERMPCTEDYLSLIL\r\n",
      "NRLCVLHEKTPVSEKVTKCCTESLVNRRPCFSALTPDETYVPKAFDEKLFTFHADICTLPDTEKQIKKQTALVELLKHKP\r\n",
      "KATEEQLKTVMENFVAFVDKCCAADDKEACFAVEGPKLVVSTQTALA\r\n",
      ">sp|CAS1_BOVIN|\r\n",
      "\r\n",
      "==> data/contam.human.fa <==\r\n",
      ">sp|AMYS_HUMAN|\r\n",
      "MKLFWLLFTIGFCWAQYSSNTQQGRTSIVHLFEWRWVDIALECERYLAPKGFGGVQVSPPNENVAIHNPFRPWWERYQPV\r\n",
      "SYKLCTRSGNEDEFRNMVTRCNNVGVRIYVDAVINHMCGNAVSAGTSSTCGSYFNPGSRDFPAVPYSGWDFNDGKCKTGS\r\n",
      "GDIENYNDATQVRDCRLSGLLDLALGKDYVRSKIAEYMNHLIDIGVAGFRIDASKHMWPGDIKAILDKLHNLNSNWFPEG\r\n",
      "SKPFIYQEVIDLGGEPIKSSDYFGNGRVTEFKYGAKLGTVIRKWNGEKMSYLKNWGEGWGFMPSDRALVFVDNHDNQRGH\r\n",
      "GAGGASILTFWDARLYKMAVGFMLAHPYGFTRVMSSYRWPRYFENGKDVNDWVGPPNDNGVTKEVTINPDTTCGNDWVCE\r\n",
      "HRWRQIRNMVNFRNVVDGQPFTNWYDNGSNQVAFGRGNRGFIVFNNDDWTFSLTLQTGLPAGTYCDVISGDKINGNCTGI\r\n",
      "KIYVSDDGKAHFSISNSAEDPFIAIHAESKL\r\n",
      ">sp|K1C10_HUMAN|\r\n",
      "MSVRYSSSKHYSSSRSGGGGGGGGCGGGGGVSSLRISSSKGSLGGGFSSGGFSGGSFSRGSSGGGCFGGSSGGYGGLGGF\r\n",
      "\r\n",
      "==> data/contam.other.fa <==\r\n",
      ">sp|K1C15_SHEEP|\r\n",
      "MATTLLQTSSSTFGGSSTRGGSLLAGGGGFGGGSLYGGGGSRTISASSARFVSSGSAGGYGGGFGGGAGSGYGGGFGGGF\r\n",
      "GGGFGSGFGDFGGGDGGLLSGNEKITMQNLNDRLASYLEKVRALEEANADLEVKIRDWYQRQSPTSPERDYSPYFKTTDE\r\n",
      "LRDKILAAAIDNSRVILEIDNARLAADDFRLKYENEMALRQSVEADINGLRRVLDELTLTKTDLEMQIESLNEELAYLKK\r\n",
      "NHEEEMKEFSNQLAGQVNVEMDAAPGVDLTRVLSEMREQYEAMAEKNRRDAEAWFFSKTEELNKEVASNTEMIQTSKSEI\r\n",
      "TDLRRTIQGLEIELQSQLSMKAGLESTLAETDGRYAAQLQQIQGLISSIEAQLSELRSEMEAQNQEYKMLLDIKTRLEQE\r\n",
      "IATYHSLLEGQDARMAGIGTGEASLGGGGGGKVRINVEESVDGKVVSSRKREI\r\n",
      ">sp|K1M1_SHEEP|\r\n",
      "SFNFCLPNLSFRSSCSSRPCVPSSCCGTTLPGACNIPANVGSCNWFCEGSFDGNEKETMQFLNDRLASYLEKVRQLEREN\r\n",
      "AELESRILERSQQQEPLVCPNYQSYFRTIEELQQKILCAKSENARLVVQIDNAKLAADDFRTKYETELGLRQLVESDING\r\n"
     ]
    }
   ],
   "source": [
    "!head data/contam*"
   ]
  },
  {
   "cell_type": "code",
   "execution_count": 14,
   "metadata": {
    "collapsed": false
   },
   "outputs": [
    {
     "name": "stdout",
     "output_type": "stream",
     "text": [
      "data/contam.bovin.fa:13\r\n",
      "data/contam.human.fa:68\r\n",
      "data/contam.other.fa:33\r\n"
     ]
    }
   ],
   "source": [
    "!fgrep \">\" -c data/contam*"
   ]
  },
  {
   "cell_type": "code",
   "execution_count": 16,
   "metadata": {
    "collapsed": false
   },
   "outputs": [],
   "source": [
    "!cat data/Cg_Gigaton_proteins.fa \\\n",
    "data/contam* \\\n",
    "> data/Cg_Giga_cont_AA.fa"
   ]
  },
  {
   "cell_type": "code",
   "execution_count": 17,
   "metadata": {
    "collapsed": false
   },
   "outputs": [
    {
     "name": "stdout",
     "output_type": "stream",
     "text": [
      ">CHOYP_043R.1.5|m.16874\r\n",
      "TPSGPTPSGPTPSVTPTPSGPTPSVTPTPSGSTPSGPTPSVTPTPSGPTPSGPTPSVTPT\r\n",
      "PSGPTPSVTPTPSVPTPSGPTPSVTPTPSGPTPSVTPTPSGPTPSGPTPSVTPTPSGPTP\r\n",
      "SGPTPSVTPTPSVTPTPSGPTPSVTSTPSAPTPSGPTPSGPTPSVTPTPSGPTPSGPTPS\r\n",
      "VTPTPSGPTPSVTPTPSG\r\n",
      ">CHOYP_043R.5.5|m.64252\r\n",
      "SRPTPSVTPTPSGPTPSVTPTPSVSTPSGPTPSVTPTPSGPSPSVTPTPSGPSPSGPTPS\r\n",
      "ATPTPSGPTPSGTTPSGSTPSATITTISTPSTTVCSYVDIGPEQAIDVSLRSPSEDPDAP\r\n",
      "IENILQTNSVYKPKKEPTYDENVVVKIISQDTPTILRVSFTVNRADTVGLEYLTDYKQKI\r\n",
      "ITQNNETVEFVFAAGIITDNFTINIRSDSAEQPEISNLKIRACYKPVIGQPSTTTPNPSI\r\n"
     ]
    }
   ],
   "source": [
    "!head data/Cg_Giga_cont_AA.fa"
   ]
  },
  {
   "cell_type": "code",
   "execution_count": 18,
   "metadata": {
    "collapsed": false
   },
   "outputs": [
    {
     "name": "stdout",
     "output_type": "stream",
     "text": [
      "40751\r\n"
     ]
    }
   ],
   "source": [
    "!fgrep -c \">\" data/Cg_Giga_cont_AA.fa"
   ]
  },
  {
   "cell_type": "markdown",
   "metadata": {},
   "source": [
    "# Move to owl"
   ]
  },
  {
   "cell_type": "code",
   "execution_count": 19,
   "metadata": {
    "collapsed": true
   },
   "outputs": [],
   "source": [
    "!cp -r /Users/sr320/git-repos/nb-2017 /Volumes/web/halfshell/bu-git-repos/nb-2017"
   ]
  },
  {
   "cell_type": "code",
   "execution_count": null,
   "metadata": {
    "collapsed": true
   },
   "outputs": [],
   "source": []
  }
 ],
 "metadata": {
  "kernelspec": {
   "display_name": "Python 2",
   "language": "python",
   "name": "python2"
  },
  "language_info": {
   "codemirror_mode": {
    "name": "ipython",
    "version": 2
   },
   "file_extension": ".py",
   "mimetype": "text/x-python",
   "name": "python",
   "nbconvert_exporter": "python",
   "pygments_lexer": "ipython2",
   "version": "2.7.12"
  }
 },
 "nbformat": 4,
 "nbformat_minor": 0
}
