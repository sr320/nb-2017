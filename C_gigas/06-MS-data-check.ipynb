{
 "cells": [
  {
   "cell_type": "code",
   "execution_count": 1,
   "metadata": {
    "collapsed": false
   },
   "outputs": [
    {
     "name": "stdout",
     "output_type": "stream",
     "text": [
      "00-Protein-database.ipynb      05-YV-shortlist-poster.ipynb\r\n",
      "01-Comet-TPP-testing-db.ipynb  06-MS-data-check.ipynb\r\n",
      "03-DDA-RE-converted.ipynb      \u001b[34manalyses\u001b[m\u001b[m/\r\n",
      "03.5-DDA-pipeline?.ipynb       \u001b[34mdata\u001b[m\u001b[m/\r\n",
      "04-Exploring-Abacus-out.ipynb  untitled.txt\r\n"
     ]
    }
   ],
   "source": [
    "ls\n"
   ]
  },
  {
   "cell_type": "code",
   "execution_count": 2,
   "metadata": {
    "collapsed": false
   },
   "outputs": [
    {
     "name": "stdout",
     "output_type": "stream",
     "text": [
      "/Users/sr320/git-repos/nb-2017/C_gigas/data\n"
     ]
    }
   ],
   "source": [
    "cd data"
   ]
  },
  {
   "cell_type": "code",
   "execution_count": 4,
   "metadata": {
    "collapsed": false
   },
   "outputs": [
    {
     "name": "stdout",
     "output_type": "stream",
     "text": [
      "  % Total    % Received % Xferd  Average Speed   Time    Time     Time  Current\n",
      "                                 Dload  Upload   Total   Spent    Left  Speed\n",
      "100  832k  100  832k    0     0  1275k      0 --:--:-- --:--:-- --:--:-- 1276k\n"
     ]
    }
   ],
   "source": [
    "!curl -O https://raw.githubusercontent.com/RobertsLab/project-oyster-oa/master/analyses/DNR_SRM_20170902/2017-09-06-Gigas-SRM-ReplicatesOnly-PostDilutionCurve-NoPivot-Report.csv\n",
    "    "
   ]
  },
  {
   "cell_type": "code",
   "execution_count": 5,
   "metadata": {
    "collapsed": false
   },
   "outputs": [
    {
     "name": "stdout",
     "output_type": "stream",
     "text": [
      "  % Total    % Received % Xferd  Average Speed   Time    Time     Time  Current\n",
      "                                 Dload  Upload   Total   Spent    Left  Speed\n",
      "100 18881  100 18881    0     0  90058      0 --:--:-- --:--:-- --:--:-- 90339\n"
     ]
    }
   ],
   "source": [
    "!curl -O https://raw.githubusercontent.com/RobertsLab/project-oyster-oa/master/analyses/DNR_SRM_20170902/2017-07-28-SRM-Samples-Sequence-File.csv"
   ]
  },
  {
   "cell_type": "code",
   "execution_count": 6,
   "metadata": {
    "collapsed": false
   },
   "outputs": [
    {
     "name": "stdout",
     "output_type": "stream",
     "text": [
      "  % Total    % Received % Xferd  Average Speed   Time    Time     Time  Current\n",
      "                                 Dload  Upload   Total   Spent    Left  Speed\n",
      "100  1662  100  1662    0     0  20854      0 --:--:-- --:--:-- --:--:-- 21037\n"
     ]
    }
   ],
   "source": [
    "!curl -O https://raw.githubusercontent.com/RobertsLab/project-oyster-oa/master/analyses/DNR_SRM_20170902/2017-09-06-Biological-Replicate-Information.csv"
   ]
  },
  {
   "cell_type": "code",
   "execution_count": 7,
   "metadata": {
    "collapsed": false
   },
   "outputs": [
    {
     "name": "stdout",
     "output_type": "stream",
     "text": [
      "021117-Abacus.param\r\n",
      "2017-07-28-SRM-Samples-Sequence-File.csv\r\n",
      "2017-09-06-Biological-Replicate-Information.csv\r\n",
      "2017-09-06-Gigas-SRM-ReplicatesOnly-PostDilutionCurve-NoPivot-Report.csv\r\n",
      "ABACUS_output021417.tsv\r\n",
      "ABACUS_output021417NSAF.tsv\r\n",
      "Cg_Giga_cont_AA.fa\r\n",
      "Cg_Giga_cont_AA.fa.zip\r\n",
      "Cg_Gigaton_proteins.fa\r\n",
      "Cg_Gigaton_proteins.fa.zip\r\n",
      "YV-skyline-proteins-stress.tsv\r\n",
      "annotation_ensemblgenomes_transcript.gff3\r\n",
      "\u001b[31mcontam.bovin.fa\u001b[m\u001b[m*\r\n",
      "\u001b[31mcontam.human.fa\u001b[m\u001b[m*\r\n",
      "\u001b[31mcontam.other.fa\u001b[m\u001b[m*\r\n",
      "contigs.fasta.transdecoder.pep\r\n",
      "contigs.fasta.transdecoder.pep.iprscan2.withID\r\n",
      "skyline-proteins-go-terms.tsv\r\n"
     ]
    }
   ],
   "source": [
    "ls"
   ]
  },
  {
   "cell_type": "code",
   "execution_count": 9,
   "metadata": {
    "collapsed": false
   },
   "outputs": [
    {
     "name": "stdout",
     "output_type": "stream",
     "text": [
      "Replicate Name,Protein Name,Peptide Sequence,Transition,Fragment Ion,Peptide Retention Time,Total Ion Current Area,Area\r",
      "\r\n",
      "2,CHOYP_ACAA2.1.1|m.30666,QYNLTPLAR,L - y6+,y6,26.23,,104555\r",
      "\r\n",
      "4,CHOYP_ACAA2.1.1|m.30666,QYNLTPLAR,L - y6+,y6,26.53,,102855\r",
      "\r\n",
      "6,CHOYP_ACAA2.1.1|m.30666,QYNLTPLAR,L - y6+,y6,26.29,,91315\r",
      "\r\n",
      "8,CHOYP_ACAA2.1.1|m.30666,QYNLTPLAR,L - y6+,y6,26.57,,79407\r",
      "\r\n",
      "9,CHOYP_ACAA2.1.1|m.30666,QYNLTPLAR,L - y6+,y6,26.3,,56154\r",
      "\r\n",
      "11,CHOYP_ACAA2.1.1|m.30666,QYNLTPLAR,L - y6+,y6,26.1,,106429\r",
      "\r\n",
      "12,CHOYP_ACAA2.1.1|m.30666,QYNLTPLAR,L - y6+,y6,26.1,,144829\r",
      "\r\n",
      "14,CHOYP_ACAA2.1.1|m.30666,QYNLTPLAR,L - y6+,y6,#N/A,,#N/A\r",
      "\r\n",
      "15,CHOYP_ACAA2.1.1|m.30666,QYNLTPLAR,L - y6+,y6,25.79,,112384\r",
      "\r\n"
     ]
    }
   ],
   "source": [
    "!head 2017-09-06-Gigas-SRM-ReplicatesOnly-PostDilutionCurve-NoPivot-Report.csv"
   ]
  },
  {
   "cell_type": "code",
   "execution_count": 10,
   "metadata": {
    "collapsed": false
   },
   "outputs": [
    {
     "name": "stdout",
     "output_type": "stream",
     "text": [
      "﻿File Name,Replicate Name,Comment,Path,Instrument Method,Position,Inj Vol,TIC\r",
      "2017_July_10_bivalves_2,2,O49-1,C:\\Xcalibur\\Data\\Collaborators\\Nunn\\Emma\\data_378,C:\\Xcalibur\\Data\\Collaborators\\Nunn\\Emma\\methods\\Vantage_nanoAcq_oysterYV_60min_DrM27cm,\"1:B,1\",2,4.07E+07\r",
      "2017_July_10_bivalves_3,3,O52-1,C:\\Xcalibur\\Data\\Collaborators\\Nunn\\Emma\\data_378,C:\\Xcalibur\\Data\\Collaborators\\Nunn\\Emma\\methods\\Vantage_nanoAcq_oysterYV_60min_DrM27cm,\"1:B,2\",2,4.24E+07\r",
      "2017_July_10_bivalves_4,4,O102-1,C:\\Xcalibur\\Data\\Collaborators\\Nunn\\Emma\\data_378,C:\\Xcalibur\\Data\\Collaborators\\Nunn\\Emma\\methods\\Vantage_nanoAcq_oysterYV_60min_DrM27cm,\"1:B,3\",2,4.22E+07\r",
      "2017_July_10_bivalves_6,6,O122-1,C:\\Xcalibur\\Data\\Collaborators\\Nunn\\Emma\\data_378,C:\\Xcalibur\\Data\\Collaborators\\Nunn\\Emma\\methods\\Vantage_nanoAcq_oysterYV_60min_DrM27cm,\"1:B,5\",2,4.18E+07\r",
      "2017_July_10_bivalves_8,8,O17-1,C:\\Xcalibur\\Data\\Collaborators\\Nunn\\Emma\\data_378,C:\\Xcalibur\\Data\\Collaborators\\Nunn\\Emma\\methods\\Vantage_nanoAcq_oysterYV_60min_DrM27cm,\"1:C,1\",2,4.17E+07\r",
      "2017_July_10_bivalves_9,9,O14-1,C:\\Xcalibur\\Data\\Collaborators\\Nunn\\Emma\\data_378,C:\\Xcalibur\\Data\\Collaborators\\Nunn\\Emma\\methods\\Vantage_nanoAcq_oysterYV_60min_DrM27cm,\"1:C,2\",2,4.21E+07\r",
      "2017_July_10_bivalves_10,10,O71-1,C:\\Xcalibur\\Data\\Collaborators\\Nunn\\Emma\\data_378,C:\\Xcalibur\\Data\\Collaborators\\Nunn\\Emma\\methods\\Vantage_nanoAcq_oysterYV_60min_DrM27cm,\"1:C,3\",2,4.25E+07\r",
      "2017_July_10_bivalves_11,11,O145-1,C:\\Xcalibur\\Data\\Collaborators\\Nunn\\Emma\\data_378,C:\\Xcalibur\\Data\\Collaborators\\Nunn\\Emma\\methods\\Vantage_nanoAcq_oysterYV_60min_DrM27cm,\"1:C,4\",2,4.16E+07\r",
      "2017_July_10_bivalves_12,12,O128-1,C:\\Xcalibur\\Data\\Collaborators\\Nunn\\Emma\\data_378,C:\\Xcalibur\\Data\\Collaborators\\Nunn\\Emma\\methods\\Vantage_nanoAcq_oysterYV_60min_DrM27cm,\"1:C,5\",2,4.24E+07\r",
      "2017_July_10_bivalves_14,14,O39-1,C:\\Xcalibur\\Data\\Collaborators\\Nunn\\Emma\\data_378,C:\\Xcalibur\\Data\\Collaborators\\Nunn\\Emma\\methods\\Vantage_nanoAcq_oysterYV_60min_DrM27cm,\"1:D,1\",2,4.29E+07\r",
      "2017_July_10_bivalves_15,15,O113-1,C:\\Xcalibur\\Data\\Collaborators\\Nunn\\Emma\\data_378,C:\\Xcalibur\\Data\\Collaborators\\Nunn\\Emma\\methods\\Vantage_nanoAcq_oysterYV_60min_DrM27cm,\"1:D,2\",2,4.29E+07\r",
      "2017_July_10_bivalves_17,17,O99-1,C:\\Xcalibur\\Data\\Collaborators\\Nunn\\Emma\\data_378,C:\\Xcalibur\\Data\\Collaborators\\Nunn\\Emma\\methods\\Vantage_nanoAcq_oysterYV_60min_DrM27cm,\"1:D,4\",2,4.21E+07\r",
      "2017_July_10_bivalves_18,18,O103-1,C:\\Xcalibur\\Data\\Collaborators\\Nunn\\Emma\\data_378,C:\\Xcalibur\\Data\\Collaborators\\Nunn\\Emma\\methods\\Vantage_nanoAcq_oysterYV_60min_DrM27cm,\"1:D,5\",2,4.25E+07\r",
      "2017_July_10_bivalves_20,20,O56-1,C:\\Xcalibur\\Data\\Collaborators\\Nunn\\Emma\\data_378,C:\\Xcalibur\\Data\\Collaborators\\Nunn\\Emma\\methods\\Vantage_nanoAcq_oysterYV_60min_DrM27cm,\"1:E,1\",2,4.28E+07\r",
      "2017_July_10_bivalves_21,21,O10-1,C:\\Xcalibur\\Data\\Collaborators\\Nunn\\Emma\\data_378,C:\\Xcalibur\\Data\\Collaborators\\Nunn\\Emma\\methods\\Vantage_nanoAcq_oysterYV_60min_DrM27cm,\"1:E,2\",2,4.25E+07\r",
      "2017_July_10_bivalves_22,22,O22-1,C:\\Xcalibur\\Data\\Collaborators\\Nunn\\Emma\\data_378,C:\\Xcalibur\\Data\\Collaborators\\Nunn\\Emma\\methods\\Vantage_nanoAcq_oysterYV_60min_DrM27cm,\"1:E,3\",2,4.25E+07\r",
      "2017_July_10_bivalves_23,23,O118-1,C:\\Xcalibur\\Data\\Collaborators\\Nunn\\Emma\\data_378,C:\\Xcalibur\\Data\\Collaborators\\Nunn\\Emma\\methods\\Vantage_nanoAcq_oysterYV_60min_DrM27cm,\"1:E,4\",2,4.28E+07\r",
      "2017_July_10_bivalves_24,24,O06-1,C:\\Xcalibur\\Data\\Collaborators\\Nunn\\Emma\\data_378,C:\\Xcalibur\\Data\\Collaborators\\Nunn\\Emma\\methods\\Vantage_nanoAcq_oysterYV_60min_DrM27cm,\"1:E,5\",2,4.28E+07\r",
      "2017_July_10_bivalves_26,26,O08-1,C:\\Xcalibur\\Data\\Collaborators\\Nunn\\Emma\\data_378,C:\\Xcalibur\\Data\\Collaborators\\Nunn\\Emma\\methods\\Vantage_nanoAcq_oysterYV_60min_DrM27cm,\"1:F,1\",2,4.21E+07\r",
      "2017_July_10_bivalves_27,27,O04-1,C:\\Xcalibur\\Data\\Collaborators\\Nunn\\Emma\\data_378,C:\\Xcalibur\\Data\\Collaborators\\Nunn\\Emma\\methods\\Vantage_nanoAcq_oysterYV_60min_DrM27cm,\"1:F,2\",2,4.26E+07\r",
      "2017_July_10_bivalves_28,28,O106-1,C:\\Xcalibur\\Data\\Collaborators\\Nunn\\Emma\\data_378,C:\\Xcalibur\\Data\\Collaborators\\Nunn\\Emma\\methods\\Vantage_nanoAcq_oysterYV_60min_DrM27cm,\"1:F,3\",2,4.24E+07\r",
      "2017_July_10_bivalves_29,29,O21-1,C:\\Xcalibur\\Data\\Collaborators\\Nunn\\Emma\\data_378,C:\\Xcalibur\\Data\\Collaborators\\Nunn\\Emma\\methods\\Vantage_nanoAcq_oysterYV_60min_DrM27cm,\"1:F,4\",2,4.25E+07\r",
      "2017_July_10_bivalves_30,30,O51-1,C:\\Xcalibur\\Data\\Collaborators\\Nunn\\Emma\\data_378,C:\\Xcalibur\\Data\\Collaborators\\Nunn\\Emma\\methods\\Vantage_nanoAcq_oysterYV_60min_DrM27cm,\"1:F,5\",2,4.27E+07\r",
      "2017_July_10_bivalves_32,32,O32-1,C:\\Xcalibur\\Data\\Collaborators\\Nunn\\Emma\\data_378,C:\\Xcalibur\\Data\\Collaborators\\Nunn\\Emma\\methods\\Vantage_nanoAcq_oysterYV_60min_DrM27cm,\"2:B,1\",2,4.18E+07\r",
      "2017_July_10_bivalves_33,33,O60-1,C:\\Xcalibur\\Data\\Collaborators\\Nunn\\Emma\\data_378,C:\\Xcalibur\\Data\\Collaborators\\Nunn\\Emma\\methods\\Vantage_nanoAcq_oysterYV_60min_DrM27cm,\"2:B,2\",2,4.22E+07\r",
      "2017_July_10_bivalves_34,34,O101-1,C:\\Xcalibur\\Data\\Collaborators\\Nunn\\Emma\\data_378,C:\\Xcalibur\\Data\\Collaborators\\Nunn\\Emma\\methods\\Vantage_nanoAcq_oysterYV_60min_DrM27cm,\"2:B,3\",2,4.26E+07\r",
      "2017_July_10_bivalves_35,35,O91-1,C:\\Xcalibur\\Data\\Collaborators\\Nunn\\Emma\\data_378,C:\\Xcalibur\\Data\\Collaborators\\Nunn\\Emma\\methods\\Vantage_nanoAcq_oysterYV_60min_DrM27cm,\"2:B,4\",2,4.26E+07\r",
      "2017_July_10_bivalves_36,36,O100-1,C:\\Xcalibur\\Data\\Collaborators\\Nunn\\Emma\\data_378,C:\\Xcalibur\\Data\\Collaborators\\Nunn\\Emma\\methods\\Vantage_nanoAcq_oysterYV_60min_DrM27cm,\"2:B,5\",2,4.26E+07\r",
      "2017_July_10_bivalves_38,38,O137-1,C:\\Xcalibur\\Data\\Collaborators\\Nunn\\Emma\\data_378,C:\\Xcalibur\\Data\\Collaborators\\Nunn\\Emma\\methods\\Vantage_nanoAcq_oysterYV_60min_DrM27cm,\"2:C,1\",2,4.27E+07\r",
      "2017_July_10_bivalves_39,39,O96-1,C:\\Xcalibur\\Data\\Collaborators\\Nunn\\Emma\\data_378,C:\\Xcalibur\\Data\\Collaborators\\Nunn\\Emma\\methods\\Vantage_nanoAcq_oysterYV_60min_DrM27cm,\"2:C,2\",2,4.26E+07\r",
      "2017_July_10_bivalves_40,40,O46-1,C:\\Xcalibur\\Data\\Collaborators\\Nunn\\Emma\\data_378,C:\\Xcalibur\\Data\\Collaborators\\Nunn\\Emma\\methods\\Vantage_nanoAcq_oysterYV_60min_DrM27cm,\"2:C,3\",2,4.28E+07\r",
      "2017_July_10_bivalves_41,41,O90-1,C:\\Xcalibur\\Data\\Collaborators\\Nunn\\Emma\\data_378,C:\\Xcalibur\\Data\\Collaborators\\Nunn\\Emma\\methods\\Vantage_nanoAcq_oysterYV_60min_DrM27cm,\"2:C,4\",2,4.29E+07\r",
      "2017_July_10_bivalves_42,42,O147-1,C:\\Xcalibur\\Data\\Collaborators\\Nunn\\Emma\\data_378,C:\\Xcalibur\\Data\\Collaborators\\Nunn\\Emma\\methods\\Vantage_nanoAcq_oysterYV_60min_DrM27cm,\"2:C,5\",2,4.28E+07\r",
      "2017_July_10_bivalves_44,44,O30-1,C:\\Xcalibur\\Data\\Collaborators\\Nunn\\Emma\\data_378,C:\\Xcalibur\\Data\\Collaborators\\Nunn\\Emma\\methods\\Vantage_nanoAcq_oysterYV_60min_DrM27cm,\"2:D,1\",2,4.23E+07\r",
      "2017_July_10_bivalves_45,45,O31-1,C:\\Xcalibur\\Data\\Collaborators\\Nunn\\Emma\\data_378,C:\\Xcalibur\\Data\\Collaborators\\Nunn\\Emma\\methods\\Vantage_nanoAcq_oysterYV_60min_DrM27cm,\"2:D,2\",2,3.74E+07\r",
      "2017_July_10_bivalves_46,46,O131-1,C:\\Xcalibur\\Data\\Collaborators\\Nunn\\Emma\\data_378,C:\\Xcalibur\\Data\\Collaborators\\Nunn\\Emma\\methods\\Vantage_nanoAcq_oysterYV_60min_DrM27cm,\"2:D,3\",2,3.61E+07\r",
      "2017_July_10_bivalves_47,47,O35-1,C:\\Xcalibur\\Data\\Collaborators\\Nunn\\Emma\\data_378,C:\\Xcalibur\\Data\\Collaborators\\Nunn\\Emma\\methods\\Vantage_nanoAcq_oysterYV_60min_DrM27cm,\"2:D,4\",2,3.85E+07\r",
      "2017_July_10_bivalves_48,48,O24-1,C:\\Xcalibur\\Data\\Collaborators\\Nunn\\Emma\\data_378,C:\\Xcalibur\\Data\\Collaborators\\Nunn\\Emma\\methods\\Vantage_nanoAcq_oysterYV_60min_DrM27cm,\"2:D,5\",2,3.67E+07\r",
      "2017_July_10_bivalves_50,50,O43-1,C:\\Xcalibur\\Data\\Collaborators\\Nunn\\Emma\\data_378,C:\\Xcalibur\\Data\\Collaborators\\Nunn\\Emma\\methods\\Vantage_nanoAcq_oysterYV_60min_DrM27cm,\"2:E,1\",2,3.99E+07\r",
      "2017_July_10_bivalves_51,51,O40-1,C:\\Xcalibur\\Data\\Collaborators\\Nunn\\Emma\\data_378,C:\\Xcalibur\\Data\\Collaborators\\Nunn\\Emma\\methods\\Vantage_nanoAcq_oysterYV_60min_DrM27cm,\"2:E,2\",2,3.93E+07\r",
      "2017_July_10_bivalves_52,52,O26-1,C:\\Xcalibur\\Data\\Collaborators\\Nunn\\Emma\\data_378,C:\\Xcalibur\\Data\\Collaborators\\Nunn\\Emma\\methods\\Vantage_nanoAcq_oysterYV_60min_DrM27cm,\"2:E,3\",2,3.89E+07\r",
      "2017_July_10_bivalves_53,53,O78-1,C:\\Xcalibur\\Data\\Collaborators\\Nunn\\Emma\\data_378,C:\\Xcalibur\\Data\\Collaborators\\Nunn\\Emma\\methods\\Vantage_nanoAcq_oysterYV_60min_DrM27cm,\"2:E,4\",2,3.58E+07\r",
      "2017_July_10_bivalves_54,54,O124-1,C:\\Xcalibur\\Data\\Collaborators\\Nunn\\Emma\\data_378,C:\\Xcalibur\\Data\\Collaborators\\Nunn\\Emma\\methods\\Vantage_nanoAcq_oysterYV_60min_DrM27cm,\"2:E,5\",2,3.78E+07\r",
      "2017_July_10_bivalves_56,56,O64-1,C:\\Xcalibur\\Data\\Collaborators\\Nunn\\Emma\\data_378,C:\\Xcalibur\\Data\\Collaborators\\Nunn\\Emma\\methods\\Vantage_nanoAcq_oysterYV_60min_DrM27cm,\"2:F,1\",2,3.81E+07\r",
      "2017_July_10_bivalves_57,57,O140-1,C:\\Xcalibur\\Data\\Collaborators\\Nunn\\Emma\\data_378,C:\\Xcalibur\\Data\\Collaborators\\Nunn\\Emma\\methods\\Vantage_nanoAcq_oysterYV_60min_DrM27cm,\"2:F,2\",2,3.17E+07\r",
      "2017_July_10_bivalves_58,58,O66-1,C:\\Xcalibur\\Data\\Collaborators\\Nunn\\Emma\\data_378,C:\\Xcalibur\\Data\\Collaborators\\Nunn\\Emma\\methods\\Vantage_nanoAcq_oysterYV_60min_DrM27cm,\"2:F,3\",2,3.43E+07\r",
      "2017_July_10_bivalves_59,59,O121-1,C:\\Xcalibur\\Data\\Collaborators\\Nunn\\Emma\\data_378,C:\\Xcalibur\\Data\\Collaborators\\Nunn\\Emma\\methods\\Vantage_nanoAcq_oysterYV_60min_DrM27cm,\"2:F,4\",2,3.27E+07\r",
      "2017_July_10_bivalves_60,60,OBLNK2-1,C:\\Xcalibur\\Data\\Collaborators\\Nunn\\Emma\\data_378,C:\\Xcalibur\\Data\\Collaborators\\Nunn\\Emma\\methods\\Vantage_nanoAcq_oysterYV_60min_DrM27cm,\"2:F,5\",2,3.54E+07\r",
      "2017_July_10_bivalves_62,62,O17-2,C:\\Xcalibur\\Data\\Collaborators\\Nunn\\Emma\\data_378,C:\\Xcalibur\\Data\\Collaborators\\Nunn\\Emma\\methods\\Vantage_nanoAcq_oysterYV_60min_DrM27cm,\"1:B,1\",2,4.25E+07\r",
      "2017_July_10_bivalves_63,63,O56-2,C:\\Xcalibur\\Data\\Collaborators\\Nunn\\Emma\\data_378,C:\\Xcalibur\\Data\\Collaborators\\Nunn\\Emma\\methods\\Vantage_nanoAcq_oysterYV_60min_DrM27cm,\"1:B,2\",2,4.26E+07\r",
      "2017_July_10_bivalves_64,64,O106-2,C:\\Xcalibur\\Data\\Collaborators\\Nunn\\Emma\\data_378,C:\\Xcalibur\\Data\\Collaborators\\Nunn\\Emma\\methods\\Vantage_nanoAcq_oysterYV_60min_DrM27cm,\"1:B,3\",2,4.20E+07\r",
      "2017_July_10_bivalves_65,65,O10-2,C:\\Xcalibur\\Data\\Collaborators\\Nunn\\Emma\\data_378,C:\\Xcalibur\\Data\\Collaborators\\Nunn\\Emma\\methods\\Vantage_nanoAcq_oysterYV_60min_DrM27cm,\"1:B,4\",2,4.19E+07\r",
      "2017_July_10_bivalves_66,66,O51-2,C:\\Xcalibur\\Data\\Collaborators\\Nunn\\Emma\\data_378,C:\\Xcalibur\\Data\\Collaborators\\Nunn\\Emma\\methods\\Vantage_nanoAcq_oysterYV_60min_DrM27cm,\"1:B,5\",2,4.26E+07\r",
      "2017_July_10_bivalves_68,68,O145-2,C:\\Xcalibur\\Data\\Collaborators\\Nunn\\Emma\\data_378,C:\\Xcalibur\\Data\\Collaborators\\Nunn\\Emma\\methods\\Vantage_nanoAcq_oysterYV_60min_DrM27cm,\"1:C,1\",2,4.27E+07\r",
      "2017_July_10_bivalves_69,69,O71-2,C:\\Xcalibur\\Data\\Collaborators\\Nunn\\Emma\\data_378,C:\\Xcalibur\\Data\\Collaborators\\Nunn\\Emma\\methods\\Vantage_nanoAcq_oysterYV_60min_DrM27cm,\"1:C,2\",2,4.29E+07\r",
      "2017_July_10_bivalves_70,70,O49-2,C:\\Xcalibur\\Data\\Collaborators\\Nunn\\Emma\\data_378,C:\\Xcalibur\\Data\\Collaborators\\Nunn\\Emma\\methods\\Vantage_nanoAcq_oysterYV_60min_DrM27cm,\"1:C,3\",2,4.29E+07\r",
      "2017_July_10_bivalves_71,71,O06-2,C:\\Xcalibur\\Data\\Collaborators\\Nunn\\Emma\\data_378,C:\\Xcalibur\\Data\\Collaborators\\Nunn\\Emma\\methods\\Vantage_nanoAcq_oysterYV_60min_DrM27cm,\"1:C,4\",2,4.29E+07\r",
      "2017_July_10_bivalves_72,72,O21-2,C:\\Xcalibur\\Data\\Collaborators\\Nunn\\Emma\\data_378,C:\\Xcalibur\\Data\\Collaborators\\Nunn\\Emma\\methods\\Vantage_nanoAcq_oysterYV_60min_DrM27cm,\"1:C,5\",2,4.29E+07\r",
      "2017_July_10_bivalves_76,76,O52-2,C:\\Xcalibur\\Data\\Collaborators\\Nunn\\Emma\\data_378,C:\\Xcalibur\\Data\\Collaborators\\Nunn\\Emma\\methods\\Vantage_nanoAcq_oysterYV_60min_DrM27cm,\"1:D,3\",2,4.29E+07\r",
      "2017_July_10_bivalves_77,77,O122-2,C:\\Xcalibur\\Data\\Collaborators\\Nunn\\Emma\\data_378,C:\\Xcalibur\\Data\\Collaborators\\Nunn\\Emma\\methods\\Vantage_nanoAcq_oysterYV_60min_DrM27cm,\"1:D,4\",2,4.27E+07\r",
      "2017_July_10_bivalves_78,78,O39-2,C:\\Xcalibur\\Data\\Collaborators\\Nunn\\Emma\\data_378,C:\\Xcalibur\\Data\\Collaborators\\Nunn\\Emma\\methods\\Vantage_nanoAcq_oysterYV_60min_DrM27cm,\"1:D,5\",2,4.29E+07\r",
      "2017_July_10_bivalves_80,80,O128-2,C:\\Xcalibur\\Data\\Collaborators\\Nunn\\Emma\\data_378,C:\\Xcalibur\\Data\\Collaborators\\Nunn\\Emma\\methods\\Vantage_nanoAcq_oysterYV_60min_DrM27cm,\"1:E,1\",2,4.29E+07\r",
      "2017_July_10_bivalves_81,81,O103-2,C:\\Xcalibur\\Data\\Collaborators\\Nunn\\Emma\\data_378,C:\\Xcalibur\\Data\\Collaborators\\Nunn\\Emma\\methods\\Vantage_nanoAcq_oysterYV_60min_DrM27cm,\"1:E,2\",2,4.29E+07\r",
      "2017_July_10_bivalves_85,85,O14-2,C:\\Xcalibur\\Data\\Collaborators\\Nunn\\Emma\\data_378,C:\\Xcalibur\\Data\\Collaborators\\Nunn\\Emma\\methods\\Vantage_nanoAcq_oysterYV_60min_DrM27cm,\"1:E,3\",2,4.29E+07\r",
      "2017_July_10_bivalves_94,94,O04-2,C:\\Xcalibur\\Data\\Collaborators\\Nunn\\Emma\\data_378,C:\\Xcalibur\\Data\\Collaborators\\Nunn\\Emma\\methods\\Vantage_nanoAcq_oysterYV_60min_DrM27cm,\"1:F,2\",2,4.29E+07\r",
      "2017_July_10_bivalves_95,95,O102-2,C:\\Xcalibur\\Data\\Collaborators\\Nunn\\Emma\\data_378,C:\\Xcalibur\\Data\\Collaborators\\Nunn\\Emma\\methods\\Vantage_nanoAcq_oysterYV_60min_DrM27cm,\"1:F,3\",2,4.29E+07\r",
      "2017_July_10_bivalves_96,96,O99-2,C:\\Xcalibur\\Data\\Collaborators\\Nunn\\Emma\\data_378,C:\\Xcalibur\\Data\\Collaborators\\Nunn\\Emma\\methods\\Vantage_nanoAcq_oysterYV_60min_DrM27cm,\"1:F,4\",2,4.29E+07\r",
      "2017_July_10_bivalves_97,97,O08-2,C:\\Xcalibur\\Data\\Collaborators\\Nunn\\Emma\\data_378,C:\\Xcalibur\\Data\\Collaborators\\Nunn\\Emma\\methods\\Vantage_nanoAcq_oysterYV_60min_DrM27cm,\"1:F,5\",2,4.29E+07\r",
      "2017_July_10_bivalves_99,99,O137-2,C:\\Xcalibur\\Data\\Collaborators\\Nunn\\Emma\\data_378,C:\\Xcalibur\\Data\\Collaborators\\Nunn\\Emma\\methods\\Vantage_nanoAcq_oysterYV_60min_DrM27cm,\"2:B,1\",2,4.29E+07\r",
      "2017_July_10_bivalves_100,100,O30-2,C:\\Xcalibur\\Data\\Collaborators\\Nunn\\Emma\\data_378,C:\\Xcalibur\\Data\\Collaborators\\Nunn\\Emma\\methods\\Vantage_nanoAcq_oysterYV_60min_DrM27cm,\"2:B,2\",2,4.29E+07\r",
      "2017_July_10_bivalves_101,101,O40-2,C:\\Xcalibur\\Data\\Collaborators\\Nunn\\Emma\\data_378,C:\\Xcalibur\\Data\\Collaborators\\Nunn\\Emma\\methods\\Vantage_nanoAcq_oysterYV_60min_DrM27cm,\"2:B,3\",2,4.05E+07\r",
      "2017_July_10_bivalves_102,102,O32-2,C:\\Xcalibur\\Data\\Collaborators\\Nunn\\Emma\\data_378,C:\\Xcalibur\\Data\\Collaborators\\Nunn\\Emma\\methods\\Vantage_nanoAcq_oysterYV_60min_DrM27cm,\"2:B,4\",2,4.28E+07\r",
      "2017_July_10_bivalves_103,103,O96-2,C:\\Xcalibur\\Data\\Collaborators\\Nunn\\Emma\\data_378,C:\\Xcalibur\\Data\\Collaborators\\Nunn\\Emma\\methods\\Vantage_nanoAcq_oysterYV_60min_DrM27cm,\"2:B,5\",2,4.28E+07\r",
      "2017_July_10_bivalves_105,105,O46-2,C:\\Xcalibur\\Data\\Collaborators\\Nunn\\Emma\\data_378,C:\\Xcalibur\\Data\\Collaborators\\Nunn\\Emma\\methods\\Vantage_nanoAcq_oysterYV_60min_DrM27cm,\"2:C,1\",2,4.29E+07\r",
      "2017_July_10_bivalves_106,106,O100-2,C:\\Xcalibur\\Data\\Collaborators\\Nunn\\Emma\\data_378,C:\\Xcalibur\\Data\\Collaborators\\Nunn\\Emma\\methods\\Vantage_nanoAcq_oysterYV_60min_DrM27cm,\"2:C,2\",2,4.29E+07\r",
      "2017_July_10_bivalves_107,107,O64-2,C:\\Xcalibur\\Data\\Collaborators\\Nunn\\Emma\\data_378,C:\\Xcalibur\\Data\\Collaborators\\Nunn\\Emma\\methods\\Vantage_nanoAcq_oysterYV_60min_DrM27cm,\"2:C,3\",2,3.99E+07\r",
      "2017_July_10_bivalves_108,108,O147-2,C:\\Xcalibur\\Data\\Collaborators\\Nunn\\Emma\\data_378,C:\\Xcalibur\\Data\\Collaborators\\Nunn\\Emma\\methods\\Vantage_nanoAcq_oysterYV_60min_DrM27cm,\"2:C,4\",2,4.29E+07\r",
      "2017_July_10_bivalves_111,111,O43-2,C:\\Xcalibur\\Data\\Collaborators\\Nunn\\Emma\\data_378,C:\\Xcalibur\\Data\\Collaborators\\Nunn\\Emma\\methods\\Vantage_nanoAcq_oysterYV_60min_DrM27cm,\"2:D,1\",2,4.22E+07\r",
      "2017_July_10_bivalves_112,112,O78-2,C:\\Xcalibur\\Data\\Collaborators\\Nunn\\Emma\\data_378,C:\\Xcalibur\\Data\\Collaborators\\Nunn\\Emma\\methods\\Vantage_nanoAcq_oysterYV_60min_DrM27cm,\"2:D,2\",2,4.12E+07\r",
      "2017_July_10_bivalves_113,113,O91-2,C:\\Xcalibur\\Data\\Collaborators\\Nunn\\Emma\\data_378,C:\\Xcalibur\\Data\\Collaborators\\Nunn\\Emma\\methods\\Vantage_nanoAcq_oysterYV_60min_DrM27cm,\"2:D,3\",2,4.29E+07\r",
      "2017_July_10_bivalves_115,115,O131-2,C:\\Xcalibur\\Data\\Collaborators\\Nunn\\Emma\\data_378,C:\\Xcalibur\\Data\\Collaborators\\Nunn\\Emma\\methods\\Vantage_nanoAcq_oysterYV_60min_DrM27cm,\"2:D,5\",2,4.04E+07\r",
      "2017_July_10_bivalves_117,117,O31-2,C:\\Xcalibur\\Data\\Collaborators\\Nunn\\Emma\\data_378,C:\\Xcalibur\\Data\\Collaborators\\Nunn\\Emma\\methods\\Vantage_nanoAcq_oysterYV_60min_DrM27cm,\"2:E,1\",2,4.00E+07\r",
      "2017_July_10_bivalves_118,118,O35-2,C:\\Xcalibur\\Data\\Collaborators\\Nunn\\Emma\\data_378,C:\\Xcalibur\\Data\\Collaborators\\Nunn\\Emma\\methods\\Vantage_nanoAcq_oysterYV_60min_DrM27cm,\"2:E,2\",2,4.08E+07\r",
      "2017_July_10_bivalves_119,119,O140-2,C:\\Xcalibur\\Data\\Collaborators\\Nunn\\Emma\\data_378,C:\\Xcalibur\\Data\\Collaborators\\Nunn\\Emma\\methods\\Vantage_nanoAcq_oysterYV_60min_DrM27cm,\"2:E,3\",2,3.79E+07\r",
      "2017_July_10_bivalves_120,120,O121-2,C:\\Xcalibur\\Data\\Collaborators\\Nunn\\Emma\\data_378,C:\\Xcalibur\\Data\\Collaborators\\Nunn\\Emma\\methods\\Vantage_nanoAcq_oysterYV_60min_DrM27cm,\"2:E,4\",2,3.74E+07\r",
      "2017_July_10_bivalves_121,121,O60-2,C:\\Xcalibur\\Data\\Collaborators\\Nunn\\Emma\\data_378,C:\\Xcalibur\\Data\\Collaborators\\Nunn\\Emma\\methods\\Vantage_nanoAcq_oysterYV_60min_DrM27cm,\"2:E,5\",2,4.29E+07\r",
      "2017_July_10_bivalves_123,123,O66-2,C:\\Xcalibur\\Data\\Collaborators\\Nunn\\Emma\\data_378,C:\\Xcalibur\\Data\\Collaborators\\Nunn\\Emma\\methods\\Vantage_nanoAcq_oysterYV_60min_DrM27cm,\"2:F,1\",2,4.02E+07\r",
      "2017_July_10_bivalves_124,124,O101-2,C:\\Xcalibur\\Data\\Collaborators\\Nunn\\Emma\\data_378,C:\\Xcalibur\\Data\\Collaborators\\Nunn\\Emma\\methods\\Vantage_nanoAcq_oysterYV_60min_DrM27cm,\"2:F,2\",2,4.29E+07\r",
      "2017_July_10_bivalves_125,125,O124-2,C:\\Xcalibur\\Data\\Collaborators\\Nunn\\Emma\\data_378,C:\\Xcalibur\\Data\\Collaborators\\Nunn\\Emma\\methods\\Vantage_nanoAcq_oysterYV_60min_DrM27cm,\"2:F,3\",2,4.03E+07\r",
      "2017_July_10_bivalves_126,126,O24-2,C:\\Xcalibur\\Data\\Collaborators\\Nunn\\Emma\\data_378,C:\\Xcalibur\\Data\\Collaborators\\Nunn\\Emma\\methods\\Vantage_nanoAcq_oysterYV_60min_DrM27cm,\"2:F,4\",2,4.17E+07\r",
      "2017_July_10_bivalves_127,127,OBLNK2-2,C:\\Xcalibur\\Data\\Collaborators\\Nunn\\Emma\\data_378,C:\\Xcalibur\\Data\\Collaborators\\Nunn\\Emma\\methods\\Vantage_nanoAcq_oysterYV_60min_DrM27cm,\"2:F,5\",2,4.21E+07\r",
      "2017_July_10_bivalves_129,129,O01-1,C:\\Xcalibur\\Data\\Collaborators\\Nunn\\Emma\\data_378,C:\\Xcalibur\\Data\\Collaborators\\Nunn\\Emma\\methods\\Vantage_nanoAcq_oysterYV_60min_DrM27cm,\"1:B,1\",2,4.27E+07\r",
      "2017_July_10_bivalves_131,131,O22-2,C:\\Xcalibur\\Data\\Collaborators\\Nunn\\Emma\\data_378,C:\\Xcalibur\\Data\\Collaborators\\Nunn\\Emma\\methods\\Vantage_nanoAcq_oysterYV_60min_DrM27cm,\"1:B,3\",2,4.11E+07\r",
      "2017_July_10_bivalves_132,132,O113-2,C:\\Xcalibur\\Data\\Collaborators\\Nunn\\Emma\\data_378,C:\\Xcalibur\\Data\\Collaborators\\Nunn\\Emma\\methods\\Vantage_nanoAcq_oysterYV_60min_DrM27cm,\"1:B,4\",2,4.24E+07\r",
      "2017_July_10_bivalves_133,133,O118-2,C:\\Xcalibur\\Data\\Collaborators\\Nunn\\Emma\\data_378,C:\\Xcalibur\\Data\\Collaborators\\Nunn\\Emma\\methods\\Vantage_nanoAcq_oysterYV_60min_DrM27cm,\"1:B,5\",2,4.22E+07\r",
      "2017_July_10_bivalves_135,135,O01-2,C:\\Xcalibur\\Data\\Collaborators\\Nunn\\Emma\\data_378,C:\\Xcalibur\\Data\\Collaborators\\Nunn\\Emma\\methods\\Vantage_nanoAcq_oysterYV_60min_DrM27cm,\"1:B,1\",2,4.27E+07\r",
      "2017_July_10_bivalves_136,136,O26-2,C:\\Xcalibur\\Data\\Collaborators\\Nunn\\Emma\\data_378,C:\\Xcalibur\\Data\\Collaborators\\Nunn\\Emma\\methods\\Vantage_nanoAcq_oysterYV_60min_DrM27cm,\"1:C,1\",2,4.29E+07\r",
      "2017_July_10_bivalves_137,137,O90-2,C:\\Xcalibur\\Data\\Collaborators\\Nunn\\Emma\\data_378,C:\\Xcalibur\\Data\\Collaborators\\Nunn\\Emma\\methods\\Vantage_nanoAcq_oysterYV_60min_DrM27cm,\"1:C,2\",2,4.29E+07"
     ]
    }
   ],
   "source": [
    "!head 2017-07-28-SRM-Samples-Sequence-File.csv"
   ]
  },
  {
   "cell_type": "code",
   "execution_count": 11,
   "metadata": {
    "collapsed": false
   },
   "outputs": [
    {
     "name": "stdout",
     "output_type": "stream",
     "text": [
      "Replicate Name,Protein Name,Peptide Sequence,Transition,Fragment Ion,Peptide Retention Time,Total Ion Current Area,Area\r\n",
      "2,CHOYP_ACAA2.1.1|m.30666,QYNLTPLAR,L - y6+,y6,26.23,,104555\r\n",
      "4,CHOYP_ACAA2.1.1|m.30666,QYNLTPLAR,L - y6+,y6,26.53,,102855\r\n",
      "6,CHOYP_ACAA2.1.1|m.30666,QYNLTPLAR,L - y6+,y6,26.29,,91315\r\n",
      "8,CHOYP_ACAA2.1.1|m.30666,QYNLTPLAR,L - y6+,y6,26.57,,79407\r\n",
      "9,CHOYP_ACAA2.1.1|m.30666,QYNLTPLAR,L - y6+,y6,26.3,,56154\r\n",
      "11,CHOYP_ACAA2.1.1|m.30666,QYNLTPLAR,L - y6+,y6,26.1,,106429\r\n",
      "12,CHOYP_ACAA2.1.1|m.30666,QYNLTPLAR,L - y6+,y6,26.1,,144829\r\n",
      "14,CHOYP_ACAA2.1.1|m.30666,QYNLTPLAR,L - y6+,y6,#N/A,,#N/A\r\n",
      "15,CHOYP_ACAA2.1.1|m.30666,QYNLTPLAR,L - y6+,y6,25.79,,112384\r\n"
     ]
    }
   ],
   "source": [
    "!head sub_2017-09-06-Gigas-SRM-ReplicatesOnly-PostDilutionCurve-NoPivot-Report.csv"
   ]
  },
  {
   "cell_type": "code",
   "execution_count": 12,
   "metadata": {
    "collapsed": true
   },
   "outputs": [],
   "source": [
    "!sort sub_2017-09-06-Gigas-SRM-ReplicatesOnly-PostDilutionCurve-NoPivot-Report.csv \\\n",
    "> sub_2017-09-06-Gigas-SRM-ReplicatesOnly-PostDilutionCurve-NoPivot-Report.sorted"
   ]
  },
  {
   "cell_type": "code",
   "execution_count": 13,
   "metadata": {
    "collapsed": true
   },
   "outputs": [],
   "source": [
    "!sort sub2-2017-07-28-SRM-Samples-Sequence-File.csv \\\n",
    "> sub2-2017-07-28-SRM-Samples-Sequence-File.sorted"
   ]
  },
  {
   "cell_type": "code",
   "execution_count": 16,
   "metadata": {
    "collapsed": false
   },
   "outputs": [
    {
     "name": "stdout",
     "output_type": "stream",
     "text": [
      "100,CHOYP_ACAA2.1.1|m.30666,QYNLTPLAR,L - y6+,y6,25.8,,186703,O30-2,2017_July_10_bivalves_100,C:\\Xcalibur\\Data\\Collaborators\\Nunn\\Emma\\data_378,C:\\Xcalibur\\Data\\Collaborators\\Nunn\\Emma\\methods\\Vantage_nanoAcq_oysterYV_60min_DrM27cm,\"2:B,2\",2,4.29E+07\r\n",
      "100,CHOYP_ACAA2.1.1|m.30666,QYNLTPLAR,T - y5+,y5,25.8,,406629,O30-2,2017_July_10_bivalves_100,C:\\Xcalibur\\Data\\Collaborators\\Nunn\\Emma\\data_378,C:\\Xcalibur\\Data\\Collaborators\\Nunn\\Emma\\methods\\Vantage_nanoAcq_oysterYV_60min_DrM27cm,\"2:B,2\",2,4.29E+07\r\n",
      "100,PRTC peptides,SSAAPPPPPR,P - y4+,y4,17.09,,96632800,O30-2,2017_July_10_bivalves_100,C:\\Xcalibur\\Data\\Collaborators\\Nunn\\Emma\\data_378,C:\\Xcalibur\\Data\\Collaborators\\Nunn\\Emma\\methods\\Vantage_nanoAcq_oysterYV_60min_DrM27cm,\"2:B,2\",2,4.29E+07\r\n",
      "101,CHOYP_ACAA2.1.1|m.30666,QYNLTPLAR,L - y6+,y6,25.76,,83028,O40-2,2017_July_10_bivalves_101,C:\\Xcalibur\\Data\\Collaborators\\Nunn\\Emma\\data_378,C:\\Xcalibur\\Data\\Collaborators\\Nunn\\Emma\\methods\\Vantage_nanoAcq_oysterYV_60min_DrM27cm,\"2:B,3\",2,4.05E+07\r\n",
      "101,CHOYP_ACAA2.1.1|m.30666,QYNLTPLAR,T - y5+,y5,25.76,,198187,O40-2,2017_July_10_bivalves_101,C:\\Xcalibur\\Data\\Collaborators\\Nunn\\Emma\\data_378,C:\\Xcalibur\\Data\\Collaborators\\Nunn\\Emma\\methods\\Vantage_nanoAcq_oysterYV_60min_DrM27cm,\"2:B,3\",2,4.05E+07\r\n",
      "101,PRTC peptides,SSAAPPPPPR,P - y4+,y4,16.82,,46170476,O40-2,2017_July_10_bivalves_101,C:\\Xcalibur\\Data\\Collaborators\\Nunn\\Emma\\data_378,C:\\Xcalibur\\Data\\Collaborators\\Nunn\\Emma\\methods\\Vantage_nanoAcq_oysterYV_60min_DrM27cm,\"2:B,3\",2,4.05E+07\r\n",
      "102,CHOYP_ACAA2.1.1|m.30666,QYNLTPLAR,L - y6+,y6,25.89,,153039,O32-2,2017_July_10_bivalves_102,C:\\Xcalibur\\Data\\Collaborators\\Nunn\\Emma\\data_378,C:\\Xcalibur\\Data\\Collaborators\\Nunn\\Emma\\methods\\Vantage_nanoAcq_oysterYV_60min_DrM27cm,\"2:B,4\",2,4.28E+07\r\n",
      "102,CHOYP_ACAA2.1.1|m.30666,QYNLTPLAR,T - y5+,y5,25.89,,344629,O32-2,2017_July_10_bivalves_102,C:\\Xcalibur\\Data\\Collaborators\\Nunn\\Emma\\data_378,C:\\Xcalibur\\Data\\Collaborators\\Nunn\\Emma\\methods\\Vantage_nanoAcq_oysterYV_60min_DrM27cm,\"2:B,4\",2,4.28E+07\r\n",
      "102,PRTC peptides,SSAAPPPPPR,P - y4+,y4,16.98,,96146056,O32-2,2017_July_10_bivalves_102,C:\\Xcalibur\\Data\\Collaborators\\Nunn\\Emma\\data_378,C:\\Xcalibur\\Data\\Collaborators\\Nunn\\Emma\\methods\\Vantage_nanoAcq_oysterYV_60min_DrM27cm,\"2:B,4\",2,4.28E+07\r\n",
      "103,CHOYP_ACAA2.1.1|m.30666,QYNLTPLAR,L - y6+,y6,25.86,,44742,O96-2,2017_July_10_bivalves_103,C:\\Xcalibur\\Data\\Collaborators\\Nunn\\Emma\\data_378,C:\\Xcalibur\\Data\\Collaborators\\Nunn\\Emma\\methods\\Vantage_nanoAcq_oysterYV_60min_DrM27cm,\"2:B,5\",2,4.28E+07\r\n",
      "join: stdout: Broken pipe\r\n"
     ]
    }
   ],
   "source": [
    "!join -t \",\" sub_2017-09-06-Gigas-SRM-ReplicatesOnly-PostDilutionCurve-NoPivot-Report.sorted \\\n",
    "sub2-2017-07-28-SRM-Samples-Sequence-File.sorted | head"
   ]
  },
  {
   "cell_type": "code",
   "execution_count": 15,
   "metadata": {
    "collapsed": false
   },
   "outputs": [
    {
     "name": "stdout",
     "output_type": "stream",
     "text": [
      "==> sub2-2017-07-28-SRM-Samples-Sequence-File.sorted <==\r\n",
      "10,O71-1,2017_July_10_bivalves_10,C:\\Xcalibur\\Data\\Collaborators\\Nunn\\Emma\\data_378,C:\\Xcalibur\\Data\\Collaborators\\Nunn\\Emma\\methods\\Vantage_nanoAcq_oysterYV_60min_DrM27cm,\"1:C,3\",2,4.25E+07\r\n",
      "100,O30-2,2017_July_10_bivalves_100,C:\\Xcalibur\\Data\\Collaborators\\Nunn\\Emma\\data_378,C:\\Xcalibur\\Data\\Collaborators\\Nunn\\Emma\\methods\\Vantage_nanoAcq_oysterYV_60min_DrM27cm,\"2:B,2\",2,4.29E+07\r\n",
      "101,O40-2,2017_July_10_bivalves_101,C:\\Xcalibur\\Data\\Collaborators\\Nunn\\Emma\\data_378,C:\\Xcalibur\\Data\\Collaborators\\Nunn\\Emma\\methods\\Vantage_nanoAcq_oysterYV_60min_DrM27cm,\"2:B,3\",2,4.05E+07\r\n",
      "102,O32-2,2017_July_10_bivalves_102,C:\\Xcalibur\\Data\\Collaborators\\Nunn\\Emma\\data_378,C:\\Xcalibur\\Data\\Collaborators\\Nunn\\Emma\\methods\\Vantage_nanoAcq_oysterYV_60min_DrM27cm,\"2:B,4\",2,4.28E+07\r\n",
      "103,O96-2,2017_July_10_bivalves_103,C:\\Xcalibur\\Data\\Collaborators\\Nunn\\Emma\\data_378,C:\\Xcalibur\\Data\\Collaborators\\Nunn\\Emma\\methods\\Vantage_nanoAcq_oysterYV_60min_DrM27cm,\"2:B,5\",2,4.28E+07\r\n",
      "105,O46-2,2017_July_10_bivalves_105,C:\\Xcalibur\\Data\\Collaborators\\Nunn\\Emma\\data_378,C:\\Xcalibur\\Data\\Collaborators\\Nunn\\Emma\\methods\\Vantage_nanoAcq_oysterYV_60min_DrM27cm,\"2:C,1\",2,4.29E+07\r\n",
      "106,O100-2,2017_July_10_bivalves_106,C:\\Xcalibur\\Data\\Collaborators\\Nunn\\Emma\\data_378,C:\\Xcalibur\\Data\\Collaborators\\Nunn\\Emma\\methods\\Vantage_nanoAcq_oysterYV_60min_DrM27cm,\"2:C,2\",2,4.29E+07\r\n",
      "107,O64-2,2017_July_10_bivalves_107,C:\\Xcalibur\\Data\\Collaborators\\Nunn\\Emma\\data_378,C:\\Xcalibur\\Data\\Collaborators\\Nunn\\Emma\\methods\\Vantage_nanoAcq_oysterYV_60min_DrM27cm,\"2:C,3\",2,3.99E+07\r\n",
      "108,O147-2,2017_July_10_bivalves_108,C:\\Xcalibur\\Data\\Collaborators\\Nunn\\Emma\\data_378,C:\\Xcalibur\\Data\\Collaborators\\Nunn\\Emma\\methods\\Vantage_nanoAcq_oysterYV_60min_DrM27cm,\"2:C,4\",2,4.29E+07\r\n",
      "11,O145-1,2017_July_10_bivalves_11,C:\\Xcalibur\\Data\\Collaborators\\Nunn\\Emma\\data_378,C:\\Xcalibur\\Data\\Collaborators\\Nunn\\Emma\\methods\\Vantage_nanoAcq_oysterYV_60min_DrM27cm,\"1:C,4\",2,4.16E+07\r\n",
      "\r\n",
      "==> sub_2017-09-06-Gigas-SRM-ReplicatesOnly-PostDilutionCurve-NoPivot-Report.sorted <==\r\n",
      "100,CHOYP_ACAA2.1.1|m.30666,QYNLTPLAR,L - y6+,y6,25.8,,186703\r\n",
      "100,CHOYP_ACAA2.1.1|m.30666,QYNLTPLAR,T - y5+,y5,25.8,,406629\r\n",
      "100,PRTC peptides,SSAAPPPPPR,P - y4+,y4,17.09,,96632800\r\n",
      "101,CHOYP_ACAA2.1.1|m.30666,QYNLTPLAR,L - y6+,y6,25.76,,83028\r\n",
      "101,CHOYP_ACAA2.1.1|m.30666,QYNLTPLAR,T - y5+,y5,25.76,,198187\r\n",
      "101,PRTC peptides,SSAAPPPPPR,P - y4+,y4,16.82,,46170476\r\n",
      "102,CHOYP_ACAA2.1.1|m.30666,QYNLTPLAR,L - y6+,y6,25.89,,153039\r\n",
      "102,CHOYP_ACAA2.1.1|m.30666,QYNLTPLAR,T - y5+,y5,25.89,,344629\r\n",
      "102,PRTC peptides,SSAAPPPPPR,P - y4+,y4,16.98,,96146056\r\n",
      "103,CHOYP_ACAA2.1.1|m.30666,QYNLTPLAR,L - y6+,y6,25.86,,44742\r\n"
     ]
    }
   ],
   "source": [
    "!head *.sorted\n"
   ]
  },
  {
   "cell_type": "code",
   "execution_count": 18,
   "metadata": {
    "collapsed": false
   },
   "outputs": [],
   "source": [
    "!join -t \",\" sub_2017-09-06-Gigas-SRM-ReplicatesOnly-PostDilutionCurve-NoPivot-Report.sorted \\\n",
    "sub2-2017-07-28-SRM-Samples-Sequence-File.sorted \\\n",
    "> subdata.csv"
   ]
  },
  {
   "cell_type": "code",
   "execution_count": null,
   "metadata": {
    "collapsed": true
   },
   "outputs": [],
   "source": []
  }
 ],
 "metadata": {
  "kernelspec": {
   "display_name": "Python 2",
   "language": "python",
   "name": "python2"
  },
  "language_info": {
   "codemirror_mode": {
    "name": "ipython",
    "version": 2
   },
   "file_extension": ".py",
   "mimetype": "text/x-python",
   "name": "python",
   "nbconvert_exporter": "python",
   "pygments_lexer": "ipython2",
   "version": "2.7.12"
  }
 },
 "nbformat": 4,
 "nbformat_minor": 0
}
