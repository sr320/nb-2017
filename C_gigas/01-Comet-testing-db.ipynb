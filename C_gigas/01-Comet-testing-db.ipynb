{
 "cells": [
  {
   "cell_type": "markdown",
   "metadata": {},
   "source": [
    "# On EMU"
   ]
  },
  {
   "cell_type": "markdown",
   "metadata": {},
   "source": [
    "wd `~/bioinfo/021017`"
   ]
  },
  {
   "cell_type": "markdown",
   "metadata": {},
   "source": [
    "```\n",
    "/home/shared/comet/comet.2016012.linux.exe \\\n",
    "-Pcomet.params.high-low \\\n",
    "-DCg_Giga_cont_AA.fa \\\n",
    "20161205_Sample_1.mzXML\n",
    "```"
   ]
  },
  {
   "cell_type": "markdown",
   "metadata": {},
   "source": [
    "## TPP\n"
   ]
  },
  {
   "cell_type": "markdown",
   "metadata": {},
   "source": [
    "```\n",
    "/usr/tpp_install/tpp/bin/xinteract \\\n",
    "-dDECOY_ \\\n",
    "-N20161205_Sample_1 \\\n",
    "20161205_Sample_1.pep.xml \\\n",
    "-p0.9 \\\n",
    "-OAp\n",
    "```"
   ]
  },
  {
   "cell_type": "code",
   "execution_count": null,
   "metadata": {
    "collapsed": true
   },
   "outputs": [],
   "source": []
  }
 ],
 "metadata": {
  "kernelspec": {
   "display_name": "Python 2",
   "language": "python",
   "name": "python2"
  },
  "language_info": {
   "codemirror_mode": {
    "name": "ipython",
    "version": 2
   },
   "file_extension": ".py",
   "mimetype": "text/x-python",
   "name": "python",
   "nbconvert_exporter": "python",
   "pygments_lexer": "ipython2",
   "version": "2.7.12"
  }
 },
 "nbformat": 4,
 "nbformat_minor": 0
}
