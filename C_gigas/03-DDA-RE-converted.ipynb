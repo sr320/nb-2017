{
 "cells": [
  {
   "cell_type": "markdown",
   "metadata": {},
   "source": [
    "Files Rhonda have converted.."
   ]
  },
  {
   "cell_type": "markdown",
   "metadata": {},
   "source": [
    "```\n",
    "steven@emu:~/bioinfo/021117$ ls *mzXML\n",
    "20161205_Sample_11A.mzXML  20161205_Sample_27.mzXML   20161205_Sample_44A.mzXML\n",
    "20161205_Sample_11.mzXML   20161205_Sample_28A.mzXML  20161205_Sample_44.mzXML\n",
    "20161205_Sample_12A.mzXML  20161205_Sample_28.mzXML   20161205_Sample_48A.mzXML\n",
    "20161205_Sample_12.mzXML   20161205_Sample_32A.mzXML  20161205_Sample_48.mzXML\n",
    "20161205_Sample_16A.mzXML  20161205_Sample_32.mzXML   20161205_Sample_4A.mzXML\n",
    "20161205_Sample_16.mzXML   20161205_Sample_35A.mzXML  20161205_Sample_4.mzXML\n",
    "20161205_Sample_19A.mzXML  20161205_Sample_35.mzXML   20161205_Sample_51A.mzXML\n",
    "20161205_Sample_19.mzXML   20161205_Sample_36A.mzXML  20161205_Sample_51.mzXML\n",
    "20161205_Sample_1A.mzXML   20161205_Sample_36.mzXML   20161205_Sample_52A.mzXML\n",
    "20161205_sample_1.mzXML    20161205_Sample_3A.mzXML   20161205_Sample_52.mzXML\n",
    "20161205_Sample_20A.mzXML  20161205_Sample_3.mzXML    20161205_Sample_56A.mzXML\n",
    "20161205_Sample_20.mzXML   20161205_Sample_40A.mzXML  20161205_Sample_56.mzXML\n",
    "20161205_Sample_24A.mzXML  20161205_Sample_40.mzXML   20161205_Sample_8A.mzXML\n",
    "20161205_Sample_24.mzXML   20161205_Sample_43A.mzXML  20161205_Sample_8.mzXML\n",
    "20161205_Sample_27A.mzXML  20161205_Sample_43.mzXML\n",
    "```"
   ]
  },
  {
   "cell_type": "markdown",
   "metadata": {},
   "source": [
    "```\n",
    "tmux\n",
    "\n",
    "/home/shared/comet/comet.2016012.linux.exe \\\n",
    "-Pcomet.params.high-low_de \\\n",
    "-DCg_Giga_cont_AA.fa \\\n",
    "*.mzXML\n",
    "\n",
    "```\n",
    "control b\n",
    "d\n",
    "[detached (from session 2)]\n",
    "\n",
    "next time:\n",
    "    tmux attach -t2"
   ]
  },
  {
   "cell_type": "markdown",
   "metadata": {},
   "source": [
    "# testing xinteract code\n",
    "\n"
   ]
  },
  {
   "cell_type": "markdown",
   "metadata": {},
   "source": [
    "```\n",
    "find *xml | \\\n",
    "xargs basename -s .pep.xml | \\\n",
    "xargs -I {} /usr/tpp_install/tpp/bin/xinteract \\\n",
    "-dDECOY_ \\\n",
    "-N{} \\\n",
    "{}.pep.xml \\\n",
    "-p0.9 \\\n",
    "-OAp \\\n",
    "&>> output.error.log\n",
    "```\n",
    "session 3"
   ]
  },
  {
   "cell_type": "markdown",
   "metadata": {},
   "source": [
    "# Abacus"
   ]
  },
  {
   "cell_type": "code",
   "execution_count": 2,
   "metadata": {
    "collapsed": false
   },
   "outputs": [
    {
     "ename": "SyntaxError",
     "evalue": "invalid syntax (<ipython-input-2-12c0b2a9a480>, line 1)",
     "output_type": "error",
     "traceback": [
      "\u001b[0;36m  File \u001b[0;32m\"<ipython-input-2-12c0b2a9a480>\"\u001b[0;36m, line \u001b[0;32m1\u001b[0m\n\u001b[0;31m    usr(/tpp_install/tpp/bin/ProteinProphet, interact*.pep.xml, interact-COMBINED.prot.xml, &>>, output.error.PP.log)\u001b[0m\n\u001b[0m        ^\u001b[0m\n\u001b[0;31mSyntaxError\u001b[0m\u001b[0;31m:\u001b[0m invalid syntax\n"
     ]
    }
   ],
   "source": [
    "/usr/tpp_install/tpp/bin/ProteinProphet \\\n",
    "interact*.pep.xml \\\n",
    "interact-COMBINED.prot.xml \\\n",
    "&>> output.error.PP.log"
   ]
  },
  {
   "cell_type": "markdown",
   "metadata": {},
   "source": [
    "```\n",
    "steven@emu:~/bioinfo/021117$ cat Abacus.param \n",
    "#\n",
    "# ABACUS parameter file\n",
    "# Generated on: 2017Feb07_1919\n",
    "#\n",
    "\n",
    "# Name to give the database\n",
    "dbName=ABACUSDB\n",
    "\n",
    "# Name of protXML file corresponding to merged/combined results\n",
    "combinedFile=/home/steven/bioinfo/021117/interact-COMBINED.prot.xml\n",
    "\n",
    "# The directory that contains the pepXML and protXML files\n",
    "srcDir=/home/steven/bioinfo/021117\n",
    "\n",
    "# The name of the file where results will be saved to\n",
    "outputFile=/home/steven/bioinfo/021117/ABACUS_output.tsv\n",
    "\n",
    "# The minimum PeptideProphet score the best peptide match of a protein must have\n",
    "maxIniProbTH=0.99\n",
    "\n",
    "# The minimum PeptideProphet score a peptide must have in order to be even considered by Abacus\n",
    "iniProbTH=0.50\n",
    "\n",
    "# E.P.I: Experimental Peptide-probability Inclusion threshold\n",
    "# If a protein does not contain at least one peptide exceeding this PeptideProphet score, none of the\n",
    "# peptide evidence for this protein will be considered. This is applied on an experiment by experiment case.\n",
    "epiTH=0\n",
    "\n",
    "# The minimum ProteinProphet score a protein group must have in the COMBINED file\n",
    "minCombinedFilePw=0.90\n",
    "\n",
    "# The path the the FASTA formatted file used for the original protein search\n",
    "# Relative paths are allowed\n",
    "fasta=Cg_Giga_cont_AA.fa\n",
    "\n",
    "# If true, Abacus will write ALL protein IDs belonging to a group in the COMBINED file\n",
    "# Protein IDs starting with ':::' are additional identifiers from the same protein group in\n",
    "# the COMBINED file. The representative protein for the group does not start with ':::'\n",
    "verboseResults=false\n",
    "\n",
    "# The keep the HyperSQL database files that are created after the program is done\n",
    "keepDB=false\n",
    "\n",
    "# Should the peptide weights be recalculated in the individual experiment XML files.\n",
    "# Useful for peptides that are highly degenerate within a single protein groups\n",
    "recalcPepWts=false\n",
    "\n",
    "# Spectral count data will be reported in NSAF format.\n",
    "# NSAF = _N_ormalized _S_pectral _A_bundance _F_actor\n",
    "# For a detailed explanation of this method refer to this pubmed link:\n",
    "# http://www.ncbi.nlm.nih.gov/pubmed/20166708\n",
    "# Abacus reports NSAF values multiplied by a scaling factor. This is done to\n",
    "# control for numeric underflow (ie: really small numbers). The scaling factor\n",
    "# that is used is called the NSAF_FACTOR and is reported during runtime in\n",
    "# case you would like to rescale your data.\n",
    "asNSAF=false\n",
    "\n",
    "# If you are using decoy proteins in your searches, specify the first few\n",
    "# characters of the label indicating decoy proteins here\n",
    "decoyTag=rev_\n",
    "\n",
    "# Output format that will be produced by this parameter file\n",
    "output=Qspec\n",
    "```"
   ]
  },
  {
   "cell_type": "markdown",
   "metadata": {},
   "source": [
    "\n",
    "---\n",
    "```\n",
    "java -Xmx16g -jar /home/shared/abacus/abacus.jar -p \\\n",
    "Abacus.params\n",
    "```\n"
   ]
  },
  {
   "cell_type": "code",
   "execution_count": null,
   "metadata": {
    "collapsed": true
   },
   "outputs": [],
   "source": []
  }
 ],
 "metadata": {
  "kernelspec": {
   "display_name": "Python 2",
   "language": "python",
   "name": "python2"
  },
  "language_info": {
   "codemirror_mode": {
    "name": "ipython",
    "version": 2
   },
   "file_extension": ".py",
   "mimetype": "text/x-python",
   "name": "python",
   "nbconvert_exporter": "python",
   "pygments_lexer": "ipython2",
   "version": "2.7.12"
  }
 },
 "nbformat": 4,
 "nbformat_minor": 0
}
