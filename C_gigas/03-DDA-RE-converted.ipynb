{
 "cells": [
  {
   "cell_type": "markdown",
   "metadata": {},
   "source": [
    "Files Rhonda have converted.."
   ]
  },
  {
   "cell_type": "markdown",
   "metadata": {},
   "source": [
    "```\n",
    "steven@emu:~/bioinfo/021117$ ls *mzXML\n",
    "20161205_Sample_11A.mzXML  20161205_Sample_27.mzXML   20161205_Sample_44A.mzXML\n",
    "20161205_Sample_11.mzXML   20161205_Sample_28A.mzXML  20161205_Sample_44.mzXML\n",
    "20161205_Sample_12A.mzXML  20161205_Sample_28.mzXML   20161205_Sample_48A.mzXML\n",
    "20161205_Sample_12.mzXML   20161205_Sample_32A.mzXML  20161205_Sample_48.mzXML\n",
    "20161205_Sample_16A.mzXML  20161205_Sample_32.mzXML   20161205_Sample_4A.mzXML\n",
    "20161205_Sample_16.mzXML   20161205_Sample_35A.mzXML  20161205_Sample_4.mzXML\n",
    "20161205_Sample_19A.mzXML  20161205_Sample_35.mzXML   20161205_Sample_51A.mzXML\n",
    "20161205_Sample_19.mzXML   20161205_Sample_36A.mzXML  20161205_Sample_51.mzXML\n",
    "20161205_Sample_1A.mzXML   20161205_Sample_36.mzXML   20161205_Sample_52A.mzXML\n",
    "20161205_sample_1.mzXML    20161205_Sample_3A.mzXML   20161205_Sample_52.mzXML\n",
    "20161205_Sample_20A.mzXML  20161205_Sample_3.mzXML    20161205_Sample_56A.mzXML\n",
    "20161205_Sample_20.mzXML   20161205_Sample_40A.mzXML  20161205_Sample_56.mzXML\n",
    "20161205_Sample_24A.mzXML  20161205_Sample_40.mzXML   20161205_Sample_8A.mzXML\n",
    "20161205_Sample_24.mzXML   20161205_Sample_43A.mzXML  20161205_Sample_8.mzXML\n",
    "20161205_Sample_27A.mzXML  20161205_Sample_43.mzXML\n",
    "```"
   ]
  },
  {
   "cell_type": "markdown",
   "metadata": {},
   "source": [
    "```\n",
    "tmux\n",
    "\n",
    "/home/shared/comet/comet.2016012.linux.exe \\\n",
    "-Pcomet.params.high-low_de \\\n",
    "-DCg_Giga_cont_AA.fa \\\n",
    "*.mzXML\n",
    "\n",
    "```\n",
    "control b\n",
    "d\n",
    "[detached (from session 2)]\n",
    "\n",
    "next time:\n",
    "    tmux attach -t2"
   ]
  },
  {
   "cell_type": "code",
   "execution_count": null,
   "metadata": {
    "collapsed": true
   },
   "outputs": [],
   "source": []
  }
 ],
 "metadata": {
  "kernelspec": {
   "display_name": "Python 2",
   "language": "python",
   "name": "python2"
  },
  "language_info": {
   "codemirror_mode": {
    "name": "ipython",
    "version": 2
   },
   "file_extension": ".py",
   "mimetype": "text/x-python",
   "name": "python",
   "nbconvert_exporter": "python",
   "pygments_lexer": "ipython2",
   "version": "2.7.12"
  }
 },
 "nbformat": 4,
 "nbformat_minor": 0
}
