{
 "cells": [
  {
   "cell_type": "code",
   "execution_count": 1,
   "metadata": {
    "collapsed": false
   },
   "outputs": [
    {
     "data": {
      "text/plain": [
       "u'/Users/sr320/git-repos/nb-2017/C_gigas'"
      ]
     },
     "execution_count": 1,
     "metadata": {},
     "output_type": "execute_result"
    }
   ],
   "source": [
    "pwd"
   ]
  },
  {
   "cell_type": "code",
   "execution_count": 2,
   "metadata": {
    "collapsed": false
   },
   "outputs": [
    {
     "name": "stdout",
     "output_type": "stream",
     "text": [
      "021117-Abacus.param\r\n",
      "ABACUS_output021417.tsv\r\n",
      "ABACUS_output021417NSAF.tsv\r\n",
      "Cg_Giga_cont_AA.fa\r\n",
      "Cg_Gigaton_proteins.fa\r\n",
      "\u001b[31mcontam.bovin.fa\u001b[m\u001b[m*\r\n",
      "\u001b[31mcontam.human.fa\u001b[m\u001b[m*\r\n",
      "\u001b[31mcontam.other.fa\u001b[m\u001b[m*\r\n",
      "contigs.fasta.transdecoder.pep\r\n",
      "contigs.fasta.transdecoder.pep.iprscan2.withID\r\n"
     ]
    }
   ],
   "source": [
    "ls data/"
   ]
  },
  {
   "cell_type": "code",
   "execution_count": 3,
   "metadata": {
    "collapsed": false
   },
   "outputs": [
    {
     "name": "stdout",
     "output_type": "stream",
     "text": [
      "/Users/sr320/git-repos/nb-2017/C_gigas/data\n"
     ]
    }
   ],
   "source": [
    "cd data\n"
   ]
  },
  {
   "cell_type": "code",
   "execution_count": 6,
   "metadata": {
    "collapsed": false
   },
   "outputs": [
    {
     "name": "stdout",
     "output_type": "stream",
     "text": [
      "  % Total    % Received % Xferd  Average Speed   Time    Time     Time  Current\n",
      "                                 Dload  Upload   Total   Spent    Left  Speed\n",
      "100 5762k  100 5762k    0     0   720k      0  0:00:07  0:00:07 --:--:--  553k\n"
     ]
    }
   ],
   "source": [
    "!curl -O https://raw.githubusercontent.com/RobertsLab/project-oyster-oa/master/analyses/DNR_Preliminary_Analyses_20170321/all-proteins-go-terms/skyline-proteins-go-terms.tabular"
   ]
  },
  {
   "cell_type": "code",
   "execution_count": 7,
   "metadata": {
    "collapsed": false
   },
   "outputs": [
    {
     "name": "stdout",
     "output_type": "stream",
     "text": [
      "021117-Abacus.param\r\n",
      "ABACUS_output021417.tsv\r\n",
      "ABACUS_output021417NSAF.tsv\r\n",
      "Cg_Giga_cont_AA.fa\r\n",
      "Cg_Gigaton_proteins.fa\r\n",
      "\u001b[31mcontam.bovin.fa\u001b[m\u001b[m*\r\n",
      "\u001b[31mcontam.human.fa\u001b[m\u001b[m*\r\n",
      "\u001b[31mcontam.other.fa\u001b[m\u001b[m*\r\n",
      "contigs.fasta.transdecoder.pep\r\n",
      "contigs.fasta.transdecoder.pep.iprscan2.withID\r\n",
      "skyline-proteins-go-terms.tabular\r\n",
      "skyline-proteins-go-terms.tabular?raw=true\r\n"
     ]
    }
   ],
   "source": [
    "ls\n"
   ]
  },
  {
   "cell_type": "code",
   "execution_count": 8,
   "metadata": {
    "collapsed": true
   },
   "outputs": [],
   "source": [
    "rm skyline-proteins-go-terms.tabular\\?raw\\=true"
   ]
  },
  {
   "cell_type": "code",
   "execution_count": 14,
   "metadata": {
    "collapsed": false
   },
   "outputs": [
    {
     "name": "stdout",
     "output_type": "stream",
     "text": [
      "021117-Abacus.param\r\n",
      "ABACUS_output021417.tsv\r\n",
      "ABACUS_output021417NSAF.tsv\r\n",
      "Cg_Giga_cont_AA.fa\r\n",
      "Cg_Gigaton_proteins.fa\r\n",
      "\u001b[31mcontam.bovin.fa\u001b[m\u001b[m*\r\n",
      "\u001b[31mcontam.human.fa\u001b[m\u001b[m*\r\n",
      "\u001b[31mcontam.other.fa\u001b[m\u001b[m*\r\n",
      "contigs.fasta.transdecoder.pep\r\n",
      "contigs.fasta.transdecoder.pep.iprscan2.withID\r\n",
      "skyline-proteins-go-terms.tsv\r\n"
     ]
    }
   ],
   "source": [
    "ls"
   ]
  },
  {
   "cell_type": "code",
   "execution_count": 16,
   "metadata": {
    "collapsed": false
   },
   "outputs": [
    {
     "name": "stdout",
     "output_type": "stream",
     "text": [
      "CHOYP_14332.1.2\tP62325\tm.5644\tsp\tBTG1_MOUSE\t47.205\t161\t80\t2\t1\t156\t11\t171\t2.18E-47\t155\tBTG1_MOUSE\treviewed\tProtein BTG1 (B-cell translocation gene 1 protein)\tBtg1\tMus musculus (Mouse)\t171\tnegative regulation of cell proliferation [GO:0008285]; positive regulation of angiogenesis [GO:0045766]; positive regulation of catalytic activity [GO:0043085]; positive regulation of endothelial cell differentiation [GO:0045603]; positive regulation of fibroblast apoptotic process [GO:2000271]; positive regulation of myoblast differentiation [GO:0045663]; protein methylation [GO:0006479]; response to oxidative stress [GO:0006979]; response to peptide hormone [GO:0043434]; spermatogenesis [GO:0007283]\tGO:0005634; GO:0005737; GO:0006479; GO:0006979; GO:0007283; GO:0008285; GO:0019899; GO:0043085; GO:0043434; GO:0045603; GO:0045663; GO:0045766; GO:2000271\t0\t0\t0\tPF07742;\t1\tm.5643\t3293219.556\t1726699.5\t2716275.545\t13976900.44\t2243615.1\t4909780.357\t3073463.222\t1943599.9\t5308420.417\t1708631.273\t0.707271369\r\n"
     ]
    }
   ],
   "source": [
    "!head -1 skyline-proteins-go-terms.tsv"
   ]
  },
  {
   "cell_type": "code",
   "execution_count": 17,
   "metadata": {
    "collapsed": false
   },
   "outputs": [
    {
     "name": "stdout",
     "output_type": "stream",
     "text": [
      "     273\r\n"
     ]
    }
   ],
   "source": [
    "!grep \"stress\" skyline-proteins-go-terms.tsv | wc -l"
   ]
  },
  {
   "cell_type": "code",
   "execution_count": 19,
   "metadata": {
    "collapsed": false
   },
   "outputs": [],
   "source": [
    "!grep \"stress\" skyline-proteins-go-terms.tsv > YV-skyline-proteins-stress.tsv"
   ]
  },
  {
   "cell_type": "code",
   "execution_count": null,
   "metadata": {
    "collapsed": true
   },
   "outputs": [],
   "source": []
  }
 ],
 "metadata": {
  "kernelspec": {
   "display_name": "Python 2",
   "language": "python",
   "name": "python2"
  },
  "language_info": {
   "codemirror_mode": {
    "name": "ipython",
    "version": 2
   },
   "file_extension": ".py",
   "mimetype": "text/x-python",
   "name": "python",
   "nbconvert_exporter": "python",
   "pygments_lexer": "ipython2",
   "version": "2.7.12"
  }
 },
 "nbformat": 4,
 "nbformat_minor": 0
}
