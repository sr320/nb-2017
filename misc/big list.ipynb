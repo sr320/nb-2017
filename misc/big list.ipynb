{
 "cells": [
  {
   "cell_type": "code",
   "execution_count": 1,
   "metadata": {
    "collapsed": false,
    "deletable": true,
    "editable": true
   },
   "outputs": [
    {
     "name": "stdout",
     "output_type": "stream",
     "text": [
      "==> /Volumes/Alanine/wd/17-06-02/ACAGTG_Counts.txt <==\n",
      "\"\",\"Loc\",\"ACAGTG_MethSum\",\"ACAGTG_TotSum\"\n",
      "\"1\",\"KV918247.1-945\",1,1\n",
      "\"2\",\"KV918247.1-951\",1,1\n",
      "\"3\",\"KV918247.1-962\",1,1\n",
      "\"4\",\"KV918247.1-976\",1,1\n",
      "\"5\",\"KV918247.1-988\",1,1\n",
      "\"6\",\"KV918247.1-1197\",0,1\n",
      "\"7\",\"KV918247.1-1232\",1,1\n",
      "\"8\",\"KV918247.1-1245\",1,1\n",
      "\"9\",\"KV918247.1-1257\",0,1\n",
      "\n",
      "==> /Volumes/Alanine/wd/17-06-02/ATCACG_Counts.txt <==\n",
      "\"\",\"Loc\",\"ATCACG_MethSum\",\"ATCACG_TotSum\"\n",
      "\"1\",\"KV918247.1-143\",2,2\n",
      "\"2\",\"KV918247.1-156\",2,2\n",
      "\"3\",\"KV918247.1-187\",3,4\n",
      "\"4\",\"KV918247.1-795\",0,1\n",
      "\"5\",\"KV918247.1-804\",0,1\n",
      "\"6\",\"KV918247.1-807\",0,1\n",
      "\"7\",\"KV918247.1-814\",0,1\n",
      "\"8\",\"KV918247.1-835\",0,1\n",
      "\"9\",\"KV918247.1-870\",5,6\n",
      "\n",
      "==> /Volumes/Alanine/wd/17-06-02/CAGATC_Counts.txt <==\n",
      "\"\",\"Loc\",\"CAGATC_MethSum\",\"CAGATC_TotSum\"\n",
      "\"1\",\"KV918247.1-70\",2,2\n",
      "\"2\",\"KV918247.1-754\",0,9\n",
      "\"3\",\"KV918247.1-795\",2,12\n",
      "\"4\",\"KV918247.1-804\",2,12\n",
      "\"5\",\"KV918247.1-807\",2,11\n",
      "\"6\",\"KV918247.1-814\",2,12\n",
      "\"7\",\"KV918247.1-835\",3,4\n",
      "\"8\",\"KV918247.1-870\",3,4\n",
      "\"9\",\"KV918247.1-903\",1,1\n",
      "\n",
      "==> /Volumes/Alanine/wd/17-06-02/GCCAAT_Counts.txt <==\n",
      "\"\",\"Loc\",\"GCCAAT_MethSum\",\"GCCAAT_TotSum\"\n",
      "\"1\",\"KV918247.1-70\",0,1\n",
      "\"2\",\"KV918247.1-116\",0,3\n",
      "\"3\",\"KV918247.1-143\",0,2\n",
      "\"4\",\"KV918247.1-156\",0,2\n",
      "\"5\",\"KV918247.1-754\",0,3\n",
      "\"6\",\"KV918247.1-795\",0,3\n",
      "\"7\",\"KV918247.1-804\",0,2\n",
      "\"8\",\"KV918247.1-807\",0,2\n",
      "\"9\",\"KV918247.1-814\",0,2\n",
      "\n",
      "==> /Volumes/Alanine/wd/17-06-02/TGACCA_Counts.txt <==\n",
      "\"\",\"Loc\",\"TGACCA_MethSum\",\"TGACCA_TotSum\"\n",
      "\"1\",\"KV918247.1-927\",1,1\n",
      "\"2\",\"KV918247.1-945\",1,1\n",
      "\"3\",\"KV918247.1-951\",1,1\n",
      "\"4\",\"KV918247.1-962\",1,1\n",
      "\"5\",\"KV918247.1-976\",1,1\n",
      "\"6\",\"KV918247.1-1382\",1,1\n",
      "\"7\",\"KV918247.1-1395\",0,1\n",
      "\"8\",\"KV918247.1-1426\",1,1\n",
      "\"9\",\"KV918247.1-3391\",1,2\n",
      "\n",
      "==> /Volumes/Alanine/wd/17-06-02/TGAGGC_Counts.txt <==\n",
      "\"\",\"Loc\",\"TTAGGC_MethSum\",\"TTAGGC_TotSum\"\n",
      "\"1\",\"KV918247.1-70\",1,2\n",
      "\"2\",\"KV918247.1-116\",0,2\n",
      "\"3\",\"KV918247.1-754\",0,6\n",
      "\"4\",\"KV918247.1-795\",1,6\n",
      "\"5\",\"KV918247.1-804\",0,6\n",
      "\"6\",\"KV918247.1-807\",1,6\n",
      "\"7\",\"KV918247.1-814\",1,6\n",
      "\"8\",\"KV918247.1-927\",2,2\n",
      "\"9\",\"KV918247.1-945\",1,2\n"
     ]
    }
   ],
   "source": [
    "!head /Volumes/Alanine/wd/17-06-02/*Counts.txt"
   ]
  },
  {
   "cell_type": "code",
   "execution_count": 8,
   "metadata": {
    "collapsed": false,
    "deletable": true,
    "editable": true
   },
   "outputs": [
    {
     "name": "stdout",
     "output_type": "stream",
     "text": [
      "\"Loc\"\r\n",
      "\"KV918247.1-945\"\r\n",
      "\"KV918247.1-951\"\r\n",
      "\"KV918247.1-962\"\r\n",
      "\"KV918247.1-976\"\r\n",
      "\"KV918247.1-988\"\r\n",
      "\"KV918247.1-1197\"\r\n",
      "\"KV918247.1-1232\"\r\n",
      "\"KV918247.1-1245\"\r\n",
      "\"KV918247.1-1257\"\r\n"
     ]
    }
   ],
   "source": [
    "!head /Volumes/Alanine/wd/17-06-02/ACAGTG_Counts.txt \\\n",
    "| cut -d',' -f2 "
   ]
  },
  {
   "cell_type": "code",
   "execution_count": 9,
   "metadata": {
    "collapsed": true,
    "deletable": true,
    "editable": true
   },
   "outputs": [],
   "source": [
    "!cat /Volumes/Alanine/wd/17-06-02/ACAGTG_Counts.txt \\\n",
    "/Volumes/Alanine/wd/17-06-02/ATCACG_Counts.txt \\\n",
    "/Volumes/Alanine/wd/17-06-02/CAGATC_Counts.txt \\\n",
    "/Volumes/Alanine/wd/17-06-02/GCCAAT_Counts.txt \\\n",
    "/Volumes/Alanine/wd/17-06-02/TGACCA_Counts.txt \\\n",
    "/Volumes/Alanine/wd/17-06-02/TGAGGC_Counts.txt \\\n",
    "> /Volumes/Alanine/wd/17-06-02/combined.txt"
   ]
  },
  {
   "cell_type": "code",
   "execution_count": 10,
   "metadata": {
    "collapsed": false
   },
   "outputs": [
    {
     "name": "stdout",
     "output_type": "stream",
     "text": [
      "\"\",\"Loc\",\"ACAGTG_MethSum\",\"ACAGTG_TotSum\"\r\n",
      "\"1\",\"KV918247.1-945\",1,1\r\n",
      "\"2\",\"KV918247.1-951\",1,1\r\n",
      "\"3\",\"KV918247.1-962\",1,1\r\n",
      "\"4\",\"KV918247.1-976\",1,1\r\n",
      "\"5\",\"KV918247.1-988\",1,1\r\n",
      "\"6\",\"KV918247.1-1197\",0,1\r\n",
      "\"7\",\"KV918247.1-1232\",1,1\r\n",
      "\"8\",\"KV918247.1-1245\",1,1\r\n",
      "\"9\",\"KV918247.1-1257\",0,1\r\n"
     ]
    }
   ],
   "source": [
    "!head /Volumes/Alanine/wd/17-06-02/combined.txt"
   ]
  },
  {
   "cell_type": "code",
   "execution_count": 11,
   "metadata": {
    "collapsed": true
   },
   "outputs": [],
   "source": [
    "!sed 's/\"//g' /Volumes/Alanine/wd/17-06-02/combined.txt > /Volumes/Alanine/wd/17-06-02/combined2.txt"
   ]
  },
  {
   "cell_type": "code",
   "execution_count": 12,
   "metadata": {
    "collapsed": false
   },
   "outputs": [
    {
     "name": "stdout",
     "output_type": "stream",
     "text": [
      ",Loc,ACAGTG_MethSum,ACAGTG_TotSum\r\n",
      "1,KV918247.1-945,1,1\r\n",
      "2,KV918247.1-951,1,1\r\n",
      "3,KV918247.1-962,1,1\r\n",
      "4,KV918247.1-976,1,1\r\n",
      "5,KV918247.1-988,1,1\r\n",
      "6,KV918247.1-1197,0,1\r\n",
      "7,KV918247.1-1232,1,1\r\n",
      "8,KV918247.1-1245,1,1\r\n",
      "9,KV918247.1-1257,0,1\r\n"
     ]
    }
   ],
   "source": [
    "!head /Volumes/Alanine/wd/17-06-02/combined2.txt"
   ]
  },
  {
   "cell_type": "code",
   "execution_count": null,
   "metadata": {
    "collapsed": false
   },
   "outputs": [],
   "source": [
    "!cut -d',' -f2 /Volumes/Alanine/wd/17-06-02/combined2.txt | sort | uniq | head"
   ]
  },
  {
   "cell_type": "code",
   "execution_count": null,
   "metadata": {
    "collapsed": true
   },
   "outputs": [],
   "source": [
    "!cut -d',' -f2 /Volumes/Alanine/wd/17-06-02/combined2.txt | sort | uniq \\\n",
    "> "
   ]
  }
 ],
 "metadata": {
  "kernelspec": {
   "display_name": "Python 2",
   "language": "python",
   "name": "python2"
  },
  "language_info": {
   "codemirror_mode": {
    "name": "ipython",
    "version": 2
   },
   "file_extension": ".py",
   "mimetype": "text/x-python",
   "name": "python",
   "nbconvert_exporter": "python",
   "pygments_lexer": "ipython2",
   "version": "2.7.12"
  }
 },
 "nbformat": 4,
 "nbformat_minor": 0
}
