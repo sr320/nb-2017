{
 "cells": [
  {
   "cell_type": "code",
   "execution_count": 1,
   "metadata": {
    "collapsed": false
   },
   "outputs": [
    {
     "name": "stdout",
     "output_type": "stream",
     "text": [
      "﻿\"GO_id\",\"term\",\"GOSlim_bin\",\"aspect\",\"clean\"\r\n",
      "\"GO:0000001\",\"mitochondrion inheritance\",\"cell organization and biogenesis\",\"P\",\"1\"\r\n",
      "\"GO:0000002\",\"mitochondrial genome maintenance\",\"cell organization and biogenesis\",\"P\",\"1\"\r\n",
      "\"GO:0000003\",\"reproduction\",\"other biological processes\",\"P\",\"1\"\r\n",
      "\"GO:0000006\",\"high affinity zinc uptake transmembrane transporter activity\",\"transporter activity\",\"F\",\"1\"\r\n",
      "\"GO:0000007\",\"low-affinity zinc ion transmembrane transporter activity\",\"transporter activity\",\"F\",\"1\"\r\n",
      "\"GO:0000009\",\"alpha-1,6-mannosyltransferase activity\",\"other molecular function\",\"F\",\"1\"\r\n",
      "\"GO:0000010\",\"trans-hexaprenyltranstransferase activity\",\"other molecular function\",\"F\",\"1\"\r\n",
      "\"GO:0000011\",\"vacuole inheritance\",\"cell organization and biogenesis\",\"P\",\"1\"\r\n",
      "\"GO:0000012\",\"single strand break repair\",\"stress response\",\"P\",\"1\"\r\n"
     ]
    }
   ],
   "source": [
    "!head /Volumes/Alanine/wd/uniprot/GO-GOslim.csv"
   ]
  },
  {
   "cell_type": "code",
   "execution_count": 3,
   "metadata": {
    "collapsed": false
   },
   "outputs": [
    {
     "name": "stdout",
     "output_type": "stream",
     "text": [
      "﻿GO_idttermtGOSlim_bintaspectt\"clean\"\r\n",
      "GO:0000001tmitochondrion inheritancetcell organization and biogenesistPt\"1\"\r\n",
      "GO:0000002tmitochondrial genome maintenancetcell organization and biogenesistPt\"1\"\r\n",
      "GO:0000003treproductiontother biological processestPt\"1\"\r\n",
      "GO:0000006thigh affinity zinc uptake transmembrane transporter activityttransporter activitytFt\"1\"\r\n",
      "GO:0000007tlow-affinity zinc ion transmembrane transporter activityttransporter activitytFt\"1\"\r\n",
      "GO:0000009talpha-1,6-mannosyltransferase activitytother molecular functiontFt\"1\"\r\n",
      "GO:0000010ttrans-hexaprenyltranstransferase activitytother molecular functiontFt\"1\"\r\n",
      "GO:0000011tvacuole inheritancetcell organization and biogenesistPt\"1\"\r\n",
      "GO:0000012tsingle strand break repairtstress responsetPt\"1\"\r\n",
      "sed: stdout: Broken pipe\r\n"
     ]
    }
   ],
   "source": [
    "!sed -E 's/(\"([^\"]*)\")?,/\\2\\t/g' /Volumes/Alanine/wd/uniprot/GO-GOslim.csv | head\n"
   ]
  },
  {
   "cell_type": "code",
   "execution_count": 5,
   "metadata": {
    "collapsed": false
   },
   "outputs": [
    {
     "name": "stdout",
     "output_type": "stream",
     "text": [
      "GO_ID\tterm\tGOSlim_bin\taspect\r\n",
      "GO:0000001\tmitochondrion inheritance\tcell organization and biogenesis\tP\r\n",
      "GO:0000002\tmitochondrial genome maintenance\tcell organization and biogenesis\tP\r\n",
      "GO:0000003\treproduction\tother biological processes\tP\r\n",
      "GO:0000006\thigh affinity zinc uptake transmembrane transporter activity\ttransporter activity\tF\r\n",
      "GO:0000007\tlow-affinity zinc ion transmembrane transporter activity\ttransporter activity\tF\r\n",
      "GO:0000009\t\"alpha-1,6-mannosyltransferase activity\"\tother molecular function\tF\r\n",
      "GO:0000010\ttrans-hexaprenyltranstransferase activity\tother molecular function\tF\r\n",
      "GO:0000011\tvacuole inheritance\tcell organization and biogenesis\tP\r\n",
      "GO:0000012\tsingle strand break repair\tstress response\tP\r\n"
     ]
    }
   ],
   "source": [
    "!head /Volumes/Alanine/wd/uniprot/GO-GOslim.txt"
   ]
  },
  {
   "cell_type": "code",
   "execution_count": null,
   "metadata": {
    "collapsed": true
   },
   "outputs": [],
   "source": []
  }
 ],
 "metadata": {
  "kernelspec": {
   "display_name": "Python 2",
   "language": "python",
   "name": "python2"
  },
  "language_info": {
   "codemirror_mode": {
    "name": "ipython",
    "version": 2
   },
   "file_extension": ".py",
   "mimetype": "text/x-python",
   "name": "python",
   "nbconvert_exporter": "python",
   "pygments_lexer": "ipython2",
   "version": "2.7.12"
  }
 },
 "nbformat": 4,
 "nbformat_minor": 0
}
