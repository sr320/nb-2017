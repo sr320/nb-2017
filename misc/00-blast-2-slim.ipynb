{
 "cells": [
  {
   "cell_type": "markdown",
   "metadata": {},
   "source": [
    "## A notebook to seamlessly take blast output to GO Slim list"
   ]
  },
  {
   "cell_type": "code",
   "execution_count": null,
   "metadata": {
    "collapsed": true
   },
   "outputs": [],
   "source": [
    "Variables"
   ]
  },
  {
   "cell_type": "code",
   "execution_count": null,
   "metadata": {
    "collapsed": true
   },
   "outputs": [],
   "source": []
  },
  {
   "cell_type": "code",
   "execution_count": 50,
   "metadata": {
    "collapsed": false
   },
   "outputs": [],
   "source": [
    "wd=\"/Volumes/Alanine/wd/17-07-20/\"\n",
    "blastout=\"giga-uniprot-blast.tab\"\n"
   ]
  },
  {
   "cell_type": "code",
   "execution_count": 25,
   "metadata": {
    "collapsed": false
   },
   "outputs": [
    {
     "name": "stdout",
     "output_type": "stream",
     "text": [
      "CHOYP_043R.5.5|m.64252\tsp|Q06852|SLAP1_CLOTH\t57.45\t235\t61\t19\t611\t816\t1467\t1691\t2e-15\t85.1\r\n",
      "CHOYP_14332.1.2|m.5643\tsp|Q2F637|1433Z_BOMMO\t66.03\t262\t74\t2\t19\t280\t1\t247\t1e-117\t  344\r\n",
      "CHOYP_14332.1.2|m.5644\tsp|P62325|BTG1_MOUSE\t47.20\t161\t80\t2\t1\t156\t11\t171\t4e-46\t  155\r\n",
      "CHOYP_14332.2.2|m.61737\tsp|P68250|1433B_BOVIN\t66.80\t250\t79\t1\t1\t250\t1\t246\t4e-115\t  337\r\n",
      "CHOYP_14332.2.2|m.61738\tsp|Q2PQA9|KINH_RAT\t32.76\t116\t64\t3\t33\t136\t646\t759\t0.20\t36.2\r\n",
      "CHOYP_1433E.1.2|m.3639\tsp|Q9CWP8|DPOD4_MOUSE\t38.24\t102\t61\t2\t30\t130\t7\t107\t7e-18\t78.6\r\n",
      "CHOYP_1433E.1.2|m.3638\tsp|P62262|1433E_SHEEP\t80.31\t254\t49\t1\t1\t254\t1\t253\t5e-146\t  416\r\n",
      "CHOYP_1433E.2.2|m.63376\tsp|P92177|1433E_DROME\t77.69\t260\t53\t1\t1\t255\t1\t260\t1e-147\t  420\r\n",
      "CHOYP_1433E.2.2|m.63378\tsp|Q6MG82|PRRT1_RAT\t44.44\t99\t53\t1\t41\t137\t196\t294\t3e-18\t82.8\r\n",
      "CHOYP_1433E.2.2|m.63377\tsp|Q18CI9|ECFA2_PEPD6\t48.57\t35\t18\t0\t201\t235\t19\t53\t0.008\t40.4\r\n"
     ]
    }
   ],
   "source": [
    "!head $wd$blastout"
   ]
  },
  {
   "cell_type": "code",
   "execution_count": 26,
   "metadata": {
    "collapsed": false
   },
   "outputs": [],
   "source": [
    "!tr '|' '\\t' < $wd$blastout \\\n",
    "> $wd\"blast-sep.tab\""
   ]
  },
  {
   "cell_type": "code",
   "execution_count": 28,
   "metadata": {
    "collapsed": false
   },
   "outputs": [
    {
     "name": "stdout",
     "output_type": "stream",
     "text": [
      "CHOYP_043R.5.5\tm.64252\tsp\tQ06852\tSLAP1_CLOTH\t57.45\t235\t61\t19\t611\t816\t1467\t1691\t2e-15\t85.1\r\n",
      "CHOYP_14332.1.2\tm.5643\tsp\tQ2F637\t1433Z_BOMMO\t66.03\t262\t74\t2\t19\t280\t1\t247\t1e-117\t  344\r\n",
      "CHOYP_14332.1.2\tm.5644\tsp\tP62325\tBTG1_MOUSE\t47.20\t161\t80\t2\t1\t156\t11\t171\t4e-46\t  155\r\n"
     ]
    }
   ],
   "source": [
    "!head -3 $wd\"blast-sep.tab\""
   ]
  },
  {
   "cell_type": "code",
   "execution_count": 57,
   "metadata": {
    "collapsed": false
   },
   "outputs": [
    {
     "name": "stdout",
     "output_type": "stream",
     "text": [
      "Q06852 m.64252\n",
      "Q2F637 m.5643\n",
      "P62325 m.5644\n",
      "P68250 m.61737\n",
      "Q2PQA9 m.61738\n",
      "Q9CWP8 m.3639\n",
      "P62262 m.3638\n",
      "P92177 m.63376\n",
      "Q6MG82 m.63378\n",
      "Q18CI9 m.63377\n"
     ]
    }
   ],
   "source": [
    "%%bash\n",
    "awk '{print $4,$2}'  <  /Volumes/Alanine/wd/17-07-20/blast-sep.tab | head"
   ]
  },
  {
   "cell_type": "code",
   "execution_count": 74,
   "metadata": {
    "collapsed": false
   },
   "outputs": [
    {
     "name": "stdout",
     "output_type": "stream",
     "text": [
      "/Volumes/Alanine/wd/17-07-20\n"
     ]
    }
   ],
   "source": [
    "cd \"$wd\""
   ]
  },
  {
   "cell_type": "code",
   "execution_count": 85,
   "metadata": {
    "collapsed": false
   },
   "outputs": [
    {
     "name": "stdout",
     "output_type": "stream",
     "text": [
      "A1BHN5\tCHOYP_AAAS.3.3\t2.1\r\n",
      "A5PLL7\tCHOYP_AAEL_AAEL001208.1.1\t6e-124\r\n",
      "B0S104\tCHOYP_AAAT.1.1\t3.5\r\n",
      "B5Y7R0\tCHOYP_AAEL_AAEL004839.1.1\t2.1\r\n",
      "D3YXG0\tCHOYP_AAEL_AAEL003853.2.2\t3e-17\r\n",
      "E7FAM5\tCHOYP_AAEL_AAEL001593.1.1\t9e-04\r\n",
      "O01393\tCHOYP_AAEL_AAEL004138.1.2\t5e-84\r\n",
      "O06350\tCHOYP_AAAD.1.4\t2e-07\r\n",
      "O35790\tCHOYP_AAEL_AAEL004143.1.1\t3e-53\r\n",
      "O42384\tCHOYP_AAEL_AAEL001606.1.1\t3e-06\r\n"
     ]
    }
   ],
   "source": [
    "!awk -v OFS='\\t' '{print $4, $1, $14}' < blast-sep.tab | sort | head"
   ]
  },
  {
   "cell_type": "code",
   "execution_count": 86,
   "metadata": {
    "collapsed": true
   },
   "outputs": [],
   "source": [
    "!awk -v OFS='\\t' '{print $4, $1, $14}' < blast-sep.tab | sort \\\n",
    "> blast-sort.tab"
   ]
  },
  {
   "cell_type": "code",
   "execution_count": 88,
   "metadata": {
    "collapsed": false
   },
   "outputs": [
    {
     "data": {
      "text/plain": [
       "u'/Volumes/Alanine/wd/17-07-20'"
      ]
     },
     "execution_count": 88,
     "metadata": {},
     "output_type": "execute_result"
    }
   ],
   "source": []
  },
  {
   "cell_type": "code",
   "execution_count": 111,
   "metadata": {
    "collapsed": false
   },
   "outputs": [
    {
     "name": "stdout",
     "output_type": "stream",
     "text": [
      "A1BHN5\tCHOYP_AAAS.3.3\t2.1\tMUTS_CHLPD\treviewed\tDNA mismatch repair protein MutS\tmutS Cpha266_1896\tChlorobium phaeobacteroides (strain DSM 266)\t872\tmismatch repair [GO:0006298]\t\tATP binding [GO:0005524]; mismatched DNA binding [GO:0030983]\tATP binding [GO:0005524]; mismatched DNA binding [GO:0030983]; mismatch repair [GO:0006298]\tGO:0005524; GO:0006298; GO:0030983\n",
      "join: stdout: Broken pipe\n"
     ]
    }
   ],
   "source": [
    "!join -t $'\\t' \\\n",
    "blast-sort.tab \\\n",
    "uniprot-SP-GO.sorted | head -1"
   ]
  },
  {
   "cell_type": "code",
   "execution_count": 117,
   "metadata": {
    "collapsed": false
   },
   "outputs": [
    {
     "name": "stdout",
     "output_type": "stream",
     "text": [
      "A1BHN5\tCHOYP_AAAS.3.3\tGO:0005524; GO:0006298; GO:0030983\r\n"
     ]
    }
   ],
   "source": [
    "!join -t $'\\t' \\\n",
    "blast-sort.tab \\\n",
    "uniprot-SP-GO.sorted | cut -f1,2,14 | head -1"
   ]
  },
  {
   "cell_type": "code",
   "execution_count": 121,
   "metadata": {
    "collapsed": false
   },
   "outputs": [],
   "source": [
    "!join -t $'\\t' \\\n",
    "blast-sort.tab \\\n",
    "uniprot-SP-GO.sorted \\\n",
    "| cut -f1,2,14 \\\n",
    "> blast-annot.tab"
   ]
  },
  {
   "cell_type": "code",
   "execution_count": 124,
   "metadata": {
    "collapsed": false
   },
   "outputs": [],
   "source": [
    "%%bash \n",
    "\n",
    "# This script was written to address a specific problem that Rhonda was having\n",
    "# where multiple GO terms are present in a single field, but she needs them\n",
    "# on separate lines.\n",
    "# See this GitHub issue for explanation of the problem:\n",
    "# https://github.com/sr320/LabDocs/issues/654\n",
    "\n",
    "# This script is written to operate on the file located here:\n",
    "# https://github.com/RobertsLab/project-pacific.oyster-larvae/blob/master/DIA_2015/AnnotatedproteinsGO.tabular\n",
    "\n",
    "# Before executing this script, the following need to be changed (look for them below):\n",
    "\n",
    "# /path/to/input/file\n",
    "# /path/to/new/filename\n",
    "# /path/to/output_file\n",
    "\n",
    "\n",
    "# Set variables for files\n",
    "# input_file is the initial, \"problem\" file\n",
    "# file is an intermediate file that most of the program works upon\n",
    "# output_file is the final file produced by the script\n",
    "input_file=\"blast-annot.tab\"\n",
    "file=\"intermediate.file\"\n",
    "output_file=\"blast-GO-unfolded.tab\"\n",
    "\n",
    "# sed command substitutes the \"; \" sequence to a tab and writes the new format to a new file.\n",
    "# This character sequence is how the GO terms are delimited in their field.\n",
    "sed $'s/; /\\t/g' \"$input_file\" > \"$file\"\n",
    "\n",
    "# Identify first field containing a GO term.\n",
    "# Search file with grep for \"GO:\" and pipe to awk.\n",
    "# Awk sets tab as field delimiter (-F'\\t'), runs a for loop that looks for \"GO:\" (~/GO:/), and then prints the field number).\n",
    "# Awk results are piped to sort, which sorts unique by number (-ug).\n",
    "# Sort results are piped to head to retrieve the lowest value (i.e. the top of the list; \"-n1\").\n",
    "begin_goterms=$(grep \"GO:\" \"$file\" | awk -F'\\t' '{for (i=1;i<=NF;i++) if($i ~/GO:/) print i}' | sort -ug | head -n1)\n",
    "\n",
    "# While loop to process each line of the input file.\n",
    "while read -r line\n",
    "\tdo\n",
    "\t\n",
    "\t# Send contents of the current line to awk.\n",
    "\t# Set the field separator as a tab (-F'\\t') and print the number of fields in that line.\n",
    "\t# Save the results of the echo/awk pipe (i.e. number of fields) to the variable \"max_field\".\n",
    "\tmax_field=$(echo \"$line\" | awk -F'\\t' '{print NF}')\n",
    "\n",
    "\t# Send contents of current line to cut.\n",
    "\t# Cut fields (i.e. retain those fields) 1-12.\n",
    "\t# Save the results of the echo/cut pipe (i.e. fields 1-12) to the variable \"fixed_fields\"\n",
    "\tfixed_fields=$(echo \"$line\" | cut -f1-2)\n",
    "\n",
    "\t# Since not all the lines contain the same number of fields (e.g. may not have GO terms),\n",
    "\t# evaluate the number of fields in each line to determine how to handle current line.\n",
    "\n",
    "\t# If the value in max_field is less than the field number where the GO terms begin,\n",
    "\t# then just print the current line (%s) followed by a newline (\\n).\n",
    "\tif (( \"$max_field\" < \"$begin_goterms\" ))\n",
    "\t\tthen printf \"%s\\n\" \"$line\"\n",
    "\t\t\telse\n",
    "\n",
    "\t\t\t# Send contents of current line (which contains GO terms) to cut.\n",
    "\t\t\t# Cut fields (i.e. retain those fields) 13 to whatever the last field is in the curent line.\n",
    "\t\t\t# Save the results of the echo/cut pipe (i.e. all the GO terms fields) to the variable \"goterms\".\n",
    "\t\t\tgoterms=$(echo \"$line\" | cut -f\"$begin_goterms\"-\"$max_field\")\n",
    "\t\t\t\n",
    "\t\t\t# Assign values in the variable \"goterms\" to a new indexed array (called \"array\"), \n",
    "\t\t\t# with tab delimiter (IFS=$'\\t')\n",
    "\t\t\tIFS=$'\\t' read -r -a array <<<\"$goterms\"\n",
    "\t\t\t\n",
    "\t\t\t# Iterate through each element of the array.\n",
    "\t\t\t# Print the first 12 fields (i.e. the fields stored in \"fixed_fields\") followed by a tab (%s\\t).\n",
    "\t\t\t# Print the current element in the array (i.e. the current GO term) followed by a new line (%s\\n).\n",
    "\t\t\tfor element in \"${!array[@]}\"\t\n",
    "\t\t\t\tdo printf \"%s\\t%s\\n\" \"$fixed_fields\" \"${array[$element]}\"\n",
    "\t\t\tdone\n",
    "\tfi\n",
    "\n",
    "# Send the input file into the while loop and send the output to a file named \"rhonda_fixed.txt\".\n",
    "done < \"$file\" > \"$output_file\""
   ]
  },
  {
   "cell_type": "code",
   "execution_count": 125,
   "metadata": {
    "collapsed": false
   },
   "outputs": [
    {
     "name": "stdout",
     "output_type": "stream",
     "text": [
      "A1BHN5\tCHOYP_AAAS.3.3\tGO:0005524\r\n",
      "A1BHN5\tCHOYP_AAAS.3.3\tGO:0006298\r\n",
      "A1BHN5\tCHOYP_AAAS.3.3\tGO:0030983\r\n",
      "A5PLL7\tCHOYP_AAEL_AAEL001208.1.1\tGO:0005737\r\n",
      "A5PLL7\tCHOYP_AAEL_AAEL001208.1.1\tGO:0005783\r\n",
      "A5PLL7\tCHOYP_AAEL_AAEL001208.1.1\tGO:0005789\r\n",
      "A5PLL7\tCHOYP_AAEL_AAEL001208.1.1\tGO:0016021\r\n",
      "A5PLL7\tCHOYP_AAEL_AAEL001208.1.1\tGO:0031625\r\n",
      "A5PLL7\tCHOYP_AAEL_AAEL001208.1.1\tGO:0061630\r\n",
      "B0S104\tCHOYP_AAAT.1.1\tGO:0000049\r\n"
     ]
    }
   ],
   "source": [
    "!head blast-GO-unfolded.tab"
   ]
  },
  {
   "cell_type": "code",
   "execution_count": 140,
   "metadata": {
    "collapsed": false
   },
   "outputs": [],
   "source": [
    "!sort -k3 blast-GO-unfolded.tab > blast-GO-unfolded.sorted"
   ]
  },
  {
   "cell_type": "code",
   "execution_count": 128,
   "metadata": {
    "collapsed": false
   },
   "outputs": [
    {
     "name": "stdout",
     "output_type": "stream",
     "text": [
      "A1BHN5\tCHOYP_AAAS.3.3\tGO:0005524; GO:0006298; GO:0030983\r\n",
      "A5PLL7\tCHOYP_AAEL_AAEL001208.1.1\tGO:0005737; GO:0005783; GO:0005789; GO:0016021; GO:0031625; GO:0061630\r\n"
     ]
    }
   ],
   "source": [
    "!head -2 blast-annot.tab"
   ]
  },
  {
   "cell_type": "code",
   "execution_count": 132,
   "metadata": {
    "collapsed": false
   },
   "outputs": [
    {
     "name": "stdout",
     "output_type": "stream",
     "text": [
      "GO_ID\tterm\tGOSlim_bin\taspect\r\n",
      "GO:0000001\tmitochondrion inheritance\tcell organization and biogenesis\tP\r\n",
      "GO:0000002\tmitochondrial genome maintenance\tcell organization and biogenesis\tP\r\n",
      "GO:0000003\treproduction\tother biological processes\tP\r\n",
      "GO:0000006\thigh affinity zinc uptake transmembrane transporter activity\ttransporter activity\tF\r\n",
      "GO:0000007\tlow-affinity zinc ion transmembrane transporter activity\ttransporter activity\tF\r\n",
      "GO:0000009\t\"alpha-1,6-mannosyltransferase activity\"\tother molecular function\tF\r\n",
      "GO:0000010\ttrans-hexaprenyltranstransferase activity\tother molecular function\tF\r\n",
      "GO:0000011\tvacuole inheritance\tcell organization and biogenesis\tP\r\n",
      "GO:0000012\tsingle strand break repair\tstress response\tP\r\n"
     ]
    }
   ],
   "source": [
    "!head GO-GOslim.txt"
   ]
  },
  {
   "cell_type": "code",
   "execution_count": 134,
   "metadata": {
    "collapsed": false
   },
   "outputs": [],
   "source": [
    "!sort GO-GOslim.txt > GO-GOslim.sorted"
   ]
  },
  {
   "cell_type": "code",
   "execution_count": 141,
   "metadata": {
    "collapsed": false
   },
   "outputs": [
    {
     "name": "stdout",
     "output_type": "stream",
     "text": [
      "GO:0000049\tB0S104\tCHOYP_AAAT.1.1\ttRNA binding\tnucleic acid binding activity\tF\r\n",
      "GO:0000049\tB5Y7R0\tCHOYP_AAEL_AAEL004839.1.1\ttRNA binding\tnucleic acid binding activity\tF\r\n",
      "GO:0000077\tP92177\tCHOYP_1433E.2.2\tDNA damage checkpoint\tcell cycle and proliferation\tP\r\n",
      "GO:0000077\tP92177\tCHOYP_1433E.2.2\tDNA damage checkpoint\tsignal transduction\tP\r\n",
      "GO:0000077\tP92177\tCHOYP_1433E.2.2\tDNA damage checkpoint\tstress response\tP\r\n",
      "GO:0000082\tE7FAM5\tCHOYP_AAEL_AAEL001593.1.1\tG1/S transition of mitotic cell cycle\tcell cycle and proliferation\tP\r\n",
      "GO:0000082\tQ13541\tCHOYP_4EBP1.1.1\tG1/S transition of mitotic cell cycle\tcell cycle and proliferation\tP\r\n",
      "GO:0000105\tP11586\tCHOYP_AAEL_AAEL004557.1.1\thistidine biosynthetic process\tother metabolic processes\tP\r\n",
      "GO:0000118\tQ8BHJ5\tCHOYP_AAEL_AAEL003539.1.1\thistone deacetylase complex\tnucleus\tC\r\n",
      "GO:0000118\tQ8BHJ5\tCHOYP_AAEL_AAEL003539.1.1\thistone deacetylase complex\tnucleus\tC\r\n",
      "join: stdout: Broken pipe\r\n"
     ]
    }
   ],
   "source": [
    "!join -1 3 -2 1 -t $'\\t' \\\n",
    "blast-GO-unfolded.sorted \\\n",
    "GO-GOslim.sorted | head"
   ]
  },
  {
   "cell_type": "code",
   "execution_count": 142,
   "metadata": {
    "collapsed": false
   },
   "outputs": [
    {
     "name": "stdout",
     "output_type": "stream",
     "text": [
      "    1205\r\n"
     ]
    }
   ],
   "source": [
    "!join -1 3 -2 1 -t $'\\t' \\\n",
    "blast-GO-unfolded.sorted \\\n",
    "GO-GOslim.sorted | wc -l "
   ]
  },
  {
   "cell_type": "code",
   "execution_count": 143,
   "metadata": {
    "collapsed": false
   },
   "outputs": [
    {
     "name": "stdout",
     "output_type": "stream",
     "text": [
      "    1180\r\n"
     ]
    }
   ],
   "source": [
    "!join -1 3 -2 1 -t $'\\t' \\\n",
    "blast-GO-unfolded.sorted \\\n",
    "GO-GOslim.sorted | uniq | wc -l"
   ]
  },
  {
   "cell_type": "code",
   "execution_count": 165,
   "metadata": {
    "collapsed": false
   },
   "outputs": [
    {
     "name": "stdout",
     "output_type": "stream",
     "text": [
      "CHOYP_AAAT.1.1\tGO:0000049\tnucleic acid binding activity\tF\n",
      "CHOYP_AAEL_AAEL004839.1.1\tGO:0000049\tnucleic acid binding activity\tF\n",
      "CHOYP_1433E.2.2\tGO:0000077\tcell cycle and proliferation\tP\n",
      "CHOYP_1433E.2.2\tGO:0000077\tsignal transduction\tP\n",
      "CHOYP_1433E.2.2\tGO:0000077\tstress response\tP\n",
      "CHOYP_AAEL_AAEL001593.1.1\tGO:0000082\tcell cycle and proliferation\tP\n",
      "CHOYP_4EBP1.1.1\tGO:0000082\tcell cycle and proliferation\tP\n",
      "CHOYP_AAEL_AAEL004557.1.1\tGO:0000105\tother metabolic processes\tP\n",
      "CHOYP_AAEL_AAEL003539.1.1\tGO:0000118\tnucleus\tC\n",
      "CHOYP_AAEL_AAEL003539.1.1\tGO:0000122\tRNA metabolism\tP\n",
      "awk: write error on /dev/stdout\n",
      " input record number 616, file \n",
      " source line number 1\n"
     ]
    }
   ],
   "source": [
    "!join -1 3 -2 1 -t $'\\t' \\\n",
    "blast-GO-unfolded.sorted \\\n",
    "GO-GOslim.sorted \\\n",
    "| uniq | awk -F'\\t' -v OFS='\\t' '{print $3, $1, $5, $6}' | head"
   ]
  },
  {
   "cell_type": "code",
   "execution_count": 167,
   "metadata": {
    "collapsed": false
   },
   "outputs": [],
   "source": [
    "!join -1 3 -2 1 -t $'\\t' \\\n",
    "blast-GO-unfolded.sorted \\\n",
    "GO-GOslim.sorted \\\n",
    "| uniq | awk -F'\\t' -v OFS='\\t' '{print $3, $1, $5, $6}' \\\n",
    "> Blastquery-GOslim.tab"
   ]
  },
  {
   "cell_type": "code",
   "execution_count": 168,
   "metadata": {
    "collapsed": false
   },
   "outputs": [
    {
     "name": "stdout",
     "output_type": "stream",
     "text": [
      "CHOYP_AAAT.1.1\tGO:0000049\tnucleic acid binding activity\tF\r\n",
      "CHOYP_AAEL_AAEL004839.1.1\tGO:0000049\tnucleic acid binding activity\tF\r\n",
      "CHOYP_1433E.2.2\tGO:0000077\tcell cycle and proliferation\tP\r\n",
      "CHOYP_1433E.2.2\tGO:0000077\tsignal transduction\tP\r\n",
      "CHOYP_1433E.2.2\tGO:0000077\tstress response\tP\r\n",
      "CHOYP_AAEL_AAEL001593.1.1\tGO:0000082\tcell cycle and proliferation\tP\r\n",
      "CHOYP_4EBP1.1.1\tGO:0000082\tcell cycle and proliferation\tP\r\n",
      "CHOYP_AAEL_AAEL004557.1.1\tGO:0000105\tother metabolic processes\tP\r\n",
      "CHOYP_AAEL_AAEL003539.1.1\tGO:0000118\tnucleus\tC\r\n",
      "CHOYP_AAEL_AAEL003539.1.1\tGO:0000122\tRNA metabolism\tP\r\n"
     ]
    }
   ],
   "source": [
    "!head Blastquery-GOslim.tab"
   ]
  },
  {
   "cell_type": "code",
   "execution_count": null,
   "metadata": {
    "collapsed": true
   },
   "outputs": [],
   "source": []
  }
 ],
 "metadata": {
  "kernelspec": {
   "display_name": "Python 2",
   "language": "python",
   "name": "python2"
  },
  "language_info": {
   "codemirror_mode": {
    "name": "ipython",
    "version": 2
   },
   "file_extension": ".py",
   "mimetype": "text/x-python",
   "name": "python",
   "nbconvert_exporter": "python",
   "pygments_lexer": "ipython2",
   "version": "2.7.12"
  }
 },
 "nbformat": 4,
 "nbformat_minor": 0
}
