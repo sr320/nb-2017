{
 "cells": [
  {
   "cell_type": "markdown",
   "metadata": {},
   "source": [
    "<img src=\"http://eagle.fish.washington.edu/cnidarian/skitch/Download_1F2111A4.png\" alt=\"Download_1F2111A4.png\"/>"
   ]
  },
  {
   "cell_type": "code",
   "execution_count": 12,
   "metadata": {
    "collapsed": false
   },
   "outputs": [
    {
     "name": "stdout",
     "output_type": "stream",
     "text": [
      "--2017-07-20 09:37:30--  ftp://ftp.uniprot.org/pub/databases/uniprot/current_release/knowledgebase/complete/uniprot_sprot.fasta.gz\n",
      "           => ‘/Volumes/Alanine/wd/blast/db/uniprot_sprot2017_07.fasta.gz’\n",
      "Resolving ftp.uniprot.org (ftp.uniprot.org)... 141.161.180.197\n",
      "Connecting to ftp.uniprot.org (ftp.uniprot.org)|141.161.180.197|:21... connected.\n",
      "Logging in as anonymous ... Logged in!\n",
      "==> SYST ... done.    ==> PWD ... done.\n",
      "==> TYPE I ... done.  ==> CWD (1) /pub/databases/uniprot/current_release/knowledgebase/complete ... done.\n",
      "==> SIZE uniprot_sprot.fasta.gz ... 84979187\n",
      "==> PASV ... done.    ==> RETR uniprot_sprot.fasta.gz ... done.\n",
      "Length: 84979187 (81M) (unauthoritative)\n",
      "\n",
      "uniprot_sprot.fasta 100%[===================>]  81.04M  11.6MB/s    in 7.2s    \n",
      "\n",
      "2017-07-20 09:37:38 (11.3 MB/s) - ‘/Volumes/Alanine/wd/blast/db/uniprot_sprot2017_07.fasta.gz’ saved [84979187]\n",
      "\n"
     ]
    }
   ],
   "source": [
    "!wget ftp://ftp.uniprot.org/pub/databases/uniprot/current_release/knowledgebase/complete/uniprot_sprot.fasta.gz -O /Volumes/Alanine/wd/blast/db/uniprot_sprot2017_07.fasta.gz"
   ]
  },
  {
   "cell_type": "code",
   "execution_count": 15,
   "metadata": {
    "collapsed": false
   },
   "outputs": [],
   "source": [
    "!gunzip -k /Volumes/Alanine/wd/blast/db/uniprot_sprot2017_07.fasta.gz "
   ]
  },
  {
   "cell_type": "code",
   "execution_count": null,
   "metadata": {
    "collapsed": true
   },
   "outputs": [],
   "source": [
    "!makeb"
   ]
  }
 ],
 "metadata": {
  "kernelspec": {
   "display_name": "Python 2",
   "language": "python",
   "name": "python2"
  },
  "language_info": {
   "codemirror_mode": {
    "name": "ipython",
    "version": 2
   },
   "file_extension": ".py",
   "mimetype": "text/x-python",
   "name": "python",
   "nbconvert_exporter": "python",
   "pygments_lexer": "ipython2",
   "version": "2.7.12"
  }
 },
 "nbformat": 4,
 "nbformat_minor": 0
}
