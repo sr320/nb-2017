{
 "cells": [
  {
   "cell_type": "markdown",
   "metadata": {},
   "source": [
    "<img src=\"http://eagle.fish.washington.edu/cnidarian/skitch/Banners_and_Alerts_and_reviewed_yes_in_UniProtKB_1F21176C.png\" alt=\"Banners_and_Alerts_and_reviewed_yes_in_UniProtKB_1F21176C.png\"/>"
   ]
  },
  {
   "cell_type": "code",
   "execution_count": 1,
   "metadata": {
    "collapsed": false
   },
   "outputs": [
    {
     "name": "stdout",
     "output_type": "stream",
     "text": [
      "Entry\tEntry name\tStatus\tProtein names\tGene names\tOrganism\tLength\tGene ontology (biological process)\tGene ontology (cellular component)\tGene ontology (molecular function)\tGene ontology (GO)\tGene ontology IDs\r\n",
      "P0C9R5\t36018_ASFWA\treviewed\tProtein MGF 360-18R\tWar-169\tAfrican swine fever virus (isolate Warthog/Namibia/Wart80/1980) (ASFV)\t362\ttaxis [GO:0042330]\t\t\ttaxis [GO:0042330]\tGO:0042330\r\n",
      "Q88VP8\t3MGH_LACPL\treviewed\tPutative 3-methyladenine DNA glycosylase (EC 3.2.2.-)\tlp_1991\tLactobacillus plantarum (strain ATCC BAA-793 / NCIMB 8826 / WCFS1)\t209\tbase-excision repair [GO:0006284]\t\talkylbase DNA N-glycosylase activity [GO:0003905]; DNA binding [GO:0003677]\talkylbase DNA N-glycosylase activity [GO:0003905]; DNA binding [GO:0003677]; base-excision repair [GO:0006284]\tGO:0003677; GO:0003905; GO:0006284\r\n",
      "Q5WY41\t3MGH_LEGPL\treviewed\tPutative 3-methyladenine DNA glycosylase (EC 3.2.2.-)\tlpl0898\tLegionella pneumophila (strain Lens)\t183\tbase-excision repair [GO:0006284]\t\talkylbase DNA N-glycosylase activity [GO:0003905]; DNA binding [GO:0003677]\talkylbase DNA N-glycosylase activity [GO:0003905]; DNA binding [GO:0003677]; base-excision repair [GO:0006284]\tGO:0003677; GO:0003905; GO:0006284\r\n",
      "Q721N6\t3MGH_LISMF\treviewed\tPutative 3-methyladenine DNA glycosylase (EC 3.2.2.-)\tLMOf2365_0949\tListeria monocytogenes serotype 4b (strain F2365)\t207\tbase-excision repair [GO:0006284]\t\talkylbase DNA N-glycosylase activity [GO:0003905]; DNA binding [GO:0003677]\talkylbase DNA N-glycosylase activity [GO:0003905]; DNA binding [GO:0003677]; base-excision repair [GO:0006284]\tGO:0003677; GO:0003905; GO:0006284\r\n",
      "Q9W7K1\t3S32_PSETE\treviewed\tShort neurotoxin 2 (SNTX2) (Alpha-neurotoxin 2)\t\tPseudonaja textilis (Eastern brown snake)\t79\tpathogenesis [GO:0009405]\textracellular region [GO:0005576]; other organism postsynaptic membrane [GO:0035792]\t\textracellular region [GO:0005576]; other organism postsynaptic membrane [GO:0035792]; pathogenesis [GO:0009405]\tGO:0005576; GO:0009405; GO:0035792\r\n",
      "Q9W7J7\t3S36_PSETE\treviewed\tShort neurotoxin 6 (SNTX6) (Alpha-neurotoxin 6)\t\tPseudonaja textilis (Eastern brown snake)\t79\tpathogenesis [GO:0009405]\textracellular region [GO:0005576]; other organism postsynaptic membrane [GO:0035792]\t\textracellular region [GO:0005576]; other organism postsynaptic membrane [GO:0035792]; pathogenesis [GO:0009405]\tGO:0005576; GO:0009405; GO:0035792\r\n",
      "Q98957\t3SA1A_NAJAT\treviewed\tCytotoxin 1a (Cardiotoxin-1a)\t\tNaja atra (Chinese cobra)\t81\tcytolysis [GO:0019835]; pathogenesis [GO:0009405]\textracellular region [GO:0005576]; membrane [GO:0016020]; other organism cell membrane [GO:0044218]\t\textracellular region [GO:0005576]; membrane [GO:0016020]; other organism cell membrane [GO:0044218]; cytolysis [GO:0019835]; pathogenesis [GO:0009405]\tGO:0005576; GO:0009405; GO:0016020; GO:0019835; GO:0044218\r\n",
      "P79810\t3SA1C_NAJAT\treviewed\tCytotoxin 1c (Cardiotoxin-1c)\t\tNaja atra (Chinese cobra)\t81\tcytolysis [GO:0019835]; pathogenesis [GO:0009405]\textracellular region [GO:0005576]; membrane [GO:0016020]; other organism cell membrane [GO:0044218]\t\textracellular region [GO:0005576]; membrane [GO:0016020]; other organism cell membrane [GO:0044218]; cytolysis [GO:0019835]; pathogenesis [GO:0009405]\tGO:0005576; GO:0009405; GO:0016020; GO:0019835; GO:0044218\r\n",
      "P85429\t3SA1F_NAJAT\treviewed\tCytotoxin 1f (Cardiotoxin 1f) (Fragment)\t\tNaja atra (Chinese cobra)\t15\tcytolysis [GO:0019835]\textracellular region [GO:0005576]; membrane [GO:0016020]; other organism cell membrane [GO:0044218]\t\textracellular region [GO:0005576]; membrane [GO:0016020]; other organism cell membrane [GO:0044218]; cytolysis [GO:0019835]\tGO:0005576; GO:0016020; GO:0019835; GO:0044218\r\n"
     ]
    }
   ],
   "source": [
    "!head /Volumes/Alanine/wd/uniprot/uniprot-SP-GO.tab"
   ]
  },
  {
   "cell_type": "code",
   "execution_count": 11,
   "metadata": {
    "collapsed": false,
    "scrolled": true
   },
   "outputs": [
    {
     "name": "stdout",
     "output_type": "stream",
     "text": [
      "A0A023GPI8\tLECA_CANBL\treviewed\tLectin alpha chain (CboL) [Cleaved into: Lectin beta chain; Lectin gamma chain]\t\tCanavalia boliviana\t237\t\t\tmannose binding [GO:0005537]; metal ion binding [GO:0046872]\tmannose binding [GO:0005537]; metal ion binding [GO:0046872]\tGO:0005537; GO:0046872\n",
      "A0A023GPJ0\tCDII_ENTCC\treviewed\tImmunity protein CdiI\tcdiI ECL_04450.1\tEnterobacter cloacae subsp. cloacae (strain ATCC 13047 / DSM 30054 / NBRC 13535 / NCDC 279-56)\t145\t\t\t\t\t\n",
      "A0A023PXA5\tYA19A_YEAST\treviewed\tPutative uncharacterized protein YAL019W-A\tYAL019W-A\tSaccharomyces cerevisiae (strain ATCC 204508 / S288c) (Baker's yeast)\t189\t\t\t\t\t\n",
      "A0A023PXB0\tYA019_YEAST\treviewed\tPutative uncharacterized protein YAR019W-A\tYAR019W-A\tSaccharomyces cerevisiae (strain ATCC 204508 / S288c) (Baker's yeast)\t110\t\t\t\t\t\n",
      "A0A023PXB5\tIRC2_YEAST\treviewed\tPutative uncharacterized membrane protein IRC2 (Increased recombination centers protein 2)\tIRC2 YDR112W\tSaccharomyces cerevisiae (strain ATCC 204508 / S288c) (Baker's yeast)\t102\t\tintegral component of membrane [GO:0016021]\t\tintegral component of membrane [GO:0016021]\tGO:0016021\n",
      "A0A023PXB9\tYD99W_YEAST\treviewed\tPutative uncharacterized membrane protein YDR199W\tYDR199W\tSaccharomyces cerevisiae (strain ATCC 204508 / S288c) (Baker's yeast)\t121\t\tintegral component of membrane [GO:0016021]\t\tintegral component of membrane [GO:0016021]\tGO:0016021\n",
      "A0A023PXC2\tYE53A_YEAST\treviewed\tPutative uncharacterized membrane protein YEL053W-A\tYEL053W-A\tSaccharomyces cerevisiae (strain ATCC 204508 / S288c) (Baker's yeast)\t115\t\tintegral component of membrane [GO:0016021]\t\tintegral component of membrane [GO:0016021]\tGO:0016021\n",
      "A0A023PXC7\tYE068_YEAST\treviewed\tPutative uncharacterized membrane protein YER068C-A\tYER068C-A\tSaccharomyces cerevisiae (strain ATCC 204508 / S288c) (Baker's yeast)\t143\t\tintegral component of membrane [GO:0016021]\t\tintegral component of membrane [GO:0016021]\tGO:0016021\n",
      "A0A023PXD3\tYE88A_YEAST\treviewed\tPutative uncharacterized protein YER088C-A\tYER088C-A\tSaccharomyces cerevisiae (strain ATCC 204508 / S288c) (Baker's yeast)\t107\t\t\t\t\t\n",
      "A0A023PXD5\tYE147_YEAST\treviewed\tPutative uncharacterized membrane protein YER147C-A\tYER147C-A\tSaccharomyces cerevisiae (strain ATCC 204508 / S288c) (Baker's yeast)\t136\t\tintegral component of membrane [GO:0016021]\t\tintegral component of membrane [GO:0016021]\tGO:0016021\n",
      "sort: write failed: standard output: Broken pipe\n",
      "sort: write error\n"
     ]
    }
   ],
   "source": [
    "!sort /Volumes/Alanine/wd/uniprot/uniprot-SP-GO.tab | head"
   ]
  },
  {
   "cell_type": "code",
   "execution_count": 13,
   "metadata": {
    "collapsed": false
   },
   "outputs": [],
   "source": [
    "!sort /Volumes/Alanine/wd/uniprot/uniprot-SP-GO.tab \\\n",
    "> /Volumes/Alanine/wd/17-07-20/uniprot-SP-GO.sorted"
   ]
  },
  {
   "cell_type": "code",
   "execution_count": null,
   "metadata": {
    "collapsed": true
   },
   "outputs": [],
   "source": []
  }
 ],
 "metadata": {
  "kernelspec": {
   "display_name": "Python 2",
   "language": "python",
   "name": "python2"
  },
  "language_info": {
   "codemirror_mode": {
    "name": "ipython",
    "version": 2
   },
   "file_extension": ".py",
   "mimetype": "text/x-python",
   "name": "python",
   "nbconvert_exporter": "python",
   "pygments_lexer": "ipython2",
   "version": "2.7.12"
  }
 },
 "nbformat": 4,
 "nbformat_minor": 0
}
