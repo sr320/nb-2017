{
 "cells": [
  {
   "cell_type": "code",
   "execution_count": 2,
   "metadata": {
    "collapsed": false
   },
   "outputs": [
    {
     "name": "stdout",
     "output_type": "stream",
     "text": [
      "^C\r\n"
     ]
    }
   ],
   "source": [
    "!blastp \\\n",
    "-query /Users/sr320/git-repos/nb-2017/C_gigas/data/Cg_Giga_cont_AA.fa \\\n",
    "-db /Volumes/Alanine/wd/blast/db/uniprot_sprot \\\n",
    "-out /Volumes/Alanine/wd/17-07-20/giga-uniprot-blast.tab \\\n",
    "-num_threads 8 \\\n",
    "-max_hsps 1 \\\n",
    "-max_target_seqs 1 \\\n",
    "-outfmt 6 "
   ]
  },
  {
   "cell_type": "code",
   "execution_count": null,
   "metadata": {
    "collapsed": true
   },
   "outputs": [],
   "source": []
  }
 ],
 "metadata": {
  "kernelspec": {
   "display_name": "Python 2",
   "language": "python",
   "name": "python2"
  },
  "language_info": {
   "codemirror_mode": {
    "name": "ipython",
    "version": 2
   },
   "file_extension": ".py",
   "mimetype": "text/x-python",
   "name": "python",
   "nbconvert_exporter": "python",
   "pygments_lexer": "ipython2",
   "version": "2.7.12"
  }
 },
 "nbformat": 4,
 "nbformat_minor": 0
}
